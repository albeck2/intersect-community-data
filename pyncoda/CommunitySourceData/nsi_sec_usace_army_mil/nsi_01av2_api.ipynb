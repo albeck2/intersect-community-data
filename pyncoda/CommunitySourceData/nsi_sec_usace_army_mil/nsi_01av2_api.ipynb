{
 "cells": [
  {
   "cell_type": "code",
   "execution_count": 19,
   "metadata": {},
   "outputs": [
    {
     "name": "stdout",
     "output_type": "stream",
     "text": [
      "The autoreload extension is already loaded. To reload it, use:\n",
      "  %reload_ext autoreload\n"
     ]
    }
   ],
   "source": [
    "# To reload submodules need to use this magic command to set autoreload on\n",
    "%load_ext autoreload\n",
    "%autoreload 2\n",
    "\n",
    "# open, read, and execute python program with reusable commands\n",
    "from nsi_01a_downloadfiles import download_nsi_files"
   ]
  },
  {
   "cell_type": "code",
   "execution_count": 20,
   "metadata": {},
   "outputs": [
    {
     "name": "stdout",
     "output_type": "stream",
     "text": [
      "Help on function download_nsi_files in module nsi_01a_downloadfiles:\n",
      "\n",
      "download_nsi_files(county_fips, unique_id='fd_id_bid', unique_id_vars=['fd_id', 'bid'], keepvars=['occtype', 'sqft'], replace=False)\n",
      "    Download files from the National Structure Inventory (NSI) website.\n",
      "    Returns a geopandas dataframe with the data.\n",
      "\n"
     ]
    }
   ],
   "source": [
    "help(download_nsi_files)"
   ]
  },
  {
   "cell_type": "code",
   "execution_count": 21,
   "metadata": {},
   "outputs": [
    {
     "name": "stdout",
     "output_type": "stream",
     "text": [
      "Making new directory to save output:  Outputdata\\00_SourceData\n",
      "Making new directory to save output:  Outputdata\\00_SourceData\\nsi_sec_usace_army_mil\n",
      "   Saving file Outputdata\\00_SourceData\\nsi_sec_usace_army_mil\\nsi_01av1_hua_26127.shp\n"
     ]
    }
   ],
   "source": [
    "county_fips = '26127'\n",
    "nsi_gdf = download_nsi_files(county_fips=county_fips)"
   ]
  },
  {
   "cell_type": "code",
   "execution_count": 22,
   "metadata": {},
   "outputs": [
    {
     "data": {
      "text/html": [
       "<div>\n",
       "<style scoped>\n",
       "    .dataframe tbody tr th:only-of-type {\n",
       "        vertical-align: middle;\n",
       "    }\n",
       "\n",
       "    .dataframe tbody tr th {\n",
       "        vertical-align: top;\n",
       "    }\n",
       "\n",
       "    .dataframe thead th {\n",
       "        text-align: right;\n",
       "    }\n",
       "</style>\n",
       "<table border=\"1\" class=\"dataframe\">\n",
       "  <thead>\n",
       "    <tr style=\"text-align: right;\">\n",
       "      <th></th>\n",
       "      <th>fd_id_bid</th>\n",
       "      <th>fd_id</th>\n",
       "      <th>bid</th>\n",
       "      <th>occtype</th>\n",
       "      <th>sqft</th>\n",
       "      <th>bldgsource</th>\n",
       "      <th>geometry</th>\n",
       "    </tr>\n",
       "  </thead>\n",
       "  <tbody>\n",
       "    <tr>\n",
       "      <th>0</th>\n",
       "      <td>nsi-532313663-86MMJR3R+2XQ-0-0-0-0</td>\n",
       "      <td>532313663</td>\n",
       "      <td>86MMJR3R+2XQ-0-0-0-0</td>\n",
       "      <td>RES1-1SWB</td>\n",
       "      <td>1216.000</td>\n",
       "      <td>NSI_2023-05-22</td>\n",
       "      <td>POINT (-86.15750 43.60258)</td>\n",
       "    </tr>\n",
       "    <tr>\n",
       "      <th>1</th>\n",
       "      <td>nsi-532266788-86MMHH4C+QR3-3-4-2-5</td>\n",
       "      <td>532266788</td>\n",
       "      <td>86MMHH4C+QR3-3-4-2-5</td>\n",
       "      <td>RES1-1SWB</td>\n",
       "      <td>2721.630</td>\n",
       "      <td>NSI_2023-05-22</td>\n",
       "      <td>POINT (-86.42797 43.55689)</td>\n",
       "    </tr>\n",
       "    <tr>\n",
       "      <th>2</th>\n",
       "      <td>nsi-532266802-86MMHH47+563-4-3-2-2</td>\n",
       "      <td>532266802</td>\n",
       "      <td>86MMHH47+563-4-3-2-2</td>\n",
       "      <td>RES1-1SNB</td>\n",
       "      <td>1551.440</td>\n",
       "      <td>NSI_2023-05-22</td>\n",
       "      <td>POINT (-86.43695 43.55540)</td>\n",
       "    </tr>\n",
       "    <tr>\n",
       "      <th>3</th>\n",
       "      <td>nsi-532266804-86MMHH37+R77-1-3-1-4</td>\n",
       "      <td>532266804</td>\n",
       "      <td>86MMHH37+R77-1-3-1-4</td>\n",
       "      <td>RES1-1SNB</td>\n",
       "      <td>651.826</td>\n",
       "      <td>NSI_2023-05-22</td>\n",
       "      <td>POINT (-86.43684 43.55454)</td>\n",
       "    </tr>\n",
       "    <tr>\n",
       "      <th>4</th>\n",
       "      <td>nsi-532266806-86MMHH37+W5F-4-3-4-4</td>\n",
       "      <td>532266806</td>\n",
       "      <td>86MMHH37+W5F-4-3-4-4</td>\n",
       "      <td>RES1-2SNB</td>\n",
       "      <td>7516.920</td>\n",
       "      <td>NSI_2023-05-22</td>\n",
       "      <td>POINT (-86.43709 43.55482)</td>\n",
       "    </tr>\n",
       "  </tbody>\n",
       "</table>\n",
       "</div>"
      ],
      "text/plain": [
       "                            fd_id_bid      fd_id                   bid  \\\n",
       "0  nsi-532313663-86MMJR3R+2XQ-0-0-0-0  532313663  86MMJR3R+2XQ-0-0-0-0   \n",
       "1  nsi-532266788-86MMHH4C+QR3-3-4-2-5  532266788  86MMHH4C+QR3-3-4-2-5   \n",
       "2  nsi-532266802-86MMHH47+563-4-3-2-2  532266802  86MMHH47+563-4-3-2-2   \n",
       "3  nsi-532266804-86MMHH37+R77-1-3-1-4  532266804  86MMHH37+R77-1-3-1-4   \n",
       "4  nsi-532266806-86MMHH37+W5F-4-3-4-4  532266806  86MMHH37+W5F-4-3-4-4   \n",
       "\n",
       "     occtype      sqft      bldgsource                    geometry  \n",
       "0  RES1-1SWB  1216.000  NSI_2023-05-22  POINT (-86.15750 43.60258)  \n",
       "1  RES1-1SWB  2721.630  NSI_2023-05-22  POINT (-86.42797 43.55689)  \n",
       "2  RES1-1SNB  1551.440  NSI_2023-05-22  POINT (-86.43695 43.55540)  \n",
       "3  RES1-1SNB   651.826  NSI_2023-05-22  POINT (-86.43684 43.55454)  \n",
       "4  RES1-2SNB  7516.920  NSI_2023-05-22  POINT (-86.43709 43.55482)  "
      ]
     },
     "execution_count": 22,
     "metadata": {},
     "output_type": "execute_result"
    }
   ],
   "source": [
    "nsi_gdf.head()"
   ]
  },
  {
   "cell_type": "code",
   "execution_count": 23,
   "metadata": {},
   "outputs": [
    {
     "data": {
      "text/html": [
       "<div>\n",
       "<style scoped>\n",
       "    .dataframe tbody tr th:only-of-type {\n",
       "        vertical-align: middle;\n",
       "    }\n",
       "\n",
       "    .dataframe tbody tr th {\n",
       "        vertical-align: top;\n",
       "    }\n",
       "\n",
       "    .dataframe thead th {\n",
       "        text-align: right;\n",
       "    }\n",
       "</style>\n",
       "<table border=\"1\" class=\"dataframe\">\n",
       "  <thead>\n",
       "    <tr style=\"text-align: right;\">\n",
       "      <th></th>\n",
       "      <th>fd_id</th>\n",
       "      <th>bid</th>\n",
       "    </tr>\n",
       "  </thead>\n",
       "  <tbody>\n",
       "    <tr>\n",
       "      <th>count</th>\n",
       "      <td>17553</td>\n",
       "      <td>17553</td>\n",
       "    </tr>\n",
       "    <tr>\n",
       "      <th>unique</th>\n",
       "      <td>17553</td>\n",
       "      <td>17169</td>\n",
       "    </tr>\n",
       "    <tr>\n",
       "      <th>top</th>\n",
       "      <td>532313663</td>\n",
       "      <td>86MMGJQP+C6F-0-0-0-0</td>\n",
       "    </tr>\n",
       "    <tr>\n",
       "      <th>freq</th>\n",
       "      <td>1</td>\n",
       "      <td>23</td>\n",
       "    </tr>\n",
       "  </tbody>\n",
       "</table>\n",
       "</div>"
      ],
      "text/plain": [
       "            fd_id                   bid\n",
       "count       17553                 17553\n",
       "unique      17553                 17169\n",
       "top     532313663  86MMGJQP+C6F-0-0-0-0\n",
       "freq            1                    23"
      ]
     },
     "execution_count": 23,
     "metadata": {},
     "output_type": "execute_result"
    }
   ],
   "source": [
    "# check unique ids\n",
    "nsi_gdf[['fd_id','bid']].astype(str).describe()"
   ]
  },
  {
   "cell_type": "code",
   "execution_count": 24,
   "metadata": {},
   "outputs": [
    {
     "data": {
      "text/plain": [
       "Index(['fd_id_bid', 'fd_id', 'bid', 'occtype', 'sqft', 'bldgsource',\n",
       "       'geometry'],\n",
       "      dtype='object')"
      ]
     },
     "execution_count": 24,
     "metadata": {},
     "output_type": "execute_result"
    }
   ],
   "source": [
    "# print columns\n",
    "nsi_gdf.columns"
   ]
  },
  {
   "cell_type": "code",
   "execution_count": 25,
   "metadata": {},
   "outputs": [
    {
     "data": {
      "text/plain": [
       "count     17553.000000\n",
       "mean       2943.144987\n",
       "std        8611.828746\n",
       "min          43.698700\n",
       "25%        1195.400000\n",
       "50%        1855.664000\n",
       "75%        2873.900000\n",
       "max      510810.000000\n",
       "Name: sqft, dtype: float64"
      ]
     },
     "execution_count": 25,
     "metadata": {},
     "output_type": "execute_result"
    }
   ],
   "source": [
    "# describe sqft\n",
    "nsi_gdf['sqft'].describe()"
   ]
  },
  {
   "cell_type": "code",
   "execution_count": 26,
   "metadata": {},
   "outputs": [
    {
     "data": {
      "text/plain": [
       "0"
      ]
     },
     "execution_count": 26,
     "metadata": {},
     "output_type": "execute_result"
    }
   ],
   "source": [
    "# how many buildings have missing sqft?\n",
    "nsi_gdf['sqft'].isna().sum()"
   ]
  },
  {
   "cell_type": "code",
   "execution_count": 27,
   "metadata": {},
   "outputs": [
    {
     "data": {
      "text/html": [
       "<div>\n",
       "<style scoped>\n",
       "    .dataframe tbody tr th:only-of-type {\n",
       "        vertical-align: middle;\n",
       "    }\n",
       "\n",
       "    .dataframe tbody tr th {\n",
       "        vertical-align: top;\n",
       "    }\n",
       "\n",
       "    .dataframe thead th {\n",
       "        text-align: right;\n",
       "    }\n",
       "</style>\n",
       "<table border=\"1\" class=\"dataframe\">\n",
       "  <thead>\n",
       "    <tr style=\"text-align: right;\">\n",
       "      <th></th>\n",
       "      <th>fd_id</th>\n",
       "    </tr>\n",
       "    <tr>\n",
       "      <th>occtype</th>\n",
       "      <th></th>\n",
       "    </tr>\n",
       "  </thead>\n",
       "  <tbody>\n",
       "    <tr>\n",
       "      <th>AGR1</th>\n",
       "      <td>70</td>\n",
       "    </tr>\n",
       "    <tr>\n",
       "      <th>COM1</th>\n",
       "      <td>139</td>\n",
       "    </tr>\n",
       "    <tr>\n",
       "      <th>COM10</th>\n",
       "      <td>1</td>\n",
       "    </tr>\n",
       "    <tr>\n",
       "      <th>COM2</th>\n",
       "      <td>90</td>\n",
       "    </tr>\n",
       "    <tr>\n",
       "      <th>COM3</th>\n",
       "      <td>120</td>\n",
       "    </tr>\n",
       "    <tr>\n",
       "      <th>COM4</th>\n",
       "      <td>742</td>\n",
       "    </tr>\n",
       "    <tr>\n",
       "      <th>COM5</th>\n",
       "      <td>26</td>\n",
       "    </tr>\n",
       "    <tr>\n",
       "      <th>COM6</th>\n",
       "      <td>4</td>\n",
       "    </tr>\n",
       "    <tr>\n",
       "      <th>COM7</th>\n",
       "      <td>21</td>\n",
       "    </tr>\n",
       "    <tr>\n",
       "      <th>COM8</th>\n",
       "      <td>80</td>\n",
       "    </tr>\n",
       "    <tr>\n",
       "      <th>EDU1</th>\n",
       "      <td>23</td>\n",
       "    </tr>\n",
       "    <tr>\n",
       "      <th>GOV1</th>\n",
       "      <td>38</td>\n",
       "    </tr>\n",
       "    <tr>\n",
       "      <th>GOV2</th>\n",
       "      <td>8</td>\n",
       "    </tr>\n",
       "    <tr>\n",
       "      <th>IND1</th>\n",
       "      <td>24</td>\n",
       "    </tr>\n",
       "    <tr>\n",
       "      <th>IND2</th>\n",
       "      <td>79</td>\n",
       "    </tr>\n",
       "    <tr>\n",
       "      <th>IND3</th>\n",
       "      <td>7</td>\n",
       "    </tr>\n",
       "    <tr>\n",
       "      <th>IND4</th>\n",
       "      <td>5</td>\n",
       "    </tr>\n",
       "    <tr>\n",
       "      <th>IND6</th>\n",
       "      <td>107</td>\n",
       "    </tr>\n",
       "    <tr>\n",
       "      <th>REL1</th>\n",
       "      <td>126</td>\n",
       "    </tr>\n",
       "    <tr>\n",
       "      <th>RES1-1SNB</th>\n",
       "      <td>3681</td>\n",
       "    </tr>\n",
       "    <tr>\n",
       "      <th>RES1-1SWB</th>\n",
       "      <td>6385</td>\n",
       "    </tr>\n",
       "    <tr>\n",
       "      <th>RES1-2SNB</th>\n",
       "      <td>1940</td>\n",
       "    </tr>\n",
       "    <tr>\n",
       "      <th>RES1-2SWB</th>\n",
       "      <td>3313</td>\n",
       "    </tr>\n",
       "    <tr>\n",
       "      <th>RES1-3SNB</th>\n",
       "      <td>90</td>\n",
       "    </tr>\n",
       "    <tr>\n",
       "      <th>RES1-3SWB</th>\n",
       "      <td>117</td>\n",
       "    </tr>\n",
       "    <tr>\n",
       "      <th>RES2</th>\n",
       "      <td>85</td>\n",
       "    </tr>\n",
       "    <tr>\n",
       "      <th>RES3A</th>\n",
       "      <td>168</td>\n",
       "    </tr>\n",
       "    <tr>\n",
       "      <th>RES3B</th>\n",
       "      <td>7</td>\n",
       "    </tr>\n",
       "    <tr>\n",
       "      <th>RES3C</th>\n",
       "      <td>3</td>\n",
       "    </tr>\n",
       "    <tr>\n",
       "      <th>RES3D</th>\n",
       "      <td>3</td>\n",
       "    </tr>\n",
       "    <tr>\n",
       "      <th>RES4</th>\n",
       "      <td>38</td>\n",
       "    </tr>\n",
       "    <tr>\n",
       "      <th>RES5</th>\n",
       "      <td>2</td>\n",
       "    </tr>\n",
       "    <tr>\n",
       "      <th>RES6</th>\n",
       "      <td>11</td>\n",
       "    </tr>\n",
       "  </tbody>\n",
       "</table>\n",
       "</div>"
      ],
      "text/plain": [
       "           fd_id\n",
       "occtype         \n",
       "AGR1          70\n",
       "COM1         139\n",
       "COM10          1\n",
       "COM2          90\n",
       "COM3         120\n",
       "COM4         742\n",
       "COM5          26\n",
       "COM6           4\n",
       "COM7          21\n",
       "COM8          80\n",
       "EDU1          23\n",
       "GOV1          38\n",
       "GOV2           8\n",
       "IND1          24\n",
       "IND2          79\n",
       "IND3           7\n",
       "IND4           5\n",
       "IND6         107\n",
       "REL1         126\n",
       "RES1-1SNB   3681\n",
       "RES1-1SWB   6385\n",
       "RES1-2SNB   1940\n",
       "RES1-2SWB   3313\n",
       "RES1-3SNB     90\n",
       "RES1-3SWB    117\n",
       "RES2          85\n",
       "RES3A        168\n",
       "RES3B          7\n",
       "RES3C          3\n",
       "RES3D          3\n",
       "RES4          38\n",
       "RES5           2\n",
       "RES6          11"
      ]
     },
     "execution_count": 27,
     "metadata": {},
     "output_type": "execute_result"
    }
   ],
   "source": [
    "# group by occtype and count\n",
    "nsi_gdf[['fd_id','occtype']].groupby('occtype').count()"
   ]
  }
 ],
 "metadata": {
  "kernelspec": {
   "display_name": "pyncoda20230210",
   "language": "python",
   "name": "python3"
  },
  "language_info": {
   "codemirror_mode": {
    "name": "ipython",
    "version": 3
   },
   "file_extension": ".py",
   "mimetype": "text/x-python",
   "name": "python",
   "nbconvert_exporter": "python",
   "pygments_lexer": "ipython3",
   "version": "3.10.9"
  },
  "orig_nbformat": 4
 },
 "nbformat": 4,
 "nbformat_minor": 2
}
