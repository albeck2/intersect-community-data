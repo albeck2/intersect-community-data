{
 "cells": [
  {
   "cell_type": "markdown",
   "id": "239b8eb8",
   "metadata": {
    "id": "239b8eb8"
   },
   "source": [
    "# Add Teacher Counts\n",
    "The program reads in the unzipped National Center for Education Statistics (NCES) Common Core Data and adds school characteristics to school location data."
   ]
  },
  {
   "cell_type": "markdown",
   "id": "6b7adce6",
   "metadata": {
    "id": "6b7adce6"
   },
   "source": [
    "## Description of Program\n",
    "- program:    NCES_2bv1_AddTeacherCount\n",
    "- task:       Add Count of Teachers/Staff to School Data\n",
    "- Version:    2021-06-15\n",
    "- project:    Interdependent Networked Community Resilience Modeling Environment (IN-CORE) Subtask 5.2 - Social Institutions\n",
    "- funding:    NIST Financial Assistance Award Numbers: 70NANB15H044 and 70NANB20H008 \n",
    "- author:     Nathanael Rosenheim\n",
    "\n",
    "- Suggested Citation:\n",
    "Rosenheim, N. (2021) “Obtain, Clean, and Explore School Location and Attendance Boundary Data\". \n",
    "Archived on Github and ICPSR."
   ]
  },
  {
   "cell_type": "code",
   "execution_count": null,
   "id": "282651a5",
   "metadata": {
    "id": "282651a5"
   },
   "outputs": [],
   "source": [
    "# Import Python Packages Required for program\n",
    "import pandas as pd       # Pandas for reading in data \n",
    "import geopandas as gpd   # Geopandas for reading Shapefiles\n",
    "import numpy as np        # Numpy helps with selected data\n",
    "import os                 # Operating System (os) For folders and finding working directory\n",
    "import folium as fm       # folium has more dynamic maps - but requires internet connection"
   ]
  },
  {
   "cell_type": "code",
   "execution_count": null,
   "id": "0a2f40e1",
   "metadata": {
    "id": "0a2f40e1",
    "outputId": "e51e11c5-22e5-403d-a771-6f98641c2edd"
   },
   "outputs": [
    {
     "name": "stdout",
     "output_type": "stream",
     "text": [
      "Python Version      3.7.10 | packaged by conda-forge | (default, Feb 19 2021, 15:37:01) [MSC v.1916 64 bit (AMD64)]\n",
      "pandas version:     1.2.4\n",
      "geopandas version:  0.9.0\n",
      "numpy version:      1.20.2\n",
      "folium version:     0.12.1\n"
     ]
    }
   ],
   "source": [
    "# Display versions being used - important information for replication\n",
    "import sys\n",
    "print(\"Python Version     \", sys.version)\n",
    "print(\"pandas version:    \", pd.__version__)\n",
    "print(\"geopandas version: \", gpd.__version__)\n",
    "print(\"numpy version:     \", np.__version__)\n",
    "print(\"folium version:    \", fm.__version__)"
   ]
  },
  {
   "cell_type": "code",
   "execution_count": null,
   "id": "a5c2f44c",
   "metadata": {
    "id": "a5c2f44c"
   },
   "outputs": [],
   "source": [
    "# Store Program Name for output files to have the same name\n",
    "programname = \"NCES_2bv1_AddTeacherCount_2021-06-15\"\n",
    "# Make directory to save output\n",
    "if not os.path.exists(programname):\n",
    "    os.mkdir(programname)"
   ]
  },
  {
   "cell_type": "markdown",
   "id": "7ede4107",
   "metadata": {
    "id": "7ede4107"
   },
   "source": [
    "## Read in NCES Teacher Count Files\n",
    "Files for the CCD were downloaded manually and saved to the Source Data Folder."
   ]
  },
  {
   "cell_type": "code",
   "execution_count": null,
   "id": "06365504",
   "metadata": {
    "id": "06365504",
    "outputId": "e5a0ed97-d462-4482-b7c6-835820e4d422"
   },
   "outputs": [
    {
     "data": {
      "text/html": [
       "<div>\n",
       "<style scoped>\n",
       "    .dataframe tbody tr th:only-of-type {\n",
       "        vertical-align: middle;\n",
       "    }\n",
       "\n",
       "    .dataframe tbody tr th {\n",
       "        vertical-align: top;\n",
       "    }\n",
       "\n",
       "    .dataframe thead th {\n",
       "        text-align: right;\n",
       "    }\n",
       "</style>\n",
       "<table border=\"1\" class=\"dataframe\">\n",
       "  <thead>\n",
       "    <tr style=\"text-align: right;\">\n",
       "      <th></th>\n",
       "      <th>SURVYEAR</th>\n",
       "      <th>FIPST</th>\n",
       "      <th>STABR</th>\n",
       "      <th>STATENAME</th>\n",
       "      <th>SEANAME</th>\n",
       "      <th>LEAID</th>\n",
       "      <th>ST_LEAID</th>\n",
       "      <th>LEA_NAME</th>\n",
       "      <th>SCHID</th>\n",
       "      <th>ST_SCHID</th>\n",
       "      <th>NCESSCH</th>\n",
       "      <th>SCH_NAME</th>\n",
       "      <th>FTE</th>\n",
       "    </tr>\n",
       "  </thead>\n",
       "  <tbody>\n",
       "    <tr>\n",
       "      <th>0</th>\n",
       "      <td>2015-2016</td>\n",
       "      <td>1</td>\n",
       "      <td>AL</td>\n",
       "      <td>ALABAMA</td>\n",
       "      <td>Alabama Department Of Education</td>\n",
       "      <td>100002</td>\n",
       "      <td>210</td>\n",
       "      <td>Alabama Youth Services</td>\n",
       "      <td>277</td>\n",
       "      <td>210-0020</td>\n",
       "      <td>10000200277</td>\n",
       "      <td>Sequoyah Sch - Chalkville Campus</td>\n",
       "      <td>-1.0</td>\n",
       "    </tr>\n",
       "    <tr>\n",
       "      <th>1</th>\n",
       "      <td>2015-2016</td>\n",
       "      <td>1</td>\n",
       "      <td>AL</td>\n",
       "      <td>ALABAMA</td>\n",
       "      <td>Alabama Department Of Education</td>\n",
       "      <td>100002</td>\n",
       "      <td>210</td>\n",
       "      <td>Alabama Youth Services</td>\n",
       "      <td>1667</td>\n",
       "      <td>210-0050</td>\n",
       "      <td>10000201667</td>\n",
       "      <td>Camps</td>\n",
       "      <td>-1.0</td>\n",
       "    </tr>\n",
       "    <tr>\n",
       "      <th>2</th>\n",
       "      <td>2015-2016</td>\n",
       "      <td>1</td>\n",
       "      <td>AL</td>\n",
       "      <td>ALABAMA</td>\n",
       "      <td>Alabama Department Of Education</td>\n",
       "      <td>100002</td>\n",
       "      <td>210</td>\n",
       "      <td>Alabama Youth Services</td>\n",
       "      <td>1670</td>\n",
       "      <td>210-0060</td>\n",
       "      <td>10000201670</td>\n",
       "      <td>Det Ctr</td>\n",
       "      <td>-1.0</td>\n",
       "    </tr>\n",
       "    <tr>\n",
       "      <th>3</th>\n",
       "      <td>2015-2016</td>\n",
       "      <td>1</td>\n",
       "      <td>AL</td>\n",
       "      <td>ALABAMA</td>\n",
       "      <td>Alabama Department Of Education</td>\n",
       "      <td>100002</td>\n",
       "      <td>210</td>\n",
       "      <td>Alabama Youth Services</td>\n",
       "      <td>1705</td>\n",
       "      <td>210-0030</td>\n",
       "      <td>10000201705</td>\n",
       "      <td>Wallace Sch - Mt Meigs Campus</td>\n",
       "      <td>-1.0</td>\n",
       "    </tr>\n",
       "    <tr>\n",
       "      <th>4</th>\n",
       "      <td>2015-2016</td>\n",
       "      <td>1</td>\n",
       "      <td>AL</td>\n",
       "      <td>ALABAMA</td>\n",
       "      <td>Alabama Department Of Education</td>\n",
       "      <td>100002</td>\n",
       "      <td>210</td>\n",
       "      <td>Alabama Youth Services</td>\n",
       "      <td>1706</td>\n",
       "      <td>210-0040</td>\n",
       "      <td>10000201706</td>\n",
       "      <td>McNeel Sch - Vacca Campus</td>\n",
       "      <td>-1.0</td>\n",
       "    </tr>\n",
       "  </tbody>\n",
       "</table>\n",
       "</div>"
      ],
      "text/plain": [
       "    SURVYEAR  FIPST STABR STATENAME                          SEANAME   LEAID  \\\n",
       "0  2015-2016      1    AL   ALABAMA  Alabama Department Of Education  100002   \n",
       "1  2015-2016      1    AL   ALABAMA  Alabama Department Of Education  100002   \n",
       "2  2015-2016      1    AL   ALABAMA  Alabama Department Of Education  100002   \n",
       "3  2015-2016      1    AL   ALABAMA  Alabama Department Of Education  100002   \n",
       "4  2015-2016      1    AL   ALABAMA  Alabama Department Of Education  100002   \n",
       "\n",
       "  ST_LEAID                LEA_NAME  SCHID  ST_SCHID      NCESSCH  \\\n",
       "0      210  Alabama Youth Services    277  210-0020  10000200277   \n",
       "1      210  Alabama Youth Services   1667  210-0050  10000201667   \n",
       "2      210  Alabama Youth Services   1670  210-0060  10000201670   \n",
       "3      210  Alabama Youth Services   1705  210-0030  10000201705   \n",
       "4      210  Alabama Youth Services   1706  210-0040  10000201706   \n",
       "\n",
       "                           SCH_NAME  FTE  \n",
       "0  Sequoyah Sch - Chalkville Campus -1.0  \n",
       "1                             Camps -1.0  \n",
       "2                           Det Ctr -1.0  \n",
       "3     Wallace Sch - Mt Meigs Campus -1.0  \n",
       "4         McNeel Sch - Vacca Campus -1.0  "
      ]
     },
     "execution_count": 5,
     "metadata": {
      "tags": []
     },
     "output_type": "execute_result"
    }
   ],
   "source": [
    "sourcefolder = 'ccd_data/ccd_sch_059_1516_w_2a_011717_csv/'\n",
    "sourcefile = 'ccd_sch_059_1516_w_2a_011717.csv'\n",
    "ccd_sch = pd.read_csv(sourcefolder+sourcefile)\n",
    "ccd_sch.head()"
   ]
  },
  {
   "cell_type": "markdown",
   "id": "8274758c",
   "metadata": {
    "id": "8274758c"
   },
   "source": [
    "Files for the Private School Survey (PSS) were downloaded manually."
   ]
  },
  {
   "cell_type": "code",
   "execution_count": null,
   "id": "a5d73f19",
   "metadata": {
    "id": "a5d73f19",
    "outputId": "e2045b45-ebe0-4199-bea7-b7c4cbd7e64b"
   },
   "outputs": [
    {
     "name": "stderr",
     "output_type": "stream",
     "text": [
      "C:\\Users\\nathanael99\\Miniconda3\\envs\\pyincoreEnv20210506\\lib\\site-packages\\IPython\\core\\interactiveshell.py:3170: DtypeWarning: Columns (219,220) have mixed types.Specify dtype option on import or set low_memory=False.\n",
      "  interactivity=interactivity, compiler=compiler, result=result)\n"
     ]
    },
    {
     "data": {
      "text/html": [
       "<div>\n",
       "<style scoped>\n",
       "    .dataframe tbody tr th:only-of-type {\n",
       "        vertical-align: middle;\n",
       "    }\n",
       "\n",
       "    .dataframe tbody tr th {\n",
       "        vertical-align: top;\n",
       "    }\n",
       "\n",
       "    .dataframe thead th {\n",
       "        text-align: right;\n",
       "    }\n",
       "</style>\n",
       "<table border=\"1\" class=\"dataframe\">\n",
       "  <thead>\n",
       "    <tr style=\"text-align: right;\">\n",
       "      <th></th>\n",
       "      <th>pfnlwt</th>\n",
       "      <th>repw1</th>\n",
       "      <th>repw2</th>\n",
       "      <th>repw3</th>\n",
       "      <th>repw4</th>\n",
       "      <th>repw5</th>\n",
       "      <th>repw6</th>\n",
       "      <th>repw7</th>\n",
       "      <th>repw8</th>\n",
       "      <th>repw9</th>\n",
       "      <th>...</th>\n",
       "      <th>f_p665</th>\n",
       "      <th>s_kg</th>\n",
       "      <th>p_indian</th>\n",
       "      <th>p_asian</th>\n",
       "      <th>p_pacific</th>\n",
       "      <th>p_hisp</th>\n",
       "      <th>p_white</th>\n",
       "      <th>p_black</th>\n",
       "      <th>p_tr</th>\n",
       "      <th>sttch_rt</th>\n",
       "    </tr>\n",
       "  </thead>\n",
       "  <tbody>\n",
       "    <tr>\n",
       "      <th>0</th>\n",
       "      <td>1.326531</td>\n",
       "      <td>1.326531</td>\n",
       "      <td>1.326531</td>\n",
       "      <td>1.326531</td>\n",
       "      <td>1.326531</td>\n",
       "      <td>1.326531</td>\n",
       "      <td>1.326531</td>\n",
       "      <td>1.326531</td>\n",
       "      <td>1.326531</td>\n",
       "      <td>1.326531</td>\n",
       "      <td>...</td>\n",
       "      <td>0</td>\n",
       "      <td>2</td>\n",
       "      <td>0.0</td>\n",
       "      <td>0.000000</td>\n",
       "      <td>0.0</td>\n",
       "      <td>5.882353</td>\n",
       "      <td>94.117647</td>\n",
       "      <td>0.000000</td>\n",
       "      <td>0.000000</td>\n",
       "      <td>3.469388</td>\n",
       "    </tr>\n",
       "    <tr>\n",
       "      <th>1</th>\n",
       "      <td>1.482143</td>\n",
       "      <td>1.482143</td>\n",
       "      <td>1.482143</td>\n",
       "      <td>1.482143</td>\n",
       "      <td>1.482143</td>\n",
       "      <td>1.482143</td>\n",
       "      <td>1.482143</td>\n",
       "      <td>1.482143</td>\n",
       "      <td>1.482143</td>\n",
       "      <td>1.482143</td>\n",
       "      <td>...</td>\n",
       "      <td>0</td>\n",
       "      <td>11</td>\n",
       "      <td>0.0</td>\n",
       "      <td>0.000000</td>\n",
       "      <td>0.0</td>\n",
       "      <td>0.000000</td>\n",
       "      <td>0.000000</td>\n",
       "      <td>99.218750</td>\n",
       "      <td>0.781250</td>\n",
       "      <td>13.763441</td>\n",
       "    </tr>\n",
       "    <tr>\n",
       "      <th>2</th>\n",
       "      <td>1.355932</td>\n",
       "      <td>1.355932</td>\n",
       "      <td>1.355932</td>\n",
       "      <td>1.355932</td>\n",
       "      <td>1.355932</td>\n",
       "      <td>1.355932</td>\n",
       "      <td>1.355932</td>\n",
       "      <td>1.355932</td>\n",
       "      <td>1.355932</td>\n",
       "      <td>1.355932</td>\n",
       "      <td>...</td>\n",
       "      <td>0</td>\n",
       "      <td>0</td>\n",
       "      <td>0.0</td>\n",
       "      <td>0.000000</td>\n",
       "      <td>0.0</td>\n",
       "      <td>0.000000</td>\n",
       "      <td>0.000000</td>\n",
       "      <td>100.000000</td>\n",
       "      <td>0.000000</td>\n",
       "      <td>1.136364</td>\n",
       "    </tr>\n",
       "    <tr>\n",
       "      <th>3</th>\n",
       "      <td>1.441065</td>\n",
       "      <td>1.441065</td>\n",
       "      <td>1.441065</td>\n",
       "      <td>1.441065</td>\n",
       "      <td>1.441065</td>\n",
       "      <td>1.441065</td>\n",
       "      <td>1.441065</td>\n",
       "      <td>1.441065</td>\n",
       "      <td>1.441065</td>\n",
       "      <td>1.441065</td>\n",
       "      <td>...</td>\n",
       "      <td>0</td>\n",
       "      <td>15</td>\n",
       "      <td>0.0</td>\n",
       "      <td>1.376147</td>\n",
       "      <td>0.0</td>\n",
       "      <td>2.752294</td>\n",
       "      <td>93.119266</td>\n",
       "      <td>1.376147</td>\n",
       "      <td>1.376147</td>\n",
       "      <td>12.178771</td>\n",
       "    </tr>\n",
       "    <tr>\n",
       "      <th>4</th>\n",
       "      <td>1.318182</td>\n",
       "      <td>1.318182</td>\n",
       "      <td>1.318182</td>\n",
       "      <td>1.318182</td>\n",
       "      <td>1.318182</td>\n",
       "      <td>1.318182</td>\n",
       "      <td>1.318182</td>\n",
       "      <td>1.318182</td>\n",
       "      <td>1.318182</td>\n",
       "      <td>1.318182</td>\n",
       "      <td>...</td>\n",
       "      <td>0</td>\n",
       "      <td>0</td>\n",
       "      <td>0.0</td>\n",
       "      <td>0.000000</td>\n",
       "      <td>0.0</td>\n",
       "      <td>0.000000</td>\n",
       "      <td>93.548387</td>\n",
       "      <td>6.451613</td>\n",
       "      <td>0.000000</td>\n",
       "      <td>7.750000</td>\n",
       "    </tr>\n",
       "  </tbody>\n",
       "</table>\n",
       "<p>5 rows × 356 columns</p>\n",
       "</div>"
      ],
      "text/plain": [
       "     pfnlwt     repw1     repw2     repw3     repw4     repw5     repw6  \\\n",
       "0  1.326531  1.326531  1.326531  1.326531  1.326531  1.326531  1.326531   \n",
       "1  1.482143  1.482143  1.482143  1.482143  1.482143  1.482143  1.482143   \n",
       "2  1.355932  1.355932  1.355932  1.355932  1.355932  1.355932  1.355932   \n",
       "3  1.441065  1.441065  1.441065  1.441065  1.441065  1.441065  1.441065   \n",
       "4  1.318182  1.318182  1.318182  1.318182  1.318182  1.318182  1.318182   \n",
       "\n",
       "      repw7     repw8     repw9  ...  f_p665  s_kg  p_indian   p_asian  \\\n",
       "0  1.326531  1.326531  1.326531  ...       0     2       0.0  0.000000   \n",
       "1  1.482143  1.482143  1.482143  ...       0    11       0.0  0.000000   \n",
       "2  1.355932  1.355932  1.355932  ...       0     0       0.0  0.000000   \n",
       "3  1.441065  1.441065  1.441065  ...       0    15       0.0  1.376147   \n",
       "4  1.318182  1.318182  1.318182  ...       0     0       0.0  0.000000   \n",
       "\n",
       "   p_pacific    p_hisp    p_white     p_black      p_tr   sttch_rt  \n",
       "0        0.0  5.882353  94.117647    0.000000  0.000000   3.469388  \n",
       "1        0.0  0.000000   0.000000   99.218750  0.781250  13.763441  \n",
       "2        0.0  0.000000   0.000000  100.000000  0.000000   1.136364  \n",
       "3        0.0  2.752294  93.119266    1.376147  1.376147  12.178771  \n",
       "4        0.0  0.000000  93.548387    6.451613  0.000000   7.750000  \n",
       "\n",
       "[5 rows x 356 columns]"
      ]
     },
     "execution_count": 19,
     "metadata": {
      "tags": []
     },
     "output_type": "execute_result"
    }
   ],
   "source": [
    "sourcefolder = 'pss_data/pss1516_pu_csv/'\n",
    "sourcefile = 'pss1516_pu.csv'\n",
    "pss_sch = pd.read_csv(sourcefolder+sourcefile)\n",
    "pss_sch.head()"
   ]
  },
  {
   "cell_type": "markdown",
   "id": "ba9a80f2",
   "metadata": {
    "id": "ba9a80f2"
   },
   "source": [
    "### Post Secondary Data\n",
    "Post secondary data was downloaded and unzipped. The files are in an Access database which can not be read directly into Pandas. The table for staff counts was exported as a DBF file.\n",
    "\n",
    "S2015_OC - Full- and part-time staff by occupational category, race/ethnicity, and gender:  Fall 2015 "
   ]
  },
  {
   "cell_type": "code",
   "execution_count": null,
   "id": "a6214246",
   "metadata": {
    "id": "a6214246",
    "outputId": "b8417516-bfa5-4211-d9d2-74155896437d"
   },
   "outputs": [
    {
     "data": {
      "text/html": [
       "<div>\n",
       "<style scoped>\n",
       "    .dataframe tbody tr th:only-of-type {\n",
       "        vertical-align: middle;\n",
       "    }\n",
       "\n",
       "    .dataframe tbody tr th {\n",
       "        vertical-align: top;\n",
       "    }\n",
       "\n",
       "    .dataframe thead th {\n",
       "        text-align: right;\n",
       "    }\n",
       "</style>\n",
       "<table border=\"1\" class=\"dataframe\">\n",
       "  <thead>\n",
       "    <tr style=\"text-align: right;\">\n",
       "      <th></th>\n",
       "      <th>UNITID</th>\n",
       "      <th>STAFFCAT</th>\n",
       "      <th>FTPT</th>\n",
       "      <th>OCCUPCAT</th>\n",
       "      <th>SABDTYPE</th>\n",
       "      <th>HRTOTLT</th>\n",
       "      <th>HRTOTLM</th>\n",
       "      <th>HRTOTLW</th>\n",
       "      <th>HRAIANT</th>\n",
       "      <th>HRAIANM</th>\n",
       "      <th>...</th>\n",
       "      <th>HR2MORT</th>\n",
       "      <th>HR2MORM</th>\n",
       "      <th>HR2MORW</th>\n",
       "      <th>HRUNKNT</th>\n",
       "      <th>HRUNKNM</th>\n",
       "      <th>HRUNKNW</th>\n",
       "      <th>HRNRALT</th>\n",
       "      <th>HRNRALM</th>\n",
       "      <th>HRNRALW</th>\n",
       "      <th>geometry</th>\n",
       "    </tr>\n",
       "  </thead>\n",
       "  <tbody>\n",
       "    <tr>\n",
       "      <th>0</th>\n",
       "      <td>100654.0</td>\n",
       "      <td>1100.0</td>\n",
       "      <td>1.0</td>\n",
       "      <td>100.0</td>\n",
       "      <td>-2.0</td>\n",
       "      <td>963.0</td>\n",
       "      <td>422.0</td>\n",
       "      <td>541.0</td>\n",
       "      <td>2.0</td>\n",
       "      <td>0.0</td>\n",
       "      <td>...</td>\n",
       "      <td>0.0</td>\n",
       "      <td>0.0</td>\n",
       "      <td>0.0</td>\n",
       "      <td>8.0</td>\n",
       "      <td>2.0</td>\n",
       "      <td>6.0</td>\n",
       "      <td>41.0</td>\n",
       "      <td>25.0</td>\n",
       "      <td>16.0</td>\n",
       "      <td>None</td>\n",
       "    </tr>\n",
       "    <tr>\n",
       "      <th>1</th>\n",
       "      <td>100663.0</td>\n",
       "      <td>1100.0</td>\n",
       "      <td>1.0</td>\n",
       "      <td>100.0</td>\n",
       "      <td>-2.0</td>\n",
       "      <td>9385.0</td>\n",
       "      <td>3929.0</td>\n",
       "      <td>5456.0</td>\n",
       "      <td>19.0</td>\n",
       "      <td>9.0</td>\n",
       "      <td>...</td>\n",
       "      <td>63.0</td>\n",
       "      <td>22.0</td>\n",
       "      <td>41.0</td>\n",
       "      <td>6.0</td>\n",
       "      <td>2.0</td>\n",
       "      <td>4.0</td>\n",
       "      <td>361.0</td>\n",
       "      <td>203.0</td>\n",
       "      <td>158.0</td>\n",
       "      <td>None</td>\n",
       "    </tr>\n",
       "    <tr>\n",
       "      <th>2</th>\n",
       "      <td>100690.0</td>\n",
       "      <td>1100.0</td>\n",
       "      <td>1.0</td>\n",
       "      <td>100.0</td>\n",
       "      <td>-2.0</td>\n",
       "      <td>70.0</td>\n",
       "      <td>44.0</td>\n",
       "      <td>26.0</td>\n",
       "      <td>0.0</td>\n",
       "      <td>0.0</td>\n",
       "      <td>...</td>\n",
       "      <td>0.0</td>\n",
       "      <td>0.0</td>\n",
       "      <td>0.0</td>\n",
       "      <td>1.0</td>\n",
       "      <td>1.0</td>\n",
       "      <td>0.0</td>\n",
       "      <td>0.0</td>\n",
       "      <td>0.0</td>\n",
       "      <td>0.0</td>\n",
       "      <td>None</td>\n",
       "    </tr>\n",
       "    <tr>\n",
       "      <th>3</th>\n",
       "      <td>100706.0</td>\n",
       "      <td>1100.0</td>\n",
       "      <td>1.0</td>\n",
       "      <td>100.0</td>\n",
       "      <td>-2.0</td>\n",
       "      <td>1521.0</td>\n",
       "      <td>787.0</td>\n",
       "      <td>734.0</td>\n",
       "      <td>9.0</td>\n",
       "      <td>5.0</td>\n",
       "      <td>...</td>\n",
       "      <td>1.0</td>\n",
       "      <td>0.0</td>\n",
       "      <td>1.0</td>\n",
       "      <td>16.0</td>\n",
       "      <td>7.0</td>\n",
       "      <td>9.0</td>\n",
       "      <td>34.0</td>\n",
       "      <td>22.0</td>\n",
       "      <td>12.0</td>\n",
       "      <td>None</td>\n",
       "    </tr>\n",
       "    <tr>\n",
       "      <th>4</th>\n",
       "      <td>100724.0</td>\n",
       "      <td>1100.0</td>\n",
       "      <td>1.0</td>\n",
       "      <td>100.0</td>\n",
       "      <td>-2.0</td>\n",
       "      <td>1042.0</td>\n",
       "      <td>441.0</td>\n",
       "      <td>601.0</td>\n",
       "      <td>4.0</td>\n",
       "      <td>3.0</td>\n",
       "      <td>...</td>\n",
       "      <td>0.0</td>\n",
       "      <td>0.0</td>\n",
       "      <td>0.0</td>\n",
       "      <td>65.0</td>\n",
       "      <td>31.0</td>\n",
       "      <td>34.0</td>\n",
       "      <td>0.0</td>\n",
       "      <td>0.0</td>\n",
       "      <td>0.0</td>\n",
       "      <td>None</td>\n",
       "    </tr>\n",
       "  </tbody>\n",
       "</table>\n",
       "<p>5 rows × 36 columns</p>\n",
       "</div>"
      ],
      "text/plain": [
       "     UNITID  STAFFCAT  FTPT  OCCUPCAT  SABDTYPE  HRTOTLT  HRTOTLM  HRTOTLW  \\\n",
       "0  100654.0    1100.0   1.0     100.0      -2.0    963.0    422.0    541.0   \n",
       "1  100663.0    1100.0   1.0     100.0      -2.0   9385.0   3929.0   5456.0   \n",
       "2  100690.0    1100.0   1.0     100.0      -2.0     70.0     44.0     26.0   \n",
       "3  100706.0    1100.0   1.0     100.0      -2.0   1521.0    787.0    734.0   \n",
       "4  100724.0    1100.0   1.0     100.0      -2.0   1042.0    441.0    601.0   \n",
       "\n",
       "   HRAIANT  HRAIANM  ...  HR2MORT  HR2MORM  HR2MORW  HRUNKNT  HRUNKNM  \\\n",
       "0      2.0      0.0  ...      0.0      0.0      0.0      8.0      2.0   \n",
       "1     19.0      9.0  ...     63.0     22.0     41.0      6.0      2.0   \n",
       "2      0.0      0.0  ...      0.0      0.0      0.0      1.0      1.0   \n",
       "3      9.0      5.0  ...      1.0      0.0      1.0     16.0      7.0   \n",
       "4      4.0      3.0  ...      0.0      0.0      0.0     65.0     31.0   \n",
       "\n",
       "   HRUNKNW  HRNRALT  HRNRALM  HRNRALW  geometry  \n",
       "0      6.0     41.0     25.0     16.0      None  \n",
       "1      4.0    361.0    203.0    158.0      None  \n",
       "2      0.0      0.0      0.0      0.0      None  \n",
       "3      9.0     34.0     22.0     12.0      None  \n",
       "4     34.0      0.0      0.0      0.0      None  \n",
       "\n",
       "[5 rows x 36 columns]"
      ]
     },
     "execution_count": 30,
     "metadata": {
      "tags": []
     },
     "output_type": "execute_result"
    }
   ],
   "source": [
    "sourcefolder = 'IPEDS_data/IPEDS_2015-16_Final/'\n",
    "sourcefile = 'S2015_OC.DBF'\n",
    "ipeds_sch = gpd.read_file(sourcefolder+sourcefile)\n",
    "ipeds_sch.head()"
   ]
  },
  {
   "cell_type": "code",
   "execution_count": null,
   "id": "39e34d9b",
   "metadata": {
    "id": "39e34d9b",
    "outputId": "a5af3deb-5d18-4382-d99b-05b09ead490a"
   },
   "outputs": [
    {
     "data": {
      "text/plain": [
       "count    211925.000000\n",
       "mean     252423.907826\n",
       "std      123606.860865\n",
       "min      100654.000000\n",
       "25%      161457.000000\n",
       "50%      206482.000000\n",
       "75%      381945.000000\n",
       "max      487676.000000\n",
       "Name: UNITID, dtype: float64"
      ]
     },
     "execution_count": 32,
     "metadata": {
      "tags": []
     },
     "output_type": "execute_result"
    }
   ],
   "source": [
    "ipeds_sch.UNITID.describe()"
   ]
  },
  {
   "cell_type": "code",
   "execution_count": null,
   "id": "462bebfe",
   "metadata": {
    "id": "462bebfe",
    "outputId": "db265209-477a-4f7c-cf86-f43877c2ce0d"
   },
   "outputs": [
    {
     "data": {
      "text/html": [
       "<div>\n",
       "<style scoped>\n",
       "    .dataframe tbody tr th:only-of-type {\n",
       "        vertical-align: middle;\n",
       "    }\n",
       "\n",
       "    .dataframe tbody tr th {\n",
       "        vertical-align: top;\n",
       "    }\n",
       "\n",
       "    .dataframe thead th {\n",
       "        text-align: right;\n",
       "    }\n",
       "</style>\n",
       "<table border=\"1\" class=\"dataframe\">\n",
       "  <thead>\n",
       "    <tr style=\"text-align: right;\">\n",
       "      <th></th>\n",
       "      <th>UNITID</th>\n",
       "      <th>STAFFCAT</th>\n",
       "      <th>FTPT</th>\n",
       "      <th>OCCUPCAT</th>\n",
       "      <th>SABDTYPE</th>\n",
       "      <th>HRTOTLT</th>\n",
       "      <th>HRTOTLM</th>\n",
       "      <th>HRTOTLW</th>\n",
       "      <th>HRAIANT</th>\n",
       "      <th>HRAIANM</th>\n",
       "      <th>...</th>\n",
       "      <th>HR2MORT</th>\n",
       "      <th>HR2MORM</th>\n",
       "      <th>HR2MORW</th>\n",
       "      <th>HRUNKNT</th>\n",
       "      <th>HRUNKNM</th>\n",
       "      <th>HRUNKNW</th>\n",
       "      <th>HRNRALT</th>\n",
       "      <th>HRNRALM</th>\n",
       "      <th>HRNRALW</th>\n",
       "      <th>geometry</th>\n",
       "    </tr>\n",
       "  </thead>\n",
       "  <tbody>\n",
       "    <tr>\n",
       "      <th>0</th>\n",
       "      <td>100654.0</td>\n",
       "      <td>1100.0</td>\n",
       "      <td>1.0</td>\n",
       "      <td>100.0</td>\n",
       "      <td>-2.0</td>\n",
       "      <td>963.0</td>\n",
       "      <td>422.0</td>\n",
       "      <td>541.0</td>\n",
       "      <td>2.0</td>\n",
       "      <td>0.0</td>\n",
       "      <td>...</td>\n",
       "      <td>0.0</td>\n",
       "      <td>0.0</td>\n",
       "      <td>0.0</td>\n",
       "      <td>8.0</td>\n",
       "      <td>2.0</td>\n",
       "      <td>6.0</td>\n",
       "      <td>41.0</td>\n",
       "      <td>25.0</td>\n",
       "      <td>16.0</td>\n",
       "      <td>None</td>\n",
       "    </tr>\n",
       "    <tr>\n",
       "      <th>1</th>\n",
       "      <td>100663.0</td>\n",
       "      <td>1100.0</td>\n",
       "      <td>1.0</td>\n",
       "      <td>100.0</td>\n",
       "      <td>-2.0</td>\n",
       "      <td>9385.0</td>\n",
       "      <td>3929.0</td>\n",
       "      <td>5456.0</td>\n",
       "      <td>19.0</td>\n",
       "      <td>9.0</td>\n",
       "      <td>...</td>\n",
       "      <td>63.0</td>\n",
       "      <td>22.0</td>\n",
       "      <td>41.0</td>\n",
       "      <td>6.0</td>\n",
       "      <td>2.0</td>\n",
       "      <td>4.0</td>\n",
       "      <td>361.0</td>\n",
       "      <td>203.0</td>\n",
       "      <td>158.0</td>\n",
       "      <td>None</td>\n",
       "    </tr>\n",
       "    <tr>\n",
       "      <th>2</th>\n",
       "      <td>100690.0</td>\n",
       "      <td>1100.0</td>\n",
       "      <td>1.0</td>\n",
       "      <td>100.0</td>\n",
       "      <td>-2.0</td>\n",
       "      <td>70.0</td>\n",
       "      <td>44.0</td>\n",
       "      <td>26.0</td>\n",
       "      <td>0.0</td>\n",
       "      <td>0.0</td>\n",
       "      <td>...</td>\n",
       "      <td>0.0</td>\n",
       "      <td>0.0</td>\n",
       "      <td>0.0</td>\n",
       "      <td>1.0</td>\n",
       "      <td>1.0</td>\n",
       "      <td>0.0</td>\n",
       "      <td>0.0</td>\n",
       "      <td>0.0</td>\n",
       "      <td>0.0</td>\n",
       "      <td>None</td>\n",
       "    </tr>\n",
       "    <tr>\n",
       "      <th>3</th>\n",
       "      <td>100706.0</td>\n",
       "      <td>1100.0</td>\n",
       "      <td>1.0</td>\n",
       "      <td>100.0</td>\n",
       "      <td>-2.0</td>\n",
       "      <td>1521.0</td>\n",
       "      <td>787.0</td>\n",
       "      <td>734.0</td>\n",
       "      <td>9.0</td>\n",
       "      <td>5.0</td>\n",
       "      <td>...</td>\n",
       "      <td>1.0</td>\n",
       "      <td>0.0</td>\n",
       "      <td>1.0</td>\n",
       "      <td>16.0</td>\n",
       "      <td>7.0</td>\n",
       "      <td>9.0</td>\n",
       "      <td>34.0</td>\n",
       "      <td>22.0</td>\n",
       "      <td>12.0</td>\n",
       "      <td>None</td>\n",
       "    </tr>\n",
       "    <tr>\n",
       "      <th>4</th>\n",
       "      <td>100724.0</td>\n",
       "      <td>1100.0</td>\n",
       "      <td>1.0</td>\n",
       "      <td>100.0</td>\n",
       "      <td>-2.0</td>\n",
       "      <td>1042.0</td>\n",
       "      <td>441.0</td>\n",
       "      <td>601.0</td>\n",
       "      <td>4.0</td>\n",
       "      <td>3.0</td>\n",
       "      <td>...</td>\n",
       "      <td>0.0</td>\n",
       "      <td>0.0</td>\n",
       "      <td>0.0</td>\n",
       "      <td>65.0</td>\n",
       "      <td>31.0</td>\n",
       "      <td>34.0</td>\n",
       "      <td>0.0</td>\n",
       "      <td>0.0</td>\n",
       "      <td>0.0</td>\n",
       "      <td>None</td>\n",
       "    </tr>\n",
       "  </tbody>\n",
       "</table>\n",
       "<p>5 rows × 36 columns</p>\n",
       "</div>"
      ],
      "text/plain": [
       "     UNITID  STAFFCAT  FTPT  OCCUPCAT  SABDTYPE  HRTOTLT  HRTOTLM  HRTOTLW  \\\n",
       "0  100654.0    1100.0   1.0     100.0      -2.0    963.0    422.0    541.0   \n",
       "1  100663.0    1100.0   1.0     100.0      -2.0   9385.0   3929.0   5456.0   \n",
       "2  100690.0    1100.0   1.0     100.0      -2.0     70.0     44.0     26.0   \n",
       "3  100706.0    1100.0   1.0     100.0      -2.0   1521.0    787.0    734.0   \n",
       "4  100724.0    1100.0   1.0     100.0      -2.0   1042.0    441.0    601.0   \n",
       "\n",
       "   HRAIANT  HRAIANM  ...  HR2MORT  HR2MORM  HR2MORW  HRUNKNT  HRUNKNM  \\\n",
       "0      2.0      0.0  ...      0.0      0.0      0.0      8.0      2.0   \n",
       "1     19.0      9.0  ...     63.0     22.0     41.0      6.0      2.0   \n",
       "2      0.0      0.0  ...      0.0      0.0      0.0      1.0      1.0   \n",
       "3      9.0      5.0  ...      1.0      0.0      1.0     16.0      7.0   \n",
       "4      4.0      3.0  ...      0.0      0.0      0.0     65.0     31.0   \n",
       "\n",
       "   HRUNKNW  HRNRALT  HRNRALM  HRNRALW  geometry  \n",
       "0      6.0     41.0     25.0     16.0      None  \n",
       "1      4.0    361.0    203.0    158.0      None  \n",
       "2      0.0      0.0      0.0      0.0      None  \n",
       "3      9.0     34.0     22.0     12.0      None  \n",
       "4     34.0      0.0      0.0      0.0      None  \n",
       "\n",
       "[5 rows x 36 columns]"
      ]
     },
     "execution_count": 83,
     "metadata": {
      "tags": []
     },
     "output_type": "execute_result"
    }
   ],
   "source": [
    "# Keep one observation for each UNITID with total staff count\n",
    "ipeds_sch_hrtotal = ipeds_sch.loc[(ipeds_sch['STAFFCAT'] == 1100) & (ipeds_sch['OCCUPCAT'] == 100)].copy()\n",
    "#ipeds_sch_hrtotal = ipeds_sch.loc[(ipeds_sch['OCCUPCAT'] == 100)].copy()\n",
    "ipeds_sch_hrtotal.head()"
   ]
  },
  {
   "cell_type": "code",
   "execution_count": null,
   "id": "f96a1a26",
   "metadata": {
    "id": "f96a1a26",
    "outputId": "1d90c073-e4ab-4830-9dfe-5724b330f4d9"
   },
   "outputs": [
    {
     "data": {
      "text/plain": [
       "count      7282.000000\n",
       "mean     285848.703378\n",
       "std      135003.540788\n",
       "min      100654.000000\n",
       "25%      171308.500000\n",
       "50%      224008.500000\n",
       "75%      443691.500000\n",
       "max      487676.000000\n",
       "Name: UNITID, dtype: float64"
      ]
     },
     "execution_count": 84,
     "metadata": {
      "tags": []
     },
     "output_type": "execute_result"
    }
   ],
   "source": [
    "ipeds_sch_hrtotal.UNITID.describe()"
   ]
  },
  {
   "cell_type": "code",
   "execution_count": null,
   "id": "19c51166",
   "metadata": {
    "id": "19c51166",
    "outputId": "24e864ca-048e-4630-e33c-b93005f05e84"
   },
   "outputs": [
    {
     "data": {
      "text/html": [
       "<div>\n",
       "<style scoped>\n",
       "    .dataframe tbody tr th:only-of-type {\n",
       "        vertical-align: middle;\n",
       "    }\n",
       "\n",
       "    .dataframe tbody tr th {\n",
       "        vertical-align: top;\n",
       "    }\n",
       "\n",
       "    .dataframe thead th {\n",
       "        text-align: right;\n",
       "    }\n",
       "</style>\n",
       "<table border=\"1\" class=\"dataframe\">\n",
       "  <thead>\n",
       "    <tr style=\"text-align: right;\">\n",
       "      <th></th>\n",
       "      <th>UNITID</th>\n",
       "      <th>STAFFCAT</th>\n",
       "      <th>FTPT</th>\n",
       "      <th>OCCUPCAT</th>\n",
       "      <th>SABDTYPE</th>\n",
       "      <th>HRTOTLT</th>\n",
       "      <th>HRTOTLM</th>\n",
       "      <th>HRTOTLW</th>\n",
       "      <th>HRAIANT</th>\n",
       "      <th>HRAIANM</th>\n",
       "      <th>...</th>\n",
       "      <th>HR2MORT</th>\n",
       "      <th>HR2MORM</th>\n",
       "      <th>HR2MORW</th>\n",
       "      <th>HRUNKNT</th>\n",
       "      <th>HRUNKNM</th>\n",
       "      <th>HRUNKNW</th>\n",
       "      <th>HRNRALT</th>\n",
       "      <th>HRNRALM</th>\n",
       "      <th>HRNRALW</th>\n",
       "      <th>geometry</th>\n",
       "    </tr>\n",
       "  </thead>\n",
       "  <tbody>\n",
       "    <tr>\n",
       "      <th>2729</th>\n",
       "      <td>199281.0</td>\n",
       "      <td>1100.0</td>\n",
       "      <td>1.0</td>\n",
       "      <td>100.0</td>\n",
       "      <td>-2.0</td>\n",
       "      <td>942.0</td>\n",
       "      <td>410.0</td>\n",
       "      <td>532.0</td>\n",
       "      <td>296.0</td>\n",
       "      <td>111.0</td>\n",
       "      <td>...</td>\n",
       "      <td>14.0</td>\n",
       "      <td>5.0</td>\n",
       "      <td>9.0</td>\n",
       "      <td>3.0</td>\n",
       "      <td>1.0</td>\n",
       "      <td>2.0</td>\n",
       "      <td>16.0</td>\n",
       "      <td>8.0</td>\n",
       "      <td>8.0</td>\n",
       "      <td>None</td>\n",
       "    </tr>\n",
       "  </tbody>\n",
       "</table>\n",
       "<p>1 rows × 36 columns</p>\n",
       "</div>"
      ],
      "text/plain": [
       "        UNITID  STAFFCAT  FTPT  OCCUPCAT  SABDTYPE  HRTOTLT  HRTOTLM  HRTOTLW  \\\n",
       "2729  199281.0    1100.0   1.0     100.0      -2.0    942.0    410.0    532.0   \n",
       "\n",
       "      HRAIANT  HRAIANM  ...  HR2MORT  HR2MORM  HR2MORW  HRUNKNT  HRUNKNM  \\\n",
       "2729    296.0    111.0  ...     14.0      5.0      9.0      3.0      1.0   \n",
       "\n",
       "      HRUNKNW  HRNRALT  HRNRALM  HRNRALW  geometry  \n",
       "2729      2.0     16.0      8.0      8.0      None  \n",
       "\n",
       "[1 rows x 36 columns]"
      ]
     },
     "execution_count": 85,
     "metadata": {
      "tags": []
     },
     "output_type": "execute_result"
    }
   ],
   "source": [
    "ipeds_sch_hrtotal.loc[ipeds_sch_hrtotal['UNITID'] == 199281]"
   ]
  },
  {
   "cell_type": "code",
   "execution_count": null,
   "id": "d7bc61ff",
   "metadata": {
    "id": "d7bc61ff",
    "outputId": "c57dd464-4a31-4e43-ea99-dab85fd5dd4f"
   },
   "outputs": [
    {
     "data": {
      "text/html": [
       "<div>\n",
       "<style scoped>\n",
       "    .dataframe tbody tr th:only-of-type {\n",
       "        vertical-align: middle;\n",
       "    }\n",
       "\n",
       "    .dataframe tbody tr th {\n",
       "        vertical-align: top;\n",
       "    }\n",
       "\n",
       "    .dataframe thead th {\n",
       "        text-align: right;\n",
       "    }\n",
       "</style>\n",
       "<table border=\"1\" class=\"dataframe\">\n",
       "  <thead>\n",
       "    <tr style=\"text-align: right;\">\n",
       "      <th></th>\n",
       "      <th>UNITID</th>\n",
       "      <th>STAFFCAT</th>\n",
       "      <th>FTPT</th>\n",
       "      <th>OCCUPCAT</th>\n",
       "      <th>SABDTYPE</th>\n",
       "      <th>HRTOTLT</th>\n",
       "      <th>HRTOTLM</th>\n",
       "      <th>HRTOTLW</th>\n",
       "      <th>HRAIANT</th>\n",
       "      <th>HRAIANM</th>\n",
       "      <th>...</th>\n",
       "      <th>HR2MORM</th>\n",
       "      <th>HR2MORW</th>\n",
       "      <th>HRUNKNT</th>\n",
       "      <th>HRUNKNM</th>\n",
       "      <th>HRUNKNW</th>\n",
       "      <th>HRNRALT</th>\n",
       "      <th>HRNRALM</th>\n",
       "      <th>HRNRALW</th>\n",
       "      <th>geometry</th>\n",
       "      <th>ncesid</th>\n",
       "    </tr>\n",
       "  </thead>\n",
       "  <tbody>\n",
       "    <tr>\n",
       "      <th>2729</th>\n",
       "      <td>199281.0</td>\n",
       "      <td>1100.0</td>\n",
       "      <td>1.0</td>\n",
       "      <td>100.0</td>\n",
       "      <td>-2.0</td>\n",
       "      <td>942.0</td>\n",
       "      <td>410.0</td>\n",
       "      <td>532.0</td>\n",
       "      <td>296.0</td>\n",
       "      <td>111.0</td>\n",
       "      <td>...</td>\n",
       "      <td>5.0</td>\n",
       "      <td>9.0</td>\n",
       "      <td>3.0</td>\n",
       "      <td>1.0</td>\n",
       "      <td>2.0</td>\n",
       "      <td>16.0</td>\n",
       "      <td>8.0</td>\n",
       "      <td>8.0</td>\n",
       "      <td>None</td>\n",
       "      <td>199281</td>\n",
       "    </tr>\n",
       "  </tbody>\n",
       "</table>\n",
       "<p>1 rows × 37 columns</p>\n",
       "</div>"
      ],
      "text/plain": [
       "        UNITID  STAFFCAT  FTPT  OCCUPCAT  SABDTYPE  HRTOTLT  HRTOTLM  HRTOTLW  \\\n",
       "2729  199281.0    1100.0   1.0     100.0      -2.0    942.0    410.0    532.0   \n",
       "\n",
       "      HRAIANT  HRAIANM  ...  HR2MORM  HR2MORW  HRUNKNT  HRUNKNM  HRUNKNW  \\\n",
       "2729    296.0    111.0  ...      5.0      9.0      3.0      1.0      2.0   \n",
       "\n",
       "      HRNRALT  HRNRALM  HRNRALW  geometry  ncesid  \n",
       "2729     16.0      8.0      8.0      None  199281  \n",
       "\n",
       "[1 rows x 37 columns]"
      ]
     },
     "execution_count": 86,
     "metadata": {
      "tags": []
     },
     "output_type": "execute_result"
    }
   ],
   "source": [
    "ipeds_sch_hrtotal['ncesid'] = ipeds_sch_hrtotal['UNITID'].astype(int).apply(str)\n",
    "ipeds_sch_hrtotal.loc[ipeds_sch_hrtotal['ncesid'] == '199281']"
   ]
  },
  {
   "cell_type": "markdown",
   "id": "9108a5f1",
   "metadata": {
    "id": "9108a5f1"
   },
   "source": [
    "## Read in NCES School Location File\n",
    "School location files were obtained and cleaned with the previous program `NCES_2av1_SelectCountySchools`"
   ]
  },
  {
   "cell_type": "code",
   "execution_count": null,
   "id": "1c12e800",
   "metadata": {
    "id": "1c12e800",
    "outputId": "fe5cb690-e1a9-4b1b-a4b3-ba3ebd8f89a6"
   },
   "outputs": [
    {
     "data": {
      "text/html": [
       "<div>\n",
       "<style scoped>\n",
       "    .dataframe tbody tr th:only-of-type {\n",
       "        vertical-align: middle;\n",
       "    }\n",
       "\n",
       "    .dataframe tbody tr th {\n",
       "        vertical-align: top;\n",
       "    }\n",
       "\n",
       "    .dataframe thead th {\n",
       "        text-align: right;\n",
       "    }\n",
       "</style>\n",
       "<table border=\"1\" class=\"dataframe\">\n",
       "  <thead>\n",
       "    <tr style=\"text-align: right;\">\n",
       "      <th></th>\n",
       "      <th>Unnamed: 0</th>\n",
       "      <th>ncesid</th>\n",
       "      <th>name</th>\n",
       "      <th>addr</th>\n",
       "      <th>city</th>\n",
       "      <th>stabbr</th>\n",
       "      <th>zip</th>\n",
       "      <th>cnty15</th>\n",
       "      <th>geometry</th>\n",
       "      <th>level</th>\n",
       "      <th>schtype</th>\n",
       "      <th>lat</th>\n",
       "      <th>lon</th>\n",
       "      <th>schyr</th>\n",
       "    </tr>\n",
       "  </thead>\n",
       "  <tbody>\n",
       "    <tr>\n",
       "      <th>0</th>\n",
       "      <td>0</td>\n",
       "      <td>370004002349</td>\n",
       "      <td>CIS Academy</td>\n",
       "      <td>818 West 3rd Street</td>\n",
       "      <td>Pembroke</td>\n",
       "      <td>NC</td>\n",
       "      <td>28372</td>\n",
       "      <td>37155</td>\n",
       "      <td>POINT (-79.20335664043833 34.68503759480223)</td>\n",
       "      <td>99</td>\n",
       "      <td>1</td>\n",
       "      <td>34.685038</td>\n",
       "      <td>-79.203357</td>\n",
       "      <td>2015-2016</td>\n",
       "    </tr>\n",
       "    <tr>\n",
       "      <th>1</th>\n",
       "      <td>1</td>\n",
       "      <td>370034603302</td>\n",
       "      <td>Southeastern Academy</td>\n",
       "      <td>12251 NC HWY 41 North</td>\n",
       "      <td>Lumberton</td>\n",
       "      <td>NC</td>\n",
       "      <td>28358</td>\n",
       "      <td>37155</td>\n",
       "      <td>POINT (-78.87378865362859 34.65169717880272)</td>\n",
       "      <td>99</td>\n",
       "      <td>1</td>\n",
       "      <td>34.651697</td>\n",
       "      <td>-78.873789</td>\n",
       "      <td>2015-2016</td>\n",
       "    </tr>\n",
       "    <tr>\n",
       "      <th>2</th>\n",
       "      <td>2</td>\n",
       "      <td>370225003249</td>\n",
       "      <td>Sandy Grove Middle</td>\n",
       "      <td>300 Chason Road</td>\n",
       "      <td>Lumber Bridge</td>\n",
       "      <td>NC</td>\n",
       "      <td>28357</td>\n",
       "      <td>37155</td>\n",
       "      <td>POINT (-79.06581931618486 34.89650979378273)</td>\n",
       "      <td>99</td>\n",
       "      <td>1</td>\n",
       "      <td>34.896510</td>\n",
       "      <td>-79.065819</td>\n",
       "      <td>2015-2016</td>\n",
       "    </tr>\n",
       "    <tr>\n",
       "      <th>3</th>\n",
       "      <td>3</td>\n",
       "      <td>370393001569</td>\n",
       "      <td>Deep Branch Elementary</td>\n",
       "      <td>4045 Deep Branch Road</td>\n",
       "      <td>Lumberton</td>\n",
       "      <td>NC</td>\n",
       "      <td>28360</td>\n",
       "      <td>37155</td>\n",
       "      <td>POINT (-79.14600999186194 34.63037683072379)</td>\n",
       "      <td>99</td>\n",
       "      <td>1</td>\n",
       "      <td>34.630377</td>\n",
       "      <td>-79.146010</td>\n",
       "      <td>2015-2016</td>\n",
       "    </tr>\n",
       "    <tr>\n",
       "      <th>4</th>\n",
       "      <td>4</td>\n",
       "      <td>370393001570</td>\n",
       "      <td>Fairgrove Middle</td>\n",
       "      <td>1953 Fairgrove Sch Road</td>\n",
       "      <td>Fairmont</td>\n",
       "      <td>NC</td>\n",
       "      <td>28340</td>\n",
       "      <td>37155</td>\n",
       "      <td>POINT (-79.17370687961406 34.49329831006692)</td>\n",
       "      <td>99</td>\n",
       "      <td>1</td>\n",
       "      <td>34.493298</td>\n",
       "      <td>-79.173707</td>\n",
       "      <td>2015-2016</td>\n",
       "    </tr>\n",
       "  </tbody>\n",
       "</table>\n",
       "</div>"
      ],
      "text/plain": [
       "   Unnamed: 0        ncesid                    name                     addr  \\\n",
       "0           0  370004002349             CIS Academy      818 West 3rd Street   \n",
       "1           1  370034603302    Southeastern Academy    12251 NC HWY 41 North   \n",
       "2           2  370225003249      Sandy Grove Middle          300 Chason Road   \n",
       "3           3  370393001569  Deep Branch Elementary    4045 Deep Branch Road   \n",
       "4           4  370393001570        Fairgrove Middle  1953 Fairgrove Sch Road   \n",
       "\n",
       "            city stabbr    zip  cnty15  \\\n",
       "0       Pembroke     NC  28372   37155   \n",
       "1      Lumberton     NC  28358   37155   \n",
       "2  Lumber Bridge     NC  28357   37155   \n",
       "3      Lumberton     NC  28360   37155   \n",
       "4       Fairmont     NC  28340   37155   \n",
       "\n",
       "                                       geometry  level  schtype        lat  \\\n",
       "0  POINT (-79.20335664043833 34.68503759480223)     99        1  34.685038   \n",
       "1  POINT (-78.87378865362859 34.65169717880272)     99        1  34.651697   \n",
       "2  POINT (-79.06581931618486 34.89650979378273)     99        1  34.896510   \n",
       "3  POINT (-79.14600999186194 34.63037683072379)     99        1  34.630377   \n",
       "4  POINT (-79.17370687961406 34.49329831006692)     99        1  34.493298   \n",
       "\n",
       "         lon      schyr  \n",
       "0 -79.203357  2015-2016  \n",
       "1 -78.873789  2015-2016  \n",
       "2 -79.065819  2015-2016  \n",
       "3 -79.146010  2015-2016  \n",
       "4 -79.173707  2015-2016  "
      ]
     },
     "execution_count": 87,
     "metadata": {
      "tags": []
     },
     "output_type": "execute_result"
    }
   ],
   "source": [
    "sourceprogram = 'NCES_2av1_SelectCountySchools_2021-06-06'\n",
    "selected_schools = pd.read_csv(sourceprogram+'/'+sourceprogram+'.csv')\n",
    "selected_schools.head()"
   ]
  },
  {
   "cell_type": "markdown",
   "id": "bcf57494",
   "metadata": {
    "id": "bcf57494"
   },
   "source": [
    "## Merge Staff County Data with School Locations"
   ]
  },
  {
   "cell_type": "code",
   "execution_count": null,
   "id": "eab83d74",
   "metadata": {
    "id": "eab83d74",
    "outputId": "b4f9cc7d-f671-4bd0-b212-538d82c7256a"
   },
   "outputs": [
    {
     "data": {
      "text/html": [
       "<div>\n",
       "<style scoped>\n",
       "    .dataframe tbody tr th:only-of-type {\n",
       "        vertical-align: middle;\n",
       "    }\n",
       "\n",
       "    .dataframe tbody tr th {\n",
       "        vertical-align: top;\n",
       "    }\n",
       "\n",
       "    .dataframe thead th {\n",
       "        text-align: right;\n",
       "    }\n",
       "</style>\n",
       "<table border=\"1\" class=\"dataframe\">\n",
       "  <thead>\n",
       "    <tr style=\"text-align: right;\">\n",
       "      <th></th>\n",
       "      <th>SURVYEAR</th>\n",
       "      <th>FIPST</th>\n",
       "      <th>STABR</th>\n",
       "      <th>STATENAME</th>\n",
       "      <th>SEANAME</th>\n",
       "      <th>LEAID</th>\n",
       "      <th>ST_LEAID</th>\n",
       "      <th>LEA_NAME</th>\n",
       "      <th>SCHID</th>\n",
       "      <th>ST_SCHID</th>\n",
       "      <th>NCESSCH</th>\n",
       "      <th>SCH_NAME</th>\n",
       "      <th>FTE</th>\n",
       "      <th>ncesid</th>\n",
       "    </tr>\n",
       "  </thead>\n",
       "  <tbody>\n",
       "    <tr>\n",
       "      <th>0</th>\n",
       "      <td>2015-2016</td>\n",
       "      <td>1</td>\n",
       "      <td>AL</td>\n",
       "      <td>ALABAMA</td>\n",
       "      <td>Alabama Department Of Education</td>\n",
       "      <td>100002</td>\n",
       "      <td>210</td>\n",
       "      <td>Alabama Youth Services</td>\n",
       "      <td>277</td>\n",
       "      <td>210-0020</td>\n",
       "      <td>10000200277</td>\n",
       "      <td>Sequoyah Sch - Chalkville Campus</td>\n",
       "      <td>-1.0</td>\n",
       "      <td>10000200277</td>\n",
       "    </tr>\n",
       "    <tr>\n",
       "      <th>1</th>\n",
       "      <td>2015-2016</td>\n",
       "      <td>1</td>\n",
       "      <td>AL</td>\n",
       "      <td>ALABAMA</td>\n",
       "      <td>Alabama Department Of Education</td>\n",
       "      <td>100002</td>\n",
       "      <td>210</td>\n",
       "      <td>Alabama Youth Services</td>\n",
       "      <td>1667</td>\n",
       "      <td>210-0050</td>\n",
       "      <td>10000201667</td>\n",
       "      <td>Camps</td>\n",
       "      <td>-1.0</td>\n",
       "      <td>10000201667</td>\n",
       "    </tr>\n",
       "    <tr>\n",
       "      <th>2</th>\n",
       "      <td>2015-2016</td>\n",
       "      <td>1</td>\n",
       "      <td>AL</td>\n",
       "      <td>ALABAMA</td>\n",
       "      <td>Alabama Department Of Education</td>\n",
       "      <td>100002</td>\n",
       "      <td>210</td>\n",
       "      <td>Alabama Youth Services</td>\n",
       "      <td>1670</td>\n",
       "      <td>210-0060</td>\n",
       "      <td>10000201670</td>\n",
       "      <td>Det Ctr</td>\n",
       "      <td>-1.0</td>\n",
       "      <td>10000201670</td>\n",
       "    </tr>\n",
       "    <tr>\n",
       "      <th>3</th>\n",
       "      <td>2015-2016</td>\n",
       "      <td>1</td>\n",
       "      <td>AL</td>\n",
       "      <td>ALABAMA</td>\n",
       "      <td>Alabama Department Of Education</td>\n",
       "      <td>100002</td>\n",
       "      <td>210</td>\n",
       "      <td>Alabama Youth Services</td>\n",
       "      <td>1705</td>\n",
       "      <td>210-0030</td>\n",
       "      <td>10000201705</td>\n",
       "      <td>Wallace Sch - Mt Meigs Campus</td>\n",
       "      <td>-1.0</td>\n",
       "      <td>10000201705</td>\n",
       "    </tr>\n",
       "    <tr>\n",
       "      <th>4</th>\n",
       "      <td>2015-2016</td>\n",
       "      <td>1</td>\n",
       "      <td>AL</td>\n",
       "      <td>ALABAMA</td>\n",
       "      <td>Alabama Department Of Education</td>\n",
       "      <td>100002</td>\n",
       "      <td>210</td>\n",
       "      <td>Alabama Youth Services</td>\n",
       "      <td>1706</td>\n",
       "      <td>210-0040</td>\n",
       "      <td>10000201706</td>\n",
       "      <td>McNeel Sch - Vacca Campus</td>\n",
       "      <td>-1.0</td>\n",
       "      <td>10000201706</td>\n",
       "    </tr>\n",
       "  </tbody>\n",
       "</table>\n",
       "</div>"
      ],
      "text/plain": [
       "    SURVYEAR  FIPST STABR STATENAME                          SEANAME   LEAID  \\\n",
       "0  2015-2016      1    AL   ALABAMA  Alabama Department Of Education  100002   \n",
       "1  2015-2016      1    AL   ALABAMA  Alabama Department Of Education  100002   \n",
       "2  2015-2016      1    AL   ALABAMA  Alabama Department Of Education  100002   \n",
       "3  2015-2016      1    AL   ALABAMA  Alabama Department Of Education  100002   \n",
       "4  2015-2016      1    AL   ALABAMA  Alabama Department Of Education  100002   \n",
       "\n",
       "  ST_LEAID                LEA_NAME  SCHID  ST_SCHID      NCESSCH  \\\n",
       "0      210  Alabama Youth Services    277  210-0020  10000200277   \n",
       "1      210  Alabama Youth Services   1667  210-0050  10000201667   \n",
       "2      210  Alabama Youth Services   1670  210-0060  10000201670   \n",
       "3      210  Alabama Youth Services   1705  210-0030  10000201705   \n",
       "4      210  Alabama Youth Services   1706  210-0040  10000201706   \n",
       "\n",
       "                           SCH_NAME  FTE       ncesid  \n",
       "0  Sequoyah Sch - Chalkville Campus -1.0  10000200277  \n",
       "1                             Camps -1.0  10000201667  \n",
       "2                           Det Ctr -1.0  10000201670  \n",
       "3     Wallace Sch - Mt Meigs Campus -1.0  10000201705  \n",
       "4         McNeel Sch - Vacca Campus -1.0  10000201706  "
      ]
     },
     "execution_count": 88,
     "metadata": {
      "tags": []
     },
     "output_type": "execute_result"
    }
   ],
   "source": [
    "ccd_sch['ncesid'] = ccd_sch['NCESSCH'].apply(str)\n",
    "ccd_sch.head()"
   ]
  },
  {
   "cell_type": "code",
   "execution_count": null,
   "id": "d2e8a89e",
   "metadata": {
    "id": "d2e8a89e"
   },
   "outputs": [],
   "source": [
    "addteacher = pd.merge(left = ccd_sch[['ncesid','FTE']],\n",
    "                      right = selected_schools,\n",
    "                     left_on = 'ncesid',\n",
    "                     right_on = 'ncesid',\n",
    "                     how = \"right\",\n",
    "                     validate = \"one_to_one\")"
   ]
  },
  {
   "cell_type": "code",
   "execution_count": null,
   "id": "e20c8023",
   "metadata": {
    "id": "e20c8023",
    "outputId": "9cac27db-2dfa-4fad-9a8a-6c74a48e04f7"
   },
   "outputs": [
    {
     "data": {
      "text/plain": [
       "count               55\n",
       "unique              55\n",
       "top       370034603302\n",
       "freq                 1\n",
       "Name: ncesid, dtype: object"
      ]
     },
     "execution_count": 90,
     "metadata": {
      "tags": []
     },
     "output_type": "execute_result"
    }
   ],
   "source": [
    "addteacher.ncesid.describe()"
   ]
  },
  {
   "cell_type": "code",
   "execution_count": null,
   "id": "e06aa347",
   "metadata": {
    "id": "e06aa347",
    "outputId": "7ddcb58f-4741-47af-ea46-b56ece65b72a"
   },
   "outputs": [
    {
     "data": {
      "text/plain": [
       "count     45.000000\n",
       "mean      33.398667\n",
       "std       22.050478\n",
       "min        7.990000\n",
       "25%       19.180000\n",
       "50%       28.880000\n",
       "75%       38.400000\n",
       "max      130.760000\n",
       "Name: FTE, dtype: float64"
      ]
     },
     "execution_count": 91,
     "metadata": {
      "tags": []
     },
     "output_type": "execute_result"
    }
   ],
   "source": [
    "addteacher['FTE'].describe()"
   ]
  },
  {
   "cell_type": "code",
   "execution_count": null,
   "id": "9a14e474",
   "metadata": {
    "id": "9a14e474"
   },
   "outputs": [],
   "source": [
    "addteacher = pd.merge(left = pss_sch[['ppin','p410']],\n",
    "                      right = addteacher,\n",
    "                     left_on = 'ppin',\n",
    "                     right_on = 'ncesid',\n",
    "                     how = \"right\",\n",
    "                     validate = \"one_to_one\")"
   ]
  },
  {
   "cell_type": "code",
   "execution_count": null,
   "id": "ab675294",
   "metadata": {
    "id": "ab675294",
    "outputId": "18b88230-fb16-43f8-fbaf-a406a8880fcd"
   },
   "outputs": [
    {
     "data": {
      "text/plain": [
       "count     5.000000\n",
       "mean      6.000000\n",
       "std       4.062019\n",
       "min       3.000000\n",
       "25%       4.000000\n",
       "50%       4.000000\n",
       "75%       6.000000\n",
       "max      13.000000\n",
       "Name: p410, dtype: float64"
      ]
     },
     "execution_count": 93,
     "metadata": {
      "tags": []
     },
     "output_type": "execute_result"
    }
   ],
   "source": [
    "addteacher['p410'].describe()"
   ]
  },
  {
   "cell_type": "code",
   "execution_count": null,
   "id": "98193723",
   "metadata": {
    "id": "98193723",
    "outputId": "688fecb0-bd5a-4111-c670-a31ed2d877fb"
   },
   "outputs": [
    {
     "data": {
      "text/plain": [
       "count               55\n",
       "unique              55\n",
       "top       370034603302\n",
       "freq                 1\n",
       "Name: ncesid, dtype: object"
      ]
     },
     "execution_count": 94,
     "metadata": {
      "tags": []
     },
     "output_type": "execute_result"
    }
   ],
   "source": [
    "addteacher.ncesid.describe()"
   ]
  },
  {
   "cell_type": "code",
   "execution_count": null,
   "id": "ccdf6ff7",
   "metadata": {
    "id": "ccdf6ff7"
   },
   "outputs": [],
   "source": [
    "addteacher = pd.merge(left = ipeds_sch_hrtotal[['ncesid','HRTOTLT']],\n",
    "                      right = addteacher,\n",
    "                     left_on = 'ncesid',\n",
    "                     right_on = 'ncesid',\n",
    "                     how = \"right\",\n",
    "                     validate = \"one_to_one\")"
   ]
  },
  {
   "cell_type": "code",
   "execution_count": null,
   "id": "13d6fe94",
   "metadata": {
    "id": "13d6fe94",
    "outputId": "e71727b7-a3f5-4460-9417-379d4d63f9f6"
   },
   "outputs": [
    {
     "data": {
      "text/plain": [
       "count               55\n",
       "unique              55\n",
       "top       370034603302\n",
       "freq                 1\n",
       "Name: ncesid, dtype: object"
      ]
     },
     "execution_count": 98,
     "metadata": {
      "tags": []
     },
     "output_type": "execute_result"
    }
   ],
   "source": [
    "addteacher.ncesid.describe()"
   ]
  },
  {
   "cell_type": "code",
   "execution_count": null,
   "id": "2867cd0b",
   "metadata": {
    "id": "2867cd0b",
    "outputId": "26f7a407-22f8-4710-c88d-043675400c5f"
   },
   "outputs": [
    {
     "data": {
      "text/plain": [
       "count      2.000000\n",
       "mean     667.500000\n",
       "std      388.201623\n",
       "min      393.000000\n",
       "25%      530.250000\n",
       "50%      667.500000\n",
       "75%      804.750000\n",
       "max      942.000000\n",
       "Name: HRTOTLT, dtype: float64"
      ]
     },
     "execution_count": 99,
     "metadata": {
      "tags": []
     },
     "output_type": "execute_result"
    }
   ],
   "source": [
    "addteacher['HRTOTLT'].describe()"
   ]
  },
  {
   "cell_type": "code",
   "execution_count": null,
   "id": "0ba72f64",
   "metadata": {
    "id": "0ba72f64",
    "outputId": "403925f9-28d1-49d7-bff5-364605d92bd9"
   },
   "outputs": [
    {
     "data": {
      "text/plain": [
       "count     52.000000\n",
       "mean      55.152692\n",
       "std      136.875098\n",
       "min        3.000000\n",
       "25%       16.100000\n",
       "50%       27.530000\n",
       "75%       39.390000\n",
       "max      942.000000\n",
       "Name: numstaff, dtype: float64"
      ]
     },
     "execution_count": 100,
     "metadata": {
      "tags": []
     },
     "output_type": "execute_result"
    }
   ],
   "source": [
    "addteacher['numstaff'] = addteacher['FTE']\n",
    "addteacher['numstaff'] = addteacher['numstaff'].fillna(addteacher['p410'])\n",
    "addteacher['numstaff'] = addteacher['numstaff'].fillna(addteacher['HRTOTLT'])\n",
    "addteacher['numstaff'].describe()"
   ]
  },
  {
   "cell_type": "code",
   "execution_count": null,
   "id": "0e02a3f9",
   "metadata": {
    "id": "0e02a3f9"
   },
   "outputs": [],
   "source": [
    "addteacher.to_csv(programname+\"/\"+programname+\".csv\")"
   ]
  },
  {
   "cell_type": "code",
   "execution_count": null,
   "id": "cb72a933",
   "metadata": {
    "id": "cb72a933"
   },
   "outputs": [],
   "source": []
  }
 ],
 "metadata": {
  "colab": {
   "name": "NCES_2bv1_AddTeacherCount_2021-06-15.ipynb",
   "provenance": []
  },
  "kernelspec": {
   "display_name": "Python 3 (ipykernel)",
   "language": "python",
   "name": "python3"
  },
  "language_info": {
   "codemirror_mode": {
    "name": "ipython",
    "version": 3
   },
   "file_extension": ".py",
   "mimetype": "text/x-python",
   "name": "python",
   "nbconvert_exporter": "python",
   "pygments_lexer": "ipython3",
   "version": "3.7.10"
  }
 },
 "nbformat": 4,
 "nbformat_minor": 5
}
