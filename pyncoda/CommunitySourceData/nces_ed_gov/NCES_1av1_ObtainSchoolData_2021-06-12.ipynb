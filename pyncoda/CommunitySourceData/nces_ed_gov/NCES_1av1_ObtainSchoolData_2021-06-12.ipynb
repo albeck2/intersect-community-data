{
 "cells": [
  {
   "cell_type": "markdown",
   "metadata": {
    "id": "-Sd0f_DG1s43"
   },
   "source": [
    "# National Center for Education Statistics School Data\n",
    "\n",
    "The National Center for Education Statistics, U.S. Depratment of Education, has school location, attendance boundaries, and characteristics data. These data are sourced from two programs Education Demographic and Geographic Estimates (EDGE) and Common Core of Data (CCD).\n",
    "\n",
    "The EDGES program provides GIS shapefiles for school locations and School Attendance Boundaries for public, private, and post secondary schools. The CCD program provides basic information such as staff, membership (students), and lunch programs on public schools. \n",
    "\n",
    "References for Data Documentation:\n",
    "> Geverdt, D., (2018a). Education Demographic and Geographic Estimates (EDGE) Geocodes: Public Schools and Local Education\n",
    "Agencies, (NCES 2018-080). U.S. Department of Education. Washington, DC: National Center for Education Statistics. Retrieved\n",
    "[2021-06-04] from http://nces.ed.gov/pubsearch/.\n",
    "\n",
    "\n",
    "> Geverdt, D., (2018b). Education Demographic and Geographic Estimates (EDGE) Program, Geocodes: Private Schools (NCES 2018-\n",
    "084). U.S. Department of Education. Washington, DC: National Center for Education Statistics. Retrieved [2021-06-04] from\n",
    "http://nces.ed.gov/pubsearch/.\n",
    "\n",
    "> Geverdt, D., (2018c). Education Demographic and Geographic Estimates (EDGE) Program, Geocodes: Postsecondary Schools (NCES\n",
    "2018-084). U.S. Department of Education. Washington, DC: National Center for Education Statistics. Retrieved [2021-06-04] from\n",
    "http://nces.ed.gov/pubsearch/.\n",
    "\n",
    "> Geverdt, D., (2018d). School Attendance Boundary Survey (SABS) File Documentation: 2015-16 (NCES 2018-099). U.S.\n",
    "Department of Education. Washington, DC: National Center for Education Statistics. Retrieved [2021-06-02] from\n",
    "http://nces.ed.gov/pubsearch.\n",
    "\n",
    "\n",
    "The shapefiles are very large (556 MB for the SABS single shapefile) and cover the entire United States. Therefore the files should only be downloaded one time to reduce time for working with the files."
   ]
  },
  {
   "cell_type": "markdown",
   "metadata": {},
   "source": [
    "## Description of Program\n",
    "- program:    NCES_1av1_ObtainSchoolData\n",
    "- task:       Obtain School Location and Attendance Boundaries\n",
    "- Version:    2021-06-04\n",
    "- project:    Interdependent Networked Community Resilience Modeling Environment (IN-CORE) Subtask 5.2 - Social Institutions\n",
    "- funding:\t  NIST Financial Assistance Award Numbers: 70NANB15H044 and 70NANB20H008 \n",
    "- author:     Nathanael Rosenheim\n",
    "\n",
    "- Suggested Citation:\n",
    "Rosenheim, N. (2021) “Obtain, Clean, and Explore School Location and Attendance Boundary Data\". \n",
    "Archived on Github and ICPSR."
   ]
  },
  {
   "cell_type": "markdown",
   "metadata": {
    "id": "IP00okxW1s46"
   },
   "source": [
    "## Background \n",
    "\n",
    "### Estimated School Building and Administrative Office Locations\n",
    "> Purpose of School Location Data: \"The National Center for Education Statistics (NCES) Education Demographic and Geographic Estimates (EDGE) program develops data resources and information to help data users investigate the social and\n",
    "spatial context of education. School point locations (latitude/longitude values) are a key component of the NCES data collection.\" (Geverdt, 2018a p. 1) \n",
    "\n",
    "School location data is collected for:\n",
    "* Public schools\n",
    "    - elementary\n",
    "    - public secondary\n",
    "    - location education agencies\n",
    "* Private schools\n",
    "    - elementary\n",
    "    - secondary\n",
    "* Postsecondary Schools that participates in the federal student financial aid programs\n",
    "    - college\n",
    "    - university\n",
    "    - technical and vocational institution \n",
    "    \n",
    "Note a Location Education Agency is \"A public board of education or other public authority within a state that maintains administrative control of public elementary or secondary schools in a city, county, township, school district, or other political subdivision of a state. School districts and county offices of education are both LEAs. Under the Local Control Funding Formula, charter schools are increasingly treated as LEAs. (Ed Source https://edsource.org/glossary/local-education-agency-lea)\"\n",
    "\n",
    "The school location data can be linked to:\n",
    "* Public schools (Geverdt, 2018a p. 1) \n",
    "    - Common Core of Data (CCD) school and agency universe\n",
    "    - enrollment, staffing, and program participation \n",
    "* Private schools (Geverdt, 2018b p. 1) \n",
    "    - Private School Survey (PSS) collection\n",
    "    - Biennial provides data about enrollment, staffing, type of program, and other basic administrative features\n",
    "* Postsecondary Schools (Geverdt, 2018c p. 1) \n",
    "    - Integrated Postsecondary Education Data System (IPEDS) collection\n",
    "    - enrollments, program completions, graduation rates, faculty and staff, finances, institutional prices, and student financial aid\n",
    "\n",
    "### School Attendance Boundaries\n",
    "> \"The School Attendance Boundaries Survey (SABS) was an experimental survey conducted by the U.S.\n",
    "Department of Education’s (ED) National Center for Education Statistics (NCES) with assistance from the\n",
    "U.S. Census Bureau to collect school attendance boundaries for regular schools in the 50 states and the\n",
    "District of Columbia. Attendance boundaries, sometimes known as school catchment areas, define the\n",
    "geographic extent served by a local school for the purpose of student assignments. School district\n",
    "administrators create attendance areas to help organize and plan district-wide services, and districts\n",
    "may adjust individual school boundaries to help balance the physical capacity of local schools with\n",
    "changes in the local school-age population.\" (Geverdt, 2018d p. 1)"
   ]
  },
  {
   "cell_type": "markdown",
   "metadata": {
    "id": "CkwXvHYU1s47"
   },
   "source": [
    "## Setup Python Environment"
   ]
  },
  {
   "cell_type": "code",
   "execution_count": 2,
   "metadata": {
    "id": "t9TTIntO1s48"
   },
   "outputs": [],
   "source": [
    "# Import Python Packages Required for program\n",
    "import pandas as pd       # Pandas for reading in data \n",
    "import geopandas as gpd   # Geopandas for reading Shapefiles\n",
    "import os                 # Operating System (os) For folders and finding working directory\n",
    "import zipfile            # Zipfile for working with compressed Zipped files"
   ]
  },
  {
   "cell_type": "code",
   "execution_count": 3,
   "metadata": {
    "id": "qlOlsz2L1s48",
    "outputId": "bd5e0f54-4a51-4903-cf97-ab0556121fc8"
   },
   "outputs": [
    {
     "name": "stdout",
     "output_type": "stream",
     "text": [
      "Python Version      3.7.10 | packaged by conda-forge | (default, Feb 19 2021, 15:37:01) [MSC v.1916 64 bit (AMD64)]\n",
      "pandas version:     1.2.4\n",
      "geopandas version:  0.9.0\n"
     ]
    }
   ],
   "source": [
    "# Display versions being used - important information for replication\n",
    "import sys # System (sys) for finding current python version\n",
    "print(\"Python Version     \", sys.version)\n",
    "print(\"pandas version:    \", pd.__version__)\n",
    "print(\"geopandas version: \", gpd.__version__)\n",
    "#print(\"zipfile version:   \", zipfile.__version__)"
   ]
  },
  {
   "cell_type": "markdown",
   "metadata": {
    "id": "gIfko8oL1s49"
   },
   "source": [
    "### Install packages to local session\n",
    "It is possible to add a package to your local session - the pacakge must be installed with each run."
   ]
  },
  {
   "cell_type": "code",
   "execution_count": 4,
   "metadata": {
    "id": "T7NJ2tm81s49",
    "outputId": "9c2915c2-688c-42e7-ba93-fcfe794de1bc"
   },
   "outputs": [
    {
     "name": "stdout",
     "output_type": "stream",
     "text": [
      "Requirement already satisfied: wget in c:\\users\\nathanael99\\miniconda3\\envs\\pyincoreenv20210506\\lib\\site-packages (3.2)\n"
     ]
    }
   ],
   "source": [
    "# wget is a package that helps obtain data from websites and to download the files to local machine\n",
    "!pip install wget"
   ]
  },
  {
   "cell_type": "code",
   "execution_count": 5,
   "metadata": {
    "id": "go_J_Y9q1s4-"
   },
   "outputs": [],
   "source": [
    "import wget"
   ]
  },
  {
   "cell_type": "code",
   "execution_count": 6,
   "metadata": {
    "id": "kG-Z2Gvx1s4-",
    "outputId": "75085f14-2d2d-4bfe-f80b-664a4b360a55"
   },
   "outputs": [
    {
     "name": "stdout",
     "output_type": "stream",
     "text": [
      "wget Version      3.2\n"
     ]
    }
   ],
   "source": [
    "print(\"wget Version     \", wget.__version__)"
   ]
  },
  {
   "cell_type": "code",
   "execution_count": 7,
   "metadata": {
    "id": "vohSnKwD1s4_"
   },
   "outputs": [],
   "source": [
    "# To learn how to use the wget command the help(wget) command has more details\n",
    "# help(wget) # uncomment this line to see help information for wget package"
   ]
  },
  {
   "cell_type": "markdown",
   "metadata": {
    "id": "XJP5i6gq1s4_"
   },
   "source": [
    "## Obtain NCES Files\n",
    "This section of code provides details on the web addresses for obtaining the NCES data. These datafiles are quiet large. It is recommended that the files are downloaded once. To facilitate the downloading of the files a Comma Seperated Values (CSV) file was create using Microsoft Excel (note CSV files are easier to read into the notebook). The CSV file includes the descriptions and important file names to be obtained. This input file can be modified for different school years."
   ]
  },
  {
   "cell_type": "code",
   "execution_count": 20,
   "metadata": {
    "id": "j4ncU1dO1s5A",
    "outputId": "76df0e80-5590-4585-d956-e504ca1ba3ea"
   },
   "outputs": [
    {
     "data": {
      "text/html": [
       "<div>\n",
       "<style scoped>\n",
       "    .dataframe tbody tr th:only-of-type {\n",
       "        vertical-align: middle;\n",
       "    }\n",
       "\n",
       "    .dataframe tbody tr th {\n",
       "        vertical-align: top;\n",
       "    }\n",
       "\n",
       "    .dataframe thead th {\n",
       "        text-align: right;\n",
       "    }\n",
       "</style>\n",
       "<table border=\"1\" class=\"dataframe\">\n",
       "  <thead>\n",
       "    <tr style=\"text-align: right;\">\n",
       "      <th></th>\n",
       "      <th>File Description</th>\n",
       "      <th>School Year</th>\n",
       "      <th>Documentation File Name</th>\n",
       "      <th>Data File Name</th>\n",
       "      <th>Unzipped Shapefile File Location</th>\n",
       "      <th>Documentation File URL</th>\n",
       "      <th>Data File URL</th>\n",
       "    </tr>\n",
       "  </thead>\n",
       "  <tbody>\n",
       "    <tr>\n",
       "      <th>0</th>\n",
       "      <td>Postsecondary School File</td>\n",
       "      <td>2015-2016</td>\n",
       "      <td>EDGE_GEOCODE_POSTSEC_FILEDOC.pdf</td>\n",
       "      <td>EDGE_GEOCODE_POSTSECONDARYSCH_1516.zip</td>\n",
       "      <td>EDGE_GEOCODE_POSTSECONDARYSCH_1516/EDGE_GEOCOD...</td>\n",
       "      <td>https://nces.ed.gov/programs/edge/docs/</td>\n",
       "      <td>https://nces.ed.gov/programs/edge/data/</td>\n",
       "    </tr>\n",
       "    <tr>\n",
       "      <th>1</th>\n",
       "      <td>Public District File</td>\n",
       "      <td>2015-2016</td>\n",
       "      <td>EDGE_GEOCODE_PUBLIC_FILEDOC.pdf</td>\n",
       "      <td>EDGE_GEOCODE_PUBLICLEA_1516.zip</td>\n",
       "      <td>EDGE_GEOCODE_PUBLICLEA_1516/EDGE_GEOCODE_PUBLI...</td>\n",
       "      <td>https://nces.ed.gov/programs/edge/docs/</td>\n",
       "      <td>https://nces.ed.gov/programs/edge/data/</td>\n",
       "    </tr>\n",
       "    <tr>\n",
       "      <th>2</th>\n",
       "      <td>Public School File</td>\n",
       "      <td>2015-2016</td>\n",
       "      <td>EDGE_GEOCODE_PUBLIC_FILEDOC.pdf</td>\n",
       "      <td>EDGE_GEOCODE_PUBLICSCH_1516.zip</td>\n",
       "      <td>EDGE_GEOCODE_PUBLICSCH_1516/EDGE_GEOCODE_PUBLI...</td>\n",
       "      <td>https://nces.ed.gov/programs/edge/docs/</td>\n",
       "      <td>https://nces.ed.gov/programs/edge/data/</td>\n",
       "    </tr>\n",
       "    <tr>\n",
       "      <th>3</th>\n",
       "      <td>Private School File</td>\n",
       "      <td>2015-2016</td>\n",
       "      <td>EDGE_GEOCODE_PSS1718_FILEDOC.pdf</td>\n",
       "      <td>EDGE_GEOCODE_PRIVATESCH_15_16.zip</td>\n",
       "      <td>EDGE_GEOCODE_PRIVATESCH_15_16.shp</td>\n",
       "      <td>https://nces.ed.gov/programs/edge/docs/</td>\n",
       "      <td>https://nces.ed.gov/programs/edge/data/</td>\n",
       "    </tr>\n",
       "    <tr>\n",
       "      <th>4</th>\n",
       "      <td>School Attendance Boundaries Single Shapefile</td>\n",
       "      <td>2015-2016</td>\n",
       "      <td>EDGE_SABS_2015_2016_TECHDOC.pdf</td>\n",
       "      <td>SABS_1516.zip</td>\n",
       "      <td>SABS_1516/SABS_1516.shp</td>\n",
       "      <td>https://nces.ed.gov/programs/edge/docs/</td>\n",
       "      <td>https://nces.ed.gov/programs/edge/data/</td>\n",
       "    </tr>\n",
       "  </tbody>\n",
       "</table>\n",
       "</div>"
      ],
      "text/plain": [
       "                                File Description School Year  \\\n",
       "0                      Postsecondary School File   2015-2016   \n",
       "1                           Public District File   2015-2016   \n",
       "2                             Public School File   2015-2016   \n",
       "3                            Private School File   2015-2016   \n",
       "4  School Attendance Boundaries Single Shapefile   2015-2016   \n",
       "\n",
       "            Documentation File Name                          Data File Name  \\\n",
       "0  EDGE_GEOCODE_POSTSEC_FILEDOC.pdf  EDGE_GEOCODE_POSTSECONDARYSCH_1516.zip   \n",
       "1   EDGE_GEOCODE_PUBLIC_FILEDOC.pdf         EDGE_GEOCODE_PUBLICLEA_1516.zip   \n",
       "2   EDGE_GEOCODE_PUBLIC_FILEDOC.pdf         EDGE_GEOCODE_PUBLICSCH_1516.zip   \n",
       "3  EDGE_GEOCODE_PSS1718_FILEDOC.pdf       EDGE_GEOCODE_PRIVATESCH_15_16.zip   \n",
       "4   EDGE_SABS_2015_2016_TECHDOC.pdf                           SABS_1516.zip   \n",
       "\n",
       "                    Unzipped Shapefile File Location  \\\n",
       "0  EDGE_GEOCODE_POSTSECONDARYSCH_1516/EDGE_GEOCOD...   \n",
       "1  EDGE_GEOCODE_PUBLICLEA_1516/EDGE_GEOCODE_PUBLI...   \n",
       "2  EDGE_GEOCODE_PUBLICSCH_1516/EDGE_GEOCODE_PUBLI...   \n",
       "3                  EDGE_GEOCODE_PRIVATESCH_15_16.shp   \n",
       "4                            SABS_1516/SABS_1516.shp   \n",
       "\n",
       "                    Documentation File URL  \\\n",
       "0  https://nces.ed.gov/programs/edge/docs/   \n",
       "1  https://nces.ed.gov/programs/edge/docs/   \n",
       "2  https://nces.ed.gov/programs/edge/docs/   \n",
       "3  https://nces.ed.gov/programs/edge/docs/   \n",
       "4  https://nces.ed.gov/programs/edge/docs/   \n",
       "\n",
       "                             Data File URL  \n",
       "0  https://nces.ed.gov/programs/edge/data/  \n",
       "1  https://nces.ed.gov/programs/edge/data/  \n",
       "2  https://nces.ed.gov/programs/edge/data/  \n",
       "3  https://nces.ed.gov/programs/edge/data/  \n",
       "4  https://nces.ed.gov/programs/edge/data/  "
      ]
     },
     "execution_count": 20,
     "metadata": {},
     "output_type": "execute_result"
    }
   ],
   "source": [
    "filelist_df = pd.read_csv('NCES_1av1_ObtainSchoolData_2021-06-04.csv')\n",
    "filelist_df"
   ]
  },
  {
   "cell_type": "markdown",
   "metadata": {
    "id": "zo7_0T-j1s5A"
   },
   "source": [
    "### Notice - Data files have Documentation Files\n",
    "It is important to download the data files and the documentation files."
   ]
  },
  {
   "cell_type": "markdown",
   "metadata": {
    "id": "KGdxaYrb1s5A"
   },
   "source": [
    "To match the School Attendance Zones the 2015-2016 data for school locations will be used.\n",
    "Data for other years also exists - the file names for different years could be updated for different school years."
   ]
  },
  {
   "cell_type": "markdown",
   "metadata": {
    "id": "OmSELKNU1s5B"
   },
   "source": [
    "## Create output folder to save files\n",
    "This notebook will make a new directory where the NCES data will be saved. It is recommened that the files be saved inside a project directory called `SourceData/nces.ed.gov/programs_edge_data/`. The `SourceData` folder is a common folder for all project members to see what data is included in the project developement. Within the `SourceData` folder subfolders that are named after the source website such as `nces.ed.gov` will help provide a sense of the provenance of the data. This notebook should be saved inside the directory `SourceData/nces.ed.gov/`. \n",
    "\n",
    "Consistent folder names help reinforce the provenance of data."
   ]
  },
  {
   "cell_type": "code",
   "execution_count": 18,
   "metadata": {
    "id": "2ro3P7L51s5B",
    "outputId": "b61eb9e8-c127-40d9-b04c-cf1d51201064"
   },
   "outputs": [
    {
     "name": "stdout",
     "output_type": "stream",
     "text": [
      "Directory programs_edge_data Already exists.\n"
     ]
    }
   ],
   "source": [
    "output_directory = 'programs_edge_data'\n",
    "# Make directory to save output\n",
    "if not os.path.exists(output_directory):\n",
    "    print(\"Making new directory to save output: \",output_directory)\n",
    "    os.mkdir(output_directory)\n",
    "else:\n",
    "    print(\"Directory\",output_directory,\"Already exists.\")"
   ]
  },
  {
   "cell_type": "markdown",
   "metadata": {},
   "source": [
    "### Loop through file list  and download the data file and documentation for each file.\n",
    "This look steps through each row (`iterrows`) in the dataframe. The loop creates a dictionary with the name and location of the data documentation file and the datafile. The second internal loop steps through the two files to download. The internal loop first checks to see if the file has already been downloaded. If the file has `not` been downloaded the program uses the `wget` function to download the data from the `url`. If the has been downloaded (`else`) the program outputs a comment that the file has already been downloaded. This loop helps manage the downloading of many complext files and the associated documentation. The structure of the loop reinforces the provenance of the data - which will help future project members understand the source of the school location and attendance data."
   ]
  },
  {
   "cell_type": "code",
   "execution_count": 10,
   "metadata": {
    "id": "4IXolKcH1s5C",
    "outputId": "eb598a48-1a62-49ae-b7c7-0204fb612ae6"
   },
   "outputs": [
    {
     "name": "stdout",
     "output_type": "stream",
     "text": [
      "\n",
      "Downloading Postsecondary School File Files for School Year 2015-2016\n",
      "   Checking to see if file EDGE_GEOCODE_POSTSEC_FILEDOC.pdf has been downloaded...\n",
      "   file EDGE_GEOCODE_POSTSEC_FILEDOC.pdf already exists in folder  programs_edge_data\n",
      "   original file was downloaded from https://nces.ed.gov/programs/edge/docs/EDGE_GEOCODE_POSTSEC_FILEDOC.pdf\n",
      "   Checking to see if file EDGE_GEOCODE_POSTSECONDARYSCH_1516.zip has been downloaded...\n",
      "   file EDGE_GEOCODE_POSTSECONDARYSCH_1516.zip already exists in folder  programs_edge_data\n",
      "   original file was downloaded from https://nces.ed.gov/programs/edge/data/EDGE_GEOCODE_POSTSECONDARYSCH_1516.zip\n",
      "\n",
      "Downloading Public District File Files for School Year 2015-2016\n",
      "   Checking to see if file EDGE_GEOCODE_PUBLIC_FILEDOC.pdf has been downloaded...\n",
      "   file EDGE_GEOCODE_PUBLIC_FILEDOC.pdf already exists in folder  programs_edge_data\n",
      "   original file was downloaded from https://nces.ed.gov/programs/edge/docs/EDGE_GEOCODE_PUBLIC_FILEDOC.pdf\n",
      "   Checking to see if file EDGE_GEOCODE_PUBLICLEA_1516.zip has been downloaded...\n",
      "   file EDGE_GEOCODE_PUBLICLEA_1516.zip already exists in folder  programs_edge_data\n",
      "   original file was downloaded from https://nces.ed.gov/programs/edge/data/EDGE_GEOCODE_PUBLICLEA_1516.zip\n",
      "\n",
      "Downloading Public School File Files for School Year 2015-2016\n",
      "   Checking to see if file EDGE_GEOCODE_PUBLIC_FILEDOC.pdf has been downloaded...\n",
      "   file EDGE_GEOCODE_PUBLIC_FILEDOC.pdf already exists in folder  programs_edge_data\n",
      "   original file was downloaded from https://nces.ed.gov/programs/edge/docs/EDGE_GEOCODE_PUBLIC_FILEDOC.pdf\n",
      "   Checking to see if file EDGE_GEOCODE_PUBLICSCH_1516.zip has been downloaded...\n",
      "   file EDGE_GEOCODE_PUBLICSCH_1516.zip already exists in folder  programs_edge_data\n",
      "   original file was downloaded from https://nces.ed.gov/programs/edge/data/EDGE_GEOCODE_PUBLICSCH_1516.zip\n",
      "\n",
      "Downloading Private School File Files for School Year 2015-2016\n",
      "   Checking to see if file EDGE_GEOCODE_PSS1718_FILEDOC.pdf has been downloaded...\n",
      "   file EDGE_GEOCODE_PSS1718_FILEDOC.pdf already exists in folder  programs_edge_data\n",
      "   original file was downloaded from https://nces.ed.gov/programs/edge/docs/EDGE_GEOCODE_PSS1718_FILEDOC.pdf\n",
      "   Checking to see if file EDGE_GEOCODE_PRIVATESCH_15_16.zip has been downloaded...\n",
      "   file EDGE_GEOCODE_PRIVATESCH_15_16.zip already exists in folder  programs_edge_data\n",
      "   original file was downloaded from https://nces.ed.gov/programs/edge/data/EDGE_GEOCODE_PRIVATESCH_15_16.zip\n",
      "\n",
      "Downloading School Attendance Boundaries Single Shapefile Files for School Year 2015-2016\n",
      "   Checking to see if file EDGE_SABS_2015_2016_TECHDOC.pdf has been downloaded...\n",
      "   file EDGE_SABS_2015_2016_TECHDOC.pdf already exists in folder  programs_edge_data\n",
      "   original file was downloaded from https://nces.ed.gov/programs/edge/docs/EDGE_SABS_2015_2016_TECHDOC.pdf\n",
      "   Checking to see if file SABS_1516.zip has been downloaded...\n",
      "   file SABS_1516.zip already exists in folder  programs_edge_data\n",
      "   original file was downloaded from https://nces.ed.gov/programs/edge/data/SABS_1516.zip\n"
     ]
    }
   ],
   "source": [
    "for index, files in filelist_df.iterrows():\n",
    "    print(\"\\nDownloading\",files['File Description'],\"Files for School Year\",files['School Year'])\n",
    "    \n",
    "    # Create dictionary with documentation and data file names and ascociated URL\n",
    "    downloadfiles = {files['Documentation File Name']:files['Documentation File URL'],\n",
    "                     files['Data File Name']:files['Data File URL']}\n",
    "    for file in downloadfiles:\n",
    "        # Set file path where file will be downloaded\n",
    "        filepath = output_directory+\"/\"+file\n",
    "        print(\"   Checking to see if file\",file,\"has been downloaded...\")\n",
    "        \n",
    "        # set URL for where the file is located\n",
    "        url = downloadfiles[file]+file\n",
    "        \n",
    "        # Check if file exists - if not then download\n",
    "        if not os.path.exists(filepath):\n",
    "            print(\"   Downloading: \",file, \"from \\n\",url)\n",
    "            wget.download(url, out=output_directory)\n",
    "        else:\n",
    "            print(\"   file\",file,\"already exists in folder \",output_directory)\n",
    "            print(\"   original file was downloaded from\", url)"
   ]
  },
  {
   "cell_type": "markdown",
   "metadata": {
    "id": "gOVx1JzJ1s5D"
   },
   "source": [
    "## Unzip Folders\n",
    "Each of the zip folder with data files a different structure for saving the spatial data."
   ]
  },
  {
   "cell_type": "code",
   "execution_count": 16,
   "metadata": {},
   "outputs": [
    {
     "name": "stdout",
     "output_type": "stream",
     "text": [
      "Directory programs_edge_data_unzipped Already exists.\n"
     ]
    }
   ],
   "source": [
    "unzipped_output_directory = 'programs_edge_data_unzipped'\n",
    "# Make directory to save output\n",
    "if not os.path.exists(unzipped_output_directory):\n",
    "    print(\"Making unzipped_output_directory directory to save output: \",unzipped_output_directory)\n",
    "    os.mkdir(output_directory)\n",
    "else:\n",
    "    print(\"Directory\",unzipped_output_directory,\"Already exists.\")"
   ]
  },
  {
   "cell_type": "code",
   "execution_count": 11,
   "metadata": {
    "id": "t7BNUZxF1s5D",
    "outputId": "f8fe3758-1b7a-41d0-8daa-8ae72ffc2c6b"
   },
   "outputs": [
    {
     "data": {
      "text/html": [
       "<div>\n",
       "<style scoped>\n",
       "    .dataframe tbody tr th:only-of-type {\n",
       "        vertical-align: middle;\n",
       "    }\n",
       "\n",
       "    .dataframe tbody tr th {\n",
       "        vertical-align: top;\n",
       "    }\n",
       "\n",
       "    .dataframe thead th {\n",
       "        text-align: right;\n",
       "    }\n",
       "</style>\n",
       "<table border=\"1\" class=\"dataframe\">\n",
       "  <thead>\n",
       "    <tr style=\"text-align: right;\">\n",
       "      <th></th>\n",
       "      <th>File Description</th>\n",
       "      <th>School Year</th>\n",
       "      <th>Documentation File Name</th>\n",
       "      <th>Data File Name</th>\n",
       "      <th>Documentation File URL</th>\n",
       "      <th>Data File URL</th>\n",
       "    </tr>\n",
       "  </thead>\n",
       "  <tbody>\n",
       "    <tr>\n",
       "      <th>0</th>\n",
       "      <td>Postsecondary School File</td>\n",
       "      <td>2015-2016</td>\n",
       "      <td>EDGE_GEOCODE_POSTSEC_FILEDOC.pdf</td>\n",
       "      <td>EDGE_GEOCODE_POSTSECONDARYSCH_1516.zip</td>\n",
       "      <td>https://nces.ed.gov/programs/edge/docs/</td>\n",
       "      <td>https://nces.ed.gov/programs/edge/data/</td>\n",
       "    </tr>\n",
       "    <tr>\n",
       "      <th>1</th>\n",
       "      <td>Public District File</td>\n",
       "      <td>2015-2016</td>\n",
       "      <td>EDGE_GEOCODE_PUBLIC_FILEDOC.pdf</td>\n",
       "      <td>EDGE_GEOCODE_PUBLICLEA_1516.zip</td>\n",
       "      <td>https://nces.ed.gov/programs/edge/docs/</td>\n",
       "      <td>https://nces.ed.gov/programs/edge/data/</td>\n",
       "    </tr>\n",
       "    <tr>\n",
       "      <th>2</th>\n",
       "      <td>Public School File</td>\n",
       "      <td>2015-2016</td>\n",
       "      <td>EDGE_GEOCODE_PUBLIC_FILEDOC.pdf</td>\n",
       "      <td>EDGE_GEOCODE_PUBLICSCH_1516.zip</td>\n",
       "      <td>https://nces.ed.gov/programs/edge/docs/</td>\n",
       "      <td>https://nces.ed.gov/programs/edge/data/</td>\n",
       "    </tr>\n",
       "    <tr>\n",
       "      <th>3</th>\n",
       "      <td>Private School File</td>\n",
       "      <td>2015-2016</td>\n",
       "      <td>EDGE_GEOCODE_PSS1718_FILEDOC.pdf</td>\n",
       "      <td>EDGE_GEOCODE_PRIVATESCH_15_16.zip</td>\n",
       "      <td>https://nces.ed.gov/programs/edge/docs/</td>\n",
       "      <td>https://nces.ed.gov/programs/edge/data/</td>\n",
       "    </tr>\n",
       "    <tr>\n",
       "      <th>4</th>\n",
       "      <td>School Attendance Boundaries Single Shapefile</td>\n",
       "      <td>2015-2016</td>\n",
       "      <td>EDGE_SABS_2015_2016_TECHDOC.pdf</td>\n",
       "      <td>SABS_1516.zip</td>\n",
       "      <td>https://nces.ed.gov/programs/edge/docs/</td>\n",
       "      <td>https://nces.ed.gov/programs/edge/data/</td>\n",
       "    </tr>\n",
       "  </tbody>\n",
       "</table>\n",
       "</div>"
      ],
      "text/plain": [
       "                                File Description School Year  \\\n",
       "0                      Postsecondary School File   2015-2016   \n",
       "1                           Public District File   2015-2016   \n",
       "2                             Public School File   2015-2016   \n",
       "3                            Private School File   2015-2016   \n",
       "4  School Attendance Boundaries Single Shapefile   2015-2016   \n",
       "\n",
       "            Documentation File Name                          Data File Name  \\\n",
       "0  EDGE_GEOCODE_POSTSEC_FILEDOC.pdf  EDGE_GEOCODE_POSTSECONDARYSCH_1516.zip   \n",
       "1   EDGE_GEOCODE_PUBLIC_FILEDOC.pdf         EDGE_GEOCODE_PUBLICLEA_1516.zip   \n",
       "2   EDGE_GEOCODE_PUBLIC_FILEDOC.pdf         EDGE_GEOCODE_PUBLICSCH_1516.zip   \n",
       "3  EDGE_GEOCODE_PSS1718_FILEDOC.pdf       EDGE_GEOCODE_PRIVATESCH_15_16.zip   \n",
       "4   EDGE_SABS_2015_2016_TECHDOC.pdf                           SABS_1516.zip   \n",
       "\n",
       "                    Documentation File URL  \\\n",
       "0  https://nces.ed.gov/programs/edge/docs/   \n",
       "1  https://nces.ed.gov/programs/edge/docs/   \n",
       "2  https://nces.ed.gov/programs/edge/docs/   \n",
       "3  https://nces.ed.gov/programs/edge/docs/   \n",
       "4  https://nces.ed.gov/programs/edge/docs/   \n",
       "\n",
       "                             Data File URL  \n",
       "0  https://nces.ed.gov/programs/edge/data/  \n",
       "1  https://nces.ed.gov/programs/edge/data/  \n",
       "2  https://nces.ed.gov/programs/edge/data/  \n",
       "3  https://nces.ed.gov/programs/edge/data/  \n",
       "4  https://nces.ed.gov/programs/edge/data/  "
      ]
     },
     "execution_count": 11,
     "metadata": {},
     "output_type": "execute_result"
    }
   ],
   "source": [
    "filelist_df"
   ]
  },
  {
   "cell_type": "code",
   "execution_count": 19,
   "metadata": {
    "id": "fJubEc5U1s5D",
    "outputId": "6d4ebc71-317d-4fb7-a084-9fa5b37bf3b1"
   },
   "outputs": [
    {
     "name": "stdout",
     "output_type": "stream",
     "text": [
      "\n",
      " Unzipping Postsecondary School File Files for School Year 2015-2016\n",
      "   Checking to see if zip file exists EDGE_GEOCODE_POSTSECONDARYSCH_1516.zip has been downloaded...\n",
      "   file EDGE_GEOCODE_POSTSECONDARYSCH_1516.zip already exists in folder  programs_edge_data\n",
      "   files will be unzipped. to programs_edge_data_unzipped\n",
      "\n",
      " Unzipping Public District File Files for School Year 2015-2016\n",
      "   Checking to see if zip file exists EDGE_GEOCODE_PUBLICLEA_1516.zip has been downloaded...\n",
      "   file EDGE_GEOCODE_PUBLICLEA_1516.zip already exists in folder  programs_edge_data\n",
      "   files will be unzipped. to programs_edge_data_unzipped\n",
      "\n",
      " Unzipping Public School File Files for School Year 2015-2016\n",
      "   Checking to see if zip file exists EDGE_GEOCODE_PUBLICSCH_1516.zip has been downloaded...\n",
      "   file EDGE_GEOCODE_PUBLICSCH_1516.zip already exists in folder  programs_edge_data\n",
      "   files will be unzipped. to programs_edge_data_unzipped\n",
      "\n",
      " Unzipping Private School File Files for School Year 2015-2016\n",
      "   Checking to see if zip file exists EDGE_GEOCODE_PRIVATESCH_15_16.zip has been downloaded...\n",
      "   file EDGE_GEOCODE_PRIVATESCH_15_16.zip already exists in folder  programs_edge_data\n",
      "   files will be unzipped. to programs_edge_data_unzipped\n",
      "\n",
      " Unzipping School Attendance Boundaries Single Shapefile Files for School Year 2015-2016\n",
      "   Checking to see if zip file exists SABS_1516.zip has been downloaded...\n",
      "   file SABS_1516.zip already exists in folder  programs_edge_data\n",
      "   files will be unzipped. to programs_edge_data_unzipped\n"
     ]
    }
   ],
   "source": [
    "for index, files in filelist_df.iterrows():\n",
    "    print(\"\\n Unzipping\",files['File Description'],\"Files for School Year\",files['School Year'])\n",
    "    \n",
    "    file = files['Data File Name']\n",
    "    # Set file path where file will be downloaded\n",
    "    filepath = output_directory+\"/\"+file\n",
    "    print(\"   Checking to see if zip file exists\",file,\"has been downloaded...\")\n",
    "\n",
    "    # Check if file exists - if not then download\n",
    "    if not os.path.exists(filepath):\n",
    "        print(\"   Warning file: \",file, \"has not been downloaded - run first part of program first\")\n",
    "    else:\n",
    "        print(\"   file\",file,\"already exists in folder \",output_directory)\n",
    "        print(\"   files will be unzipped. to\", unzipped_output_directory)\n",
    "        with zipfile.ZipFile(filepath, 'r') as zip_ref:\n",
    "            zip_ref.extractall(unzipped_output_directory)"
   ]
  },
  {
   "cell_type": "code",
   "execution_count": null,
   "metadata": {
    "id": "wBaghEn81s5E"
   },
   "outputs": [],
   "source": []
  }
 ],
 "metadata": {
  "colab": {
   "name": "NCES_1av1_ObtainSchoolData_2021-06-04.ipynb",
   "provenance": [],
   "toc_visible": true
  },
  "kernelspec": {
   "display_name": "Python 3",
   "language": "python",
   "name": "python3"
  },
  "language_info": {
   "codemirror_mode": {
    "name": "ipython",
    "version": 3
   },
   "file_extension": ".py",
   "mimetype": "text/x-python",
   "name": "python",
   "nbconvert_exporter": "python",
   "pygments_lexer": "ipython3",
   "version": "3.7.10"
  }
 },
 "nbformat": 4,
 "nbformat_minor": 1
}
