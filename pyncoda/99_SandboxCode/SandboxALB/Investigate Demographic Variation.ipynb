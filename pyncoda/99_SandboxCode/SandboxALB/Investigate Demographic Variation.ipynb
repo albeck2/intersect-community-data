{
 "cells": [
  {
   "cell_type": "code",
   "execution_count": 11,
   "id": "456c7a87-a0b5-4153-904f-3d0b41bf8d8f",
   "metadata": {},
   "outputs": [],
   "source": [
    "# Import all the packages\n",
    "import pandas as pd\n",
    "from scipy.integrate import quad\n",
    "import numpy as np\n",
    "from scipy.stats import norm\n",
    "import time\n",
    "import matplotlib.pyplot as plt"
   ]
  },
  {
   "cell_type": "code",
   "execution_count": 17,
   "id": "df40f854-0479-4c71-8be5-28a9af44f4c6",
   "metadata": {},
   "outputs": [],
   "source": [
    "#################\n",
    "#Import the Constant Data \n",
    "####################\n",
    "\n",
    "#Pole Network Data WILL NOT CHANGE\n",
    "poles_network = pd.read_csv('all attribute.csv') \n",
    "\n",
    "#Index of simulated seeds\n",
    "randseeds = np.load('randseeds.npy')"
   ]
  },
  {
   "cell_type": "code",
   "execution_count": 18,
   "id": "5a3624ff-9f34-4dfb-82d2-dab1fa4c32a7",
   "metadata": {},
   "outputs": [],
   "source": [
    "#Initialize a Data Frame to Store the data\n",
    "resultspercent = pd.DataFrame(columns=['Seed','PercentAll','MST1-Percent','MST2-Percent','MST3-Percent', 'MST4-Percent','MST5-Percent','MST6-Percent'])\n",
    "\n",
    "#Initialize a dict list to store data from each computation\n",
    "dict_list = []"
   ]
  },
  {
   "cell_type": "code",
   "execution_count": 19,
   "id": "2088851f-984a-4360-94ff-fa42b6f36b23",
   "metadata": {},
   "outputs": [],
   "source": [
    "# poverty status percent \n",
    "t0 = time.time()\n",
    "for x in randseeds[0:100]:  \n",
    "    #Input hua for a given seed\n",
    "    load_filename = f'OutputData/hua_v2-0-0_Galveston_TX_2010_rs{x}_63ff6b135c35c0353d5ed3ac.csv' \n",
    "    hua = pd.read_csv(load_filename)\n",
    "    # Creates combined data base where households are allocated to buildings, and connected to service\n",
    "    merged = hua.merge(poles_network, how = 'inner', left_on = 'guid', right_on = 'Households')\n",
    "    # Create a index for the substation \n",
    "    merged[\"Shortest_Path__MST_\"]= merged[\"Shortest_Path__MST_\"].str.strip(']')\n",
    "    merged[\"Shortest_Path__MST_\"]= merged[\"Shortest_Path__MST_\"].str.strip('[')\n",
    "    merged[\"Shortest_Path__MST_\"]= merged[\"Shortest_Path__MST_\"].str.split(\",\")\n",
    "    merged['Subs'] = merged.Shortest_Path__MST_.str[-1] #NEED THIS to pull substation \n",
    "    merged.Subs = merged.Subs.astype(int) #convert this to integer\n",
    "    percent0 = sum(merged[(merged.poverty>0) | (merged.poverty<1)].poverty)/merged[(merged.poverty>0) | (merged.poverty<1)].shape[0]\n",
    "    percent1 = sum(merged[(merged.Subs==1765) & (merged.poverty>0) | (merged.poverty<1)].poverty)/merged[(merged.Subs==1765) & (merged.poverty>0) | (merged.poverty<1)].shape[0]\n",
    "    percent2 = sum(merged[(merged.Subs==3423) & (merged.poverty>0) | (merged.poverty<1)].poverty)/merged[(merged.Subs==3423) & (merged.poverty>0) | (merged.poverty<1)].shape[0]\n",
    "    percent3 = sum(merged[(merged.Subs==1689) & (merged.poverty>0) | (merged.poverty<1)].poverty)/merged[(merged.Subs==1689) & (merged.poverty>0) | (merged.poverty<1)].shape[0]\n",
    "    percent4 = sum(merged[(merged.Subs==1481) & (merged.poverty>0) | (merged.poverty<1)].poverty)/merged[(merged.Subs==1481) & (merged.poverty>0) | (merged.poverty<1)].shape[0]\n",
    "    percent5 = sum(merged[(merged.Subs==4355) & (merged.poverty>0) | (merged.poverty<1)].poverty)/merged[(merged.Subs==4355) & (merged.poverty>0) | (merged.poverty<1)].shape[0]\n",
    "    percent6 = sum(merged[(merged.Subs==1550) & (merged.poverty>0) | (merged.poverty<1)].poverty)/merged[(merged.Subs==1550) & (merged.poverty>0) | (merged.poverty<1)].shape[0]\n",
    "    row_dict = {'Seed': x, 'PercentAll':percent0,'MST1-Percent': percent1,'MST2-Percent': percent2,'MST3-Percent': percent3, 'MST4-Percent': percent4,'MST5-Percent': percent5,'MST6-Percent':percent6}\n",
    "    dict_list.append(row_dict)\n",
    "resultspercent=pd.DataFrame.from_dict(dict_list)\n",
    "t1 = time.time()\n",
    "total_time = t1-t0"
   ]
  },
  {
   "cell_type": "code",
   "execution_count": 20,
   "id": "c8155dbd-2c1c-4145-adbd-f4b773724cf9",
   "metadata": {},
   "outputs": [
    {
     "data": {
      "text/html": [
       "<div>\n",
       "<style scoped>\n",
       "    .dataframe tbody tr th:only-of-type {\n",
       "        vertical-align: middle;\n",
       "    }\n",
       "\n",
       "    .dataframe tbody tr th {\n",
       "        vertical-align: top;\n",
       "    }\n",
       "\n",
       "    .dataframe thead th {\n",
       "        text-align: right;\n",
       "    }\n",
       "</style>\n",
       "<table border=\"1\" class=\"dataframe\">\n",
       "  <thead>\n",
       "    <tr style=\"text-align: right;\">\n",
       "      <th></th>\n",
       "      <th>Seed</th>\n",
       "      <th>PercentAll</th>\n",
       "      <th>MST1-Percent</th>\n",
       "      <th>MST2-Percent</th>\n",
       "      <th>MST3-Percent</th>\n",
       "      <th>MST4-Percent</th>\n",
       "      <th>MST5-Percent</th>\n",
       "      <th>MST6-Percent</th>\n",
       "    </tr>\n",
       "  </thead>\n",
       "  <tbody>\n",
       "    <tr>\n",
       "      <th>0</th>\n",
       "      <td>304140</td>\n",
       "      <td>0.21744</td>\n",
       "      <td>0.002292</td>\n",
       "      <td>0.062761</td>\n",
       "      <td>0.003434</td>\n",
       "      <td>0.044794</td>\n",
       "      <td>0.096686</td>\n",
       "      <td>0.048724</td>\n",
       "    </tr>\n",
       "  </tbody>\n",
       "</table>\n",
       "</div>"
      ],
      "text/plain": [
       "     Seed  PercentAll  MST1-Percent  MST2-Percent  MST3-Percent  MST4-Percent  \\\n",
       "0  304140     0.21744      0.002292      0.062761      0.003434      0.044794   \n",
       "\n",
       "   MST5-Percent  MST6-Percent  \n",
       "0      0.096686      0.048724  "
      ]
     },
     "execution_count": 20,
     "metadata": {},
     "output_type": "execute_result"
    }
   ],
   "source": [
    "resultspercent"
   ]
  },
  {
   "cell_type": "code",
   "execution_count": 17,
   "id": "41b77d37-23d5-4fb5-8aa5-2769445833ec",
   "metadata": {},
   "outputs": [],
   "source": [
    "# black percent \n",
    "t0 = time.time()\n",
    "for x in randseeds[0:1000]:  \n",
    "    #Input hua for a given seed\n",
    "    load_filename = f'OutputData/hua_v2-0-0_Galveston_TX_2010_rs{x}_63ff6b135c35c0353d5ed3ac.csv' \n",
    "    hua = pd.read_csv(load_filename)\n",
    "    # Creates combined data base where households are allocated to buildings, and connected to service\n",
    "    merged = hua.merge(poles_network, how = 'inner', left_on = 'guid', right_on = 'Households')\n",
    "    # Create a index for the substation \n",
    "    merged[\"Shortest_Path__MST_\"]= merged[\"Shortest_Path__MST_\"].str.strip(']')\n",
    "    merged[\"Shortest_Path__MST_\"]= merged[\"Shortest_Path__MST_\"].str.strip('[')\n",
    "    merged[\"Shortest_Path__MST_\"]= merged[\"Shortest_Path__MST_\"].str.split(\",\")\n",
    "    merged['Subs'] = merged.Shortest_Path__MST_.str[-1] #NEED THIS to pull substation \n",
    "    merged.Subs = merged.Subs.astype(int) #convert this to integer\n",
    "    percent1 = sum((merged.Subs==1765) & (merged.race==2))/sum((merged.Subs==1765) &(merged.race==1)|(merged.race==2)|(merged.race==3)|(merged.race==4)|(merged.race==5)|(merged.race==6)|(merged.race==7))\n",
    "    percent2 = sum((merged.Subs==3423) & (merged.race==2))/sum((merged.Subs==3423) &(merged.race==1)|(merged.race==2)|(merged.race==3)|(merged.race==4)|(merged.race==5)|(merged.race==6)|(merged.race==7))\n",
    "    percent3 = sum((merged.Subs==1689) & (merged.race==2))/sum((merged.Subs==1689) &(merged.race==1)|(merged.race==2)|(merged.race==3)|(merged.race==4)|(merged.race==5)|(merged.race==6)|(merged.race==7))\n",
    "    percent4 = sum((merged.Subs==1481) & (merged.race==2))/sum((merged.Subs==1481) &(merged.race==1)|(merged.race==2)|(merged.race==3)|(merged.race==4)|(merged.race==5)|(merged.race==6)|(merged.race==7))\n",
    "    percent5 = sum((merged.Subs==4355) & (merged.race==2))/sum((merged.Subs==4355) &(merged.race==1)|(merged.race==2)|(merged.race==3)|(merged.race==4)|(merged.race==5)|(merged.race==6)|(merged.race==7))\n",
    "    percent6 = sum((merged.Subs==1550) & (merged.race==2))/sum((merged.Subs==1550) &(merged.race==1)|(merged.race==2)|(merged.race==3)|(merged.race==4)|(merged.race==5)|(merged.race==6)|(merged.race==7))\n",
    "    row_dict = {'Seed': x, 'MST1-Percent': percent1,'MST2-Percent': percent2,'MST3-Percent': percent3, 'MST4-Percent': percent4,'MST5-Percent': percent5,'MST6-Percent':percent6}\n",
    "    dict_list.append(row_dict)\n",
    "resultspercent=pd.DataFrame.from_dict(dict_list)\n",
    "t1 = time.time()\n",
    "total_time = t1-t0"
   ]
  },
  {
   "cell_type": "code",
   "execution_count": 18,
   "id": "d6ee81b4-5c65-4383-b1ab-cdaa025da93e",
   "metadata": {},
   "outputs": [
    {
     "data": {
      "text/plain": [
       "2419.065292596817"
      ]
     },
     "execution_count": 18,
     "metadata": {},
     "output_type": "execute_result"
    }
   ],
   "source": [
    "total_time"
   ]
  },
  {
   "cell_type": "code",
   "execution_count": 19,
   "id": "c46c4946-a465-42a7-8ba6-3da8ce1b8417",
   "metadata": {},
   "outputs": [
    {
     "data": {
      "text/html": [
       "<div>\n",
       "<style scoped>\n",
       "    .dataframe tbody tr th:only-of-type {\n",
       "        vertical-align: middle;\n",
       "    }\n",
       "\n",
       "    .dataframe tbody tr th {\n",
       "        vertical-align: top;\n",
       "    }\n",
       "\n",
       "    .dataframe thead th {\n",
       "        text-align: right;\n",
       "    }\n",
       "</style>\n",
       "<table border=\"1\" class=\"dataframe\">\n",
       "  <thead>\n",
       "    <tr style=\"text-align: right;\">\n",
       "      <th></th>\n",
       "      <th>Seed</th>\n",
       "      <th>MST1-Percent</th>\n",
       "      <th>MST2-Percent</th>\n",
       "      <th>MST3-Percent</th>\n",
       "      <th>MST4-Percent</th>\n",
       "      <th>MST5-Percent</th>\n",
       "      <th>MST6-Percent</th>\n",
       "    </tr>\n",
       "  </thead>\n",
       "  <tbody>\n",
       "    <tr>\n",
       "      <th>0</th>\n",
       "      <td>304140</td>\n",
       "      <td>0.001137</td>\n",
       "      <td>0.095896</td>\n",
       "      <td>0.001026</td>\n",
       "      <td>0.040971</td>\n",
       "      <td>0.183039</td>\n",
       "      <td>0.058137</td>\n",
       "    </tr>\n",
       "    <tr>\n",
       "      <th>1</th>\n",
       "      <td>298455</td>\n",
       "      <td>0.001280</td>\n",
       "      <td>0.094817</td>\n",
       "      <td>0.001028</td>\n",
       "      <td>0.042067</td>\n",
       "      <td>0.182395</td>\n",
       "      <td>0.057214</td>\n",
       "    </tr>\n",
       "    <tr>\n",
       "      <th>2</th>\n",
       "      <td>474265</td>\n",
       "      <td>0.001425</td>\n",
       "      <td>0.095813</td>\n",
       "      <td>0.000735</td>\n",
       "      <td>0.041403</td>\n",
       "      <td>0.182906</td>\n",
       "      <td>0.057683</td>\n",
       "    </tr>\n",
       "    <tr>\n",
       "      <th>3</th>\n",
       "      <td>48192</td>\n",
       "      <td>0.001275</td>\n",
       "      <td>0.095485</td>\n",
       "      <td>0.001023</td>\n",
       "      <td>0.042955</td>\n",
       "      <td>0.181559</td>\n",
       "      <td>0.058181</td>\n",
       "    </tr>\n",
       "    <tr>\n",
       "      <th>4</th>\n",
       "      <td>627910</td>\n",
       "      <td>0.001140</td>\n",
       "      <td>0.095035</td>\n",
       "      <td>0.001174</td>\n",
       "      <td>0.041675</td>\n",
       "      <td>0.182588</td>\n",
       "      <td>0.058692</td>\n",
       "    </tr>\n",
       "    <tr>\n",
       "      <th>...</th>\n",
       "      <td>...</td>\n",
       "      <td>...</td>\n",
       "      <td>...</td>\n",
       "      <td>...</td>\n",
       "      <td>...</td>\n",
       "      <td>...</td>\n",
       "      <td>...</td>\n",
       "    </tr>\n",
       "    <tr>\n",
       "      <th>995</th>\n",
       "      <td>670421</td>\n",
       "      <td>0.001282</td>\n",
       "      <td>0.096566</td>\n",
       "      <td>0.001177</td>\n",
       "      <td>0.040900</td>\n",
       "      <td>0.181809</td>\n",
       "      <td>0.056820</td>\n",
       "    </tr>\n",
       "    <tr>\n",
       "      <th>996</th>\n",
       "      <td>723473</td>\n",
       "      <td>0.001133</td>\n",
       "      <td>0.095673</td>\n",
       "      <td>0.000879</td>\n",
       "      <td>0.041245</td>\n",
       "      <td>0.182423</td>\n",
       "      <td>0.057583</td>\n",
       "    </tr>\n",
       "    <tr>\n",
       "      <th>997</th>\n",
       "      <td>465721</td>\n",
       "      <td>0.001137</td>\n",
       "      <td>0.094534</td>\n",
       "      <td>0.001173</td>\n",
       "      <td>0.041807</td>\n",
       "      <td>0.182135</td>\n",
       "      <td>0.058897</td>\n",
       "    </tr>\n",
       "    <tr>\n",
       "      <th>998</th>\n",
       "      <td>237097</td>\n",
       "      <td>0.001282</td>\n",
       "      <td>0.095848</td>\n",
       "      <td>0.001027</td>\n",
       "      <td>0.041107</td>\n",
       "      <td>0.181703</td>\n",
       "      <td>0.058164</td>\n",
       "    </tr>\n",
       "    <tr>\n",
       "      <th>999</th>\n",
       "      <td>636953</td>\n",
       "      <td>0.001138</td>\n",
       "      <td>0.095407</td>\n",
       "      <td>0.001173</td>\n",
       "      <td>0.041381</td>\n",
       "      <td>0.182366</td>\n",
       "      <td>0.057377</td>\n",
       "    </tr>\n",
       "  </tbody>\n",
       "</table>\n",
       "<p>1000 rows × 7 columns</p>\n",
       "</div>"
      ],
      "text/plain": [
       "       Seed  MST1-Percent  MST2-Percent  MST3-Percent  MST4-Percent  \\\n",
       "0    304140      0.001137      0.095896      0.001026      0.040971   \n",
       "1    298455      0.001280      0.094817      0.001028      0.042067   \n",
       "2    474265      0.001425      0.095813      0.000735      0.041403   \n",
       "3     48192      0.001275      0.095485      0.001023      0.042955   \n",
       "4    627910      0.001140      0.095035      0.001174      0.041675   \n",
       "..      ...           ...           ...           ...           ...   \n",
       "995  670421      0.001282      0.096566      0.001177      0.040900   \n",
       "996  723473      0.001133      0.095673      0.000879      0.041245   \n",
       "997  465721      0.001137      0.094534      0.001173      0.041807   \n",
       "998  237097      0.001282      0.095848      0.001027      0.041107   \n",
       "999  636953      0.001138      0.095407      0.001173      0.041381   \n",
       "\n",
       "     MST5-Percent  MST6-Percent  \n",
       "0        0.183039      0.058137  \n",
       "1        0.182395      0.057214  \n",
       "2        0.182906      0.057683  \n",
       "3        0.181559      0.058181  \n",
       "4        0.182588      0.058692  \n",
       "..            ...           ...  \n",
       "995      0.181809      0.056820  \n",
       "996      0.182423      0.057583  \n",
       "997      0.182135      0.058897  \n",
       "998      0.181703      0.058164  \n",
       "999      0.182366      0.057377  \n",
       "\n",
       "[1000 rows x 7 columns]"
      ]
     },
     "execution_count": 19,
     "metadata": {},
     "output_type": "execute_result"
    }
   ],
   "source": [
    "resultspercent"
   ]
  },
  {
   "cell_type": "code",
   "execution_count": 20,
   "id": "3f7d0f16-6e6f-4115-b389-d7b398595f7c",
   "metadata": {},
   "outputs": [],
   "source": [
    "# Save the resutls\n",
    "#save_filename = f'PovertyPercentages.csv'\n",
    "save_filename = f'BlackPercentages.csv'\n",
    "resultspercent.to_csv(save_filename, index=False)"
   ]
  },
  {
   "cell_type": "markdown",
   "id": "10b7f7b0-9e32-48c1-a90f-176bfec59f83",
   "metadata": {},
   "source": [
    "## Post Process to See How Much Variation"
   ]
  },
  {
   "cell_type": "code",
   "execution_count": 2,
   "id": "2f454513-abab-458e-a6db-2b4352b6d290",
   "metadata": {},
   "outputs": [],
   "source": [
    "resultspercent = pd.read_csv('PovertyPercentages.csv') #if need to load data\n",
    "#resultspercent = pd.read_csv('BlackPercentages.csv') #if need to load data"
   ]
  },
  {
   "cell_type": "code",
   "execution_count": 3,
   "id": "41d3bddc-94b1-47e4-86e6-b5d7b3fe8f90",
   "metadata": {},
   "outputs": [
    {
     "name": "stdout",
     "output_type": "stream",
     "text": [
      "Mean 0.0025727454999430175\n",
      "Min 0.0015474668640247\n",
      "Max 0.0037204897517418\n"
     ]
    }
   ],
   "source": [
    "#MST 1 Info\n",
    "print(\"Mean\", np.mean(resultspercent['MST1-Percent']))\n",
    "print(\"Min\", np.min(resultspercent['MST1-Percent']))\n",
    "print(\"Max\", np.max(resultspercent['MST1-Percent']))"
   ]
  },
  {
   "cell_type": "code",
   "execution_count": 4,
   "id": "938812ab-453e-4c38-815b-f608f2d7e27b",
   "metadata": {},
   "outputs": [
    {
     "name": "stdout",
     "output_type": "stream",
     "text": [
      "Mean 0.06246183081523581\n",
      "Min 0.0589878722458568\n",
      "Max 0.0679918966827044\n"
     ]
    }
   ],
   "source": [
    "#MST 2 Info\n",
    "print(\"Mean\", np.mean(resultspercent['MST2-Percent']))\n",
    "print(\"Min\", np.min(resultspercent['MST2-Percent']))\n",
    "print(\"Max\", np.max(resultspercent['MST2-Percent']))"
   ]
  },
  {
   "cell_type": "code",
   "execution_count": 5,
   "id": "4ed7328b-0eb5-47ac-9188-85e4e29afa6a",
   "metadata": {},
   "outputs": [
    {
     "name": "stdout",
     "output_type": "stream",
     "text": [
      "Mean 0.0030525388661993796\n",
      "Min 0.0019601216627238\n",
      "Max 0.0043871490280777\n"
     ]
    }
   ],
   "source": [
    "#MST 3 Info\n",
    "print(\"Mean\", np.mean(resultspercent['MST3-Percent']))\n",
    "print(\"Min\", np.min(resultspercent['MST3-Percent']))\n",
    "print(\"Max\", np.max(resultspercent['MST3-Percent']))"
   ]
  },
  {
   "cell_type": "code",
   "execution_count": 6,
   "id": "3b5cf10b-158a-4748-b11c-bd5d9092d93d",
   "metadata": {},
   "outputs": [
    {
     "name": "stdout",
     "output_type": "stream",
     "text": [
      "Mean 0.04668894062587229\n",
      "Min 0.0436326082747047\n",
      "Max 0.0497170054026241\n"
     ]
    }
   ],
   "source": [
    "#MST 4 Info\n",
    "print(\"Mean\", np.mean(resultspercent['MST4-Percent']))\n",
    "print(\"Min\", np.min(resultspercent['MST4-Percent']))\n",
    "print(\"Max\", np.max(resultspercent['MST4-Percent']))"
   ]
  },
  {
   "cell_type": "code",
   "execution_count": 7,
   "id": "9464f1ac-6c7c-4df6-8e20-2e3d84350128",
   "metadata": {},
   "outputs": [
    {
     "name": "stdout",
     "output_type": "stream",
     "text": [
      "Mean 0.09769139223770955\n",
      "Min 0.0936563283782957\n",
      "Max 0.1014748902974159\n"
     ]
    }
   ],
   "source": [
    "#MST 5 Info\n",
    "print(\"Mean\", np.mean(resultspercent['MST5-Percent']))\n",
    "print(\"Min\", np.min(resultspercent['MST5-Percent']))\n",
    "print(\"Max\", np.max(resultspercent['MST5-Percent']))"
   ]
  },
  {
   "cell_type": "code",
   "execution_count": 8,
   "id": "f321fa30-5861-4401-9a77-575f0d1b2bd0",
   "metadata": {},
   "outputs": [
    {
     "name": "stdout",
     "output_type": "stream",
     "text": [
      "Mean 0.048736152341617\n",
      "Min 0.0456479690522243\n",
      "Max 0.0514271020827976\n"
     ]
    }
   ],
   "source": [
    "#MST 6 Info\n",
    "print(\"Mean\", np.mean(resultspercent['MST6-Percent']))\n",
    "print(\"Min\", np.min(resultspercent['MST6-Percent']))\n",
    "print(\"Max\", np.max(resultspercent['MST6-Percent']))"
   ]
  },
  {
   "cell_type": "code",
   "execution_count": 16,
   "id": "39f31773-a929-4a19-b3fa-1d89a48ed91e",
   "metadata": {},
   "outputs": [
    {
     "data": {
      "text/plain": [
       "<matplotlib.legend.Legend at 0x22049fcbe80>"
      ]
     },
     "execution_count": 16,
     "metadata": {},
     "output_type": "execute_result"
    },
    {
     "data": {
      "image/png": "[encoded data removed]",
      "text/plain": [
       "<Figure size 640x480 with 1 Axes>"
      ]
     },
     "metadata": {},
     "output_type": "display_data"
    }
   ],
   "source": [
    "#plt.hist(resultspercent['MST1-Percent'])\n",
    "\n",
    "# Creating the histogram\n",
    "plt.hist(resultspercent['MST1-Percent'], bins=30, alpha=0.5, label='MST 1',color='blue')\n",
    "plt.hist(resultspercent['MST2-Percent'], bins=30, alpha=0.5, label='MST 2',color='green')\n",
    "plt.hist(resultspercent['MST3-Percent'], bins=30, alpha=0.5, label='MST 3',color='red')\n",
    "plt.hist(resultspercent['MST4-Percent'], bins=30, alpha=0.5, label='MST 4',color='purple')\n",
    "plt.hist(resultspercent['MST5-Percent'], bins=30, alpha=0.5, label='MST 5',color='orange')\n",
    "plt.hist(resultspercent['MST6-Percent'], bins=30, alpha=0.5, label='MST 6',color='gray')\n",
    "# Adding labels and title\n",
    "plt.xlabel('Value')\n",
    "plt.ylabel('Frequency')\n",
    "plt.title('Histogram of Poverty Across MST (Service Areas)')\n",
    "plt.legend()"
   ]
  },
  {
   "cell_type": "code",
   "execution_count": null,
   "id": "543581d2-0a80-4b12-ab46-83461aef410b",
   "metadata": {},
   "outputs": [],
   "source": []
  }
 ],
 "metadata": {
  "kernelspec": {
   "display_name": "Python 3 (ipykernel)",
   "language": "python",
   "name": "python3"
  },
  "language_info": {
   "codemirror_mode": {
    "name": "ipython",
    "version": 3
   },
   "file_extension": ".py",
   "mimetype": "text/x-python",
   "name": "python",
   "nbconvert_exporter": "python",
   "pygments_lexer": "ipython3",
   "version": "3.8.17"
  }
 },
 "nbformat": 4,
 "nbformat_minor": 5
}
