{
 "cells": [
  {
   "cell_type": "markdown",
   "metadata": {
    "id": "nDetVnGnoHR-"
   },
   "source": [
    "# Person Record File Workflow\n",
    "\n",
    "## Overview\n",
    "Functions to obtain and clean data required for the Person Record File in Python using Census API. \n",
    "\n",
    "The workflow produces a Person Record (PREC) file that can be linked to the Housing Unit Inventory. The file includes person level records with sex, age, race and ethnicity.\n",
    "\n",
    "Based on block level data from the \n",
    "2010 Census. \n",
    "\n",
    "The output of this workflow is a CSV file with the person record file.\n",
    "\n",
    "The output CSV is designed to be used in the Interdependent Networked Community Resilience Modeling Environment (IN-CORE) for the housing unit allocation model.\n",
    "\n",
    "IN-CORE is an open source python package that can be used to model the resilience of a community. To download IN-CORE, see:\n",
    "\n",
    "https://incore.ncsa.illinois.edu/\n",
    "\n",
    "\n",
    "## Instructions\n",
    "Users can run the workflow by executing each block of code in the notebook.\n",
    "\n",
    "Users can modify the code to select one county or multiple counties."
   ]
  },
  {
   "cell_type": "markdown",
   "metadata": {},
   "source": [
    "## Description of Program\n",
    "- program:    ncoda_07dv1_run_PREC_workflow\n",
    "- task:       Obtain and clean data for Person Record File.\n",
    "- See github commits for description of program updates\n",
    "- Current Version:    2022-12-02\n",
    "- project:    Interdependent Networked Community Resilience Modeling Environment (IN-CORE), Subtask 5.2 - Social Institutions\n",
    "- funding:\t  NIST Financial Assistance Award Numbers: 70NANB15H044 and 70NANB20H008 \n",
    "- author:     Nathanael Rosenheim\n",
    "\n",
    "- Suggested Citation:\n",
    "Rosenheim, Nathanael (2021) “Detailed Household and Housing Unit Characteristics: Data and Replication Code.” DesignSafe-CI. \n",
    "https://doi.org/10.17603/ds2-jwf6-s535."
   ]
  },
  {
   "cell_type": "markdown",
   "metadata": {},
   "source": [
    "## Step 1: Select the County or Counties\n",
    "The person record functions run for individual counties in the United States. \n",
    "A county is selected by entering the county FIPS code in the data dictionary below.\n",
    "Multiple counties can be selected by entering a list of county FIPS codes in the data dictionary.\n",
    "- For each county include the county name, this is used in the codebook.\n",
    "- For each community (1 county or a group of counties) include the community name, this is used in the codebook.\n",
    "\n",
    "\n",
    "### Example of data dictionary for one community with one county\n",
    "```\n",
    "communities = {'Lumberton_NC' : {\n",
    "                    'community_name' : 'Lumberton, NC',\n",
    "                    'counties' : { \n",
    "                        1 : {'FIPS Code' : '37155', 'Name' : 'Robeson County, NC'}}}}\n",
    "```\n",
    "\n",
    "### Example of data dictionary for one community with multiple counties\n",
    "```\n",
    "communities = {'Joplin_MO' : {\n",
    "                    'community_name' : 'Joplin, MO',\n",
    "                    'counties' : { \n",
    "                        1 : {'FIPS Code' : '29097', 'Name' : 'Jasper County, MO'},\n",
    "                        2 : {'FIPS Code' : '29145', 'Name' : 'Newton County, MO'}}}}\n",
    "```\n",
    "\n",
    "### How to locate your county FIPS code:\n",
    "- County FIPS codes can be found online at [USDA County FIPS codes](https://www.nrcs.usda.gov/wps/portal/nrcs/detail/national/home/?cid=nrcs143_013697)\n",
    "- Google search \"FIPS code for county [county name]\""
   ]
  },
  {
   "cell_type": "markdown",
   "metadata": {},
   "source": [
    "## Step 2: Edit the data dictionary\n",
    "Modify the data dictionary below with your county FIPS Code, name and community name."
   ]
  },
  {
   "cell_type": "code",
   "execution_count": null,
   "metadata": {},
   "outputs": [],
   "source": [
    "# Example of data dictionary for one community with one county\n",
    "communities = {'Beaumont_TX' : {\n",
    "                    'community_name' : 'Beaumont, TX',\n",
    "                    'counties' : { \n",
    "                        1 : {'FIPS Code' : '48245', 'Name' : 'Jefferson County, TX'}}}}"
   ]
  },
  {
   "cell_type": "markdown",
   "metadata": {},
   "source": [
    "## Step 3: Run all of the code blocks in the notebook\n",
    "To run all of the code blocks in the notebook, find the \"Run All\" option:\n",
    "1. If there is a \"Run All\" button at the top of the notebook then click it.\n",
    "2. Else, in the \"Run\" menu, select \"Run All Cells\"\n",
    "\n",
    "After all of the code runs (approximately 2 minutes per 50,000 people), the output files (CSV and codebook) will be generated and saved in the folder \"OutputData\" in the directory where the notebook is saved.\n",
    "\n",
    "The notebook produces a log file which can be reviewed to see the full workflow process. The workflow depends on internet access to the Census API, which is a publicly available service.\n"
   ]
  },
  {
   "cell_type": "markdown",
   "metadata": {},
   "source": [
    "### Setup notebook environment to access Cloned Github Package\n",
    "This notebook uses functions that are in development. The current version of the package is available at:\n",
    "\n",
    "https://github.com/npr99/intersect-community-data\n",
    "\n",
    "Nathanael Rosenheim. (2022). npr99/intersect-community-data. Zenodo. https://doi.org/10.5281/zenodo.6476122\n",
    "\n",
    "A permanent copy of the package and example datasets are available in the DesignSafe-CI repository:\n",
    "\n",
    "Rosenheim, Nathanael (2021) “Detailed Household and Housing Unit Characteristics: Data and Replication Code.” DesignSafe-CI. \n",
    "https://doi.org/10.17603/ds2-jwf6-s535."
   ]
  },
  {
   "cell_type": "code",
   "execution_count": null,
   "metadata": {
    "id": "ub0JUKWHoHSE"
   },
   "outputs": [],
   "source": [
    "import numpy as np\n",
    "import pandas as pd\n",
    "import os # For saving output to path\n",
    "import sys\n",
    "import scooby # Reports Python environment"
   ]
  },
  {
   "cell_type": "code",
   "execution_count": null,
   "metadata": {},
   "outputs": [],
   "source": [
    "# Generate report of Python environment\n",
    "print(scooby.Report(additional=['pandas']))"
   ]
  },
  {
   "cell_type": "code",
   "execution_count": null,
   "metadata": {},
   "outputs": [],
   "source": [
    "#To replicate this notebook Clone the Github Package to a folder that is a sibling of this notebook.\n",
    "# To access the sibling package you will need to append the parent directory ('..') to the system path list.\n",
    "# append the path of the directory that includes the github repository.\n",
    "# This step is not required when the package is in a folder below the notebook file.\n",
    "github_code_path  = \"\"\n",
    "sys.path.append(github_code_path)"
   ]
  },
  {
   "cell_type": "code",
   "execution_count": null,
   "metadata": {},
   "outputs": [],
   "source": [
    "os.getcwd()"
   ]
  },
  {
   "cell_type": "code",
   "execution_count": null,
   "metadata": {},
   "outputs": [],
   "source": [
    "# To reload submodules need to use this magic command to set autoreload on\n",
    "%load_ext autoreload\n",
    "%autoreload 2\n",
    "# open, read, and execute python program with reusable commands\n",
    "from pyncoda.ncoda_07e_generate_prec import generate_prec_functions"
   ]
  },
  {
   "cell_type": "code",
   "execution_count": null,
   "metadata": {},
   "outputs": [],
   "source": [
    "version = '3.0.0'\n",
    "version_text = 'v3-0-0'\n",
    "\n",
    "# Save Outputfolder - due to long folder name paths output saved to folder with shorter name\n",
    "# files from this program will be saved with the program name - \n",
    "# this helps to follow the overall workflow\n",
    "outputfolder = \"OutputData\"\n",
    "# Make directory to save output\n",
    "if not os.path.exists(outputfolder):\n",
    "    os.mkdir(outputfolder)\n",
    "\n",
    "# Set random seed for reproducibility\n",
    "seed = 1000\n",
    "basevintage = 2010\n",
    "\n",
    "generate_prec_df = generate_prec_functions(\n",
    "                    communities =   communities,\n",
    "                    seed =          seed,\n",
    "                    version =       version,\n",
    "                    version_text=   version_text,\n",
    "                    basevintage=    basevintage,\n",
    "                    outputfolder=   outputfolder\n",
    "                    )\n",
    "\n",
    "prec_df = generate_prec_df.generate_prec_v300()\n"
   ]
  },
  {
   "cell_type": "code",
   "execution_count": null,
   "metadata": {},
   "outputs": [],
   "source": [
    "prec_df.head()"
   ]
  },
  {
   "cell_type": "code",
   "execution_count": null,
   "metadata": {},
   "outputs": [],
   "source": [
    "from pyncoda.ncoda_04c_poptableresults import *"
   ]
  },
  {
   "cell_type": "code",
   "execution_count": null,
   "metadata": {},
   "outputs": [],
   "source": [
    "for community in communities.keys():\n",
    "    community_name = communities[community]['community_name']\n",
    "print(community_name)"
   ]
  },
  {
   "cell_type": "code",
   "execution_count": null,
   "metadata": {},
   "outputs": [],
   "source": [
    "PopResultsTable.pop_results_table(\n",
    "                  input_df = prec_df, \n",
    "                  who = \"Total Population by Persons\", \n",
    "                  what = \"by Race, Ethnicity\",\n",
    "                  where = community_name,\n",
    "                  when = \"2010\",\n",
    "                  row_index = \"Race Ethnicity\",\n",
    "                  col_index = 'Hispanic')"
   ]
  },
  {
   "cell_type": "code",
   "execution_count": null,
   "metadata": {},
   "outputs": [],
   "source": [
    "# List of all communities available in IN-CORE\n",
    "communities = {'Lumberton_NC' : {\n",
    "                    'community_name' : 'Lumberton, NC',\n",
    "                    'counties' : { \n",
    "                        1 : {'FIPS Code' : '37155', 'Name' : 'Robeson County, NC'}}},                   \n",
    "                'Shelby_TN' : {\n",
    "                    'community_name' : 'Memphis, TN',\n",
    "                    'counties' : { \n",
    "                        1 : {'FIPS Code' : '47157', 'Name' : 'Shelby County, TN'}}},\n",
    "                'Joplin_MO' : {\n",
    "                    'community_name' : 'Joplin, MO',\n",
    "                    'counties' : { \n",
    "                        1 : {'FIPS Code' : '29097', 'Name' : 'Jasper County, MO'},\n",
    "                        2 : {'FIPS Code' : '29145', 'Name' : 'Newton County, MO'}}},\n",
    "                'Seaside_OR' : {\n",
    "                    'community_name' : 'Seaside, OR',\n",
    "                    'counties' : { \n",
    "                        1 : {'FIPS Code' : '41007', 'Name' : 'Clatsop County, OR'}}},                   \n",
    "                'Galveston_TX' : {\n",
    "                    'community_name' : 'Galveston, TX',\n",
    "                    'counties' : { \n",
    "                        1 : {'FIPS Code' : '48167', 'Name' : 'Galveston County, TX'}}},\n",
    "                'Mobile_AL' : {\n",
    "                    'community_name' : 'Mobile, AL',\n",
    "                    'counties' : { \n",
    "                        1 : {'FIPS Code' : '01097', 'Name' : 'Mobile County, AL'}}}                    \n",
    "                }"
   ]
  }
 ],
 "metadata": {
  "colab": {
   "name": "IN-CORE_1dv1_Lumberton_CleanLODESdata_2021-05-06.ipynb",
   "provenance": []
  },
  "kernelspec": {
   "display_name": "Python 3.7.12 ('pyhui20220422')",
   "language": "python",
   "name": "python3"
  },
  "language_info": {
   "codemirror_mode": {
    "name": "ipython",
    "version": 3
   },
   "file_extension": ".py",
   "mimetype": "text/x-python",
   "name": "python",
   "nbconvert_exporter": "python",
   "pygments_lexer": "ipython3",
   "version": "3.7.12"
  },
  "vscode": {
   "interpreter": {
    "hash": "de41645dff08ea591b3ba9f1d9637d2e58ed39534a80790bec3979ff23cfc343"
   }
  }
 },
 "nbformat": 4,
 "nbformat_minor": 1
}
