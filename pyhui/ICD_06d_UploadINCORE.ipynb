{
 "cells": [
  {
   "cell_type": "markdown",
   "metadata": {},
   "source": [
    "## Description of Program\n",
    "- program:    ICD_06d_UploadINCORE\n",
    "- task:       Upload file to IN-CORE Data\n",
    "- See github commits for description of program updates\n",
    "- project:    Interdependent Networked Community Resilience Modeling Environment (IN-CORE) Subtask 5.2 - Social Institutions\n",
    "- funding:\t  NIST Financial Assistance Award Numbers: 70NANB15H044 and 70NANB20H008 \n",
    "- author:     Nathanael Rosenheim"
   ]
  },
  {
   "cell_type": "code",
   "execution_count": 1,
   "metadata": {
    "id": "ub0JUKWHoHSE"
   },
   "outputs": [],
   "source": [
    "%matplotlib inline\n",
    "\n",
    "import numpy as np\n",
    "import pandas as pd\n",
    "import os # For saving output to path\n",
    "import scooby # Report Python Environment\n",
    "import urllib\n",
    "import sys"
   ]
  },
  {
   "cell_type": "code",
   "execution_count": 2,
   "metadata": {},
   "outputs": [
    {
     "name": "stdout",
     "output_type": "stream",
     "text": [
      "\n",
      "--------------------------------------------------------------------------------\n",
      "  Date: Fri Apr 22 16:47:02 2022 Central Daylight Time\n",
      "\n",
      "                OS : Windows\n",
      "            CPU(s) : 12\n",
      "           Machine : AMD64\n",
      "      Architecture : 64bit\n",
      "               RAM : 31.6 GiB\n",
      "       Environment : Jupyter\n",
      "\n",
      "  Python 3.8.13 | packaged by conda-forge | (default, Mar 25 2022, 05:59:45)\n",
      "  [MSC v.1929 64 bit (AMD64)]\n",
      "\n",
      "            pandas : 1.4.2\n",
      "         geopandas : 0.10.2\n",
      "          pyincore : 1.4.0\n",
      "            urllib : Version unknown\n",
      "             numpy : 1.22.3\n",
      "             scipy : 1.8.0\n",
      "           IPython : 8.2.0\n",
      "        matplotlib : 3.5.1\n",
      "            scooby : 0.5.12\n",
      "--------------------------------------------------------------------------------\n"
     ]
    }
   ],
   "source": [
    "# Generate report of Python environment\n",
    "print(scooby.Report(additional=['pandas','geopandas','pyincore','urllib']))"
   ]
  },
  {
   "cell_type": "markdown",
   "metadata": {},
   "source": [
    "### Setup notebook environment to access Cloned Github Package\n",
    "This notebook uses functions that are in development. The current version of the package is available at:\n",
    "\n",
    "https://github.com/npr99/intersect-community-data\n",
    "\n",
    "Nathanael Rosenheim. (2022). npr99/intersect-community-data. Zenodo. https://doi.org/10.5281/zenodo.6476122\n",
    "\n",
    "A permanent copy of the package and example datasets are available in the DesignSafe-CI repository:\n",
    "\n",
    "Rosenheim, Nathanael (2021) “Detailed Household and Housing Unit Characteristics: Data and Replication Code.” DesignSafe-CI. \n",
    "https://doi.org/10.17603/ds2-jwf6-s535."
   ]
  },
  {
   "cell_type": "code",
   "execution_count": 3,
   "metadata": {},
   "outputs": [],
   "source": [
    "# To reload submodules need to use this magic command to set autoreload on\n",
    "%load_ext autoreload\n",
    "%autoreload 2\n",
    "# open, read, and execute python program with reusable commands\n",
    "from ICD_00b_directory_design import directory_design\n"
   ]
  },
  {
   "cell_type": "markdown",
   "metadata": {},
   "source": [
    "# Setup access to IN-CORE\n",
    "For instructions on how to setup and install pyincore see:\n",
    "\n",
    "https://incore.ncsa.illinois.edu/"
   ]
  },
  {
   "cell_type": "code",
   "execution_count": 4,
   "metadata": {},
   "outputs": [],
   "source": [
    "from pyincore import IncoreClient, DataService, SpaceService, Dataset"
   ]
  },
  {
   "cell_type": "code",
   "execution_count": 5,
   "metadata": {},
   "outputs": [
    {
     "name": "stdout",
     "output_type": "stream",
     "text": [
      "Connection successful to IN-CORE services. pyIncore version detected: 1.4.0\n"
     ]
    }
   ],
   "source": [
    "client = IncoreClient()"
   ]
  },
  {
   "cell_type": "code",
   "execution_count": 6,
   "metadata": {},
   "outputs": [],
   "source": [
    "data_services = DataService(client)"
   ]
  },
  {
   "cell_type": "markdown",
   "metadata": {},
   "source": [
    "## Read In Census data for a County"
   ]
  },
  {
   "cell_type": "code",
   "execution_count": 12,
   "metadata": {},
   "outputs": [],
   "source": [
    "version = '2.0.0'\n",
    "version_text = 'v2-0-0'\n",
    "\n",
    "# Save Outputfolder - due to long folder name paths output saved to folder with shorter name\n",
    "# files from this program will be saved with the program name - \n",
    "# this helps to follow the overall workflow\n",
    "outputfolder = \"OutputData\"\n",
    "\n",
    "# Set random seed for reproducibility\n",
    "seed = 1000\n",
    "basevintage = 2010\n",
    "\n",
    "communities = {'Lumberton_NC' : {\n",
    "                    'community_name' : 'Lumberton, NC',\n",
    "                    'counties' : { \n",
    "                        1 : {'FIPS Code' : '37155', 'Name' : 'Robeson County, NC'}}},                   \n",
    "                }\n",
    "\n",
    "# List of all communities available in IN-CORE\n",
    "communities = {'Lumberton_NC' : {\n",
    "                    'community_name' : 'Lumberton, NC',\n",
    "                    'counties' : { \n",
    "                        1 : {'FIPS Code' : '37155', 'Name' : 'Robeson County, NC'}}},                   \n",
    "                'Shelby_TN' : {\n",
    "                    'community_name' : 'Memphis, TN',\n",
    "                    'counties' : { \n",
    "                        1 : {'FIPS Code' : '47157', 'Name' : 'Shelby County, TN'}}},\n",
    "                'Joplin_MO' : {\n",
    "                    'community_name' : 'Joplin, MO',\n",
    "                    'counties' : { \n",
    "                        1 : {'FIPS Code' : '29097', 'Name' : 'Jasper County, MO'},\n",
    "                        2 : {'FIPS Code' : '29145', 'Name' : 'Newton County, MO'}}},\n",
    "                'Seaside_OR' : {\n",
    "                    'community_name' : 'Seaside, OR',\n",
    "                    'counties' : { \n",
    "                        1 : {'FIPS Code' : '41007', 'Name' : 'Clatsop County, OR'}}},                   \n",
    "                'Galveston_TX' : {\n",
    "                    'community_name' : 'Galveston, TX',\n",
    "                    'counties' : { \n",
    "                        1 : {'FIPS Code' : '48167', 'Name' : 'Galveston County, TX'}}},\n",
    "                'Mobile_AL' : {\n",
    "                    'community_name' : 'Mobile, AL',\n",
    "                    'counties' : { \n",
    "                        1 : {'FIPS Code' : '01097', 'Name' : 'Mobile County, AL'}}}                    \n",
    "                }"
   ]
  },
  {
   "cell_type": "code",
   "execution_count": 8,
   "metadata": {},
   "outputs": [
    {
     "data": {
      "text/plain": [
       "'c:\\\\Users\\\\nathanael99\\\\MyProjects\\\\IN-CORE\\\\Tasks\\\\PublishHUIv2\\\\HousingUnitInventories_2022-03-03\\\\ReplicationCode\\\\intersect-community-data\\\\pyhui'"
      ]
     },
     "execution_count": 8,
     "metadata": {},
     "output_type": "execute_result"
    }
   ],
   "source": [
    "os.getcwd()"
   ]
  },
  {
   "cell_type": "code",
   "execution_count": 9,
   "metadata": {},
   "outputs": [],
   "source": [
    "# Move up one directory to intersect-community-data directory\n",
    "os.chdir('..')"
   ]
  },
  {
   "cell_type": "code",
   "execution_count": 10,
   "metadata": {},
   "outputs": [
    {
     "data": {
      "text/plain": [
       "'c:\\\\Users\\\\nathanael99\\\\MyProjects\\\\IN-CORE\\\\Tasks\\\\PublishHUIv2\\\\HousingUnitInventories_2022-03-03\\\\ReplicationCode\\\\intersect-community-data'"
      ]
     },
     "execution_count": 10,
     "metadata": {},
     "output_type": "execute_result"
    }
   ],
   "source": [
    "os.getcwd()"
   ]
  },
  {
   "cell_type": "markdown",
   "metadata": {},
   "source": [
    "## Loop through Communities and Upload Files to IN-CORE\n"
   ]
  },
  {
   "cell_type": "code",
   "execution_count": 13,
   "metadata": {},
   "outputs": [
    {
     "name": "stdout",
     "output_type": "stream",
     "text": [
      "Setting up Housing Unit and Person Record Inventories for Lumberton, NC\n",
      "Robeson County, NC : county FIPS Code 37155\n",
      "Community includes the following counties: Robeson County, NC: county FIPS Code 37155\n",
      "Number of datasets matching Housing Unit Inventory v2.0.0 data for Lumberton, NC: 1\n",
      "Dataset Housing Unit Inventory v2.0.0 data for Lumberton, NC already exists in IN-CORE\n",
      "Dataset already exists in IN-CORE with filename hui_v2-0-0_Lumberton_NC_2010_rs1000.csv\n",
      "Use dataset_id: 6262ef3204ce841cbeb30993\n",
      "Setting up Housing Unit and Person Record Inventories for Memphis, TN\n",
      "Shelby County, TN : county FIPS Code 47157\n",
      "Community includes the following counties: Shelby County, TN: county FIPS Code 47157\n",
      "Number of datasets matching Housing Unit Inventory v2.0.0 data for Memphis, TN: 0\n",
      "Dataset Housing Unit Inventory v2.0.0 data for Memphis, TN does not exist in IN-CORE\n",
      "dataset is created with id 6263229f04ce841cbeb309ee\n",
      "The file(s): hui_v2-0-0_Shelby_TN_2010_rs1000 have been uploaded to IN-CORE\n",
      "Setting up Housing Unit and Person Record Inventories for Joplin, MO\n",
      "Jasper County, MO : county FIPS Code 29097\n",
      "Newton County, MO : county FIPS Code 29145\n",
      "Community includes the following counties: Jasper County, MO: county FIPS Code 29097Newton County, MO: county FIPS Code 29145\n",
      "Number of datasets matching Housing Unit Inventory v2.0.0 data for Joplin, MO: 0\n",
      "Dataset Housing Unit Inventory v2.0.0 data for Joplin, MO does not exist in IN-CORE\n",
      "dataset is created with id 626322a42ae00f7fba953f9d\n",
      "The file(s): hui_v2-0-0_Joplin_MO_2010_rs1000 have been uploaded to IN-CORE\n",
      "Setting up Housing Unit and Person Record Inventories for Seaside, OR\n",
      "Clatsop County, OR : county FIPS Code 41007\n",
      "Community includes the following counties: Clatsop County, OR: county FIPS Code 41007\n",
      "Number of datasets matching Housing Unit Inventory v2.0.0 data for Seaside, OR: 0\n",
      "Dataset Housing Unit Inventory v2.0.0 data for Seaside, OR does not exist in IN-CORE\n",
      "dataset is created with id 626322a6e6c010337c9a0f06\n",
      "The file(s): hui_v2-0-0_Seaside_OR_2010_rs1000 have been uploaded to IN-CORE\n",
      "Setting up Housing Unit and Person Record Inventories for Galveston, TX\n",
      "Galveston County, TX : county FIPS Code 48167\n",
      "Community includes the following counties: Galveston County, TX: county FIPS Code 48167\n",
      "Number of datasets matching Housing Unit Inventory v2.0.0 data for Galveston, TX: 0\n",
      "Dataset Housing Unit Inventory v2.0.0 data for Galveston, TX does not exist in IN-CORE\n",
      "dataset is created with id 626322a7e74a5c2dfb3a72b0\n",
      "The file(s): hui_v2-0-0_Galveston_TX_2010_rs1000 have been uploaded to IN-CORE\n",
      "Setting up Housing Unit and Person Record Inventories for Mobile, AL\n",
      "Mobile County, AL : county FIPS Code 01097\n",
      "Community includes the following counties: Mobile County, AL: county FIPS Code 01097\n",
      "Number of datasets matching Housing Unit Inventory v2.0.0 data for Mobile, AL: 0\n",
      "Dataset Housing Unit Inventory v2.0.0 data for Mobile, AL does not exist in IN-CORE\n",
      "dataset is created with id 626322aa04ce841cbeb309f4\n",
      "The file(s): hui_v2-0-0_Mobile_AL_2010_rs1000 have been uploaded to IN-CORE\n"
     ]
    }
   ],
   "source": [
    "# Create directory structure\n",
    "for community in communities.keys():\n",
    "    print(\"Setting up Housing Unit and Person Record Inventories for\",communities[community]['community_name'])\n",
    "    title = \"Housing Unit Inventory v2.0.0 data for \"+communities[community]['community_name']\n",
    "    county_list = ''\n",
    "    for county in communities[community]['counties'].keys():\n",
    "        state_county = communities[community]['counties'][county]['FIPS Code']\n",
    "        state_county_name  = communities[community]['counties'][county]['Name']\n",
    "        county_list = county_list + state_county_name+': county FIPS Code '+state_county\n",
    "\n",
    "        print(state_county_name,': county FIPS Code',state_county)\n",
    "    \n",
    "        outputfolders = directory_design(state_county_name = state_county_name,\n",
    "                                            outputfolder = outputfolder)\n",
    "\n",
    "    print(\"Community includes the following counties:\",county_list)\n",
    "\n",
    "    # Read in file to upload\n",
    "    output_filename = f'hui_{version_text}_{community}_{basevintage}_rs{seed}'\n",
    "    csv_filepath = outputfolders['top']+\"/\"+output_filename+'.csv'\n",
    "    upload_to_incore_df = pd.read_csv(csv_filepath)\n",
    "\n",
    "    # Set up metadata\n",
    "        ## Metadata is a string describing the dataset.\n",
    "        ## dataType needs to be align with the analyses in pyincore.\n",
    "        ## format is the file format of the dataset. \n",
    "        ## Currently we support “shapefile”, “table”, “Network”, \n",
    "        ## “textFiles”, “raster”, “geotiff” and etc.\n",
    "        ## Please consult with development team if you intend to post a new format.\n",
    "    hui_description =  '\\n'.join([\"2010 Housing Unit Inventory v2.0.0 with required IN-CORE columns. \" \n",
    "                   \"Compatible with pyincore v1.4. \" \n",
    "                   \"Unit of observation is housing unit. \" \n",
    "                   \"Detailed characteristics include number of persons, race, ethnicity, \"\n",
    "                   \"vacancy type, group quarters type, and household income. \" \n",
    "                   \"For more details on this data file refer to \" \n",
    "                   \"Rosenheim, Nathanael (2021) 'Detailed Household and \" \n",
    "                   \"Housing Unit Characteristics: Data and Replication Code.' \"\n",
    "                   \"DesignSafe-CI. https://doi.org/10.17603/ds2-jwf6-s535. \"\n",
    "                   \"For more details on the replication code, refer to \" \n",
    "                   \"Rosenheim, Nathanael. (2022). npr99/intersect-community-data. Zenodo. \" \n",
    "                   \"https://doi.org/10.5281/zenodo.6476122. \"\n",
    "                   \"File includes data for \"+county_list])\n",
    "\n",
    "    # note you have to put the correct dataType as well as format\n",
    "    dataset_metadata = {\n",
    "        \"title\":title,\n",
    "        \"description\": hui_description,\n",
    "        \"dataType\": \"incore:housingUnitInventory\",\n",
    "        \"format\": \"table\"\n",
    "        }\n",
    "    ## Upload files to IN-CORE\n",
    "    # Check if dataset already exists in IN-CORE\n",
    "    # if it does, skip upload\n",
    "    # if it doesn't, upload\n",
    "\n",
    "    # Search Data Services for dataset\n",
    "\n",
    "    url = urllib.parse.urljoin(data_services.base_url, \"search\")\n",
    "    search_title = {\"text\": title}\n",
    "    matched_datasets = data_services.client.get(url, params=search_title)\n",
    "\n",
    "    match_count = len(matched_datasets.json())\n",
    "    print(f'Number of datasets matching {title}: {match_count}')\n",
    "\n",
    "    if match_count > 0:\n",
    "        for dataset in matched_datasets.json():\n",
    "            incore_filename = dataset['fileDescriptors'][0]['filename']\n",
    "            if (dataset['title'] == title) and (incore_filename == output_filename+'.csv'):\n",
    "                print(f'Dataset {title} already exists in IN-CORE')\n",
    "                print(f'Dataset already exists in IN-CORE with filename {incore_filename}')\n",
    "                dataset_id = dataset['id']\n",
    "                print(\"Use dataset_id:\",dataset_id)\n",
    "                break\n",
    "            else:\n",
    "                print(f'Dataset {title} does not exist in IN-CORE')\n",
    "                created_dataset = data_services.create_dataset(properties = dataset_metadata)\n",
    "                dataset_id = created_dataset['id']\n",
    "                print('dataset is created with id ' + dataset_id)\n",
    "\n",
    "                ## Attach files to the dataset created\n",
    "                files = [csv_filepath]\n",
    "                full_dataset = data_services.add_files_to_dataset(dataset_id, files)\n",
    "\n",
    "                print('The file(s): '+ output_filename +\" have been uploaded to IN-CORE\")\n",
    "    elif match_count == 0:\n",
    "        print(f'Dataset {title} does not exist in IN-CORE')\n",
    "        created_dataset = data_services.create_dataset(properties = dataset_metadata)\n",
    "        dataset_id = created_dataset['id']\n",
    "        print('dataset is created with id ' + dataset_id)\n",
    "\n",
    "        ## Attach files to the dataset created\n",
    "        files = [csv_filepath]\n",
    "        full_dataset = data_services.add_files_to_dataset(dataset_id, files)\n",
    "\n",
    "        print('The file(s): '+ output_filename +\" have been uploaded to IN-CORE\")"
   ]
  },
  {
   "cell_type": "code",
   "execution_count": null,
   "metadata": {},
   "outputs": [],
   "source": []
  }
 ],
 "metadata": {
  "colab": {
   "name": "IN-CORE_1dv1_Lumberton_CleanLODESdata_2021-05-06.ipynb",
   "provenance": []
  },
  "interpreter": {
   "hash": "5c58ce784293a07115a9dfc7f62fce3bb2b505f44554599caa745606e0faef66"
  },
  "kernelspec": {
   "display_name": "Python 3.7.10 64-bit ('pyincoreEnv20210802': conda)",
   "name": "python3"
  },
  "language_info": {
   "codemirror_mode": {
    "name": "ipython",
    "version": 3
   },
   "file_extension": ".py",
   "mimetype": "text/x-python",
   "name": "python",
   "nbconvert_exporter": "python",
   "pygments_lexer": "ipython3",
   "version": "3.8.13"
  }
 },
 "nbformat": 4,
 "nbformat_minor": 1
}
