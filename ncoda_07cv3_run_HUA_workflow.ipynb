{
 "cells": [
  {
   "cell_type": "markdown",
   "metadata": {
    "id": "nDetVnGnoHR-"
   },
   "source": [
    "# Housing Unit Allocation Full Workflow\n",
    "\n",
    "## Overview\n",
    "Given a building inventory that uses IN-CORE standard columns, run housing unit allocation.\n",
    "This process checks to see if the housing unit inventory is available and if not it will create it.\n",
    "This process checks to see if the address point inventory is available and if not it will create it.\n",
    "\n",
    "With the housing unit inventory and address point inventory created, they will be uploaded to IN-CORE Dataservice.\n",
    "\n",
    "With the required files on IN-CORE Dataservice, the housing unit allocation method will run.\n",
    "Functions are provided to obtain and clean data required for the version 2 Housing Unit Allocation. \n",
    "\n",
    "## Required Inputs\n",
    "Program requires the following inputs:\n",
    "1. Building inventory file from pyincore\n",
    "    - IN-CORE account\n",
    "    \n",
    "## Output Description\n",
    "The output of this workflow is a CSV file with the housing unit inventory allocated to a building inventory using the housing unit allocation model.\n",
    "\n",
    "The output CSV is designed to be used in the Interdependent Networked Community Resilience Modeling Environment (IN-CORE).\n",
    "\n",
    "IN-CORE is an open source python package that can be used to model the resilience of a community. To download IN-CORE, see:\n",
    "\n",
    "https://incore.ncsa.illinois.edu/\n",
    "\n",
    "\n",
    "## Instructions\n",
    "Users can run the workflow by executing each block of code in the notebook."
   ]
  },
  {
   "cell_type": "markdown",
   "metadata": {},
   "source": [
    "## Description of Program\n",
    "- program:    ncoda_07cv1_run_HUA_workflow\n",
    "- task:       Start with building inventory and run housing unit allocation algorithm\n",
    "- See github commits for description of program updates\n",
    "- Current Version:    2022-08-29 - v2 workflow\n",
    "- 2022-10-06 - clean up code and test output for Salt Lake City\n",
    "- project:    Interdependent Networked Community Resilience Modeling Environment (IN-CORE), Subtask 5.2 - Social Institutions\n",
    "- funding:\t  NIST Financial Assistance Award Numbers: 70NANB15H044 and 70NANB20H008 \n",
    "- author:     Nathanael Rosenheim\n",
    "\n",
    "- Suggested Citation:\n",
    "Rosenheim, Nathanael (2021) “Detailed Household and Housing Unit Characteristics: Data and Replication Code.” DesignSafe-CI. \n",
    "https://doi.org/10.17603/ds2-jwf6-s535."
   ]
  },
  {
   "cell_type": "markdown",
   "metadata": {},
   "source": [
    "## Setup Python Environment"
   ]
  },
  {
   "cell_type": "code",
   "execution_count": 1,
   "metadata": {},
   "outputs": [],
   "source": [
    "import pandas as pd\n",
    "import geopandas as gpd # For reading in shapefiles\n",
    "import numpy as np\n",
    "import sys # For displaying package versions\n",
    "import os # For managing directories and file paths if drive is mounted\n",
    "\n",
    "from pyincore import IncoreClient, Dataset, FragilityService, MappingSet, DataService\n",
    "from pyincore.analyses.buildingdamage.buildingdamage import BuildingDamage\n",
    "\n",
    "from pyincore_viz.geoutil import GeoUtil as viz"
   ]
  },
  {
   "cell_type": "code",
   "execution_count": 2,
   "metadata": {},
   "outputs": [],
   "source": [
    "# To reload submodules need to use this magic command to set autoreload on\n",
    "%load_ext autoreload\n",
    "%autoreload 2\n",
    "# open, read, and execute python program with reusable commands\n",
    "from pyncoda.ncoda_00b_directory_design import directory_design\n",
    "from pyncoda.ncoda_07a_generate_hui import generate_hui_functions\n",
    "from pyncoda.ncoda_07c_generate_addpt import generate_addpt_functions\n",
    "from pyncoda.ncoda_07d_run_hua_workflow import hua_workflow_functions\n"
   ]
  },
  {
   "cell_type": "code",
   "execution_count": 3,
   "metadata": {},
   "outputs": [],
   "source": [
    "import scooby # Reports Python environment"
   ]
  },
  {
   "cell_type": "code",
   "execution_count": 4,
   "metadata": {},
   "outputs": [
    {
     "name": "stdout",
     "output_type": "stream",
     "text": [
      "\n",
      "--------------------------------------------------------------------------------\n",
      "  Date: Wed Oct 12 16:54:35 2022 Central Daylight Time\n",
      "\n",
      "                OS : Windows\n",
      "            CPU(s) : 12\n",
      "           Machine : AMD64\n",
      "      Architecture : 64bit\n",
      "               RAM : 31.6 GiB\n",
      "       Environment : Jupyter\n",
      "\n",
      "  Python 3.9.13 | packaged by conda-forge | (main, May 27 2022, 16:50:36) [MSC\n",
      "  v.1929 64 bit (AMD64)]\n",
      "\n",
      "            pandas : 1.5.0\n",
      "          pyincore : 1.7.0\n",
      "      pyincore_viz : Version unknown\n",
      "             numpy : 1.23.3\n",
      "             scipy : 1.9.1\n",
      "           IPython : 8.5.0\n",
      "        matplotlib : 3.6.0\n",
      "            scooby : 0.5.12\n",
      "--------------------------------------------------------------------------------\n"
     ]
    }
   ],
   "source": [
    "# Generate report of Python environment\n",
    "print(scooby.Report(additional=['pandas','pyincore','pyincore_viz']))"
   ]
  },
  {
   "cell_type": "code",
   "execution_count": 5,
   "metadata": {},
   "outputs": [
    {
     "data": {
      "text/plain": [
       "'c:\\\\Users\\\\nathanael99\\\\MyProjects\\\\IN-CORE\\\\Tasks\\\\PublishHUIv2\\\\HousingUnitInventories_2022-03-03\\\\ReplicationCode\\\\intersect-community-data'"
      ]
     },
     "execution_count": 5,
     "metadata": {},
     "output_type": "execute_result"
    }
   ],
   "source": [
    "# Check working directory - good practice for relative path access\n",
    "os.getcwd()"
   ]
  },
  {
   "cell_type": "code",
   "execution_count": 6,
   "metadata": {},
   "outputs": [],
   "source": [
    "# Edit Data Dictionary for Community\n",
    "\n",
    "# Example of data dictionary for one community with one county\n",
    "# Check how to capitalize the state name at\n",
    "## https://www2.census.gov/geo/tiger/TIGER2020PL/STATE/\n",
    "'''\n",
    "communities = {'Mobile_AL' : {\n",
    "                    'community_name' : 'Mobile, AL',\n",
    "                    'STATE' : 'ALABAMA',\n",
    "                    'years' : ['2010'],\n",
    "                    'counties' : { \n",
    "                        1 : {'FIPS Code' : '01097', 'Name' : 'Mobile County, AL'}}}}\n",
    "'''\n",
    "\n",
    "\n",
    "communities = {'SaltLakeCity_UT' : {\n",
    "                    'community_name' : 'Salt Lake City, UT',\n",
    "                    'STATE' : 'UTAH',\n",
    "                    'years' : ['2010'],\n",
    "                    'counties' : { \n",
    "                        1 : {'FIPS Code' : '49035', 'Name' : 'Salt Lake City County, UT'}}}}"
   ]
  },
  {
   "cell_type": "markdown",
   "metadata": {},
   "source": [
    "## Step 1: Set up pyincore and read in data\n",
    "IN-CORE is an open source python package that can be used to model the resilience of a community. To download IN-CORE, see:\n",
    "\n",
    "https://incore.ncsa.illinois.edu/\n",
    "\n",
    "Registration is free."
   ]
  },
  {
   "cell_type": "code",
   "execution_count": 7,
   "metadata": {},
   "outputs": [
    {
     "name": "stdout",
     "output_type": "stream",
     "text": [
      "Connection successful to IN-CORE services. pyIncore version detected: 1.7.0\n"
     ]
    }
   ],
   "source": [
    "client = IncoreClient()\n",
    "# IN-CORE caches files on the local machine, it might be necessary to clear the memory\n",
    "client.clear_cache() "
   ]
  },
  {
   "cell_type": "code",
   "execution_count": 8,
   "metadata": {},
   "outputs": [],
   "source": [
    "# create data_service object for loading files\n",
    "data_service = DataService(client)"
   ]
  },
  {
   "cell_type": "markdown",
   "metadata": {},
   "source": [
    "## Read in Housing Unit Inventory or create a new one"
   ]
  },
  {
   "cell_type": "code",
   "execution_count": 9,
   "metadata": {},
   "outputs": [
    {
     "name": "stdout",
     "output_type": "stream",
     "text": [
      "Generating Housing Unit Inventory v2.0.0 data for Salt Lake City, UT\n",
      "Connection successful to IN-CORE services. pyIncore version detected: 1.7.0\n",
      "Number of datasets matching Housing Unit Inventory v2.0.0 data for Salt Lake City, UT: 1\n",
      "Dataset Housing Unit Inventory v2.0.0 data for Salt Lake City, UT already exists in IN-CORE\n",
      "Dataset already exists in IN-CORE with filename hui_v2-0-0_SaltLakeCity_UT_2010_rs1000.csv\n",
      "Use dataset_id: 630e8b03f5438e1f8c51d7c2\n",
      "Dataset already exists on IN-CORE, use dataset_id: 630e8b03f5438e1f8c51d7c2\n"
     ]
    }
   ],
   "source": [
    "version = '2.0.0'\n",
    "version_text = 'v2-0-0'\n",
    "\n",
    "# Save Outputfolder - due to long folder name paths output saved to folder with shorter name\n",
    "# files from this program will be saved with the program name - \n",
    "# this helps to follow the overall workflow\n",
    "outputfolder = \"OutputData\"\n",
    "\n",
    "# Set random seed for reproducibility\n",
    "seed = 1000\n",
    "basevintage = 2010\n",
    "\n",
    "generate_hui_df = generate_hui_functions(\n",
    "                    communities =   communities,\n",
    "                    seed =          seed,\n",
    "                    version =       version,\n",
    "                    version_text=   version_text,\n",
    "                    basevintage=    basevintage,\n",
    "                    outputfolder=   outputfolder\n",
    "                    )\n",
    "\n",
    "hui_dataset_id = generate_hui_df.generate_hui_v2_for_incore()"
   ]
  },
  {
   "cell_type": "code",
   "execution_count": 10,
   "metadata": {},
   "outputs": [
    {
     "name": "stdout",
     "output_type": "stream",
     "text": [
      "The IN-CORE Dataservice has saved the Housing Unit Inventory on your local machine: C:\\Users\\nathanael99\\.incore\\cache_data\\648c22dd689743dc9dedf242006adc5a9c21de9a89c016323dccfedef94f7737\\630e8b03f5438e1f8c51d7c2\\hui_v2-0-0_SaltLakeCity_UT_2010_rs1000\\hui_v2-0-0_SaltLakeCity_UT_2010_rs1000.csv\n"
     ]
    }
   ],
   "source": [
    "# Housing Unit inventory\n",
    "housing_unit_inv_id = hui_dataset_id\n",
    "# load housing unit inventory as pandas dataframe\n",
    "housing_unit_inv = Dataset.from_data_service(housing_unit_inv_id, data_service)\n",
    "filename = housing_unit_inv.get_file_path('csv')\n",
    "print(\"The IN-CORE Dataservice has saved the Housing Unit Inventory on your local machine: \"+filename)"
   ]
  },
  {
   "cell_type": "code",
   "execution_count": 11,
   "metadata": {},
   "outputs": [],
   "source": [
    "housing_unit_inv_df = pd.read_csv(filename, header=\"infer\")"
   ]
  },
  {
   "cell_type": "code",
   "execution_count": 12,
   "metadata": {},
   "outputs": [
    {
     "data": {
      "text/plain": [
       "count                   364210\n",
       "unique                  364210\n",
       "top       B490351001001006H001\n",
       "freq                         1\n",
       "Name: huid, dtype: object"
      ]
     },
     "execution_count": 12,
     "metadata": {},
     "output_type": "execute_result"
    }
   ],
   "source": [
    "housing_unit_inv_df['huid'].describe()"
   ]
  },
  {
   "cell_type": "markdown",
   "metadata": {},
   "source": [
    "## Read in Building Inventory"
   ]
  },
  {
   "cell_type": "code",
   "execution_count": 13,
   "metadata": {},
   "outputs": [
    {
     "name": "stdout",
     "output_type": "stream",
     "text": [
      "The IN-CORE Dataservice has saved the Building Inventory on your local machine: C:\\Users\\nathanael99\\.incore\\cache_data\\648c22dd689743dc9dedf242006adc5a9c21de9a89c016323dccfedef94f7737\\62fea288f5438e1f8c515ef8\\Salt Lake County All Building\\Salt Lake County All Building.shp\n"
     ]
    }
   ],
   "source": [
    "# Building inventory\n",
    "bldg_inv_id = \"62fea288f5438e1f8c515ef8\" # SLC building inventory - Milad Roohi\n",
    "# load building inventory\n",
    "bldg_inv = Dataset.from_data_service(bldg_inv_id, data_service)\n",
    "filename = bldg_inv.get_file_path('shp')\n",
    "print(\"The IN-CORE Dataservice has saved the Building Inventory on your local machine: \"+filename)"
   ]
  },
  {
   "cell_type": "code",
   "execution_count": 14,
   "metadata": {},
   "outputs": [
    {
     "data": {
      "text/plain": [
       "<Geographic 2D CRS: EPSG:4326>\n",
       "Name: WGS 84\n",
       "Axis Info [ellipsoidal]:\n",
       "- Lat[north]: Geodetic latitude (degree)\n",
       "- Lon[east]: Geodetic longitude (degree)\n",
       "Area of Use:\n",
       "- name: World.\n",
       "- bounds: (-180.0, -90.0, 180.0, 90.0)\n",
       "Datum: World Geodetic System 1984 ensemble\n",
       "- Ellipsoid: WGS 84\n",
       "- Prime Meridian: Greenwich"
      ]
     },
     "execution_count": 14,
     "metadata": {},
     "output_type": "execute_result"
    }
   ],
   "source": [
    "bldg_inv_gdf = gpd.read_file(filename)\n",
    "# Check CRS of building inventory\n",
    "bldg_inv_gdf.crs"
   ]
  },
  {
   "cell_type": "code",
   "execution_count": 15,
   "metadata": {},
   "outputs": [
    {
     "name": "stdout",
     "output_type": "stream",
     "text": [
      "The CRS of the building inventory is already in EPSG:4326\n"
     ]
    }
   ],
   "source": [
    "from pyproj import CRS\n",
    "# Update CRS to EPSG:4326 if not already in that format\n",
    "if bldg_inv_gdf.crs != CRS.from_epsg(4326):\n",
    "    bldg_inv_gdf = bldg_inv_gdf.to_crs(epsg=4326)\n",
    "    print(\"The CRS of the building inventory has been updated to EPSG:4326\")\n",
    "else:\n",
    "    print(\"The CRS of the building inventory is already in EPSG:4326\")"
   ]
  },
  {
   "cell_type": "code",
   "execution_count": 16,
   "metadata": {},
   "outputs": [
    {
     "data": {
      "text/html": [
       "<div>\n",
       "<style scoped>\n",
       "    .dataframe tbody tr th:only-of-type {\n",
       "        vertical-align: middle;\n",
       "    }\n",
       "\n",
       "    .dataframe tbody tr th {\n",
       "        vertical-align: top;\n",
       "    }\n",
       "\n",
       "    .dataframe thead th {\n",
       "        text-align: right;\n",
       "    }\n",
       "</style>\n",
       "<table border=\"1\" class=\"dataframe\">\n",
       "  <thead>\n",
       "    <tr style=\"text-align: right;\">\n",
       "      <th></th>\n",
       "      <th>count</th>\n",
       "      <th>unique</th>\n",
       "      <th>top</th>\n",
       "      <th>freq</th>\n",
       "    </tr>\n",
       "  </thead>\n",
       "  <tbody>\n",
       "    <tr>\n",
       "      <th>guid</th>\n",
       "      <td>284925</td>\n",
       "      <td>284925</td>\n",
       "      <td>6f8c3468-4696-4371-bc91-3a7ceec1e768</td>\n",
       "      <td>1</td>\n",
       "    </tr>\n",
       "    <tr>\n",
       "      <th>bldg_id</th>\n",
       "      <td>284925</td>\n",
       "      <td>112</td>\n",
       "      <td>16200000000000.0</td>\n",
       "      <td>17249</td>\n",
       "    </tr>\n",
       "  </tbody>\n",
       "</table>\n",
       "</div>"
      ],
      "text/plain": [
       "          count  unique                                   top   freq\n",
       "guid     284925  284925  6f8c3468-4696-4371-bc91-3a7ceec1e768      1\n",
       "bldg_id  284925     112                      16200000000000.0  17249"
      ]
     },
     "execution_count": 16,
     "metadata": {},
     "output_type": "execute_result"
    }
   ],
   "source": [
    "# Check Unique ID\n",
    "bldg_inv_gdf[['guid','bldg_id']].astype(str).describe().T"
   ]
  },
  {
   "cell_type": "code",
   "execution_count": 17,
   "metadata": {},
   "outputs": [
    {
     "data": {
      "text/html": [
       "<div>\n",
       "<style scoped>\n",
       "    .dataframe tbody tr th:only-of-type {\n",
       "        vertical-align: middle;\n",
       "    }\n",
       "\n",
       "    .dataframe tbody tr th {\n",
       "        vertical-align: top;\n",
       "    }\n",
       "\n",
       "    .dataframe thead th {\n",
       "        text-align: right;\n",
       "    }\n",
       "</style>\n",
       "<table border=\"1\" class=\"dataframe\">\n",
       "  <thead>\n",
       "    <tr style=\"text-align: right;\">\n",
       "      <th></th>\n",
       "      <th>0</th>\n",
       "    </tr>\n",
       "  </thead>\n",
       "  <tbody>\n",
       "    <tr>\n",
       "      <th>parid</th>\n",
       "      <td>28200000000000.0</td>\n",
       "    </tr>\n",
       "    <tr>\n",
       "      <th>parid_card</th>\n",
       "      <td>28200000000000.0</td>\n",
       "    </tr>\n",
       "    <tr>\n",
       "      <th>bldg_id</th>\n",
       "      <td>28200000000000.0</td>\n",
       "    </tr>\n",
       "    <tr>\n",
       "      <th>struct_typ</th>\n",
       "      <td>RM1L</td>\n",
       "    </tr>\n",
       "    <tr>\n",
       "      <th>archetype</th>\n",
       "      <td>COM3</td>\n",
       "    </tr>\n",
       "    <tr>\n",
       "      <th>str_prob</th>\n",
       "      <td>None</td>\n",
       "    </tr>\n",
       "    <tr>\n",
       "      <th>year_built</th>\n",
       "      <td>1993</td>\n",
       "    </tr>\n",
       "    <tr>\n",
       "      <th>no_stories</th>\n",
       "      <td>1</td>\n",
       "    </tr>\n",
       "    <tr>\n",
       "      <th>a_stories</th>\n",
       "      <td>None</td>\n",
       "    </tr>\n",
       "    <tr>\n",
       "      <th>b_stories</th>\n",
       "      <td>None</td>\n",
       "    </tr>\n",
       "    <tr>\n",
       "      <th>bsmt_type</th>\n",
       "      <td>None</td>\n",
       "    </tr>\n",
       "    <tr>\n",
       "      <th>sq_foot</th>\n",
       "      <td>2508</td>\n",
       "    </tr>\n",
       "    <tr>\n",
       "      <th>gsq_foot</th>\n",
       "      <td>2508</td>\n",
       "    </tr>\n",
       "    <tr>\n",
       "      <th>occ_type</th>\n",
       "      <td>COM3</td>\n",
       "    </tr>\n",
       "    <tr>\n",
       "      <th>occ_detail</th>\n",
       "      <td>None</td>\n",
       "    </tr>\n",
       "    <tr>\n",
       "      <th>major_occ</th>\n",
       "      <td>None</td>\n",
       "    </tr>\n",
       "    <tr>\n",
       "      <th>broad_occ</th>\n",
       "      <td>None</td>\n",
       "    </tr>\n",
       "    <tr>\n",
       "      <th>appr_bldg</th>\n",
       "      <td>None</td>\n",
       "    </tr>\n",
       "    <tr>\n",
       "      <th>repl_cst</th>\n",
       "      <td>None</td>\n",
       "    </tr>\n",
       "    <tr>\n",
       "      <th>nstra_cst</th>\n",
       "      <td>None</td>\n",
       "    </tr>\n",
       "    <tr>\n",
       "      <th>nstrd_cst</th>\n",
       "      <td>None</td>\n",
       "    </tr>\n",
       "    <tr>\n",
       "      <th>dlevel</th>\n",
       "      <td>MC</td>\n",
       "    </tr>\n",
       "    <tr>\n",
       "      <th>occ_tpy2</th>\n",
       "      <td>None</td>\n",
       "    </tr>\n",
       "    <tr>\n",
       "      <th>tract_id</th>\n",
       "      <td>49035112805</td>\n",
       "    </tr>\n",
       "    <tr>\n",
       "      <th>guid</th>\n",
       "      <td>6f8c3468-4696-4371-bc91-3a7ceec1e768</td>\n",
       "    </tr>\n",
       "    <tr>\n",
       "      <th>latitude</th>\n",
       "      <td>40.543557</td>\n",
       "    </tr>\n",
       "    <tr>\n",
       "      <th>longitude</th>\n",
       "      <td>-111.871363</td>\n",
       "    </tr>\n",
       "    <tr>\n",
       "      <th>geometry</th>\n",
       "      <td>POINT (-111.871363 40.54355708)</td>\n",
       "    </tr>\n",
       "  </tbody>\n",
       "</table>\n",
       "</div>"
      ],
      "text/plain": [
       "                                               0\n",
       "parid                           28200000000000.0\n",
       "parid_card                      28200000000000.0\n",
       "bldg_id                         28200000000000.0\n",
       "struct_typ                                  RM1L\n",
       "archetype                                   COM3\n",
       "str_prob                                    None\n",
       "year_built                                  1993\n",
       "no_stories                                     1\n",
       "a_stories                                   None\n",
       "b_stories                                   None\n",
       "bsmt_type                                   None\n",
       "sq_foot                                     2508\n",
       "gsq_foot                                    2508\n",
       "occ_type                                    COM3\n",
       "occ_detail                                  None\n",
       "major_occ                                   None\n",
       "broad_occ                                   None\n",
       "appr_bldg                                   None\n",
       "repl_cst                                    None\n",
       "nstra_cst                                   None\n",
       "nstrd_cst                                   None\n",
       "dlevel                                        MC\n",
       "occ_tpy2                                    None\n",
       "tract_id                             49035112805\n",
       "guid        6f8c3468-4696-4371-bc91-3a7ceec1e768\n",
       "latitude                               40.543557\n",
       "longitude                            -111.871363\n",
       "geometry         POINT (-111.871363 40.54355708)"
      ]
     },
     "execution_count": 17,
     "metadata": {},
     "output_type": "execute_result"
    }
   ],
   "source": [
    "bldg_inv_gdf.head(1).T"
   ]
  },
  {
   "cell_type": "code",
   "execution_count": 18,
   "metadata": {},
   "outputs": [
    {
     "data": {
      "text/html": [
       "<div>\n",
       "<style scoped>\n",
       "    .dataframe tbody tr th:only-of-type {\n",
       "        vertical-align: middle;\n",
       "    }\n",
       "\n",
       "    .dataframe tbody tr th {\n",
       "        vertical-align: top;\n",
       "    }\n",
       "\n",
       "    .dataframe thead th {\n",
       "        text-align: right;\n",
       "    }\n",
       "</style>\n",
       "<table border=\"1\" class=\"dataframe\">\n",
       "  <thead>\n",
       "    <tr style=\"text-align: right;\">\n",
       "      <th></th>\n",
       "      <th></th>\n",
       "      <th>guid</th>\n",
       "    </tr>\n",
       "    <tr>\n",
       "      <th>archetype</th>\n",
       "      <th>occ_type</th>\n",
       "      <th></th>\n",
       "    </tr>\n",
       "  </thead>\n",
       "  <tbody>\n",
       "    <tr>\n",
       "      <th>AGR1</th>\n",
       "      <th>AGR1</th>\n",
       "      <td>57</td>\n",
       "    </tr>\n",
       "    <tr>\n",
       "      <th>COM1</th>\n",
       "      <th>COM1</th>\n",
       "      <td>7900</td>\n",
       "    </tr>\n",
       "    <tr>\n",
       "      <th>COM10</th>\n",
       "      <th>COM10</th>\n",
       "      <td>373</td>\n",
       "    </tr>\n",
       "    <tr>\n",
       "      <th>COM2</th>\n",
       "      <th>COM2</th>\n",
       "      <td>4674</td>\n",
       "    </tr>\n",
       "    <tr>\n",
       "      <th>COM3</th>\n",
       "      <th>COM3</th>\n",
       "      <td>2096</td>\n",
       "    </tr>\n",
       "    <tr>\n",
       "      <th>COM4</th>\n",
       "      <th>COM4</th>\n",
       "      <td>5674</td>\n",
       "    </tr>\n",
       "    <tr>\n",
       "      <th>COM5</th>\n",
       "      <th>COM5</th>\n",
       "      <td>270</td>\n",
       "    </tr>\n",
       "    <tr>\n",
       "      <th>COM6</th>\n",
       "      <th>COM6</th>\n",
       "      <td>217</td>\n",
       "    </tr>\n",
       "    <tr>\n",
       "      <th>COM7</th>\n",
       "      <th>COM7</th>\n",
       "      <td>421</td>\n",
       "    </tr>\n",
       "    <tr>\n",
       "      <th>COM8</th>\n",
       "      <th>COM8</th>\n",
       "      <td>1699</td>\n",
       "    </tr>\n",
       "    <tr>\n",
       "      <th>COM9</th>\n",
       "      <th>COM9</th>\n",
       "      <td>20</td>\n",
       "    </tr>\n",
       "    <tr>\n",
       "      <th>EDU1</th>\n",
       "      <th>EDU1</th>\n",
       "      <td>128</td>\n",
       "    </tr>\n",
       "    <tr>\n",
       "      <th>EDU2</th>\n",
       "      <th>EDU2</th>\n",
       "      <td>268</td>\n",
       "    </tr>\n",
       "    <tr>\n",
       "      <th>GOV1</th>\n",
       "      <th>GOV1</th>\n",
       "      <td>747</td>\n",
       "    </tr>\n",
       "    <tr>\n",
       "      <th>IND1</th>\n",
       "      <th>IND1</th>\n",
       "      <td>1118</td>\n",
       "    </tr>\n",
       "    <tr>\n",
       "      <th>IND2</th>\n",
       "      <th>IND2</th>\n",
       "      <td>2622</td>\n",
       "    </tr>\n",
       "    <tr>\n",
       "      <th>IND3</th>\n",
       "      <th>IND3</th>\n",
       "      <td>36</td>\n",
       "    </tr>\n",
       "    <tr>\n",
       "      <th>IND4</th>\n",
       "      <th>IND4</th>\n",
       "      <td>15</td>\n",
       "    </tr>\n",
       "    <tr>\n",
       "      <th>IND5</th>\n",
       "      <th>IND5</th>\n",
       "      <td>165</td>\n",
       "    </tr>\n",
       "    <tr>\n",
       "      <th>IND6</th>\n",
       "      <th>IND6</th>\n",
       "      <td>192</td>\n",
       "    </tr>\n",
       "    <tr>\n",
       "      <th>REL1</th>\n",
       "      <th>REL1</th>\n",
       "      <td>474</td>\n",
       "    </tr>\n",
       "    <tr>\n",
       "      <th>RES1</th>\n",
       "      <th>RES1</th>\n",
       "      <td>226455</td>\n",
       "    </tr>\n",
       "    <tr>\n",
       "      <th>RES2</th>\n",
       "      <th>RES2</th>\n",
       "      <td>1222</td>\n",
       "    </tr>\n",
       "    <tr>\n",
       "      <th>RES3A</th>\n",
       "      <th>RES3A</th>\n",
       "      <td>19782</td>\n",
       "    </tr>\n",
       "    <tr>\n",
       "      <th>RES3B</th>\n",
       "      <th>RES3B</th>\n",
       "      <td>3011</td>\n",
       "    </tr>\n",
       "    <tr>\n",
       "      <th>RES3C</th>\n",
       "      <th>RES3C</th>\n",
       "      <td>637</td>\n",
       "    </tr>\n",
       "    <tr>\n",
       "      <th>RES3D</th>\n",
       "      <th>RES3D</th>\n",
       "      <td>548</td>\n",
       "    </tr>\n",
       "    <tr>\n",
       "      <th>RES3E</th>\n",
       "      <th>RES3E</th>\n",
       "      <td>573</td>\n",
       "    </tr>\n",
       "    <tr>\n",
       "      <th>RES3F</th>\n",
       "      <th>RES3F</th>\n",
       "      <td>2684</td>\n",
       "    </tr>\n",
       "    <tr>\n",
       "      <th>RES4</th>\n",
       "      <th>RES4</th>\n",
       "      <td>438</td>\n",
       "    </tr>\n",
       "    <tr>\n",
       "      <th>RES5</th>\n",
       "      <th>RES5</th>\n",
       "      <td>276</td>\n",
       "    </tr>\n",
       "    <tr>\n",
       "      <th>RES6</th>\n",
       "      <th>RES6</th>\n",
       "      <td>133</td>\n",
       "    </tr>\n",
       "  </tbody>\n",
       "</table>\n",
       "</div>"
      ],
      "text/plain": [
       "                      guid\n",
       "archetype occ_type        \n",
       "AGR1      AGR1          57\n",
       "COM1      COM1        7900\n",
       "COM10     COM10        373\n",
       "COM2      COM2        4674\n",
       "COM3      COM3        2096\n",
       "COM4      COM4        5674\n",
       "COM5      COM5         270\n",
       "COM6      COM6         217\n",
       "COM7      COM7         421\n",
       "COM8      COM8        1699\n",
       "COM9      COM9          20\n",
       "EDU1      EDU1         128\n",
       "EDU2      EDU2         268\n",
       "GOV1      GOV1         747\n",
       "IND1      IND1        1118\n",
       "IND2      IND2        2622\n",
       "IND3      IND3          36\n",
       "IND4      IND4          15\n",
       "IND5      IND5         165\n",
       "IND6      IND6         192\n",
       "REL1      REL1         474\n",
       "RES1      RES1      226455\n",
       "RES2      RES2        1222\n",
       "RES3A     RES3A      19782\n",
       "RES3B     RES3B       3011\n",
       "RES3C     RES3C        637\n",
       "RES3D     RES3D        548\n",
       "RES3E     RES3E        573\n",
       "RES3F     RES3F       2684\n",
       "RES4      RES4         438\n",
       "RES5      RES5         276\n",
       "RES6      RES6         133"
      ]
     },
     "execution_count": 18,
     "metadata": {},
     "output_type": "execute_result"
    }
   ],
   "source": [
    "# What variable has information to determine if building is residential or not?\n",
    "# County observations by variable\n",
    "bldg_inv_gdf[['archetype','occ_type','guid']].groupby(['archetype','occ_type']).count()"
   ]
  },
  {
   "cell_type": "markdown",
   "metadata": {},
   "source": [
    "#### HAZUS Occupancy Status\n",
    "Table 3-1: Hazus Occupancy Class Definitions\n",
    "\n",
    "| Label             | Hazus Occupancy Class            |\n",
    "|-------------------|----------------------------------|\n",
    "|                   | Residential                      |\n",
    "| RES1              | Single Family Dwelling           |\n",
    "| RES2              | Mobile / Manufactured Home       |\n",
    "| RES3A            | RES3A Duplex                      |\n",
    "| RES3B            | RES3B 3-4 Units                   |\n",
    "| RES3C  |  5-9 Units                 |\n",
    "| RES3D  |  10-19 Units                         |\n",
    "| RES3E  |   20-49 Units                      |\n",
    "| RES3F |   50+ Units                       |\n",
    "| RES4              | Temporary Lodging                |\n",
    "| RES5              | Institutional Dormitory          |\n",
    "| RES6              | Nursing Home                     |\n",
    "|-------|------------------------------------|\n",
    "|                   | Commercial                       |\n",
    "| COM1              | Retail Trade                     |\n",
    "| COM2              | Wholesale Trade                  |\n",
    "| COM3              | Personal and Repair Services     |\n",
    "| COM4              | Professional/Technical Services  |\n",
    "| COM5  | Banks                              |\n",
    "| COM6  | Hospital                           |\n",
    "| COM7  | Medical Office/Clinic              |\n",
    "| COM8  | Entertainment & Recreation         |\n",
    "| COM9  | Theaters                           |\n",
    "| COM10 | Parking                            |\n",
    "|------|------------------------|\n",
    "|       | Industrial                         |\n",
    "|------|------------------------|\n",
    "| IND1  | Heavy                              |\n",
    "| IND2  | Light                              |\n",
    "| IND3  | Food/Drugs/Chemicals               |\n",
    "| IND4  | Metals/Minerals Processing         |\n",
    "| IND5  | High Technology                    |\n",
    "| IND6  | Construction                       |\n",
    "|------|------------------------|\n",
    "|       | Agriculture                        |\n",
    "|------|------------------------|\n",
    "| AGR1  | Agriculture                        |\n",
    "|       | Religion/Membership Organizations  |\n",
    "| REL1  | Church/Nonprofit                   |\n",
    "|------|------------------------|\n",
    "|       | Government                         |\n",
    "|------|------------------------|\n",
    "| GOV1  | General Services                   |\n",
    "| GOV2  | Emergency Response                 |\n",
    "|------|------------------------|\n",
    "|      | Education              |\n",
    "|------|------------------------|\n",
    "| EDU1 | Grade School, Library  |\n",
    "| EDU2 | College/University     |\n"
   ]
  },
  {
   "cell_type": "markdown",
   "metadata": {},
   "source": [
    "### Find Spatial Extent of Building Inventory\n",
    "Need to know which counties are included in the building inventory."
   ]
  },
  {
   "cell_type": "code",
   "execution_count": 19,
   "metadata": {},
   "outputs": [],
   "source": [
    "#map = viz.plot_gdf_map(bldg_inv_gdf,column='dlevel')\n",
    "#map"
   ]
  },
  {
   "cell_type": "markdown",
   "metadata": {},
   "source": [
    "#### Use Tract ID to find county FIPS code\n",
    "The first 5 digits of the tract ID are the FIPS code for the county."
   ]
  },
  {
   "cell_type": "code",
   "execution_count": 20,
   "metadata": {},
   "outputs": [
    {
     "data": {
      "text/plain": [
       "count    2.849250e+05\n",
       "mean     4.903511e+10\n",
       "std      4.125693e+03\n",
       "min      4.903510e+10\n",
       "25%      4.903511e+10\n",
       "50%      4.903511e+10\n",
       "75%      4.903511e+10\n",
       "max      4.903511e+10\n",
       "Name: tract_id, dtype: float64"
      ]
     },
     "execution_count": 20,
     "metadata": {},
     "output_type": "execute_result"
    }
   ],
   "source": [
    "bldg_inv_gdf['tract_id'].describe()"
   ]
  },
  {
   "cell_type": "code",
   "execution_count": 21,
   "metadata": {},
   "outputs": [
    {
     "data": {
      "text/html": [
       "<div>\n",
       "<style scoped>\n",
       "    .dataframe tbody tr th:only-of-type {\n",
       "        vertical-align: middle;\n",
       "    }\n",
       "\n",
       "    .dataframe tbody tr th {\n",
       "        vertical-align: top;\n",
       "    }\n",
       "\n",
       "    .dataframe thead th {\n",
       "        text-align: right;\n",
       "    }\n",
       "</style>\n",
       "<table border=\"1\" class=\"dataframe\">\n",
       "  <thead>\n",
       "    <tr style=\"text-align: right;\">\n",
       "      <th></th>\n",
       "      <th>tract_id_str</th>\n",
       "      <th>county</th>\n",
       "    </tr>\n",
       "  </thead>\n",
       "  <tbody>\n",
       "    <tr>\n",
       "      <th>count</th>\n",
       "      <td>284925</td>\n",
       "      <td>284925</td>\n",
       "    </tr>\n",
       "    <tr>\n",
       "      <th>unique</th>\n",
       "      <td>193</td>\n",
       "      <td>1</td>\n",
       "    </tr>\n",
       "    <tr>\n",
       "      <th>top</th>\n",
       "      <td>49035113104</td>\n",
       "      <td>49035</td>\n",
       "    </tr>\n",
       "    <tr>\n",
       "      <th>freq</th>\n",
       "      <td>8331</td>\n",
       "      <td>284925</td>\n",
       "    </tr>\n",
       "  </tbody>\n",
       "</table>\n",
       "</div>"
      ],
      "text/plain": [
       "       tract_id_str  county\n",
       "count        284925  284925\n",
       "unique          193       1\n",
       "top     49035113104   49035\n",
       "freq           8331  284925"
      ]
     },
     "execution_count": 21,
     "metadata": {},
     "output_type": "execute_result"
    }
   ],
   "source": [
    "# Substring of tractid to get county 5 digit fips code \n",
    "# covert tract_id to string with leading zeros\n",
    "bldg_inv_gdf['tract_id_str'] = bldg_inv_gdf['tract_id'].astype(str).str.zfill(11)\n",
    "bldg_inv_gdf['county'] = bldg_inv_gdf['tract_id_str'].str[:5]\n",
    "bldg_inv_gdf[['tract_id_str','county']].describe()"
   ]
  },
  {
   "cell_type": "markdown",
   "metadata": {},
   "source": [
    "### Building Inventory File has 1 county\n",
    "The Salt Late City building inventory only has 1 county."
   ]
  },
  {
   "cell_type": "markdown",
   "metadata": {},
   "source": [
    "## Generate Address Point Inventory\n"
   ]
  },
  {
   "cell_type": "code",
   "execution_count": 22,
   "metadata": {},
   "outputs": [],
   "source": [
    "Nofal_residential_archetypes = { \n",
    "        1 : 'One-story sf residential building on a crawlspace foundation',\n",
    "        2 : 'One-story mf residential building on a slab-on-grade foundation',\n",
    "        3 : 'Two-story sf residential building on a crawlspace foundation',\n",
    "        4 : 'Two-story mf residential building on a slab-on-grade foundation'}\n",
    "\n",
    "HAZUS_residential_archetypes = { \n",
    "    \"RES1\" : \"Single Family Dwelling\",\n",
    "    \"RES2\" : \"Mobile / Manufactured Home\",\n",
    "    \"RES3A\" : \"Duplex\",\n",
    "    \"RES3B\" : \"3-4 Units\",\n",
    "    \"RES3C\" : \"5-9 Units\",\n",
    "    \"RES3D\" : \"10-19 Units\",\n",
    "    \"RES3E\" : \"20-49 Units\",\n",
    "    \"RES3F\" : \"50+ Units\",\n",
    "    \"RES4\" : \"Temporary Lodging\",\n",
    "    \"RES5\" : \"Institutional Dormitory\",\n",
    "    \"RES6\" : \"Nursing Home\"\n",
    "    }\n",
    "\n",
    "residential_archetypes = HAZUS_residential_archetypes "
   ]
  },
  {
   "cell_type": "code",
   "execution_count": 23,
   "metadata": {},
   "outputs": [
    {
     "name": "stdout",
     "output_type": "stream",
     "text": [
      "Address point inventory for: SaltLakeCity_UT\n",
      "Based on building inventory: 62fea288f5438e1f8c515ef8\n",
      "***************\n",
      "Address Point Inventory Workflow\n",
      "***************\n",
      "\n",
      "Generating Address Point Inventory v2.0.0 data for Salt Lake City, UT\n",
      "Connection successful to IN-CORE services. pyIncore version detected: 1.7.0\n",
      "Number of datasets matching Address Point Inventory v2.0.0 data for Salt Lake City, UT: 0\n",
      "Dataset Address Point Inventory v2.0.0 data for Salt Lake City, UT does not exist in IN-CORE\n",
      "***************\n",
      "Obtaining Census Block, Place, and PUMA Data\n",
      "***************\n",
      "\n",
      "File already exists: c:\\Users\\nathanael99\\MyProjects\\IN-CORE\\Tasks\\PublishHUIv2\\HousingUnitInventories_2022-03-03\\ReplicationCode\\intersect-community-data/OutputData/tl_2010_SaltLakeCity_UT_tabblockplacepuma10EPSG4269.csv\n",
      "Converting blk104269 to Geodataframe\n",
      "***************\n",
      "Predicting Housing Unit Estimates\n",
      "***************\n",
      "\n",
      "File already existsc:\\Users\\nathanael99\\MyProjects\\IN-CORE\\Tasks\\PublishHUIv2\\HousingUnitInventories_2022-03-03\\ReplicationCode\\intersect-community-data/OutputData/huest_v2-0-0_SaltLakeCity_UT_2010_2010_62fea288f5438e1f8c515ef8.csv\n",
      "Salt Lake City County, UT : county FIPS Code 49035\n",
      "File already exists on local drive but not on incore dataservice: c:\\Users\\nathanael99\\MyProjects\\IN-CORE\\Tasks\\PublishHUIv2\\HousingUnitInventories_2022-03-03\\ReplicationCode\\intersect-community-data/OutputData/addpt_v2-0-0_SaltLakeCity_UT_2010_2010_62fea288f5438e1f8c515ef8.csv\n",
      "Connection successful to IN-CORE services. pyIncore version detected: 1.7.0\n",
      "dataset is created with id 6347383aedc16c0e577d65cc\n",
      "The file(s): addpt_v2-0-0_SaltLakeCity_UT_2010_2010_62fea288f5438e1f8c515ef8 have been uploaded to IN-CORE\n",
      "Dataset now on IN-CORE, use dataset_id: 6347383aedc16c0e577d65cc\n",
      "Dataset is only in personal account, contact IN-CORE to make public\n"
     ]
    }
   ],
   "source": [
    "for community in communities.keys():\n",
    "    print(\"Address point inventory for: \"+community)\n",
    "    print(\"Based on building inventory: \"+bldg_inv_id)\n",
    "    generate_addpt_df = generate_addpt_functions(\n",
    "                        community =   community,\n",
    "                        communities = communities,\n",
    "                        hui_df = housing_unit_inv_df,\n",
    "                        bldg_inv_gdf = bldg_inv_gdf,\n",
    "                        bldg_inv_id = bldg_inv_id,\n",
    "                        residential_archetypes = residential_archetypes,\n",
    "                        archetype_var = 'archetype',\n",
    "                        building_area_var = 'sq_foot',\n",
    "                        building_area_cutoff = 300,\n",
    "                        seed =          seed,\n",
    "                        version =       version,\n",
    "                        version_text=   version_text,\n",
    "                        basevintage=    basevintage,\n",
    "                        outputfolder=   outputfolder\n",
    "                        )\n",
    "\n",
    "    addpt_dataset_id = generate_addpt_df.generate_addpt_v2_for_incore()"
   ]
  },
  {
   "cell_type": "markdown",
   "metadata": {},
   "source": [
    "### Read in Address Point Inventory\n",
    "The address point inventory is an intermediate file based on the building inventory. The address point inventory acts as the bridge between the building inventory and the housing unit inventory."
   ]
  },
  {
   "cell_type": "code",
   "execution_count": 24,
   "metadata": {},
   "outputs": [
    {
     "name": "stdout",
     "output_type": "stream",
     "text": [
      "6347383aedc16c0e577d65cc\n"
     ]
    }
   ],
   "source": [
    "print(addpt_dataset_id)"
   ]
  },
  {
   "cell_type": "code",
   "execution_count": 25,
   "metadata": {},
   "outputs": [
    {
     "name": "stdout",
     "output_type": "stream",
     "text": [
      "The Address Point Inventory ID is a pandas string\n"
     ]
    },
    {
     "ename": "FileNotFoundError",
     "evalue": "[Errno 2] No such file or directory: 'C:\\\\Users\\\\nathanael99\\\\.incore\\\\cache_data\\\\648c22dd689743dc9dedf242006adc5a9c21de9a89c016323dccfedef94f7737\\\\6347383aedc16c0e577d65cc\\\\addpt_v2-0-0_SaltLakeCity_UT_2010_2010_62fea288f5438e1f8c515ef8\\\\addpt_v2-0-0_SaltLakeCity_UT_2010_2010_62fea288f5438e1f8c515ef8.csv'",
     "output_type": "error",
     "traceback": [
      "\u001b[1;31m---------------------------------------------------------------------------\u001b[0m",
      "\u001b[1;31mFileNotFoundError\u001b[0m                         Traceback (most recent call last)",
      "Cell \u001b[1;32mIn [25], line 7\u001b[0m\n\u001b[0;32m      5\u001b[0m addpt_inv_id \u001b[39m=\u001b[39m addpt_dataset_id\n\u001b[0;32m      6\u001b[0m \u001b[39m# load housing unit inventory as pandas dataframe\u001b[39;00m\n\u001b[1;32m----> 7\u001b[0m addpt_inv \u001b[39m=\u001b[39m Dataset\u001b[39m.\u001b[39mfrom_data_service(addpt_inv_id, data_service)\n\u001b[0;32m      8\u001b[0m filename \u001b[39m=\u001b[39m addpt_inv\u001b[39m.\u001b[39mget_file_path(\u001b[39m'\u001b[39m\u001b[39mcsv\u001b[39m\u001b[39m'\u001b[39m)\n\u001b[0;32m      9\u001b[0m \u001b[39mprint\u001b[39m(\u001b[39m\"\u001b[39m\u001b[39mThe IN-CORE Dataservice has saved the Address Point Inventory on your local machine: \u001b[39m\u001b[39m\"\u001b[39m\u001b[39m+\u001b[39mfilename)\n",
      "File \u001b[1;32mc:\\Users\\nathanael99\\Miniconda3\\envs\\pyincore20220926\\lib\\site-packages\\pyincore\\dataset.py:59\u001b[0m, in \u001b[0;36mDataset.from_data_service\u001b[1;34m(cls, id, data_service)\u001b[0m\n\u001b[0;32m     57\u001b[0m metadata \u001b[39m=\u001b[39m data_service\u001b[39m.\u001b[39mget_dataset_metadata(\u001b[39mid\u001b[39m)\n\u001b[0;32m     58\u001b[0m instance \u001b[39m=\u001b[39m \u001b[39mcls\u001b[39m(metadata)\n\u001b[1;32m---> 59\u001b[0m instance\u001b[39m.\u001b[39;49mcache_files(data_service)\n\u001b[0;32m     60\u001b[0m \u001b[39mreturn\u001b[39;00m instance\n",
      "File \u001b[1;32mc:\\Users\\nathanael99\\Miniconda3\\envs\\pyincore20220926\\lib\\site-packages\\pyincore\\dataset.py:178\u001b[0m, in \u001b[0;36mDataset.cache_files\u001b[1;34m(self, data_service)\u001b[0m\n\u001b[0;32m    176\u001b[0m \u001b[39mif\u001b[39;00m \u001b[39mself\u001b[39m\u001b[39m.\u001b[39mlocal_file_path \u001b[39mis\u001b[39;00m \u001b[39mnot\u001b[39;00m \u001b[39mNone\u001b[39;00m:\n\u001b[0;32m    177\u001b[0m     \u001b[39mreturn\u001b[39;00m\n\u001b[1;32m--> 178\u001b[0m \u001b[39mself\u001b[39m\u001b[39m.\u001b[39mlocal_file_path \u001b[39m=\u001b[39m data_service\u001b[39m.\u001b[39;49mget_dataset_blob(\u001b[39mself\u001b[39;49m\u001b[39m.\u001b[39;49mid)\n\u001b[0;32m    179\u001b[0m \u001b[39mreturn\u001b[39;00m \u001b[39mself\u001b[39m\u001b[39m.\u001b[39mlocal_file_path\n",
      "File \u001b[1;32mc:\\Users\\nathanael99\\Miniconda3\\envs\\pyincore20220926\\lib\\site-packages\\pyincore\\dataservice.py:113\u001b[0m, in \u001b[0;36mDataService.get_dataset_blob\u001b[1;34m(self, dataset_id, join)\u001b[0m\n\u001b[0;32m    110\u001b[0m     \u001b[39mif\u001b[39;00m \u001b[39mnot\u001b[39;00m local_filename:\n\u001b[0;32m    111\u001b[0m         local_filename \u001b[39m=\u001b[39m \u001b[39mself\u001b[39m\u001b[39m.\u001b[39mdownload_dataset_blob(cache_data_dir, dataset_id)\n\u001b[1;32m--> 113\u001b[0m folder \u001b[39m=\u001b[39m \u001b[39mself\u001b[39;49m\u001b[39m.\u001b[39;49munzip_dataset(local_filename)\n\u001b[0;32m    114\u001b[0m \u001b[39mif\u001b[39;00m folder \u001b[39mis\u001b[39;00m \u001b[39mnot\u001b[39;00m \u001b[39mNone\u001b[39;00m:\n\u001b[0;32m    115\u001b[0m     \u001b[39mreturn\u001b[39;00m folder\n",
      "File \u001b[1;32mc:\\Users\\nathanael99\\Miniconda3\\envs\\pyincore20220926\\lib\\site-packages\\pyincore\\dataservice.py:378\u001b[0m, in \u001b[0;36mDataService.unzip_dataset\u001b[1;34m(self, local_filename)\u001b[0m\n\u001b[0;32m    375\u001b[0m os\u001b[39m.\u001b[39mmakedirs(foldername)\n\u001b[0;32m    377\u001b[0m zip_ref \u001b[39m=\u001b[39m zipfile\u001b[39m.\u001b[39mZipFile(local_filename, \u001b[39m'\u001b[39m\u001b[39mr\u001b[39m\u001b[39m'\u001b[39m)\n\u001b[1;32m--> 378\u001b[0m zip_ref\u001b[39m.\u001b[39;49mextractall(foldername)\n\u001b[0;32m    379\u001b[0m zip_ref\u001b[39m.\u001b[39mclose()\n\u001b[0;32m    380\u001b[0m \u001b[39mreturn\u001b[39;00m foldername\n",
      "File \u001b[1;32mc:\\Users\\nathanael99\\Miniconda3\\envs\\pyincore20220926\\lib\\zipfile.py:1642\u001b[0m, in \u001b[0;36mZipFile.extractall\u001b[1;34m(self, path, members, pwd)\u001b[0m\n\u001b[0;32m   1639\u001b[0m     path \u001b[39m=\u001b[39m os\u001b[39m.\u001b[39mfspath(path)\n\u001b[0;32m   1641\u001b[0m \u001b[39mfor\u001b[39;00m zipinfo \u001b[39min\u001b[39;00m members:\n\u001b[1;32m-> 1642\u001b[0m     \u001b[39mself\u001b[39;49m\u001b[39m.\u001b[39;49m_extract_member(zipinfo, path, pwd)\n",
      "File \u001b[1;32mc:\\Users\\nathanael99\\Miniconda3\\envs\\pyincore20220926\\lib\\zipfile.py:1696\u001b[0m, in \u001b[0;36mZipFile._extract_member\u001b[1;34m(self, member, targetpath, pwd)\u001b[0m\n\u001b[0;32m   1692\u001b[0m         os\u001b[39m.\u001b[39mmkdir(targetpath)\n\u001b[0;32m   1693\u001b[0m     \u001b[39mreturn\u001b[39;00m targetpath\n\u001b[0;32m   1695\u001b[0m \u001b[39mwith\u001b[39;00m \u001b[39mself\u001b[39m\u001b[39m.\u001b[39mopen(member, pwd\u001b[39m=\u001b[39mpwd) \u001b[39mas\u001b[39;00m source, \\\n\u001b[1;32m-> 1696\u001b[0m      \u001b[39mopen\u001b[39;49m(targetpath, \u001b[39m\"\u001b[39;49m\u001b[39mwb\u001b[39;49m\u001b[39m\"\u001b[39;49m) \u001b[39mas\u001b[39;00m target:\n\u001b[0;32m   1697\u001b[0m     shutil\u001b[39m.\u001b[39mcopyfileobj(source, target)\n\u001b[0;32m   1699\u001b[0m \u001b[39mreturn\u001b[39;00m targetpath\n",
      "\u001b[1;31mFileNotFoundError\u001b[0m: [Errno 2] No such file or directory: 'C:\\\\Users\\\\nathanael99\\\\.incore\\\\cache_data\\\\648c22dd689743dc9dedf242006adc5a9c21de9a89c016323dccfedef94f7737\\\\6347383aedc16c0e577d65cc\\\\addpt_v2-0-0_SaltLakeCity_UT_2010_2010_62fea288f5438e1f8c515ef8\\\\addpt_v2-0-0_SaltLakeCity_UT_2010_2010_62fea288f5438e1f8c515ef8.csv'"
     ]
    }
   ],
   "source": [
    "# Check if addpt_dataset_id is string\n",
    "if isinstance(addpt_dataset_id, str):\n",
    "    print(\"The Address Point Inventory ID is a pandas string\")\n",
    "    # Address Point inventory\n",
    "    addpt_inv_id = addpt_dataset_id\n",
    "    # load housing unit inventory as pandas dataframe\n",
    "    addpt_inv = Dataset.from_data_service(addpt_inv_id, data_service)\n",
    "    filename = addpt_inv.get_file_path('csv')\n",
    "    print(\"The IN-CORE Dataservice has saved the Address Point Inventory on your local machine: \"+filename)\n",
    "    addpt_inv_df = pd.read_csv(filename, header=\"infer\")\n",
    "# else if addpt_dataset_id is a dataframe\n",
    "elif isinstance(addpt_dataset_id, pd.DataFrame):\n",
    "    addpt_inv_df = addpt_dataset_id\n",
    "    print(\"The Address Point Inventory ID contains a pandas dataframe\")\n",
    "else:\n",
    "    print(\"The Address Point Inventory is not a string or pandas dataframe\")"
   ]
  },
  {
   "cell_type": "code",
   "execution_count": null,
   "metadata": {},
   "outputs": [],
   "source": [
    "#addpt_inv_df = pd.read_csv(filename, header=\"infer\")\n",
    "addpt_inv_df['addrptid'].describe()"
   ]
  },
  {
   "cell_type": "markdown",
   "metadata": {},
   "source": [
    "## Step 2: Housing Unit Allocation v2"
   ]
  },
  {
   "cell_type": "markdown",
   "metadata": {},
   "source": [
    "### Setup Housing Unit Allocation"
   ]
  },
  {
   "cell_type": "markdown",
   "metadata": {},
   "source": [
    "### Run Housing Unit Allocation"
   ]
  },
  {
   "cell_type": "code",
   "execution_count": null,
   "metadata": {},
   "outputs": [],
   "source": [
    "for community in communities.keys():\n",
    "    print(\"Housing Unit Allocation for: \"+community)\n",
    "    print(\"Based on housing unit inventory: \"+hui_dataset_id)\n",
    "    print(\"Based on building inventory: \"+bldg_inv_id)\n",
    "\n",
    "    outputfolders = directory_design(state_county_name = community,\n",
    "                                            outputfolder = outputfolder)\n",
    "\n",
    "    run_hua_gdf = hua_workflow_functions(\n",
    "                        community =   community,\n",
    "                        hui_df = housing_unit_inv_df,\n",
    "                        bldg_df = bldg_inv_gdf,\n",
    "                        addpt_df = addpt_inv_df,\n",
    "                        seed =          seed,\n",
    "                        version =       version,\n",
    "                        version_text=   version_text,\n",
    "                        basevintage=    basevintage,\n",
    "                        outputfolder=   outputfolder,\n",
    "                        outputfolders = outputfolders\n",
    "                        )\n",
    "\n",
    "    hua_gdf = run_hua_gdf.housing_unit_allocation_workflow()"
   ]
  },
  {
   "cell_type": "markdown",
   "metadata": {},
   "source": [
    "## Check block with missing huid match\n"
   ]
  },
  {
   "cell_type": "code",
   "execution_count": null,
   "metadata": {},
   "outputs": [],
   "source": [
    "hua_gdf.head()"
   ]
  },
  {
   "cell_type": "code",
   "execution_count": null,
   "metadata": {},
   "outputs": [],
   "source": [
    "from pyncoda.ncoda_04b_foliummaps import *"
   ]
  },
  {
   "cell_type": "code",
   "execution_count": null,
   "metadata": {},
   "outputs": [],
   "source": [
    "map_selected_block(huav2_gdf, blocknum='490351001001006')\n"
   ]
  },
  {
   "cell_type": "code",
   "execution_count": null,
   "metadata": {},
   "outputs": [],
   "source": [
    "# Check guid with missing address point id\n",
    "condition1 = (huav2_gdf['archetype'] == 'RES5')\n",
    "gdf1 = huav2_gdf.loc[condition1].copy()\n",
    "\n",
    "folium_marker_layer_map(gdf = huav2_gdf,\n",
    "                        gdfvar=\"race\",\n",
    "                        layername = \"\",\n",
    "                        color_levels = [0,1,2,3,4,5,6,7])"
   ]
  },
  {
   "cell_type": "code",
   "execution_count": null,
   "metadata": {},
   "outputs": [],
   "source": []
  }
 ],
 "metadata": {
  "colab": {
   "name": "IN-CORE_1dv1_Lumberton_CleanLODESdata_2021-05-06.ipynb",
   "provenance": []
  },
  "kernelspec": {
   "display_name": "Python 3.9.13 ('pyincore20220926')",
   "language": "python",
   "name": "python3"
  },
  "language_info": {
   "codemirror_mode": {
    "name": "ipython",
    "version": 3
   },
   "file_extension": ".py",
   "mimetype": "text/x-python",
   "name": "python",
   "nbconvert_exporter": "python",
   "pygments_lexer": "ipython3",
   "version": "3.9.13"
  },
  "vscode": {
   "interpreter": {
    "hash": "611d5f95e40fe0aad04395675b248f1a7126a9d892f3602f1d39fb4005cc0d20"
   }
  }
 },
 "nbformat": 4,
 "nbformat_minor": 1
}
