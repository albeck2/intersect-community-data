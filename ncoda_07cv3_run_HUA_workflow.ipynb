{
 "cells": [
  {
   "cell_type": "markdown",
   "metadata": {
    "id": "nDetVnGnoHR-"
   },
   "source": [
    "# Housing Unit Allocation Full Workflow\n",
    "\n",
    "## Overview\n",
    "Given a building inventory that uses IN-CORE standard columns, run housing unit allocation.\n",
    "This process checks to see if the housing unit inventory is available and if not it will create it.\n",
    "This process checks to see if the address point inventory is available and if not it will create it.\n",
    "\n",
    "With the housing unit inventory and address point inventory created, they will be uploaded to IN-CORE Dataservice.\n",
    "\n",
    "With the required files on IN-CORE Dataservice, the housing unit allocation method will run.\n",
    "Functions are provided to obtain and clean data required for the version 2 Housing Unit Allocation. \n",
    "\n",
    "## Required Inputs\n",
    "Program requires the following inputs:\n",
    "1. Building inventory file from pyincore\n",
    "    - IN-CORE account\n",
    "    \n",
    "## Output Description\n",
    "The output of this workflow is a CSV file with the housing unit inventory allocated to a building inventory using the housing unit allocation model.\n",
    "\n",
    "The output CSV is designed to be used in the Interdependent Networked Community Resilience Modeling Environment (IN-CORE).\n",
    "\n",
    "IN-CORE is an open source python package that can be used to model the resilience of a community. To download IN-CORE, see:\n",
    "\n",
    "https://incore.ncsa.illinois.edu/\n",
    "\n",
    "\n",
    "## Instructions\n",
    "Users can run the workflow by executing each block of code in the notebook."
   ]
  },
  {
   "cell_type": "markdown",
   "metadata": {},
   "source": [
    "## Description of Program\n",
    "- program:    ncoda_07cv1_run_HUA_workflow\n",
    "- task:       Start with building inventory and run housing unit allocation algorithm\n",
    "- See github commits for description of program updates\n",
    "- Current Version:    2022-08-29 - v2 workflow\n",
    "- 2022-10-06 - clean up code and test output for Salt Lake City\n",
    "- project:    Interdependent Networked Community Resilience Modeling Environment (IN-CORE), Subtask 5.2 - Social Institutions\n",
    "- funding:\t  NIST Financial Assistance Award Numbers: 70NANB15H044 and 70NANB20H008 \n",
    "- author:     Nathanael Rosenheim\n",
    "\n",
    "- Suggested Citation:\n",
    "Rosenheim, Nathanael (2021) “Detailed Household and Housing Unit Characteristics: Data and Replication Code.” DesignSafe-CI. \n",
    "https://doi.org/10.17603/ds2-jwf6-s535."
   ]
  },
  {
   "cell_type": "markdown",
   "metadata": {},
   "source": [
    "## Setup Python Environment"
   ]
  },
  {
   "cell_type": "code",
   "execution_count": 1,
   "metadata": {},
   "outputs": [],
   "source": [
    "import pandas as pd\n",
    "import geopandas as gpd # For reading in shapefiles\n",
    "import numpy as np\n",
    "import sys # For displaying package versions\n",
    "import os # For managing directories and file paths if drive is mounted\n",
    "\n",
    "from pyincore import IncoreClient, Dataset, FragilityService, MappingSet, DataService\n",
    "from pyincore.analyses.buildingdamage.buildingdamage import BuildingDamage\n",
    "\n",
    "from pyincore_viz.geoutil import GeoUtil as viz"
   ]
  },
  {
   "cell_type": "code",
   "execution_count": 2,
   "metadata": {},
   "outputs": [],
   "source": [
    "# https://ipyleaflet.readthedocs.io/en/latest/api_reference/heatmap.html\n",
    "import ipyleaflet as ipylft\n",
    "from ipyleaflet import Map, Heatmap, LayersControl"
   ]
  },
  {
   "cell_type": "code",
   "execution_count": 3,
   "metadata": {},
   "outputs": [],
   "source": [
    "# To reload submodules need to use this magic command to set autoreload on\n",
    "%load_ext autoreload\n",
    "%autoreload 2\n",
    "# open, read, and execute python program with reusable commands\n",
    "from pyncoda.ncoda_00b_directory_design import directory_design\n",
    "from pyncoda.ncoda_07a_generate_hui import generate_hui_functions\n",
    "from pyncoda.ncoda_07c_generate_addpt import generate_addpt_functions\n",
    "from pyncoda.ncoda_07d_run_hua_workflow import hua_workflow_functions\n"
   ]
  },
  {
   "cell_type": "code",
   "execution_count": 4,
   "metadata": {},
   "outputs": [],
   "source": [
    "import scooby # Reports Python environment"
   ]
  },
  {
   "cell_type": "code",
   "execution_count": 5,
   "metadata": {},
   "outputs": [
    {
     "name": "stdout",
     "output_type": "stream",
     "text": [
      "\n",
      "--------------------------------------------------------------------------------\n",
      "  Date: Fri Oct 14 15:44:52 2022 Central Daylight Time\n",
      "\n",
      "                OS : Windows\n",
      "            CPU(s) : 12\n",
      "           Machine : AMD64\n",
      "      Architecture : 64bit\n",
      "               RAM : 31.6 GiB\n",
      "       Environment : Jupyter\n",
      "\n",
      "  Python 3.9.13 | packaged by conda-forge | (main, May 27 2022, 16:50:36) [MSC\n",
      "  v.1929 64 bit (AMD64)]\n",
      "\n",
      "            pandas : 1.5.0\n",
      "          pyincore : 1.7.0\n",
      "      pyincore_viz : Version unknown\n",
      "        ipyleaflet : 0.17.1\n",
      "             numpy : 1.23.3\n",
      "             scipy : 1.9.1\n",
      "           IPython : 8.5.0\n",
      "        matplotlib : 3.6.0\n",
      "            scooby : 0.5.12\n",
      "--------------------------------------------------------------------------------\n"
     ]
    }
   ],
   "source": [
    "# Generate report of Python environment\n",
    "print(scooby.Report(additional=['pandas','pyincore','pyincore_viz','ipyleaflet']))"
   ]
  },
  {
   "cell_type": "code",
   "execution_count": 6,
   "metadata": {},
   "outputs": [
    {
     "data": {
      "text/plain": [
       "'c:\\\\Users\\\\nathanael99\\\\MyProjects\\\\IN-CORE\\\\Tasks\\\\PublishHUIv2\\\\HousingUnitInventories_2022-03-03\\\\ReplicationCode\\\\intersect-community-data'"
      ]
     },
     "execution_count": 6,
     "metadata": {},
     "output_type": "execute_result"
    }
   ],
   "source": [
    "# Check working directory - good practice for relative path access\n",
    "os.getcwd()"
   ]
  },
  {
   "cell_type": "code",
   "execution_count": 7,
   "metadata": {},
   "outputs": [],
   "source": [
    "# Edit Data Dictionary for Community\n",
    "\n",
    "# Example of data dictionary for one community with one county\n",
    "# Check how to capitalize the state name at\n",
    "## https://www2.census.gov/geo/tiger/TIGER2020PL/STATE/\n",
    "\n",
    "# NOTE on file path length. WINDOWS has a limit of 260 characters for file path length.\n",
    "# Community name needs to be short to avoid this limit.\n",
    "\n",
    "'''\n",
    "communities = {'Mobile_AL' : {\n",
    "                    'community_name' : 'Mobile, AL',\n",
    "                    'STATE' : 'ALABAMA',\n",
    "                    'years' : ['2010'],\n",
    "                    'counties' : { \n",
    "                        1 : {'FIPS Code' : '01097', 'Name' : 'Mobile County, AL'}}}}\n",
    "'''\n",
    "\n",
    "\n",
    "communities = {'SLC_UT' : {\n",
    "                    'community_name' : 'Salt Lake City, UT',\n",
    "                    'STATE' : 'UTAH',\n",
    "                    'years' : ['2010'],\n",
    "                    'counties' : { \n",
    "                        1 : {'FIPS Code' : '49035', 'Name' : 'Salt Lake City County, UT'}}}}"
   ]
  },
  {
   "cell_type": "markdown",
   "metadata": {},
   "source": [
    "## Step 1: Set up pyincore and read in data\n",
    "IN-CORE is an open source python package that can be used to model the resilience of a community. To download IN-CORE, see:\n",
    "\n",
    "https://incore.ncsa.illinois.edu/\n",
    "\n",
    "Registration is free."
   ]
  },
  {
   "cell_type": "code",
   "execution_count": 8,
   "metadata": {},
   "outputs": [
    {
     "name": "stdout",
     "output_type": "stream",
     "text": [
      "Connection successful to IN-CORE services. pyIncore version detected: 1.7.0\n"
     ]
    }
   ],
   "source": [
    "client = IncoreClient()\n",
    "# IN-CORE caches files on the local machine, it might be necessary to clear the memory\n",
    "client.clear_cache() "
   ]
  },
  {
   "cell_type": "code",
   "execution_count": 9,
   "metadata": {},
   "outputs": [],
   "source": [
    "# create data_service object for loading files\n",
    "data_service = DataService(client)"
   ]
  },
  {
   "cell_type": "markdown",
   "metadata": {},
   "source": [
    "## Read in Housing Unit Inventory or create a new one"
   ]
  },
  {
   "cell_type": "code",
   "execution_count": 10,
   "metadata": {},
   "outputs": [
    {
     "name": "stdout",
     "output_type": "stream",
     "text": [
      "Generating Housing Unit Inventory v2.0.0 data for Salt Lake City, UT\n",
      "Connection successful to IN-CORE services. pyIncore version detected: 1.7.0\n",
      "Number of datasets matching Housing Unit Inventory v2.0.0 data for Salt Lake City, UT: 1\n",
      "Dataset Housing Unit Inventory v2.0.0 data for Salt Lake City, UT already exists in IN-CORE\n",
      "Dataset already exists in IN-CORE with filename hui_v2-0-0_SLC_UT_2010_rs1000.csv\n",
      "Use dataset_id: 63487fd188a94f621d8fd4a0\n",
      "Dataset already exists on IN-CORE, use dataset_id: 63487fd188a94f621d8fd4a0\n"
     ]
    }
   ],
   "source": [
    "version = '2.0.0'\n",
    "version_text = 'v2-0-0'\n",
    "\n",
    "# Save Outputfolder - due to long folder name paths output saved to folder with shorter name\n",
    "# files from this program will be saved with the program name - \n",
    "# this helps to follow the overall workflow\n",
    "outputfolder = \"OutputData\"\n",
    "\n",
    "# Set random seed for reproducibility\n",
    "seed = 1000\n",
    "basevintage = 2010\n",
    "\n",
    "generate_hui_df = generate_hui_functions(\n",
    "                    communities =   communities,\n",
    "                    seed =          seed,\n",
    "                    version =       version,\n",
    "                    version_text=   version_text,\n",
    "                    basevintage=    basevintage,\n",
    "                    outputfolder=   outputfolder\n",
    "                    )\n",
    "\n",
    "hui_dataset_id = generate_hui_df.generate_hui_v2_for_incore()"
   ]
  },
  {
   "cell_type": "code",
   "execution_count": 11,
   "metadata": {},
   "outputs": [
    {
     "name": "stdout",
     "output_type": "stream",
     "text": [
      "The IN-CORE Dataservice has saved the Housing Unit Inventory on your local machine: C:\\Users\\nathanael99\\.incore\\cache_data\\648c22dd689743dc9dedf242006adc5a9c21de9a89c016323dccfedef94f7737\\63487fd188a94f621d8fd4a0\\hui_v2-0-0_SLC_UT_2010_rs1000\\hui_v2-0-0_SLC_UT_2010_rs1000.csv\n"
     ]
    }
   ],
   "source": [
    "# Housing Unit inventory\n",
    "housing_unit_inv_id = hui_dataset_id\n",
    "# load housing unit inventory as pandas dataframe\n",
    "housing_unit_inv = Dataset.from_data_service(housing_unit_inv_id, data_service)\n",
    "filename = housing_unit_inv.get_file_path('csv')\n",
    "print(\"The IN-CORE Dataservice has saved the Housing Unit Inventory on your local machine: \"+filename)"
   ]
  },
  {
   "cell_type": "code",
   "execution_count": 12,
   "metadata": {},
   "outputs": [],
   "source": [
    "housing_unit_inv_df = pd.read_csv(filename, header=\"infer\")"
   ]
  },
  {
   "cell_type": "code",
   "execution_count": 13,
   "metadata": {},
   "outputs": [
    {
     "data": {
      "text/plain": [
       "count                   364210\n",
       "unique                  364210\n",
       "top       B490351001001006H001\n",
       "freq                         1\n",
       "Name: huid, dtype: object"
      ]
     },
     "execution_count": 13,
     "metadata": {},
     "output_type": "execute_result"
    }
   ],
   "source": [
    "housing_unit_inv_df['huid'].describe()"
   ]
  },
  {
   "cell_type": "markdown",
   "metadata": {},
   "source": [
    "## Read in Building Inventory"
   ]
  },
  {
   "cell_type": "code",
   "execution_count": 14,
   "metadata": {},
   "outputs": [
    {
     "name": "stdout",
     "output_type": "stream",
     "text": [
      "The IN-CORE Dataservice has saved the Building Inventory on your local machine: C:\\Users\\nathanael99\\.incore\\cache_data\\648c22dd689743dc9dedf242006adc5a9c21de9a89c016323dccfedef94f7737\\62fea288f5438e1f8c515ef8\\Salt Lake County All Building\\Salt Lake County All Building.shp\n"
     ]
    }
   ],
   "source": [
    "# Building inventory\n",
    "bldg_inv_id = \"62fea288f5438e1f8c515ef8\" # SLC building inventory - Milad Roohi\n",
    "# load building inventory\n",
    "bldg_inv = Dataset.from_data_service(bldg_inv_id, data_service)\n",
    "filename = bldg_inv.get_file_path('shp')\n",
    "print(\"The IN-CORE Dataservice has saved the Building Inventory on your local machine: \"+filename)"
   ]
  },
  {
   "cell_type": "code",
   "execution_count": 15,
   "metadata": {},
   "outputs": [
    {
     "data": {
      "text/plain": [
       "<Geographic 2D CRS: EPSG:4326>\n",
       "Name: WGS 84\n",
       "Axis Info [ellipsoidal]:\n",
       "- Lat[north]: Geodetic latitude (degree)\n",
       "- Lon[east]: Geodetic longitude (degree)\n",
       "Area of Use:\n",
       "- name: World.\n",
       "- bounds: (-180.0, -90.0, 180.0, 90.0)\n",
       "Datum: World Geodetic System 1984 ensemble\n",
       "- Ellipsoid: WGS 84\n",
       "- Prime Meridian: Greenwich"
      ]
     },
     "execution_count": 15,
     "metadata": {},
     "output_type": "execute_result"
    }
   ],
   "source": [
    "bldg_inv_gdf = gpd.read_file(filename)\n",
    "# Check CRS of building inventory\n",
    "bldg_inv_gdf.crs"
   ]
  },
  {
   "cell_type": "code",
   "execution_count": 16,
   "metadata": {},
   "outputs": [
    {
     "name": "stdout",
     "output_type": "stream",
     "text": [
      "The CRS of the building inventory is already in EPSG:4326\n"
     ]
    }
   ],
   "source": [
    "from pyproj import CRS\n",
    "# Update CRS to EPSG:4326 if not already in that format\n",
    "if bldg_inv_gdf.crs != CRS.from_epsg(4326):\n",
    "    bldg_inv_gdf = bldg_inv_gdf.to_crs(epsg=4326)\n",
    "    print(\"The CRS of the building inventory has been updated to EPSG:4326\")\n",
    "else:\n",
    "    print(\"The CRS of the building inventory is already in EPSG:4326\")"
   ]
  },
  {
   "cell_type": "code",
   "execution_count": 17,
   "metadata": {},
   "outputs": [
    {
     "data": {
      "text/html": [
       "<div>\n",
       "<style scoped>\n",
       "    .dataframe tbody tr th:only-of-type {\n",
       "        vertical-align: middle;\n",
       "    }\n",
       "\n",
       "    .dataframe tbody tr th {\n",
       "        vertical-align: top;\n",
       "    }\n",
       "\n",
       "    .dataframe thead th {\n",
       "        text-align: right;\n",
       "    }\n",
       "</style>\n",
       "<table border=\"1\" class=\"dataframe\">\n",
       "  <thead>\n",
       "    <tr style=\"text-align: right;\">\n",
       "      <th></th>\n",
       "      <th>count</th>\n",
       "      <th>unique</th>\n",
       "      <th>top</th>\n",
       "      <th>freq</th>\n",
       "    </tr>\n",
       "  </thead>\n",
       "  <tbody>\n",
       "    <tr>\n",
       "      <th>guid</th>\n",
       "      <td>284925</td>\n",
       "      <td>284925</td>\n",
       "      <td>6f8c3468-4696-4371-bc91-3a7ceec1e768</td>\n",
       "      <td>1</td>\n",
       "    </tr>\n",
       "    <tr>\n",
       "      <th>bldg_id</th>\n",
       "      <td>284925</td>\n",
       "      <td>112</td>\n",
       "      <td>16200000000000.0</td>\n",
       "      <td>17249</td>\n",
       "    </tr>\n",
       "  </tbody>\n",
       "</table>\n",
       "</div>"
      ],
      "text/plain": [
       "          count  unique                                   top   freq\n",
       "guid     284925  284925  6f8c3468-4696-4371-bc91-3a7ceec1e768      1\n",
       "bldg_id  284925     112                      16200000000000.0  17249"
      ]
     },
     "execution_count": 17,
     "metadata": {},
     "output_type": "execute_result"
    }
   ],
   "source": [
    "# Check Unique ID\n",
    "bldg_inv_gdf[['guid','bldg_id']].astype(str).describe().T"
   ]
  },
  {
   "cell_type": "code",
   "execution_count": 18,
   "metadata": {},
   "outputs": [
    {
     "data": {
      "text/html": [
       "<div>\n",
       "<style scoped>\n",
       "    .dataframe tbody tr th:only-of-type {\n",
       "        vertical-align: middle;\n",
       "    }\n",
       "\n",
       "    .dataframe tbody tr th {\n",
       "        vertical-align: top;\n",
       "    }\n",
       "\n",
       "    .dataframe thead th {\n",
       "        text-align: right;\n",
       "    }\n",
       "</style>\n",
       "<table border=\"1\" class=\"dataframe\">\n",
       "  <thead>\n",
       "    <tr style=\"text-align: right;\">\n",
       "      <th></th>\n",
       "      <th>0</th>\n",
       "    </tr>\n",
       "  </thead>\n",
       "  <tbody>\n",
       "    <tr>\n",
       "      <th>parid</th>\n",
       "      <td>28200000000000.0</td>\n",
       "    </tr>\n",
       "    <tr>\n",
       "      <th>parid_card</th>\n",
       "      <td>28200000000000.0</td>\n",
       "    </tr>\n",
       "    <tr>\n",
       "      <th>bldg_id</th>\n",
       "      <td>28200000000000.0</td>\n",
       "    </tr>\n",
       "    <tr>\n",
       "      <th>struct_typ</th>\n",
       "      <td>RM1L</td>\n",
       "    </tr>\n",
       "    <tr>\n",
       "      <th>archetype</th>\n",
       "      <td>COM3</td>\n",
       "    </tr>\n",
       "    <tr>\n",
       "      <th>str_prob</th>\n",
       "      <td>None</td>\n",
       "    </tr>\n",
       "    <tr>\n",
       "      <th>year_built</th>\n",
       "      <td>1993</td>\n",
       "    </tr>\n",
       "    <tr>\n",
       "      <th>no_stories</th>\n",
       "      <td>1</td>\n",
       "    </tr>\n",
       "    <tr>\n",
       "      <th>a_stories</th>\n",
       "      <td>None</td>\n",
       "    </tr>\n",
       "    <tr>\n",
       "      <th>b_stories</th>\n",
       "      <td>None</td>\n",
       "    </tr>\n",
       "    <tr>\n",
       "      <th>bsmt_type</th>\n",
       "      <td>None</td>\n",
       "    </tr>\n",
       "    <tr>\n",
       "      <th>sq_foot</th>\n",
       "      <td>2508</td>\n",
       "    </tr>\n",
       "    <tr>\n",
       "      <th>gsq_foot</th>\n",
       "      <td>2508</td>\n",
       "    </tr>\n",
       "    <tr>\n",
       "      <th>occ_type</th>\n",
       "      <td>COM3</td>\n",
       "    </tr>\n",
       "    <tr>\n",
       "      <th>occ_detail</th>\n",
       "      <td>None</td>\n",
       "    </tr>\n",
       "    <tr>\n",
       "      <th>major_occ</th>\n",
       "      <td>None</td>\n",
       "    </tr>\n",
       "    <tr>\n",
       "      <th>broad_occ</th>\n",
       "      <td>None</td>\n",
       "    </tr>\n",
       "    <tr>\n",
       "      <th>appr_bldg</th>\n",
       "      <td>None</td>\n",
       "    </tr>\n",
       "    <tr>\n",
       "      <th>repl_cst</th>\n",
       "      <td>None</td>\n",
       "    </tr>\n",
       "    <tr>\n",
       "      <th>nstra_cst</th>\n",
       "      <td>None</td>\n",
       "    </tr>\n",
       "    <tr>\n",
       "      <th>nstrd_cst</th>\n",
       "      <td>None</td>\n",
       "    </tr>\n",
       "    <tr>\n",
       "      <th>dlevel</th>\n",
       "      <td>MC</td>\n",
       "    </tr>\n",
       "    <tr>\n",
       "      <th>occ_tpy2</th>\n",
       "      <td>None</td>\n",
       "    </tr>\n",
       "    <tr>\n",
       "      <th>tract_id</th>\n",
       "      <td>49035112805</td>\n",
       "    </tr>\n",
       "    <tr>\n",
       "      <th>guid</th>\n",
       "      <td>6f8c3468-4696-4371-bc91-3a7ceec1e768</td>\n",
       "    </tr>\n",
       "    <tr>\n",
       "      <th>latitude</th>\n",
       "      <td>40.543557</td>\n",
       "    </tr>\n",
       "    <tr>\n",
       "      <th>longitude</th>\n",
       "      <td>-111.871363</td>\n",
       "    </tr>\n",
       "    <tr>\n",
       "      <th>geometry</th>\n",
       "      <td>POINT (-111.871363 40.54355708)</td>\n",
       "    </tr>\n",
       "  </tbody>\n",
       "</table>\n",
       "</div>"
      ],
      "text/plain": [
       "                                               0\n",
       "parid                           28200000000000.0\n",
       "parid_card                      28200000000000.0\n",
       "bldg_id                         28200000000000.0\n",
       "struct_typ                                  RM1L\n",
       "archetype                                   COM3\n",
       "str_prob                                    None\n",
       "year_built                                  1993\n",
       "no_stories                                     1\n",
       "a_stories                                   None\n",
       "b_stories                                   None\n",
       "bsmt_type                                   None\n",
       "sq_foot                                     2508\n",
       "gsq_foot                                    2508\n",
       "occ_type                                    COM3\n",
       "occ_detail                                  None\n",
       "major_occ                                   None\n",
       "broad_occ                                   None\n",
       "appr_bldg                                   None\n",
       "repl_cst                                    None\n",
       "nstra_cst                                   None\n",
       "nstrd_cst                                   None\n",
       "dlevel                                        MC\n",
       "occ_tpy2                                    None\n",
       "tract_id                             49035112805\n",
       "guid        6f8c3468-4696-4371-bc91-3a7ceec1e768\n",
       "latitude                               40.543557\n",
       "longitude                            -111.871363\n",
       "geometry         POINT (-111.871363 40.54355708)"
      ]
     },
     "execution_count": 18,
     "metadata": {},
     "output_type": "execute_result"
    }
   ],
   "source": [
    "bldg_inv_gdf.head(1).T"
   ]
  },
  {
   "cell_type": "code",
   "execution_count": 19,
   "metadata": {},
   "outputs": [
    {
     "data": {
      "text/html": [
       "<div>\n",
       "<style scoped>\n",
       "    .dataframe tbody tr th:only-of-type {\n",
       "        vertical-align: middle;\n",
       "    }\n",
       "\n",
       "    .dataframe tbody tr th {\n",
       "        vertical-align: top;\n",
       "    }\n",
       "\n",
       "    .dataframe thead th {\n",
       "        text-align: right;\n",
       "    }\n",
       "</style>\n",
       "<table border=\"1\" class=\"dataframe\">\n",
       "  <thead>\n",
       "    <tr style=\"text-align: right;\">\n",
       "      <th></th>\n",
       "      <th></th>\n",
       "      <th>guid</th>\n",
       "    </tr>\n",
       "    <tr>\n",
       "      <th>archetype</th>\n",
       "      <th>occ_type</th>\n",
       "      <th></th>\n",
       "    </tr>\n",
       "  </thead>\n",
       "  <tbody>\n",
       "    <tr>\n",
       "      <th>AGR1</th>\n",
       "      <th>AGR1</th>\n",
       "      <td>57</td>\n",
       "    </tr>\n",
       "    <tr>\n",
       "      <th>COM1</th>\n",
       "      <th>COM1</th>\n",
       "      <td>7900</td>\n",
       "    </tr>\n",
       "    <tr>\n",
       "      <th>COM10</th>\n",
       "      <th>COM10</th>\n",
       "      <td>373</td>\n",
       "    </tr>\n",
       "    <tr>\n",
       "      <th>COM2</th>\n",
       "      <th>COM2</th>\n",
       "      <td>4674</td>\n",
       "    </tr>\n",
       "    <tr>\n",
       "      <th>COM3</th>\n",
       "      <th>COM3</th>\n",
       "      <td>2096</td>\n",
       "    </tr>\n",
       "    <tr>\n",
       "      <th>COM4</th>\n",
       "      <th>COM4</th>\n",
       "      <td>5674</td>\n",
       "    </tr>\n",
       "    <tr>\n",
       "      <th>COM5</th>\n",
       "      <th>COM5</th>\n",
       "      <td>270</td>\n",
       "    </tr>\n",
       "    <tr>\n",
       "      <th>COM6</th>\n",
       "      <th>COM6</th>\n",
       "      <td>217</td>\n",
       "    </tr>\n",
       "    <tr>\n",
       "      <th>COM7</th>\n",
       "      <th>COM7</th>\n",
       "      <td>421</td>\n",
       "    </tr>\n",
       "    <tr>\n",
       "      <th>COM8</th>\n",
       "      <th>COM8</th>\n",
       "      <td>1699</td>\n",
       "    </tr>\n",
       "    <tr>\n",
       "      <th>COM9</th>\n",
       "      <th>COM9</th>\n",
       "      <td>20</td>\n",
       "    </tr>\n",
       "    <tr>\n",
       "      <th>EDU1</th>\n",
       "      <th>EDU1</th>\n",
       "      <td>128</td>\n",
       "    </tr>\n",
       "    <tr>\n",
       "      <th>EDU2</th>\n",
       "      <th>EDU2</th>\n",
       "      <td>268</td>\n",
       "    </tr>\n",
       "    <tr>\n",
       "      <th>GOV1</th>\n",
       "      <th>GOV1</th>\n",
       "      <td>747</td>\n",
       "    </tr>\n",
       "    <tr>\n",
       "      <th>IND1</th>\n",
       "      <th>IND1</th>\n",
       "      <td>1118</td>\n",
       "    </tr>\n",
       "    <tr>\n",
       "      <th>IND2</th>\n",
       "      <th>IND2</th>\n",
       "      <td>2622</td>\n",
       "    </tr>\n",
       "    <tr>\n",
       "      <th>IND3</th>\n",
       "      <th>IND3</th>\n",
       "      <td>36</td>\n",
       "    </tr>\n",
       "    <tr>\n",
       "      <th>IND4</th>\n",
       "      <th>IND4</th>\n",
       "      <td>15</td>\n",
       "    </tr>\n",
       "    <tr>\n",
       "      <th>IND5</th>\n",
       "      <th>IND5</th>\n",
       "      <td>165</td>\n",
       "    </tr>\n",
       "    <tr>\n",
       "      <th>IND6</th>\n",
       "      <th>IND6</th>\n",
       "      <td>192</td>\n",
       "    </tr>\n",
       "    <tr>\n",
       "      <th>REL1</th>\n",
       "      <th>REL1</th>\n",
       "      <td>474</td>\n",
       "    </tr>\n",
       "    <tr>\n",
       "      <th>RES1</th>\n",
       "      <th>RES1</th>\n",
       "      <td>226455</td>\n",
       "    </tr>\n",
       "    <tr>\n",
       "      <th>RES2</th>\n",
       "      <th>RES2</th>\n",
       "      <td>1222</td>\n",
       "    </tr>\n",
       "    <tr>\n",
       "      <th>RES3A</th>\n",
       "      <th>RES3A</th>\n",
       "      <td>19782</td>\n",
       "    </tr>\n",
       "    <tr>\n",
       "      <th>RES3B</th>\n",
       "      <th>RES3B</th>\n",
       "      <td>3011</td>\n",
       "    </tr>\n",
       "    <tr>\n",
       "      <th>RES3C</th>\n",
       "      <th>RES3C</th>\n",
       "      <td>637</td>\n",
       "    </tr>\n",
       "    <tr>\n",
       "      <th>RES3D</th>\n",
       "      <th>RES3D</th>\n",
       "      <td>548</td>\n",
       "    </tr>\n",
       "    <tr>\n",
       "      <th>RES3E</th>\n",
       "      <th>RES3E</th>\n",
       "      <td>573</td>\n",
       "    </tr>\n",
       "    <tr>\n",
       "      <th>RES3F</th>\n",
       "      <th>RES3F</th>\n",
       "      <td>2684</td>\n",
       "    </tr>\n",
       "    <tr>\n",
       "      <th>RES4</th>\n",
       "      <th>RES4</th>\n",
       "      <td>438</td>\n",
       "    </tr>\n",
       "    <tr>\n",
       "      <th>RES5</th>\n",
       "      <th>RES5</th>\n",
       "      <td>276</td>\n",
       "    </tr>\n",
       "    <tr>\n",
       "      <th>RES6</th>\n",
       "      <th>RES6</th>\n",
       "      <td>133</td>\n",
       "    </tr>\n",
       "  </tbody>\n",
       "</table>\n",
       "</div>"
      ],
      "text/plain": [
       "                      guid\n",
       "archetype occ_type        \n",
       "AGR1      AGR1          57\n",
       "COM1      COM1        7900\n",
       "COM10     COM10        373\n",
       "COM2      COM2        4674\n",
       "COM3      COM3        2096\n",
       "COM4      COM4        5674\n",
       "COM5      COM5         270\n",
       "COM6      COM6         217\n",
       "COM7      COM7         421\n",
       "COM8      COM8        1699\n",
       "COM9      COM9          20\n",
       "EDU1      EDU1         128\n",
       "EDU2      EDU2         268\n",
       "GOV1      GOV1         747\n",
       "IND1      IND1        1118\n",
       "IND2      IND2        2622\n",
       "IND3      IND3          36\n",
       "IND4      IND4          15\n",
       "IND5      IND5         165\n",
       "IND6      IND6         192\n",
       "REL1      REL1         474\n",
       "RES1      RES1      226455\n",
       "RES2      RES2        1222\n",
       "RES3A     RES3A      19782\n",
       "RES3B     RES3B       3011\n",
       "RES3C     RES3C        637\n",
       "RES3D     RES3D        548\n",
       "RES3E     RES3E        573\n",
       "RES3F     RES3F       2684\n",
       "RES4      RES4         438\n",
       "RES5      RES5         276\n",
       "RES6      RES6         133"
      ]
     },
     "execution_count": 19,
     "metadata": {},
     "output_type": "execute_result"
    }
   ],
   "source": [
    "# What variable has information to determine if building is residential or not?\n",
    "# County observations by variable\n",
    "bldg_inv_gdf[['archetype','occ_type','guid']].groupby(['archetype','occ_type']).count()"
   ]
  },
  {
   "cell_type": "markdown",
   "metadata": {},
   "source": [
    "#### HAZUS Occupancy Status\n",
    "Table 3-1: Hazus Occupancy Class Definitions\n",
    "\n",
    "| Label             | Hazus Occupancy Class            |\n",
    "|-------------------|----------------------------------|\n",
    "|                   | Residential                      |\n",
    "| RES1              | Single Family Dwelling           |\n",
    "| RES2              | Mobile / Manufactured Home       |\n",
    "| RES3A            | RES3A Duplex                      |\n",
    "| RES3B            | RES3B 3-4 Units                   |\n",
    "| RES3C  |  5-9 Units                 |\n",
    "| RES3D  |  10-19 Units                         |\n",
    "| RES3E  |   20-49 Units                      |\n",
    "| RES3F |   50+ Units                       |\n",
    "| RES4              | Temporary Lodging                |\n",
    "| RES5              | Institutional Dormitory          |\n",
    "| RES6              | Nursing Home                     |\n",
    "|-------|------------------------------------|\n",
    "|                   | Commercial                       |\n",
    "| COM1              | Retail Trade                     |\n",
    "| COM2              | Wholesale Trade                  |\n",
    "| COM3              | Personal and Repair Services     |\n",
    "| COM4              | Professional/Technical Services  |\n",
    "| COM5  | Banks                              |\n",
    "| COM6  | Hospital                           |\n",
    "| COM7  | Medical Office/Clinic              |\n",
    "| COM8  | Entertainment & Recreation         |\n",
    "| COM9  | Theaters                           |\n",
    "| COM10 | Parking                            |\n",
    "|------|------------------------|\n",
    "|       | Industrial                         |\n",
    "|------|------------------------|\n",
    "| IND1  | Heavy                              |\n",
    "| IND2  | Light                              |\n",
    "| IND3  | Food/Drugs/Chemicals               |\n",
    "| IND4  | Metals/Minerals Processing         |\n",
    "| IND5  | High Technology                    |\n",
    "| IND6  | Construction                       |\n",
    "|------|------------------------|\n",
    "|       | Agriculture                        |\n",
    "|------|------------------------|\n",
    "| AGR1  | Agriculture                        |\n",
    "|       | Religion/Membership Organizations  |\n",
    "| REL1  | Church/Nonprofit                   |\n",
    "|------|------------------------|\n",
    "|       | Government                         |\n",
    "|------|------------------------|\n",
    "| GOV1  | General Services                   |\n",
    "| GOV2  | Emergency Response                 |\n",
    "|------|------------------------|\n",
    "|      | Education              |\n",
    "|------|------------------------|\n",
    "| EDU1 | Grade School, Library  |\n",
    "| EDU2 | College/University     |\n"
   ]
  },
  {
   "cell_type": "markdown",
   "metadata": {},
   "source": [
    "### Find Spatial Extent of Building Inventory\n",
    "Need to know which counties are included in the building inventory."
   ]
  },
  {
   "cell_type": "code",
   "execution_count": 20,
   "metadata": {},
   "outputs": [],
   "source": [
    "#map = viz.plot_gdf_map(bldg_inv_gdf,column='dlevel')\n",
    "#map"
   ]
  },
  {
   "cell_type": "markdown",
   "metadata": {},
   "source": [
    "#### Use Tract ID to find county FIPS code\n",
    "The first 5 digits of the tract ID are the FIPS code for the county."
   ]
  },
  {
   "cell_type": "code",
   "execution_count": 21,
   "metadata": {},
   "outputs": [
    {
     "data": {
      "text/plain": [
       "count    2.849250e+05\n",
       "mean     4.903511e+10\n",
       "std      4.125693e+03\n",
       "min      4.903510e+10\n",
       "25%      4.903511e+10\n",
       "50%      4.903511e+10\n",
       "75%      4.903511e+10\n",
       "max      4.903511e+10\n",
       "Name: tract_id, dtype: float64"
      ]
     },
     "execution_count": 21,
     "metadata": {},
     "output_type": "execute_result"
    }
   ],
   "source": [
    "bldg_inv_gdf['tract_id'].describe()"
   ]
  },
  {
   "cell_type": "code",
   "execution_count": 22,
   "metadata": {},
   "outputs": [
    {
     "data": {
      "text/html": [
       "<div>\n",
       "<style scoped>\n",
       "    .dataframe tbody tr th:only-of-type {\n",
       "        vertical-align: middle;\n",
       "    }\n",
       "\n",
       "    .dataframe tbody tr th {\n",
       "        vertical-align: top;\n",
       "    }\n",
       "\n",
       "    .dataframe thead th {\n",
       "        text-align: right;\n",
       "    }\n",
       "</style>\n",
       "<table border=\"1\" class=\"dataframe\">\n",
       "  <thead>\n",
       "    <tr style=\"text-align: right;\">\n",
       "      <th></th>\n",
       "      <th>tract_id_str</th>\n",
       "      <th>county</th>\n",
       "    </tr>\n",
       "  </thead>\n",
       "  <tbody>\n",
       "    <tr>\n",
       "      <th>count</th>\n",
       "      <td>284925</td>\n",
       "      <td>284925</td>\n",
       "    </tr>\n",
       "    <tr>\n",
       "      <th>unique</th>\n",
       "      <td>193</td>\n",
       "      <td>1</td>\n",
       "    </tr>\n",
       "    <tr>\n",
       "      <th>top</th>\n",
       "      <td>49035113104</td>\n",
       "      <td>49035</td>\n",
       "    </tr>\n",
       "    <tr>\n",
       "      <th>freq</th>\n",
       "      <td>8331</td>\n",
       "      <td>284925</td>\n",
       "    </tr>\n",
       "  </tbody>\n",
       "</table>\n",
       "</div>"
      ],
      "text/plain": [
       "       tract_id_str  county\n",
       "count        284925  284925\n",
       "unique          193       1\n",
       "top     49035113104   49035\n",
       "freq           8331  284925"
      ]
     },
     "execution_count": 22,
     "metadata": {},
     "output_type": "execute_result"
    }
   ],
   "source": [
    "# Substring of tractid to get county 5 digit fips code \n",
    "# covert tract_id to string with leading zeros\n",
    "bldg_inv_gdf['tract_id_str'] = bldg_inv_gdf['tract_id'].astype(str).str.zfill(11)\n",
    "bldg_inv_gdf['county'] = bldg_inv_gdf['tract_id_str'].str[:5]\n",
    "bldg_inv_gdf[['tract_id_str','county']].describe()"
   ]
  },
  {
   "cell_type": "markdown",
   "metadata": {},
   "source": [
    "### Building Inventory File has 1 county\n",
    "The Salt Late City building inventory only has 1 county."
   ]
  },
  {
   "cell_type": "markdown",
   "metadata": {},
   "source": [
    "## Generate Address Point Inventory\n"
   ]
  },
  {
   "cell_type": "code",
   "execution_count": 23,
   "metadata": {},
   "outputs": [],
   "source": [
    "Nofal_residential_archetypes = { \n",
    "        1 : 'One-story sf residential building on a crawlspace foundation',\n",
    "        2 : 'One-story mf residential building on a slab-on-grade foundation',\n",
    "        3 : 'Two-story sf residential building on a crawlspace foundation',\n",
    "        4 : 'Two-story mf residential building on a slab-on-grade foundation'}\n",
    "\n",
    "# HAZUS Archetypes for residential buildings inlcude an estimate of housing units\n",
    "HAZUS_residential_archetypes = { \n",
    "    \"RES1\" : {'Description' : \"Single Family Dwelling\", 'HU estimate' : 1},\n",
    "    \"RES2\" : {'Description' : \"Mobile / Manufactured Home\", 'HU estimate' : 1},\n",
    "    \"RES3A\" : {'Description' : \"Duplex\", 'HU estimate' : 2},\n",
    "    \"RES3B\" : {'Description' : \"3-4 Units\", 'HU estimate' : 3},\n",
    "    \"RES3C\" : {'Description' : \"5-9 Units\", 'HU estimate' : 7},\n",
    "    \"RES3D\" : {'Description' : \"10-19 Units\", 'HU estimate' : 15},\n",
    "    \"RES3E\" : {'Description' : \"20-49 Units\", 'HU estimate' : 30},\n",
    "    \"RES3F\" : {'Description' : \"50+ Units\", 'HU estimate' : 50},\n",
    "    \"RES4\" : {'Description' : \"Temporary Lodging\", 'HU estimate' : 1},\n",
    "    \"RES5\" : {'Description' : \"Institutional Dormitory\", 'HU estimate' : 1},\n",
    "    \"RES6\" : {'Description' : \"Nursing Home\", 'HU estimate' : 1}\n",
    "    }\n",
    "\n",
    "residential_archetypes = HAZUS_residential_archetypes "
   ]
  },
  {
   "cell_type": "code",
   "execution_count": 24,
   "metadata": {},
   "outputs": [
    {
     "name": "stdout",
     "output_type": "stream",
     "text": [
      "Address point inventory for: SLC_UT\n",
      "Based on building inventory: 62fea288f5438e1f8c515ef8\n",
      "***************\n",
      "Address Point Inventory Workflow\n",
      "***************\n",
      "\n",
      "Generating Address Point Inventory v2.0.0 data for SLC_UT 2010\n",
      "Connection successful to IN-CORE services. pyIncore version detected: 1.7.0\n",
      "Number of datasets matching Address Point Inventory v2.0.0 data for SLC_UT 2010: 1\n",
      "Dataset Address Point Inventory v2.0.0 data for SLC_UT 2010 already exists in IN-CORE\n",
      "Dataset already exists in IN-CORE with filename addpt_v2-0-0_SLC_UT_2010_62fea288f5438e1f8c515ef8.csv\n",
      "Use dataset_id: 63497ce4b2332d481c436c09\n",
      "Dataset already exists on IN-CORE, use dataset_id: 63497ce4b2332d481c436c09\n"
     ]
    }
   ],
   "source": [
    "for community in communities.keys():\n",
    "    print(\"Address point inventory for: \"+community)\n",
    "    print(\"Based on building inventory: \"+bldg_inv_id)\n",
    "    generate_addpt_df = generate_addpt_functions(\n",
    "                        community =   community,\n",
    "                        communities = communities,\n",
    "                        hui_df = housing_unit_inv_df,\n",
    "                        bldg_inv_gdf = bldg_inv_gdf,\n",
    "                        bldg_inv_id = bldg_inv_id,\n",
    "                        residential_archetypes = residential_archetypes,\n",
    "                        archetype_var = 'archetype',\n",
    "                        building_area_var = 'sq_foot',\n",
    "                        building_area_cutoff = 300,\n",
    "                        seed =          seed,\n",
    "                        version =       version,\n",
    "                        version_text=   version_text,\n",
    "                        basevintage=    basevintage,\n",
    "                        outputfolder=   outputfolder\n",
    "                        )\n",
    "\n",
    "    addpt_dataset_id = generate_addpt_df.generate_addpt_v2_for_incore()"
   ]
  },
  {
   "cell_type": "markdown",
   "metadata": {},
   "source": [
    "### Read in Address Point Inventory\n",
    "The address point inventory is an intermediate file based on the building inventory. The address point inventory acts as the bridge between the building inventory and the housing unit inventory."
   ]
  },
  {
   "cell_type": "code",
   "execution_count": 25,
   "metadata": {},
   "outputs": [
    {
     "name": "stdout",
     "output_type": "stream",
     "text": [
      "The Address Point Inventory ID is a pandas string\n",
      "The IN-CORE Dataservice has saved the Address Point Inventory on your local machine: C:\\Users\\nathanael99\\.incore\\cache_data\\648c22dd689743dc9dedf242006adc5a9c21de9a89c016323dccfedef94f7737\\63497ce4b2332d481c436c09\\addpt_v2-0-0_SLC_UT_2010_62fea288f5438e1f8c515ef8\\addpt_v2-0-0_SLC_UT_2010_62fea288f5438e1f8c515ef8.csv\n"
     ]
    }
   ],
   "source": [
    "# Check if addpt_dataset_id is string\n",
    "if isinstance(addpt_dataset_id, str):\n",
    "    print(\"The Address Point Inventory ID is a pandas string\")\n",
    "    # Address Point inventory\n",
    "    addpt_inv_id = addpt_dataset_id\n",
    "    # load housing unit inventory as pandas dataframe\n",
    "    addpt_inv = Dataset.from_data_service(addpt_inv_id, data_service)\n",
    "    filename = addpt_inv.get_file_path('csv')\n",
    "    print(\"The IN-CORE Dataservice has saved the Address Point Inventory on your local machine: \"+filename)\n",
    "    addpt_inv_df = pd.read_csv(filename, header=\"infer\")\n",
    "# else if addpt_dataset_id is a dataframe\n",
    "elif isinstance(addpt_dataset_id, pd.DataFrame):\n",
    "    addpt_inv_df = addpt_dataset_id\n",
    "    print(\"The Address Point Inventory ID contains a pandas dataframe\")\n",
    "else:\n",
    "    print(\"The Address Point Inventory is not a string or pandas dataframe\")"
   ]
  },
  {
   "cell_type": "code",
   "execution_count": 26,
   "metadata": {},
   "outputs": [
    {
     "data": {
      "text/plain": [
       "count                                             502643\n",
       "unique                                            502643\n",
       "top       STc64d6569-ff3e-410d-a1ad-213af6ba463cAP000000\n",
       "freq                                                   1\n",
       "Name: addrptid, dtype: object"
      ]
     },
     "execution_count": 26,
     "metadata": {},
     "output_type": "execute_result"
    }
   ],
   "source": [
    "#addpt_inv_df = pd.read_csv(filename, header=\"infer\")\n",
    "addpt_inv_df['addrptid'].describe()"
   ]
  },
  {
   "cell_type": "markdown",
   "metadata": {},
   "source": [
    "## Step 2: Housing Unit Allocation v2"
   ]
  },
  {
   "cell_type": "markdown",
   "metadata": {},
   "source": [
    "### Setup Housing Unit Allocation"
   ]
  },
  {
   "cell_type": "markdown",
   "metadata": {},
   "source": [
    "### Run Housing Unit Allocation"
   ]
  },
  {
   "cell_type": "code",
   "execution_count": 27,
   "metadata": {},
   "outputs": [
    {
     "name": "stdout",
     "output_type": "stream",
     "text": [
      "Housing Unit Allocation for: SLC_UT\n",
      "Based on housing unit inventory: 63487fd188a94f621d8fd4a0\n",
      "Based on building inventory: 62fea288f5438e1f8c515ef8\n",
      "Running up Housing Unit Allocation for SLC_UT\n",
      "The file already exists: c:\\Users\\nathanael99\\MyProjects\\IN-CORE\\Tasks\\PublishHUIv2\\HousingUnitInventories_2022-03-03\\ReplicationCode\\intersect-community-data/OutputData/SLC_UT/hua_v2-0-0_SLC_UT_2010_rs1000.csv\n"
     ]
    },
    {
     "name": "stderr",
     "output_type": "stream",
     "text": [
      "c:\\Users\\nathanael99\\MyProjects\\IN-CORE\\Tasks\\PublishHUIv2\\HousingUnitInventories_2022-03-03\\ReplicationCode\\intersect-community-data\\pyncoda\\ncoda_07d_run_hua_workflow.py:426: DtypeWarning: Columns (0,17,24,27,31) have mixed types. Specify dtype option on import or set low_memory=False.\n",
      "  huav2_df = pd.read_csv(csv_filepath)\n"
     ]
    },
    {
     "name": "stdout",
     "output_type": "stream",
     "text": [
      "Converting geometry to Geodataframe\n"
     ]
    }
   ],
   "source": [
    "for community in communities.keys():\n",
    "    print(\"Housing Unit Allocation for: \"+community)\n",
    "    print(\"Based on housing unit inventory: \"+hui_dataset_id)\n",
    "    print(\"Based on building inventory: \"+bldg_inv_id)\n",
    "\n",
    "    outputfolders = directory_design(state_county_name = community,\n",
    "                                            outputfolder = outputfolder)\n",
    "\n",
    "    run_hua_gdf = hua_workflow_functions(\n",
    "                        community =   community,\n",
    "                        hui_df = housing_unit_inv_df,\n",
    "                        bldg_gdf = bldg_inv_gdf,\n",
    "                        addpt_df = addpt_inv_df,\n",
    "                        seed =          seed,\n",
    "                        version =       version,\n",
    "                        version_text=   version_text,\n",
    "                        basevintage=    basevintage,\n",
    "                        outputfolder=   outputfolder,\n",
    "                        outputfolders = outputfolders\n",
    "                        )\n",
    "\n",
    "    hua_gdf = run_hua_gdf.housing_unit_allocation_workflow()"
   ]
  },
  {
   "cell_type": "markdown",
   "metadata": {},
   "source": [
    "## Explore and Validate Housing Unit Allocation\n"
   ]
  },
  {
   "cell_type": "code",
   "execution_count": 28,
   "metadata": {},
   "outputs": [
    {
     "data": {
      "text/html": [
       "<div>\n",
       "<style scoped>\n",
       "    .dataframe tbody tr th:only-of-type {\n",
       "        vertical-align: middle;\n",
       "    }\n",
       "\n",
       "    .dataframe tbody tr th {\n",
       "        vertical-align: top;\n",
       "    }\n",
       "\n",
       "    .dataframe thead th {\n",
       "        text-align: right;\n",
       "    }\n",
       "</style>\n",
       "<table border=\"1\" class=\"dataframe\">\n",
       "  <thead>\n",
       "    <tr style=\"text-align: right;\">\n",
       "      <th></th>\n",
       "      <th>huid</th>\n",
       "      <th>Block2010</th>\n",
       "      <th>blockid</th>\n",
       "      <th>bgid</th>\n",
       "      <th>tractid</th>\n",
       "      <th>FIPScounty</th>\n",
       "      <th>numprec</th>\n",
       "      <th>ownershp</th>\n",
       "      <th>race</th>\n",
       "      <th>hispan</th>\n",
       "      <th>...</th>\n",
       "      <th>strctid_Block2010_flagsetrm</th>\n",
       "      <th>addrptid</th>\n",
       "      <th>guid</th>\n",
       "      <th>huestimate</th>\n",
       "      <th>huicounter_addpt</th>\n",
       "      <th>placeNAME10</th>\n",
       "      <th>x</th>\n",
       "      <th>y</th>\n",
       "      <th>archetype</th>\n",
       "      <th>geometry</th>\n",
       "    </tr>\n",
       "  </thead>\n",
       "  <tbody>\n",
       "    <tr>\n",
       "      <th>0</th>\n",
       "      <td>B490351001001006H001</td>\n",
       "      <td>490351001001006</td>\n",
       "      <td>4.903510e+14</td>\n",
       "      <td>4.903510e+11</td>\n",
       "      <td>4.903510e+10</td>\n",
       "      <td>49035.0</td>\n",
       "      <td>1.0</td>\n",
       "      <td>2.0</td>\n",
       "      <td>1.0</td>\n",
       "      <td>0.0</td>\n",
       "      <td>...</td>\n",
       "      <td>1.0</td>\n",
       "      <td>ST30ef8530-dfda-46ef-96c8-17e8fced0537AP000000</td>\n",
       "      <td>30ef8530-dfda-46ef-96c8-17e8fced0537</td>\n",
       "      <td>1.0</td>\n",
       "      <td>1.0</td>\n",
       "      <td>Salt Lake City</td>\n",
       "      <td>-111.917033</td>\n",
       "      <td>40.804688</td>\n",
       "      <td>RES5</td>\n",
       "      <td>POINT (-111.91703 40.80469)</td>\n",
       "    </tr>\n",
       "    <tr>\n",
       "      <th>1</th>\n",
       "      <td>B490351001001006H002</td>\n",
       "      <td>490351001001006</td>\n",
       "      <td>4.903510e+14</td>\n",
       "      <td>4.903510e+11</td>\n",
       "      <td>4.903510e+10</td>\n",
       "      <td>49035.0</td>\n",
       "      <td>1.0</td>\n",
       "      <td>2.0</td>\n",
       "      <td>1.0</td>\n",
       "      <td>0.0</td>\n",
       "      <td>...</td>\n",
       "      <td>1.0</td>\n",
       "      <td>STe176ee84-c869-47fe-a825-9854d9cb2bcaAP000001</td>\n",
       "      <td>e176ee84-c869-47fe-a825-9854d9cb2bca</td>\n",
       "      <td>15.0</td>\n",
       "      <td>2.0</td>\n",
       "      <td>Salt Lake City</td>\n",
       "      <td>-111.916801</td>\n",
       "      <td>40.804502</td>\n",
       "      <td>RES3D</td>\n",
       "      <td>POINT (-111.91680 40.80450)</td>\n",
       "    </tr>\n",
       "    <tr>\n",
       "      <th>2</th>\n",
       "      <td>B490351001001006H003</td>\n",
       "      <td>490351001001006</td>\n",
       "      <td>4.903510e+14</td>\n",
       "      <td>4.903510e+11</td>\n",
       "      <td>4.903510e+10</td>\n",
       "      <td>49035.0</td>\n",
       "      <td>1.0</td>\n",
       "      <td>2.0</td>\n",
       "      <td>1.0</td>\n",
       "      <td>0.0</td>\n",
       "      <td>...</td>\n",
       "      <td>1.0</td>\n",
       "      <td>STe176ee84-c869-47fe-a825-9854d9cb2bcaAP000002</td>\n",
       "      <td>e176ee84-c869-47fe-a825-9854d9cb2bca</td>\n",
       "      <td>15.0</td>\n",
       "      <td>3.0</td>\n",
       "      <td>Salt Lake City</td>\n",
       "      <td>-111.916801</td>\n",
       "      <td>40.804502</td>\n",
       "      <td>RES3D</td>\n",
       "      <td>POINT (-111.91680 40.80450)</td>\n",
       "    </tr>\n",
       "    <tr>\n",
       "      <th>3</th>\n",
       "      <td>B490351001001006H005</td>\n",
       "      <td>490351001001006</td>\n",
       "      <td>4.903510e+14</td>\n",
       "      <td>4.903510e+11</td>\n",
       "      <td>4.903510e+10</td>\n",
       "      <td>49035.0</td>\n",
       "      <td>1.0</td>\n",
       "      <td>2.0</td>\n",
       "      <td>1.0</td>\n",
       "      <td>0.0</td>\n",
       "      <td>...</td>\n",
       "      <td>2.0</td>\n",
       "      <td>STe176ee84-c869-47fe-a825-9854d9cb2bcaAP000003</td>\n",
       "      <td>e176ee84-c869-47fe-a825-9854d9cb2bca</td>\n",
       "      <td>15.0</td>\n",
       "      <td>4.0</td>\n",
       "      <td>Salt Lake City</td>\n",
       "      <td>-111.916801</td>\n",
       "      <td>40.804502</td>\n",
       "      <td>RES3D</td>\n",
       "      <td>POINT (-111.91680 40.80450)</td>\n",
       "    </tr>\n",
       "    <tr>\n",
       "      <th>4</th>\n",
       "      <td>B490351001001006H006</td>\n",
       "      <td>490351001001006</td>\n",
       "      <td>4.903510e+14</td>\n",
       "      <td>4.903510e+11</td>\n",
       "      <td>4.903510e+10</td>\n",
       "      <td>49035.0</td>\n",
       "      <td>1.0</td>\n",
       "      <td>2.0</td>\n",
       "      <td>1.0</td>\n",
       "      <td>0.0</td>\n",
       "      <td>...</td>\n",
       "      <td>2.0</td>\n",
       "      <td>STe176ee84-c869-47fe-a825-9854d9cb2bcaAP000005</td>\n",
       "      <td>e176ee84-c869-47fe-a825-9854d9cb2bca</td>\n",
       "      <td>15.0</td>\n",
       "      <td>6.0</td>\n",
       "      <td>Salt Lake City</td>\n",
       "      <td>-111.916801</td>\n",
       "      <td>40.804502</td>\n",
       "      <td>RES3D</td>\n",
       "      <td>POINT (-111.91680 40.80450)</td>\n",
       "    </tr>\n",
       "  </tbody>\n",
       "</table>\n",
       "<p>5 rows × 36 columns</p>\n",
       "</div>"
      ],
      "text/plain": [
       "                   huid        Block2010       blockid          bgid  \\\n",
       "0  B490351001001006H001  490351001001006  4.903510e+14  4.903510e+11   \n",
       "1  B490351001001006H002  490351001001006  4.903510e+14  4.903510e+11   \n",
       "2  B490351001001006H003  490351001001006  4.903510e+14  4.903510e+11   \n",
       "3  B490351001001006H005  490351001001006  4.903510e+14  4.903510e+11   \n",
       "4  B490351001001006H006  490351001001006  4.903510e+14  4.903510e+11   \n",
       "\n",
       "        tractid  FIPScounty  numprec  ownershp  race  hispan  ...  \\\n",
       "0  4.903510e+10     49035.0      1.0       2.0   1.0     0.0  ...   \n",
       "1  4.903510e+10     49035.0      1.0       2.0   1.0     0.0  ...   \n",
       "2  4.903510e+10     49035.0      1.0       2.0   1.0     0.0  ...   \n",
       "3  4.903510e+10     49035.0      1.0       2.0   1.0     0.0  ...   \n",
       "4  4.903510e+10     49035.0      1.0       2.0   1.0     0.0  ...   \n",
       "\n",
       "   strctid_Block2010_flagsetrm  \\\n",
       "0                          1.0   \n",
       "1                          1.0   \n",
       "2                          1.0   \n",
       "3                          2.0   \n",
       "4                          2.0   \n",
       "\n",
       "                                         addrptid  \\\n",
       "0  ST30ef8530-dfda-46ef-96c8-17e8fced0537AP000000   \n",
       "1  STe176ee84-c869-47fe-a825-9854d9cb2bcaAP000001   \n",
       "2  STe176ee84-c869-47fe-a825-9854d9cb2bcaAP000002   \n",
       "3  STe176ee84-c869-47fe-a825-9854d9cb2bcaAP000003   \n",
       "4  STe176ee84-c869-47fe-a825-9854d9cb2bcaAP000005   \n",
       "\n",
       "                                   guid  huestimate  huicounter_addpt  \\\n",
       "0  30ef8530-dfda-46ef-96c8-17e8fced0537         1.0               1.0   \n",
       "1  e176ee84-c869-47fe-a825-9854d9cb2bca        15.0               2.0   \n",
       "2  e176ee84-c869-47fe-a825-9854d9cb2bca        15.0               3.0   \n",
       "3  e176ee84-c869-47fe-a825-9854d9cb2bca        15.0               4.0   \n",
       "4  e176ee84-c869-47fe-a825-9854d9cb2bca        15.0               6.0   \n",
       "\n",
       "      placeNAME10           x          y  archetype  \\\n",
       "0  Salt Lake City -111.917033  40.804688       RES5   \n",
       "1  Salt Lake City -111.916801  40.804502      RES3D   \n",
       "2  Salt Lake City -111.916801  40.804502      RES3D   \n",
       "3  Salt Lake City -111.916801  40.804502      RES3D   \n",
       "4  Salt Lake City -111.916801  40.804502      RES3D   \n",
       "\n",
       "                      geometry  \n",
       "0  POINT (-111.91703 40.80469)  \n",
       "1  POINT (-111.91680 40.80450)  \n",
       "2  POINT (-111.91680 40.80450)  \n",
       "3  POINT (-111.91680 40.80450)  \n",
       "4  POINT (-111.91680 40.80450)  \n",
       "\n",
       "[5 rows x 36 columns]"
      ]
     },
     "execution_count": 28,
     "metadata": {},
     "output_type": "execute_result"
    }
   ],
   "source": [
    "hua_gdf.head()"
   ]
  },
  {
   "cell_type": "code",
   "execution_count": 29,
   "metadata": {},
   "outputs": [
    {
     "data": {
      "text/html": [
       "<div>\n",
       "<style scoped>\n",
       "    .dataframe tbody tr th:only-of-type {\n",
       "        vertical-align: middle;\n",
       "    }\n",
       "\n",
       "    .dataframe tbody tr th {\n",
       "        vertical-align: top;\n",
       "    }\n",
       "\n",
       "    .dataframe thead th {\n",
       "        text-align: right;\n",
       "    }\n",
       "</style>\n",
       "<table border=\"1\" class=\"dataframe\">\n",
       "  <thead>\n",
       "    <tr style=\"text-align: right;\">\n",
       "      <th></th>\n",
       "      <th>0</th>\n",
       "    </tr>\n",
       "  </thead>\n",
       "  <tbody>\n",
       "    <tr>\n",
       "      <th>huid</th>\n",
       "      <td>B490351001001006H001</td>\n",
       "    </tr>\n",
       "    <tr>\n",
       "      <th>Block2010</th>\n",
       "      <td>490351001001006</td>\n",
       "    </tr>\n",
       "    <tr>\n",
       "      <th>blockid</th>\n",
       "      <td>490351001001006.0</td>\n",
       "    </tr>\n",
       "    <tr>\n",
       "      <th>bgid</th>\n",
       "      <td>490351001001.0</td>\n",
       "    </tr>\n",
       "    <tr>\n",
       "      <th>tractid</th>\n",
       "      <td>49035100100.0</td>\n",
       "    </tr>\n",
       "    <tr>\n",
       "      <th>FIPScounty</th>\n",
       "      <td>49035.0</td>\n",
       "    </tr>\n",
       "    <tr>\n",
       "      <th>numprec</th>\n",
       "      <td>1.0</td>\n",
       "    </tr>\n",
       "    <tr>\n",
       "      <th>ownershp</th>\n",
       "      <td>2.0</td>\n",
       "    </tr>\n",
       "    <tr>\n",
       "      <th>race</th>\n",
       "      <td>1.0</td>\n",
       "    </tr>\n",
       "    <tr>\n",
       "      <th>hispan</th>\n",
       "      <td>0.0</td>\n",
       "    </tr>\n",
       "    <tr>\n",
       "      <th>family</th>\n",
       "      <td>0.0</td>\n",
       "    </tr>\n",
       "    <tr>\n",
       "      <th>vacancy</th>\n",
       "      <td>0.0</td>\n",
       "    </tr>\n",
       "    <tr>\n",
       "      <th>gqtype</th>\n",
       "      <td>0.0</td>\n",
       "    </tr>\n",
       "    <tr>\n",
       "      <th>incomegroup</th>\n",
       "      <td>12.0</td>\n",
       "    </tr>\n",
       "    <tr>\n",
       "      <th>hhinc</th>\n",
       "      <td>4.0</td>\n",
       "    </tr>\n",
       "    <tr>\n",
       "      <th>randincome</th>\n",
       "      <td>84651.0</td>\n",
       "    </tr>\n",
       "    <tr>\n",
       "      <th>poverty</th>\n",
       "      <td>0.0</td>\n",
       "    </tr>\n",
       "    <tr>\n",
       "      <th>BLOCKID10_str</th>\n",
       "      <td>B490351001001006</td>\n",
       "    </tr>\n",
       "    <tr>\n",
       "      <th>huicounter1</th>\n",
       "      <td>1.0</td>\n",
       "    </tr>\n",
       "    <tr>\n",
       "      <th>huicounter2</th>\n",
       "      <td>2.0</td>\n",
       "    </tr>\n",
       "    <tr>\n",
       "      <th>huicounter3</th>\n",
       "      <td>3.0</td>\n",
       "    </tr>\n",
       "    <tr>\n",
       "      <th>ownershp1</th>\n",
       "      <td>2.0</td>\n",
       "    </tr>\n",
       "    <tr>\n",
       "      <th>ownershp2</th>\n",
       "      <td>2.0</td>\n",
       "    </tr>\n",
       "    <tr>\n",
       "      <th>ownershp3</th>\n",
       "      <td>2.0</td>\n",
       "    </tr>\n",
       "    <tr>\n",
       "      <th>strctid</th>\n",
       "      <td>ST30ef8530-dfda-46ef-96c8-17e8fced0537</td>\n",
       "    </tr>\n",
       "    <tr>\n",
       "      <th>strctid_flagsetrm</th>\n",
       "      <td>1.0</td>\n",
       "    </tr>\n",
       "    <tr>\n",
       "      <th>strctid_Block2010_flagsetrm</th>\n",
       "      <td>1.0</td>\n",
       "    </tr>\n",
       "    <tr>\n",
       "      <th>addrptid</th>\n",
       "      <td>ST30ef8530-dfda-46ef-96c8-17e8fced0537AP000000</td>\n",
       "    </tr>\n",
       "    <tr>\n",
       "      <th>guid</th>\n",
       "      <td>30ef8530-dfda-46ef-96c8-17e8fced0537</td>\n",
       "    </tr>\n",
       "    <tr>\n",
       "      <th>huestimate</th>\n",
       "      <td>1.0</td>\n",
       "    </tr>\n",
       "    <tr>\n",
       "      <th>huicounter_addpt</th>\n",
       "      <td>1.0</td>\n",
       "    </tr>\n",
       "    <tr>\n",
       "      <th>placeNAME10</th>\n",
       "      <td>Salt Lake City</td>\n",
       "    </tr>\n",
       "    <tr>\n",
       "      <th>x</th>\n",
       "      <td>-111.917033</td>\n",
       "    </tr>\n",
       "    <tr>\n",
       "      <th>y</th>\n",
       "      <td>40.804688</td>\n",
       "    </tr>\n",
       "    <tr>\n",
       "      <th>archetype</th>\n",
       "      <td>RES5</td>\n",
       "    </tr>\n",
       "    <tr>\n",
       "      <th>geometry</th>\n",
       "      <td>POINT (-111.917033 40.80468783)</td>\n",
       "    </tr>\n",
       "  </tbody>\n",
       "</table>\n",
       "</div>"
      ],
      "text/plain": [
       "                                                                          0\n",
       "huid                                                   B490351001001006H001\n",
       "Block2010                                                   490351001001006\n",
       "blockid                                                   490351001001006.0\n",
       "bgid                                                         490351001001.0\n",
       "tractid                                                       49035100100.0\n",
       "FIPScounty                                                          49035.0\n",
       "numprec                                                                 1.0\n",
       "ownershp                                                                2.0\n",
       "race                                                                    1.0\n",
       "hispan                                                                  0.0\n",
       "family                                                                  0.0\n",
       "vacancy                                                                 0.0\n",
       "gqtype                                                                  0.0\n",
       "incomegroup                                                            12.0\n",
       "hhinc                                                                   4.0\n",
       "randincome                                                          84651.0\n",
       "poverty                                                                 0.0\n",
       "BLOCKID10_str                                              B490351001001006\n",
       "huicounter1                                                             1.0\n",
       "huicounter2                                                             2.0\n",
       "huicounter3                                                             3.0\n",
       "ownershp1                                                               2.0\n",
       "ownershp2                                                               2.0\n",
       "ownershp3                                                               2.0\n",
       "strctid                              ST30ef8530-dfda-46ef-96c8-17e8fced0537\n",
       "strctid_flagsetrm                                                       1.0\n",
       "strctid_Block2010_flagsetrm                                             1.0\n",
       "addrptid                     ST30ef8530-dfda-46ef-96c8-17e8fced0537AP000000\n",
       "guid                                   30ef8530-dfda-46ef-96c8-17e8fced0537\n",
       "huestimate                                                              1.0\n",
       "huicounter_addpt                                                        1.0\n",
       "placeNAME10                                                  Salt Lake City\n",
       "x                                                               -111.917033\n",
       "y                                                                 40.804688\n",
       "archetype                                                              RES5\n",
       "geometry                                    POINT (-111.917033 40.80468783)"
      ]
     },
     "execution_count": 29,
     "metadata": {},
     "output_type": "execute_result"
    }
   ],
   "source": [
    "hua_gdf.head(1).T"
   ]
  },
  {
   "cell_type": "code",
   "execution_count": 30,
   "metadata": {},
   "outputs": [
    {
     "data": {
      "text/html": [
       "<div>\n",
       "<style scoped>\n",
       "    .dataframe tbody tr th:only-of-type {\n",
       "        vertical-align: middle;\n",
       "    }\n",
       "\n",
       "    .dataframe tbody tr th {\n",
       "        vertical-align: top;\n",
       "    }\n",
       "\n",
       "    .dataframe thead th {\n",
       "        text-align: right;\n",
       "    }\n",
       "</style>\n",
       "<table border=\"1\" class=\"dataframe\">\n",
       "  <thead>\n",
       "    <tr style=\"text-align: right;\">\n",
       "      <th></th>\n",
       "      <th>count</th>\n",
       "      <th>unique</th>\n",
       "      <th>top</th>\n",
       "      <th>freq</th>\n",
       "    </tr>\n",
       "  </thead>\n",
       "  <tbody>\n",
       "    <tr>\n",
       "      <th>huid</th>\n",
       "      <td>394422</td>\n",
       "      <td>364211</td>\n",
       "      <td>nan</td>\n",
       "      <td>30212</td>\n",
       "    </tr>\n",
       "    <tr>\n",
       "      <th>Block2010</th>\n",
       "      <td>394422</td>\n",
       "      <td>11631</td>\n",
       "      <td>999999999999999</td>\n",
       "      <td>30212</td>\n",
       "    </tr>\n",
       "    <tr>\n",
       "      <th>addrptid</th>\n",
       "      <td>394422</td>\n",
       "      <td>364211</td>\n",
       "      <td>nan</td>\n",
       "      <td>30212</td>\n",
       "    </tr>\n",
       "    <tr>\n",
       "      <th>guid</th>\n",
       "      <td>394422</td>\n",
       "      <td>284926</td>\n",
       "      <td>nan</td>\n",
       "      <td>20524</td>\n",
       "    </tr>\n",
       "    <tr>\n",
       "      <th>strctid</th>\n",
       "      <td>394422</td>\n",
       "      <td>255375</td>\n",
       "      <td>nan</td>\n",
       "      <td>30212</td>\n",
       "    </tr>\n",
       "  </tbody>\n",
       "</table>\n",
       "</div>"
      ],
      "text/plain": [
       "            count  unique              top   freq\n",
       "huid       394422  364211              nan  30212\n",
       "Block2010  394422   11631  999999999999999  30212\n",
       "addrptid   394422  364211              nan  30212\n",
       "guid       394422  284926              nan  20524\n",
       "strctid    394422  255375              nan  30212"
      ]
     },
     "execution_count": 30,
     "metadata": {},
     "output_type": "execute_result"
    }
   ],
   "source": [
    "# describe the housing unit allocation primary keys and foreign keys\n",
    "hua_gdf[['huid','Block2010','addrptid','guid','strctid']].astype(str).describe().T"
   ]
  },
  {
   "cell_type": "markdown",
   "metadata": {},
   "source": [
    "## Merge Housing Unit Allocation with Housing Unit Inventory"
   ]
  },
  {
   "cell_type": "code",
   "execution_count": 31,
   "metadata": {},
   "outputs": [
    {
     "data": {
      "text/html": [
       "<div>\n",
       "<style scoped>\n",
       "    .dataframe tbody tr th:only-of-type {\n",
       "        vertical-align: middle;\n",
       "    }\n",
       "\n",
       "    .dataframe tbody tr th {\n",
       "        vertical-align: top;\n",
       "    }\n",
       "\n",
       "    .dataframe thead th {\n",
       "        text-align: right;\n",
       "    }\n",
       "</style>\n",
       "<table border=\"1\" class=\"dataframe\">\n",
       "  <thead>\n",
       "    <tr style=\"text-align: right;\">\n",
       "      <th></th>\n",
       "      <th>huid</th>\n",
       "      <th>blockid</th>\n",
       "      <th>bgid</th>\n",
       "      <th>tractid</th>\n",
       "      <th>FIPScounty</th>\n",
       "      <th>numprec</th>\n",
       "      <th>ownershp</th>\n",
       "      <th>race</th>\n",
       "      <th>hispan</th>\n",
       "      <th>family</th>\n",
       "      <th>vacancy</th>\n",
       "      <th>gqtype</th>\n",
       "      <th>incomegroup</th>\n",
       "      <th>hhinc</th>\n",
       "      <th>randincome</th>\n",
       "      <th>poverty</th>\n",
       "    </tr>\n",
       "  </thead>\n",
       "  <tbody>\n",
       "    <tr>\n",
       "      <th>0</th>\n",
       "      <td>B490351001001006H001</td>\n",
       "      <td>490351001001006</td>\n",
       "      <td>490351001001</td>\n",
       "      <td>49035100100</td>\n",
       "      <td>49035</td>\n",
       "      <td>1</td>\n",
       "      <td>2.0</td>\n",
       "      <td>1.0</td>\n",
       "      <td>0.0</td>\n",
       "      <td>0.0</td>\n",
       "      <td>0</td>\n",
       "      <td>0</td>\n",
       "      <td>12</td>\n",
       "      <td>4</td>\n",
       "      <td>84651.0</td>\n",
       "      <td>0.0</td>\n",
       "    </tr>\n",
       "    <tr>\n",
       "      <th>1</th>\n",
       "      <td>B490351001001006H002</td>\n",
       "      <td>490351001001006</td>\n",
       "      <td>490351001001</td>\n",
       "      <td>49035100100</td>\n",
       "      <td>49035</td>\n",
       "      <td>1</td>\n",
       "      <td>2.0</td>\n",
       "      <td>1.0</td>\n",
       "      <td>0.0</td>\n",
       "      <td>0.0</td>\n",
       "      <td>0</td>\n",
       "      <td>0</td>\n",
       "      <td>8</td>\n",
       "      <td>3</td>\n",
       "      <td>44695.0</td>\n",
       "      <td>0.0</td>\n",
       "    </tr>\n",
       "    <tr>\n",
       "      <th>2</th>\n",
       "      <td>B490351001001006H003</td>\n",
       "      <td>490351001001006</td>\n",
       "      <td>490351001001</td>\n",
       "      <td>49035100100</td>\n",
       "      <td>49035</td>\n",
       "      <td>1</td>\n",
       "      <td>2.0</td>\n",
       "      <td>1.0</td>\n",
       "      <td>0.0</td>\n",
       "      <td>0.0</td>\n",
       "      <td>0</td>\n",
       "      <td>0</td>\n",
       "      <td>10</td>\n",
       "      <td>3</td>\n",
       "      <td>56215.0</td>\n",
       "      <td>0.0</td>\n",
       "    </tr>\n",
       "    <tr>\n",
       "      <th>3</th>\n",
       "      <td>B490351001001006H004</td>\n",
       "      <td>490351001001006</td>\n",
       "      <td>490351001001</td>\n",
       "      <td>49035100100</td>\n",
       "      <td>49035</td>\n",
       "      <td>1</td>\n",
       "      <td>2.0</td>\n",
       "      <td>1.0</td>\n",
       "      <td>0.0</td>\n",
       "      <td>0.0</td>\n",
       "      <td>0</td>\n",
       "      <td>0</td>\n",
       "      <td>14</td>\n",
       "      <td>5</td>\n",
       "      <td>128776.0</td>\n",
       "      <td>0.0</td>\n",
       "    </tr>\n",
       "    <tr>\n",
       "      <th>4</th>\n",
       "      <td>B490351001001006H005</td>\n",
       "      <td>490351001001006</td>\n",
       "      <td>490351001001</td>\n",
       "      <td>49035100100</td>\n",
       "      <td>49035</td>\n",
       "      <td>1</td>\n",
       "      <td>2.0</td>\n",
       "      <td>1.0</td>\n",
       "      <td>0.0</td>\n",
       "      <td>0.0</td>\n",
       "      <td>0</td>\n",
       "      <td>0</td>\n",
       "      <td>7</td>\n",
       "      <td>3</td>\n",
       "      <td>37398.0</td>\n",
       "      <td>0.0</td>\n",
       "    </tr>\n",
       "  </tbody>\n",
       "</table>\n",
       "</div>"
      ],
      "text/plain": [
       "                   huid          blockid          bgid      tractid  \\\n",
       "0  B490351001001006H001  490351001001006  490351001001  49035100100   \n",
       "1  B490351001001006H002  490351001001006  490351001001  49035100100   \n",
       "2  B490351001001006H003  490351001001006  490351001001  49035100100   \n",
       "3  B490351001001006H004  490351001001006  490351001001  49035100100   \n",
       "4  B490351001001006H005  490351001001006  490351001001  49035100100   \n",
       "\n",
       "   FIPScounty  numprec  ownershp  race  hispan  family  vacancy  gqtype  \\\n",
       "0       49035        1       2.0   1.0     0.0     0.0        0       0   \n",
       "1       49035        1       2.0   1.0     0.0     0.0        0       0   \n",
       "2       49035        1       2.0   1.0     0.0     0.0        0       0   \n",
       "3       49035        1       2.0   1.0     0.0     0.0        0       0   \n",
       "4       49035        1       2.0   1.0     0.0     0.0        0       0   \n",
       "\n",
       "   incomegroup  hhinc  randincome  poverty  \n",
       "0           12      4     84651.0      0.0  \n",
       "1            8      3     44695.0      0.0  \n",
       "2           10      3     56215.0      0.0  \n",
       "3           14      5    128776.0      0.0  \n",
       "4            7      3     37398.0      0.0  "
      ]
     },
     "execution_count": 31,
     "metadata": {},
     "output_type": "execute_result"
    }
   ],
   "source": [
    "housing_unit_inv_df.head()"
   ]
  },
  {
   "cell_type": "code",
   "execution_count": 32,
   "metadata": {},
   "outputs": [
    {
     "data": {
      "text/html": [
       "<div>\n",
       "<style scoped>\n",
       "    .dataframe tbody tr th:only-of-type {\n",
       "        vertical-align: middle;\n",
       "    }\n",
       "\n",
       "    .dataframe tbody tr th {\n",
       "        vertical-align: top;\n",
       "    }\n",
       "\n",
       "    .dataframe thead th {\n",
       "        text-align: right;\n",
       "    }\n",
       "</style>\n",
       "<table border=\"1\" class=\"dataframe\">\n",
       "  <thead>\n",
       "    <tr style=\"text-align: right;\">\n",
       "      <th></th>\n",
       "      <th>huid</th>\n",
       "      <th>blockid</th>\n",
       "    </tr>\n",
       "  </thead>\n",
       "  <tbody>\n",
       "    <tr>\n",
       "      <th>count</th>\n",
       "      <td>364210</td>\n",
       "      <td>364210</td>\n",
       "    </tr>\n",
       "    <tr>\n",
       "      <th>unique</th>\n",
       "      <td>364210</td>\n",
       "      <td>11630</td>\n",
       "    </tr>\n",
       "    <tr>\n",
       "      <th>top</th>\n",
       "      <td>B490351001001006H001</td>\n",
       "      <td>490351011021001</td>\n",
       "    </tr>\n",
       "    <tr>\n",
       "      <th>freq</th>\n",
       "      <td>1</td>\n",
       "      <td>667</td>\n",
       "    </tr>\n",
       "  </tbody>\n",
       "</table>\n",
       "</div>"
      ],
      "text/plain": [
       "                        huid          blockid\n",
       "count                 364210           364210\n",
       "unique                364210            11630\n",
       "top     B490351001001006H001  490351011021001\n",
       "freq                       1              667"
      ]
     },
     "execution_count": 32,
     "metadata": {},
     "output_type": "execute_result"
    }
   ],
   "source": [
    "housing_unit_inv_df[['huid','blockid']].astype(str).describe()"
   ]
  },
  {
   "cell_type": "code",
   "execution_count": 33,
   "metadata": {},
   "outputs": [],
   "source": [
    "# Merge HUA with HUI\n",
    "hua_cols = ['huid','guid','placeNAME10','x','y']\n",
    "hua_hui_df = pd.merge(left = housing_unit_inv_df,\n",
    "                       right = hua_gdf[hua_cols],\n",
    "                       on='huid',\n",
    "                       how='left')"
   ]
  },
  {
   "cell_type": "code",
   "execution_count": 34,
   "metadata": {},
   "outputs": [
    {
     "data": {
      "text/html": [
       "<div>\n",
       "<style scoped>\n",
       "    .dataframe tbody tr th:only-of-type {\n",
       "        vertical-align: middle;\n",
       "    }\n",
       "\n",
       "    .dataframe tbody tr th {\n",
       "        vertical-align: top;\n",
       "    }\n",
       "\n",
       "    .dataframe thead th {\n",
       "        text-align: right;\n",
       "    }\n",
       "</style>\n",
       "<table border=\"1\" class=\"dataframe\">\n",
       "  <thead>\n",
       "    <tr style=\"text-align: right;\">\n",
       "      <th></th>\n",
       "      <th>huid</th>\n",
       "      <th>blockid</th>\n",
       "      <th>guid</th>\n",
       "    </tr>\n",
       "  </thead>\n",
       "  <tbody>\n",
       "    <tr>\n",
       "      <th>count</th>\n",
       "      <td>364210</td>\n",
       "      <td>364210</td>\n",
       "      <td>364210</td>\n",
       "    </tr>\n",
       "    <tr>\n",
       "      <th>unique</th>\n",
       "      <td>364210</td>\n",
       "      <td>11630</td>\n",
       "      <td>254714</td>\n",
       "    </tr>\n",
       "    <tr>\n",
       "      <th>top</th>\n",
       "      <td>B490351001001006H001</td>\n",
       "      <td>490351011021001</td>\n",
       "      <td>nan</td>\n",
       "    </tr>\n",
       "    <tr>\n",
       "      <th>freq</th>\n",
       "      <td>1</td>\n",
       "      <td>667</td>\n",
       "      <td>20524</td>\n",
       "    </tr>\n",
       "  </tbody>\n",
       "</table>\n",
       "</div>"
      ],
      "text/plain": [
       "                        huid          blockid    guid\n",
       "count                 364210           364210  364210\n",
       "unique                364210            11630  254714\n",
       "top     B490351001001006H001  490351011021001     nan\n",
       "freq                       1              667   20524"
      ]
     },
     "execution_count": 34,
     "metadata": {},
     "output_type": "execute_result"
    }
   ],
   "source": [
    "hua_hui_df[['huid','blockid','guid']].astype(str).describe()"
   ]
  },
  {
   "cell_type": "code",
   "execution_count": 35,
   "metadata": {},
   "outputs": [],
   "source": [
    "# Replace missing guid \n",
    "hua_hui_df['guid'] = hua_hui_df['guid'].fillna('missing building id')"
   ]
  },
  {
   "cell_type": "code",
   "execution_count": 36,
   "metadata": {},
   "outputs": [
    {
     "data": {
      "text/html": [
       "<div>\n",
       "<style scoped>\n",
       "    .dataframe tbody tr th:only-of-type {\n",
       "        vertical-align: middle;\n",
       "    }\n",
       "\n",
       "    .dataframe tbody tr th {\n",
       "        vertical-align: top;\n",
       "    }\n",
       "\n",
       "    .dataframe thead th {\n",
       "        text-align: right;\n",
       "    }\n",
       "</style>\n",
       "<table border=\"1\" class=\"dataframe\">\n",
       "  <thead>\n",
       "    <tr style=\"text-align: right;\">\n",
       "      <th></th>\n",
       "      <th>huid</th>\n",
       "      <th>blockid</th>\n",
       "      <th>guid</th>\n",
       "    </tr>\n",
       "  </thead>\n",
       "  <tbody>\n",
       "    <tr>\n",
       "      <th>count</th>\n",
       "      <td>364210</td>\n",
       "      <td>364210</td>\n",
       "      <td>364210</td>\n",
       "    </tr>\n",
       "    <tr>\n",
       "      <th>unique</th>\n",
       "      <td>364210</td>\n",
       "      <td>11630</td>\n",
       "      <td>254714</td>\n",
       "    </tr>\n",
       "    <tr>\n",
       "      <th>top</th>\n",
       "      <td>B490351001001006H001</td>\n",
       "      <td>490351011021001</td>\n",
       "      <td>missing building id</td>\n",
       "    </tr>\n",
       "    <tr>\n",
       "      <th>freq</th>\n",
       "      <td>1</td>\n",
       "      <td>667</td>\n",
       "      <td>20524</td>\n",
       "    </tr>\n",
       "  </tbody>\n",
       "</table>\n",
       "</div>"
      ],
      "text/plain": [
       "                        huid          blockid                 guid\n",
       "count                 364210           364210               364210\n",
       "unique                364210            11630               254714\n",
       "top     B490351001001006H001  490351011021001  missing building id\n",
       "freq                       1              667                20524"
      ]
     },
     "execution_count": 36,
     "metadata": {},
     "output_type": "execute_result"
    }
   ],
   "source": [
    "hua_hui_df[['huid','blockid','guid']].astype(str).describe()"
   ]
  },
  {
   "cell_type": "markdown",
   "metadata": {},
   "source": [
    "## Save Housing Unit Allocation to CSV and Upload to IN-CORE Dataservice"
   ]
  },
  {
   "cell_type": "code",
   "execution_count": 37,
   "metadata": {},
   "outputs": [],
   "source": [
    "# save hua_hui_gdf to csv\n",
    "check_folder = outputfolder\n",
    "output_filename = f'hua_{version_text}_{community}_{basevintage}_rs{seed}_{bldg_inv_id}'\n",
    "csv_filepath = check_folder+\"/\"+output_filename+'.csv'\n",
    "savefile = sys.path[0]+\"/\"+csv_filepath\n",
    "# Resave results for community name\n",
    "hua_hui_df.to_csv(savefile, index=False)"
   ]
  },
  {
   "cell_type": "code",
   "execution_count": 38,
   "metadata": {},
   "outputs": [
    {
     "name": "stdout",
     "output_type": "stream",
     "text": [
      "Salt Lake City County, UT : county FIPS Code 49035\n"
     ]
    },
    {
     "data": {
      "text/plain": [
       "'Salt Lake City County, UT: county FIPS Code 49035'"
      ]
     },
     "execution_count": 38,
     "metadata": {},
     "output_type": "execute_result"
    }
   ],
   "source": [
    "# make a county list for community\n",
    "county_list = ''\n",
    "for county in communities[community]['counties'].keys():\n",
    "    state_county = communities[community]['counties'][county]['FIPS Code']\n",
    "    state_county_name  = communities[community]['counties'][county]['Name']\n",
    "    print(state_county_name,': county FIPS Code',state_county)\n",
    "    county_list = county_list + state_county_name+': county FIPS Code '+state_county\n",
    "county_list"
   ]
  },
  {
   "cell_type": "code",
   "execution_count": 39,
   "metadata": {},
   "outputs": [
    {
     "data": {
      "text/plain": [
       "'Housing Unit Allocation v2.0.0 data for SLC_UT 2010'"
      ]
     },
     "execution_count": 39,
     "metadata": {},
     "output_type": "execute_result"
    }
   ],
   "source": [
    "title = \"Housing Unit Allocation v2.0.0 data for \"+community + \" \" + str(basevintage)\n",
    "title"
   ]
  },
  {
   "cell_type": "code",
   "execution_count": 40,
   "metadata": {},
   "outputs": [
    {
     "name": "stdout",
     "output_type": "stream",
     "text": [
      "Connection successful to IN-CORE services. pyIncore version detected: 1.7.0\n",
      "dataset is created with id 6349caa8b2332d481c436c39\n",
      "The file(s): hua_v2-0-0_SLC_UT_2010_rs1000_62fea288f5438e1f8c515ef8 have been uploaded to IN-CORE\n",
      "Dataset now on IN-CORE, use dataset_id: 6349caa8b2332d481c436c39\n",
      "Dataset is only in personal account, contact IN-CORE to make public\n"
     ]
    },
    {
     "data": {
      "text/plain": [
       "'6349caa8b2332d481c436c39'"
      ]
     },
     "execution_count": 40,
     "metadata": {},
     "output_type": "execute_result"
    }
   ],
   "source": [
    "run_hua_gdf.upload_hua_file_to_incore(title =title,\n",
    "                        county_list = county_list,\n",
    "                        csv_filepath = csv_filepath,\n",
    "                        output_filename = output_filename)"
   ]
  },
  {
   "cell_type": "markdown",
   "metadata": {},
   "source": [
    "### Look at population characteristics and compare to US Census"
   ]
  },
  {
   "cell_type": "code",
   "execution_count": null,
   "metadata": {},
   "outputs": [],
   "source": [
    "# convert hui_hua_df to geodataframe\n",
    "crs = \"EPSG:4326\"\n",
    "hua_hui_gdf = gpd.GeoDataFrame(hua_hui_df, \n",
    "    geometry=gpd.points_from_xy(hua_hui_df.x, hua_hui_df.y), crs=crs)"
   ]
  },
  {
   "cell_type": "code",
   "execution_count": null,
   "metadata": {},
   "outputs": [],
   "source": [
    "from pyncoda.ncoda_04c_poptableresults import *"
   ]
  },
  {
   "cell_type": "code",
   "execution_count": null,
   "metadata": {},
   "outputs": [],
   "source": [
    "PopResultsTable.pop_results_table(\n",
    "                  input_df = housing_unit_inv_df, \n",
    "                  who = \"Total Population by Households\", \n",
    "                  what = \"by Race, Ethnicity\",\n",
    "                  where = \"Salt Lake County UT\",\n",
    "                  when = \"2010\",\n",
    "                  row_index = \"Race Ethnicity\",\n",
    "                  col_index = 'Tenure Status')"
   ]
  },
  {
   "cell_type": "code",
   "execution_count": null,
   "metadata": {},
   "outputs": [],
   "source": [
    "# add category for missing building id\n",
    "buildingdata_conditions = {'cat_var' : {'variable_label' : 'Building Data Availability',\n",
    "                         'notes' : 'Does Housing Unit have building data?'},\n",
    "              'condition_list' : {\n",
    "                1 : {'condition': \"(df['guid'] == 'missing building id')\", 'value_label': \"0 Missing Building Data\"},\n",
    "                2 : {'condition': \"(df['guid'] != 'missing building id')\", 'value_label': \"1 Building Data Available\"}}\n",
    "            }\n",
    "hua_hui_df = PopResultsTable.add_label_cat_conditions_df(hua_hui_df, conditions = buildingdata_conditions)"
   ]
  },
  {
   "cell_type": "code",
   "execution_count": null,
   "metadata": {},
   "outputs": [],
   "source": [
    "\n",
    "PopResultsTable.pop_results_table(hua_hui_gdf, \n",
    "                  who = \"Total Population by Households\", \n",
    "                  what = \"by Race, Ethnicity\",\n",
    "                  where = \"Salt Lake County UT\",\n",
    "                  when = \"2010\",\n",
    "                  row_index = \"Race Ethnicity\",\n",
    "                  col_index = 'Building Data Availability',\n",
    "                  row_percent = '0 Missing Building Data')"
   ]
  },
  {
   "cell_type": "code",
   "execution_count": null,
   "metadata": {},
   "outputs": [],
   "source": [
    "PopResultsTable.pop_results_table(hua_hui_gdf, \n",
    "                  who = \"Total Population by Households\", \n",
    "                  what = \"by Race, Ethnicity\",\n",
    "                  where = \"Salt Lake County UT\",\n",
    "                  when = \"2010\",\n",
    "                  row_index = \"Group Quarters Type\",\n",
    "                  col_index = 'Building Data Availability',\n",
    "                  row_percent = '0 Missing Building Data')"
   ]
  },
  {
   "cell_type": "code",
   "execution_count": null,
   "metadata": {},
   "outputs": [],
   "source": [
    "PopResultsTable.pop_results_table(hua_hui_gdf, \n",
    "                   who = \"Median Household Income\", \n",
    "                  what = \"by Race, Ethnicity\",\n",
    "                  where = \"Salt Lake County, UT\",\n",
    "                  when = \"2010\",\n",
    "                  row_index = \"Race Ethnicity\",\n",
    "                  col_index = 'Tenure Status')"
   ]
  },
  {
   "cell_type": "markdown",
   "metadata": {},
   "source": [
    "#### Validate the Housing Unit Allocation has worked\n",
    "Notice that the population count totals for the community should match (pretty closely) data collected for the 2010 Decennial Census. This can be confirmed by going to data.census.gov\n",
    "\n",
    "Total Population by Race and Ethnicity: https://data.census.gov/cedsci/table?g=0500000US49035&tid=DECENNIALSF12010.P5\n",
    "\n",
    "Median Income by Race and Ethnicity:\n",
    "\n",
    "All Households: https://data.census.gov/cedsci/table?g=0500000US49035&tid=ACSDT5Y2012.B19013\n",
    "Black Households: https://data.census.gov/cedsci/table?g=0500000US49035&tid=ACSDT5Y2012.B19013B\n",
    "White, not Hispanic Households: https://data.census.gov/cedsci/table?g=0500000US49035&tid=ACSDT5Y2012.B19013H\n",
    "Hispanic Households: https://data.census.gov/cedsci/table?g=0500000US49035&tid=ACSDT5Y2012.B19013I\n",
    "Differences in the housing unit allocation and the Census count may be due to differences between political boundaries and the building inventory. See Rosenheim et al 2019 for more details.\n",
    "\n",
    "The housing unit allocation, plus the building results will become the input for the social science models such as the population dislocatoin model."
   ]
  },
  {
   "cell_type": "markdown",
   "metadata": {},
   "source": [
    "### Explore 1 block"
   ]
  },
  {
   "cell_type": "code",
   "execution_count": null,
   "metadata": {},
   "outputs": [],
   "source": [
    "from pyncoda.ncoda_04b_foliummaps import *"
   ]
  },
  {
   "cell_type": "code",
   "execution_count": null,
   "metadata": {},
   "outputs": [],
   "source": [
    "gdfvar_count_df = count_gdfvar_by_building(hua_hui_gdf, blocknum='490351003061000', gdvar='huid')\n",
    "gdfvar_count_df.head()"
   ]
  },
  {
   "cell_type": "code",
   "execution_count": null,
   "metadata": {},
   "outputs": [],
   "source": [
    "map_selected_block(hua_hui_gdf, blocknum='490351003061000')\n"
   ]
  },
  {
   "cell_type": "code",
   "execution_count": null,
   "metadata": {},
   "outputs": [],
   "source": [
    "# explore building inventory\n",
    "addpt_inv_df.head(1).T"
   ]
  },
  {
   "cell_type": "code",
   "execution_count": null,
   "metadata": {},
   "outputs": [],
   "source": [
    "map_selected_block(addpt_inv_df, blocknum='490351003061000',\n",
    "                        gdfvar = \"addrptid\",\n",
    "                        laryername = \"Address Points per building\")\n"
   ]
  },
  {
   "cell_type": "markdown",
   "metadata": {},
   "source": [
    "### Explore Prison Population"
   ]
  },
  {
   "cell_type": "code",
   "execution_count": null,
   "metadata": {},
   "outputs": [],
   "source": [
    "# Check missing building data for correctional facilities\n",
    "condition1 = (hua_hui_gdf['gqtype'] == 1)\n",
    "gdf1 = hua_hui_gdf.loc[condition1].copy()\n",
    "gdf1"
   ]
  },
  {
   "cell_type": "code",
   "execution_count": null,
   "metadata": {},
   "outputs": [],
   "source": [
    "folium_marker_layer_map(gdf = gdf1,\n",
    "                        gdfvar=\"Building Data Availability\",\n",
    "                        layername = \"Building Data Availability for Prisons\",\n",
    "                        color_levels = [\"0 Missing Building Data\", \"1 Building Data Available\"])"
   ]
  },
  {
   "cell_type": "code",
   "execution_count": null,
   "metadata": {},
   "outputs": [],
   "source": [
    "# make list of unique guid for correctional facilities\n",
    "guid_list = gdf1['guid'].unique().tolist()\n",
    "# drop missing building id from list\n",
    "guid_list.remove('missing building id')\n",
    "guid_list"
   ]
  },
  {
   "cell_type": "code",
   "execution_count": null,
   "metadata": {},
   "outputs": [],
   "source": [
    "# keep guid list in address point inventory\n",
    "condition2 = (addpt_inv_df['guid'].isin(guid_list))\n",
    "gdf2 = addpt_inv_df.loc[condition2].copy()\n",
    "gdf2"
   ]
  },
  {
   "cell_type": "code",
   "execution_count": null,
   "metadata": {},
   "outputs": [],
   "source": [
    "# make a list of unique archetypes \n",
    "archetype_list = gdf2['archetype'].unique().tolist()"
   ]
  },
  {
   "cell_type": "code",
   "execution_count": null,
   "metadata": {},
   "outputs": [],
   "source": [
    "folium_marker_layer_map(gdf = gdf2,\n",
    "                        gdfvar=\"archetype\",\n",
    "                        layername = \"Address Points for Prisons\",\n",
    "                        color_levels = archetype_list)"
   ]
  },
  {
   "cell_type": "code",
   "execution_count": null,
   "metadata": {},
   "outputs": [],
   "source": [
    "# Block 490351116003000 has 2,079 prison population\n",
    "map_selected_block(addpt_inv_df, blocknum='490351116003000',\n",
    "                        gdfvar = \"addrptid\",\n",
    "                        laryername = \"Address Points per building\")"
   ]
  },
  {
   "cell_type": "code",
   "execution_count": null,
   "metadata": {},
   "outputs": [],
   "source": [
    "# Block 490351116003000 has 2,079 prison population\n",
    "map_selected_block(hua_hui_gdf, blocknum='490351116003000')"
   ]
  },
  {
   "cell_type": "markdown",
   "metadata": {},
   "source": [
    "It looks like the building inventory does not include the main prisons in the county."
   ]
  },
  {
   "cell_type": "markdown",
   "metadata": {},
   "source": [
    "## Explore the HUA Results"
   ]
  },
  {
   "cell_type": "code",
   "execution_count": null,
   "metadata": {},
   "outputs": [],
   "source": [
    "# What location should the map be centered on?\n",
    "center_x = hua_hui_gdf.bounds.minx.mean()\n",
    "center_y = hua_hui_gdf.bounds.miny.mean()\n",
    "center_x, center_y\n",
    "\n"
   ]
  },
  {
   "cell_type": "code",
   "execution_count": null,
   "metadata": {},
   "outputs": [],
   "source": [
    "# visualize population by income and tenure status\n",
    "lowincome_renters_gdf = hua_hui_gdf.loc[(hua_hui_gdf.hhinc < 3) &\n",
    "                                    (hua_hui_gdf['ownershp'] == 2)].copy(deep=True)\n",
    "map = viz.plot_gdf_map(lowincome_renters_gdf,column='hhinc', category=True)\n",
    "map"
   ]
  },
  {
   "cell_type": "code",
   "execution_count": null,
   "metadata": {},
   "outputs": [],
   "source": [
    "map = viz.plot_gdf_map(hua_hui_gdf,column='hhinc', category=True)\n",
    "map"
   ]
  },
  {
   "cell_type": "code",
   "execution_count": null,
   "metadata": {},
   "outputs": [],
   "source": [
    "popdata = lowincome_renters_gdf[['y','x','numprec']].values.tolist()\n",
    "map = Map(center=[center_y,center_x], zoom=11)\n",
    "\n",
    "low_income_renters = Heatmap(\n",
    "    locations = popdata,\n",
    "    radius = 10, \n",
    "    max_val = 1000, \n",
    "    blur = 10, \n",
    "    gradient={0.2: 'yellow', 0.5: 'orange', 1.0: 'red'},\n",
    "    name = 'Low Income Renters',\n",
    ")\n",
    "\n",
    "map.add_layer(low_income_renters);\n",
    "control = LayersControl(position='topright')\n",
    "map.add_control(control)\n",
    "map"
   ]
  },
  {
   "cell_type": "code",
   "execution_count": null,
   "metadata": {},
   "outputs": [],
   "source": [
    "numprec_gdf = hua_hui_gdf.loc[(hua_hui_gdf.numprec >= 0)].copy(deep=True)\n",
    "popdata = numprec_gdf[['y','x','numprec']].values.tolist()\n",
    "map = Map(center=[center_y,center_x], zoom=11)\n",
    "\n",
    "popmap = Heatmap(\n",
    "    locations = popdata,\n",
    "    radius = 10, \n",
    "    max_val = 10000, \n",
    "    blur = 10, \n",
    "    gradient={0.2: 'yellow', 0.5: 'orange', 1.0: 'red'},\n",
    "    name = 'Population Heat Map',\n",
    ")\n",
    "\n",
    "map.add_layer(popmap)\n",
    "control = LayersControl(position='topright')\n",
    "map.add_control(control)\n",
    "map\n"
   ]
  },
  {
   "cell_type": "code",
   "execution_count": null,
   "metadata": {},
   "outputs": [],
   "source": [
    "race1 = hua_hui_gdf.loc[(hua_hui_gdf.race == 1) & \n",
    "                    (hua_hui_gdf.hispan == 0) &\n",
    "                    (hua_hui_gdf.hhinc == 5) &\n",
    "                    (hua_hui_gdf.ownershp == 1) ].copy(deep=True)\n",
    "# print how many people are in the race1 dataframe\n",
    "print(\"map 1 has \",race1['numprec'].sum(),\" people\")\n",
    "\n",
    "popdata1 = race1[['y','x','numprec']].values.tolist()\n",
    "race2 = hua_hui_gdf.loc[(hua_hui_gdf.race == 2) & \n",
    "                    (hua_hui_gdf.hispan == 0) &\n",
    "                    (hua_hui_gdf.hhinc == 1) &\n",
    "                    (hua_hui_gdf.ownershp == 2) ].copy(deep=True)\n",
    "# print how many people are in the race1 dataframe\n",
    "print(\"map 2 has \",race2['numprec'].sum(),\" people\")\n",
    "popdata2 = race2[['y','x','numprec']].values.tolist()\n",
    "\n",
    "map = Map(center=[center_y,center_x], zoom=11)\n",
    "\n",
    "popmap1 = Heatmap(\n",
    "    locations = popdata1,\n",
    "    radius = 10, \n",
    "    max_val = 10000, \n",
    "    blur = 10, \n",
    "    gradient={0.2: 'yellow', 0.5: 'orange', 1.0: 'red'},\n",
    "    name = 'White, High Income, Owner'\n",
    ")\n",
    "\n",
    "popmap2 = Heatmap(\n",
    "    locations = popdata2,\n",
    "    radius = 10, \n",
    "    max_val = 10000, \n",
    "    blur = 10, \n",
    "    gradient={0.2: 'green', 0.5: 'blue', 1.0: 'purple'},\n",
    "    name = 'Black Low Income, Renter'\n",
    ")\n",
    "\n",
    "map.add_layer(popmap1)\n",
    "map.add_layer(popmap2)\n",
    "control = LayersControl(position='topright')\n",
    "map.add_control(control)\n",
    "map\n"
   ]
  },
  {
   "cell_type": "code",
   "execution_count": null,
   "metadata": {},
   "outputs": [],
   "source": [
    "race1 = hua_hui_gdf.loc[(hua_hui_gdf.race == 1) & \n",
    "                    (hua_hui_gdf.hispan == 0) ].copy(deep=True)\n",
    "# print how many people are in the race1 dataframe\n",
    "print(\"map 1 has \",race1['numprec'].sum(),\" people\")\n",
    "\n",
    "popdata1 = race1[['y','x','numprec']].values.tolist()\n",
    "race2 = hua_hui_gdf.loc[(hua_hui_gdf.race == 2) & \n",
    "                    (hua_hui_gdf.hispan == 0) ].copy(deep=True)\n",
    "# print how many people are in the race1 dataframe\n",
    "print(\"map 2 has \",race2['numprec'].sum(),\" people\")\n",
    "popdata2 = race2[['y','x','numprec']].values.tolist()\n",
    "\n",
    "map = Map(center=[center_y,center_x], zoom=11)\n",
    "\n",
    "popmap1 = Heatmap(\n",
    "    locations = popdata1,\n",
    "    radius = 10, \n",
    "    max_val = 10000, \n",
    "    blur = 10, \n",
    "    gradient={0.2: 'yellow', 0.5: 'orange', 1.0: 'red'},\n",
    "    name = 'White, Not Hispanic'\n",
    ")\n",
    "\n",
    "popmap2 = Heatmap(\n",
    "    locations = popdata2,\n",
    "    radius = 10, \n",
    "    max_val = 10000, \n",
    "    blur = 10, \n",
    "    gradient={0.2: 'green', 0.5: 'blue', 1.0: 'purple'},\n",
    "    name = 'Black, Not Hispanic'\n",
    ")\n",
    "\n",
    "map.add_layer(popmap1)\n",
    "map.add_layer(popmap2)\n",
    "control = LayersControl(position='topright')\n",
    "map.add_control(control)\n",
    "map\n"
   ]
  },
  {
   "cell_type": "code",
   "execution_count": null,
   "metadata": {},
   "outputs": [],
   "source": [
    "#racedot_map(hua_gdf,column='race', category=True)"
   ]
  },
  {
   "cell_type": "code",
   "execution_count": null,
   "metadata": {},
   "outputs": [],
   "source": [
    "popdata = hua_hui_gdf.loc[(hua_hui_gdf.race >= 1)].copy(deep=True)\n",
    "df_wm = popdata.to_crs(epsg=3857)\n",
    "ax = df_wm.plot(figsize=(10, 10), column='race',\n",
    "                      categorical=True, legend=True, markersize = 0.001)\n",
    "cx.add_basemap(ax, source=cx.providers.Stamen.TonerLite)\n",
    "cx.add_basemap(ax, source=cx.providers.Stamen.TonerLabels)"
   ]
  },
  {
   "cell_type": "code",
   "execution_count": null,
   "metadata": {},
   "outputs": [],
   "source": [
    "popdata = hua_hui_gdf.loc[(hua_hui_gdf.race >= 1) &\n",
    "                       (hua_hui_gdf.placeNAME10 == \"Salt Lake City\") ].copy(deep=True)\n",
    "df_wm = popdata.to_crs(epsg=3857)\n",
    "ax = df_wm.plot(figsize=(10, 10), column='race',\n",
    "                      categorical=True, legend=True, markersize = 0.01)\n",
    "cx.add_basemap(ax, source=cx.providers.Stamen.TonerLite)\n",
    "cx.add_basemap(ax, source=cx.providers.Stamen.TonerLabels)"
   ]
  }
 ],
 "metadata": {
  "colab": {
   "name": "IN-CORE_1dv1_Lumberton_CleanLODESdata_2021-05-06.ipynb",
   "provenance": []
  },
  "kernelspec": {
   "display_name": "Python 3.9.13 ('pyincore20220926')",
   "language": "python",
   "name": "python3"
  },
  "language_info": {
   "codemirror_mode": {
    "name": "ipython",
    "version": 3
   },
   "file_extension": ".py",
   "mimetype": "text/x-python",
   "name": "python",
   "nbconvert_exporter": "python",
   "pygments_lexer": "ipython3",
   "version": "3.9.13"
  },
  "vscode": {
   "interpreter": {
    "hash": "611d5f95e40fe0aad04395675b248f1a7126a9d892f3602f1d39fb4005cc0d20"
   }
  }
 },
 "nbformat": 4,
 "nbformat_minor": 1
}
