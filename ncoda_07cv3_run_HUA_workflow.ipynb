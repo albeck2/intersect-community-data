{
 "cells": [
  {
   "cell_type": "markdown",
   "metadata": {
    "id": "nDetVnGnoHR-"
   },
   "source": [
    "# Housing Unit Allocation Full Workflow\n",
    "\n",
    "## Overview\n",
    "Given a building inventory that uses IN-CORE standard columns, run housing unit allocation.\n",
    "This process checks to see if the housing unit inventory is available and if not it will create it.\n",
    "This process checks to see if the address point inventory is available and if not it will create it.\n",
    "\n",
    "With the housing unit inventory and address point inventory created, they will be uploaded to IN-CORE Dataservice.\n",
    "\n",
    "With the required files on IN-CORE Dataservice, the housing unit allocation method will run.\n",
    "Functions are provided to obtain and clean data required for the version 2 Housing Unit Allocation. \n",
    "\n",
    "## Required Inputs\n",
    "Program requires the following inputs:\n",
    "1. Building inventory file from pyincore\n",
    "    - IN-CORE account\n",
    "    \n",
    "## Output Description\n",
    "The output of this workflow is a CSV file with the housing unit inventory allocated to a building inventory using the housing unit allocation model.\n",
    "\n",
    "The output CSV is designed to be used in the Interdependent Networked Community Resilience Modeling Environment (IN-CORE).\n",
    "\n",
    "IN-CORE is an open source python package that can be used to model the resilience of a community. To download IN-CORE, see:\n",
    "\n",
    "https://incore.ncsa.illinois.edu/\n",
    "\n",
    "\n",
    "## Instructions\n",
    "Users can run the workflow by executing each block of code in the notebook."
   ]
  },
  {
   "cell_type": "markdown",
   "metadata": {},
   "source": [
    "## Description of Program\n",
    "- program:    ncoda_07cv1_run_HUA_workflow\n",
    "- task:       Start with building inventory and run housing unit allocation algorithm\n",
    "- See github commits for description of program updates\n",
    "- Current Version:    2022-08-29 - v2 workflow\n",
    "- 2022-10-06 - clean up code and test output for Salt Lake City\n",
    "- project:    Interdependent Networked Community Resilience Modeling Environment (IN-CORE), Subtask 5.2 - Social Institutions\n",
    "- funding:\t  NIST Financial Assistance Award Numbers: 70NANB15H044 and 70NANB20H008 \n",
    "- author:     Nathanael Rosenheim\n",
    "\n",
    "- Suggested Citation:\n",
    "Rosenheim, Nathanael (2021) “Detailed Household and Housing Unit Characteristics: Data and Replication Code.” DesignSafe-CI. \n",
    "https://doi.org/10.17603/ds2-jwf6-s535."
   ]
  },
  {
   "cell_type": "markdown",
   "metadata": {},
   "source": [
    "## Setup Python Environment"
   ]
  },
  {
   "cell_type": "code",
   "execution_count": null,
   "metadata": {},
   "outputs": [],
   "source": [
    "import pandas as pd\n",
    "import geopandas as gpd # For reading in shapefiles\n",
    "import numpy as np\n",
    "import sys # For displaying package versions\n",
    "import os # For managing directories and file paths if drive is mounted\n",
    "\n",
    "from pyincore import IncoreClient, Dataset, FragilityService, MappingSet, DataService\n",
    "from pyincore.analyses.buildingdamage.buildingdamage import BuildingDamage\n",
    "\n",
    "from pyincore_viz.geoutil import GeoUtil as viz"
   ]
  },
  {
   "cell_type": "code",
   "execution_count": null,
   "metadata": {},
   "outputs": [],
   "source": [
    "# To reload submodules need to use this magic command to set autoreload on\n",
    "%load_ext autoreload\n",
    "%autoreload 2\n",
    "# open, read, and execute python program with reusable commands\n",
    "from pyncoda.ncoda_00b_directory_design import directory_design\n",
    "from pyncoda.ncoda_07a_generate_hui import generate_hui_functions\n",
    "from pyncoda.ncoda_07c_generate_addpt import generate_addpt_functions\n",
    "from pyncoda.ncoda_07d_run_hua_workflow import hua_workflow_functions\n"
   ]
  },
  {
   "cell_type": "code",
   "execution_count": null,
   "metadata": {},
   "outputs": [],
   "source": [
    "import scooby # Reports Python environment"
   ]
  },
  {
   "cell_type": "code",
   "execution_count": null,
   "metadata": {},
   "outputs": [],
   "source": [
    "# Generate report of Python environment\n",
    "print(scooby.Report(additional=['pandas','pyincore','pyincore_viz']))"
   ]
  },
  {
   "cell_type": "code",
   "execution_count": null,
   "metadata": {},
   "outputs": [],
   "source": [
    "# Check working directory - good practice for relative path access\n",
    "os.getcwd()"
   ]
  },
  {
   "cell_type": "code",
   "execution_count": null,
   "metadata": {},
   "outputs": [],
   "source": [
    "# Edit Data Dictionary for Community\n",
    "\n",
    "# Example of data dictionary for one community with one county\n",
    "# Check how to capitalize the state name at\n",
    "## https://www2.census.gov/geo/tiger/TIGER2020PL/STATE/\n",
    "\n",
    "# NOTE on file path length. WINDOWS has a limit of 260 characters for file path length.\n",
    "# Community name needs to be short to avoid this limit.\n",
    "\n",
    "'''\n",
    "communities = {'Mobile_AL' : {\n",
    "                    'community_name' : 'Mobile, AL',\n",
    "                    'STATE' : 'ALABAMA',\n",
    "                    'years' : ['2010'],\n",
    "                    'counties' : { \n",
    "                        1 : {'FIPS Code' : '01097', 'Name' : 'Mobile County, AL'}}}}\n",
    "'''\n",
    "\n",
    "\n",
    "communities = {'SLC_UT' : {\n",
    "                    'community_name' : 'Salt Lake City, UT',\n",
    "                    'STATE' : 'UTAH',\n",
    "                    'years' : ['2010'],\n",
    "                    'counties' : { \n",
    "                        1 : {'FIPS Code' : '49035', 'Name' : 'Salt Lake City County, UT'}}}}"
   ]
  },
  {
   "cell_type": "markdown",
   "metadata": {},
   "source": [
    "## Step 1: Set up pyincore and read in data\n",
    "IN-CORE is an open source python package that can be used to model the resilience of a community. To download IN-CORE, see:\n",
    "\n",
    "https://incore.ncsa.illinois.edu/\n",
    "\n",
    "Registration is free."
   ]
  },
  {
   "cell_type": "code",
   "execution_count": null,
   "metadata": {},
   "outputs": [],
   "source": [
    "client = IncoreClient()\n",
    "# IN-CORE caches files on the local machine, it might be necessary to clear the memory\n",
    "client.clear_cache() "
   ]
  },
  {
   "cell_type": "code",
   "execution_count": null,
   "metadata": {},
   "outputs": [],
   "source": [
    "# create data_service object for loading files\n",
    "data_service = DataService(client)"
   ]
  },
  {
   "cell_type": "markdown",
   "metadata": {},
   "source": [
    "## Read in Housing Unit Inventory or create a new one"
   ]
  },
  {
   "cell_type": "code",
   "execution_count": null,
   "metadata": {},
   "outputs": [],
   "source": [
    "version = '2.0.0'\n",
    "version_text = 'v2-0-0'\n",
    "\n",
    "# Save Outputfolder - due to long folder name paths output saved to folder with shorter name\n",
    "# files from this program will be saved with the program name - \n",
    "# this helps to follow the overall workflow\n",
    "outputfolder = \"OutputData\"\n",
    "\n",
    "# Set random seed for reproducibility\n",
    "seed = 1000\n",
    "basevintage = 2010\n",
    "\n",
    "generate_hui_df = generate_hui_functions(\n",
    "                    communities =   communities,\n",
    "                    seed =          seed,\n",
    "                    version =       version,\n",
    "                    version_text=   version_text,\n",
    "                    basevintage=    basevintage,\n",
    "                    outputfolder=   outputfolder\n",
    "                    )\n",
    "\n",
    "hui_dataset_id = generate_hui_df.generate_hui_v2_for_incore()"
   ]
  },
  {
   "cell_type": "code",
   "execution_count": null,
   "metadata": {},
   "outputs": [],
   "source": [
    "# Housing Unit inventory\n",
    "housing_unit_inv_id = hui_dataset_id\n",
    "# load housing unit inventory as pandas dataframe\n",
    "housing_unit_inv = Dataset.from_data_service(housing_unit_inv_id, data_service)\n",
    "filename = housing_unit_inv.get_file_path('csv')\n",
    "print(\"The IN-CORE Dataservice has saved the Housing Unit Inventory on your local machine: \"+filename)"
   ]
  },
  {
   "cell_type": "code",
   "execution_count": null,
   "metadata": {},
   "outputs": [],
   "source": [
    "housing_unit_inv_df = pd.read_csv(filename, header=\"infer\")"
   ]
  },
  {
   "cell_type": "code",
   "execution_count": null,
   "metadata": {},
   "outputs": [],
   "source": [
    "housing_unit_inv_df['huid'].describe()"
   ]
  },
  {
   "cell_type": "markdown",
   "metadata": {},
   "source": [
    "## Read in Building Inventory"
   ]
  },
  {
   "cell_type": "code",
   "execution_count": null,
   "metadata": {},
   "outputs": [],
   "source": [
    "# Building inventory\n",
    "bldg_inv_id = \"62fea288f5438e1f8c515ef8\" # SLC building inventory - Milad Roohi\n",
    "# load building inventory\n",
    "bldg_inv = Dataset.from_data_service(bldg_inv_id, data_service)\n",
    "filename = bldg_inv.get_file_path('shp')\n",
    "print(\"The IN-CORE Dataservice has saved the Building Inventory on your local machine: \"+filename)"
   ]
  },
  {
   "cell_type": "code",
   "execution_count": null,
   "metadata": {},
   "outputs": [],
   "source": [
    "bldg_inv_gdf = gpd.read_file(filename)\n",
    "# Check CRS of building inventory\n",
    "bldg_inv_gdf.crs"
   ]
  },
  {
   "cell_type": "code",
   "execution_count": null,
   "metadata": {},
   "outputs": [],
   "source": [
    "from pyproj import CRS\n",
    "# Update CRS to EPSG:4326 if not already in that format\n",
    "if bldg_inv_gdf.crs != CRS.from_epsg(4326):\n",
    "    bldg_inv_gdf = bldg_inv_gdf.to_crs(epsg=4326)\n",
    "    print(\"The CRS of the building inventory has been updated to EPSG:4326\")\n",
    "else:\n",
    "    print(\"The CRS of the building inventory is already in EPSG:4326\")"
   ]
  },
  {
   "cell_type": "code",
   "execution_count": null,
   "metadata": {},
   "outputs": [],
   "source": [
    "# Check Unique ID\n",
    "bldg_inv_gdf[['guid','bldg_id']].astype(str).describe().T"
   ]
  },
  {
   "cell_type": "code",
   "execution_count": null,
   "metadata": {},
   "outputs": [],
   "source": [
    "bldg_inv_gdf.head(1).T"
   ]
  },
  {
   "cell_type": "code",
   "execution_count": null,
   "metadata": {},
   "outputs": [],
   "source": [
    "# What variable has information to determine if building is residential or not?\n",
    "# County observations by variable\n",
    "bldg_inv_gdf[['archetype','occ_type','guid']].groupby(['archetype','occ_type']).count()"
   ]
  },
  {
   "cell_type": "markdown",
   "metadata": {},
   "source": [
    "#### HAZUS Occupancy Status\n",
    "Table 3-1: Hazus Occupancy Class Definitions\n",
    "\n",
    "| Label             | Hazus Occupancy Class            |\n",
    "|-------------------|----------------------------------|\n",
    "|                   | Residential                      |\n",
    "| RES1              | Single Family Dwelling           |\n",
    "| RES2              | Mobile / Manufactured Home       |\n",
    "| RES3A            | RES3A Duplex                      |\n",
    "| RES3B            | RES3B 3-4 Units                   |\n",
    "| RES3C  |  5-9 Units                 |\n",
    "| RES3D  |  10-19 Units                         |\n",
    "| RES3E  |   20-49 Units                      |\n",
    "| RES3F |   50+ Units                       |\n",
    "| RES4              | Temporary Lodging                |\n",
    "| RES5              | Institutional Dormitory          |\n",
    "| RES6              | Nursing Home                     |\n",
    "|-------|------------------------------------|\n",
    "|                   | Commercial                       |\n",
    "| COM1              | Retail Trade                     |\n",
    "| COM2              | Wholesale Trade                  |\n",
    "| COM3              | Personal and Repair Services     |\n",
    "| COM4              | Professional/Technical Services  |\n",
    "| COM5  | Banks                              |\n",
    "| COM6  | Hospital                           |\n",
    "| COM7  | Medical Office/Clinic              |\n",
    "| COM8  | Entertainment & Recreation         |\n",
    "| COM9  | Theaters                           |\n",
    "| COM10 | Parking                            |\n",
    "|------|------------------------|\n",
    "|       | Industrial                         |\n",
    "|------|------------------------|\n",
    "| IND1  | Heavy                              |\n",
    "| IND2  | Light                              |\n",
    "| IND3  | Food/Drugs/Chemicals               |\n",
    "| IND4  | Metals/Minerals Processing         |\n",
    "| IND5  | High Technology                    |\n",
    "| IND6  | Construction                       |\n",
    "|------|------------------------|\n",
    "|       | Agriculture                        |\n",
    "|------|------------------------|\n",
    "| AGR1  | Agriculture                        |\n",
    "|       | Religion/Membership Organizations  |\n",
    "| REL1  | Church/Nonprofit                   |\n",
    "|------|------------------------|\n",
    "|       | Government                         |\n",
    "|------|------------------------|\n",
    "| GOV1  | General Services                   |\n",
    "| GOV2  | Emergency Response                 |\n",
    "|------|------------------------|\n",
    "|      | Education              |\n",
    "|------|------------------------|\n",
    "| EDU1 | Grade School, Library  |\n",
    "| EDU2 | College/University     |\n"
   ]
  },
  {
   "cell_type": "markdown",
   "metadata": {},
   "source": [
    "### Find Spatial Extent of Building Inventory\n",
    "Need to know which counties are included in the building inventory."
   ]
  },
  {
   "cell_type": "code",
   "execution_count": null,
   "metadata": {},
   "outputs": [],
   "source": [
    "#map = viz.plot_gdf_map(bldg_inv_gdf,column='dlevel')\n",
    "#map"
   ]
  },
  {
   "cell_type": "markdown",
   "metadata": {},
   "source": [
    "#### Use Tract ID to find county FIPS code\n",
    "The first 5 digits of the tract ID are the FIPS code for the county."
   ]
  },
  {
   "cell_type": "code",
   "execution_count": null,
   "metadata": {},
   "outputs": [],
   "source": [
    "bldg_inv_gdf['tract_id'].describe()"
   ]
  },
  {
   "cell_type": "code",
   "execution_count": null,
   "metadata": {},
   "outputs": [],
   "source": [
    "# Substring of tractid to get county 5 digit fips code \n",
    "# covert tract_id to string with leading zeros\n",
    "bldg_inv_gdf['tract_id_str'] = bldg_inv_gdf['tract_id'].astype(str).str.zfill(11)\n",
    "bldg_inv_gdf['county'] = bldg_inv_gdf['tract_id_str'].str[:5]\n",
    "bldg_inv_gdf[['tract_id_str','county']].describe()"
   ]
  },
  {
   "cell_type": "markdown",
   "metadata": {},
   "source": [
    "### Building Inventory File has 1 county\n",
    "The Salt Late City building inventory only has 1 county."
   ]
  },
  {
   "cell_type": "markdown",
   "metadata": {},
   "source": [
    "## Generate Address Point Inventory\n"
   ]
  },
  {
   "cell_type": "code",
   "execution_count": null,
   "metadata": {},
   "outputs": [],
   "source": [
    "Nofal_residential_archetypes = { \n",
    "        1 : 'One-story sf residential building on a crawlspace foundation',\n",
    "        2 : 'One-story mf residential building on a slab-on-grade foundation',\n",
    "        3 : 'Two-story sf residential building on a crawlspace foundation',\n",
    "        4 : 'Two-story mf residential building on a slab-on-grade foundation'}\n",
    "\n",
    "# HAZUS Archetypes for residential buildings inlcude an estimate of housing units\n",
    "HAZUS_residential_archetypes = { \n",
    "    \"RES1\" : {'Description' : \"Single Family Dwelling\", 'HU estimate' : 1},\n",
    "    \"RES2\" : {'Description' : \"Mobile / Manufactured Home\", 'HU estimate' : 1},\n",
    "    \"RES3A\" : {'Description' : \"Duplex\", 'HU estimate' : 2},\n",
    "    \"RES3B\" : {'Description' : \"3-4 Units\", 'HU estimate' : 3},\n",
    "    \"RES3C\" : {'Description' : \"5-9 Units\", 'HU estimate' : 7},\n",
    "    \"RES3D\" : {'Description' : \"10-19 Units\", 'HU estimate' : 15},\n",
    "    \"RES3E\" : {'Description' : \"20-49 Units\", 'HU estimate' : 30},\n",
    "    \"RES3F\" : {'Description' : \"50+ Units\", 'HU estimate' : 50},\n",
    "    \"RES4\" : {'Description' : \"Temporary Lodging\", 'HU estimate' : 1},\n",
    "    \"RES5\" : {'Description' : \"Institutional Dormitory\", 'HU estimate' : 1},\n",
    "    \"RES6\" : {'Description' : \"Nursing Home\", 'HU estimate' : 1}\n",
    "    }\n",
    "\n",
    "residential_archetypes = HAZUS_residential_archetypes "
   ]
  },
  {
   "cell_type": "code",
   "execution_count": null,
   "metadata": {},
   "outputs": [],
   "source": [
    "for community in communities.keys():\n",
    "    print(\"Address point inventory for: \"+community)\n",
    "    print(\"Based on building inventory: \"+bldg_inv_id)\n",
    "    generate_addpt_df = generate_addpt_functions(\n",
    "                        community =   community,\n",
    "                        communities = communities,\n",
    "                        hui_df = housing_unit_inv_df,\n",
    "                        bldg_inv_gdf = bldg_inv_gdf,\n",
    "                        bldg_inv_id = bldg_inv_id,\n",
    "                        residential_archetypes = residential_archetypes,\n",
    "                        archetype_var = 'archetype',\n",
    "                        building_area_var = 'sq_foot',\n",
    "                        building_area_cutoff = 300,\n",
    "                        seed =          seed,\n",
    "                        version =       version,\n",
    "                        version_text=   version_text,\n",
    "                        basevintage=    basevintage,\n",
    "                        outputfolder=   outputfolder\n",
    "                        )\n",
    "\n",
    "    addpt_dataset_id = generate_addpt_df.generate_addpt_v2_for_incore()"
   ]
  },
  {
   "cell_type": "markdown",
   "metadata": {},
   "source": [
    "### Read in Address Point Inventory\n",
    "The address point inventory is an intermediate file based on the building inventory. The address point inventory acts as the bridge between the building inventory and the housing unit inventory."
   ]
  },
  {
   "cell_type": "code",
   "execution_count": null,
   "metadata": {},
   "outputs": [],
   "source": [
    "# Check if addpt_dataset_id is string\n",
    "if isinstance(addpt_dataset_id, str):\n",
    "    print(\"The Address Point Inventory ID is a pandas string\")\n",
    "    # Address Point inventory\n",
    "    addpt_inv_id = addpt_dataset_id\n",
    "    # load housing unit inventory as pandas dataframe\n",
    "    addpt_inv = Dataset.from_data_service(addpt_inv_id, data_service)\n",
    "    filename = addpt_inv.get_file_path('csv')\n",
    "    print(\"The IN-CORE Dataservice has saved the Address Point Inventory on your local machine: \"+filename)\n",
    "    addpt_inv_df = pd.read_csv(filename, header=\"infer\")\n",
    "# else if addpt_dataset_id is a dataframe\n",
    "elif isinstance(addpt_dataset_id, pd.DataFrame):\n",
    "    addpt_inv_df = addpt_dataset_id\n",
    "    print(\"The Address Point Inventory ID contains a pandas dataframe\")\n",
    "else:\n",
    "    print(\"The Address Point Inventory is not a string or pandas dataframe\")"
   ]
  },
  {
   "cell_type": "code",
   "execution_count": null,
   "metadata": {},
   "outputs": [],
   "source": [
    "#addpt_inv_df = pd.read_csv(filename, header=\"infer\")\n",
    "addpt_inv_df['addrptid'].describe()"
   ]
  },
  {
   "cell_type": "markdown",
   "metadata": {},
   "source": [
    "## Step 2: Housing Unit Allocation v2"
   ]
  },
  {
   "cell_type": "markdown",
   "metadata": {},
   "source": [
    "### Setup Housing Unit Allocation"
   ]
  },
  {
   "cell_type": "markdown",
   "metadata": {},
   "source": [
    "### Run Housing Unit Allocation"
   ]
  },
  {
   "cell_type": "code",
   "execution_count": null,
   "metadata": {},
   "outputs": [],
   "source": [
    "for community in communities.keys():\n",
    "    print(\"Housing Unit Allocation for: \"+community)\n",
    "    print(\"Based on housing unit inventory: \"+hui_dataset_id)\n",
    "    print(\"Based on building inventory: \"+bldg_inv_id)\n",
    "\n",
    "    outputfolders = directory_design(state_county_name = community,\n",
    "                                            outputfolder = outputfolder)\n",
    "\n",
    "    run_hua_gdf = hua_workflow_functions(\n",
    "                        community =   community,\n",
    "                        hui_df = housing_unit_inv_df,\n",
    "                        bldg_gdf = bldg_inv_gdf,\n",
    "                        addpt_df = addpt_inv_df,\n",
    "                        seed =          seed,\n",
    "                        version =       version,\n",
    "                        version_text=   version_text,\n",
    "                        basevintage=    basevintage,\n",
    "                        outputfolder=   outputfolder,\n",
    "                        outputfolders = outputfolders\n",
    "                        )\n",
    "\n",
    "    hua_gdf = run_hua_gdf.housing_unit_allocation_workflow()"
   ]
  },
  {
   "cell_type": "markdown",
   "metadata": {},
   "source": [
    "## Check block with missing huid match\n"
   ]
  },
  {
   "cell_type": "code",
   "execution_count": null,
   "metadata": {},
   "outputs": [],
   "source": [
    "hua_gdf.head()"
   ]
  },
  {
   "cell_type": "code",
   "execution_count": null,
   "metadata": {},
   "outputs": [],
   "source": [
    "hua_gdf.head(1).T"
   ]
  },
  {
   "cell_type": "code",
   "execution_count": null,
   "metadata": {},
   "outputs": [],
   "source": [
    "# describe the housing unit allocation primary keys and foreign keys\n",
    "hua_gdf[['huid','Block2010','addrptid','guid','strctid']].describe().T"
   ]
  },
  {
   "cell_type": "code",
   "execution_count": null,
   "metadata": {},
   "outputs": [],
   "source": [
    "from pyncoda.ncoda_04b_foliummaps import *"
   ]
  },
  {
   "cell_type": "code",
   "execution_count": null,
   "metadata": {},
   "outputs": [],
   "source": [
    "map_selected_block(hua_gdf, blocknum='490351003061000')\n"
   ]
  },
  {
   "cell_type": "code",
   "execution_count": null,
   "metadata": {},
   "outputs": [],
   "source": [
    "# explore building inventory\n",
    "addpt_inv_df.head(1).T"
   ]
  },
  {
   "cell_type": "code",
   "execution_count": null,
   "metadata": {},
   "outputs": [],
   "source": [
    "# Look at address point inventory for a single block\n",
    "condition1 = (addpt_inv_df['BLOCKID10_str'] == 'B490351003061000')\n",
    "condition2 = (addpt_inv_df['huestimate'] >5)\n",
    "\n",
    "addpt_inv_df[condition1 & condition2].head(10)"
   ]
  },
  {
   "cell_type": "code",
   "execution_count": null,
   "metadata": {},
   "outputs": [],
   "source": [
    "map_selected_block(addpt_inv_df, blocknum='490351003061000',\n",
    "                        gdfvar = \"addrptid\",\n",
    "                        laryername = \"Address Points per building\")\n"
   ]
  },
  {
   "cell_type": "code",
   "execution_count": null,
   "metadata": {},
   "outputs": [],
   "source": [
    "'''\n",
    "MAP IS TOO LARGE 400+ MB\n",
    "# Check guid with missing address point id\n",
    "condition1 = (hua_gdf['archetype'] == 'RES5')\n",
    "gdf1 = hua_gdf.loc[condition1].copy()\n",
    "\n",
    "folium_marker_layer_map(gdf = hua_gdf,\n",
    "                        gdfvar=\"race\",\n",
    "                        layername = \"\",\n",
    "                        color_levels = [0,1,2,3,4,5,6,7])\n",
    "'''"
   ]
  },
  {
   "cell_type": "code",
   "execution_count": null,
   "metadata": {},
   "outputs": [],
   "source": [
    "\n",
    "\n",
    "# What location should the map be centered on?\n",
    "center_x = hua_gdf.bounds.minx.mean()\n",
    "center_y = hua_gdf.bounds.miny.mean()\n",
    "\n"
   ]
  }
 ],
 "metadata": {
  "colab": {
   "name": "IN-CORE_1dv1_Lumberton_CleanLODESdata_2021-05-06.ipynb",
   "provenance": []
  },
  "kernelspec": {
   "display_name": "Python 3.9.13 ('pyincore20220926')",
   "language": "python",
   "name": "python3"
  },
  "language_info": {
   "codemirror_mode": {
    "name": "ipython",
    "version": 3
   },
   "file_extension": ".py",
   "mimetype": "text/x-python",
   "name": "python",
   "nbconvert_exporter": "python",
   "pygments_lexer": "ipython3",
   "version": "3.9.13"
  },
  "vscode": {
   "interpreter": {
    "hash": "611d5f95e40fe0aad04395675b248f1a7126a9d892f3602f1d39fb4005cc0d20"
   }
  }
 },
 "nbformat": 4,
 "nbformat_minor": 1
}
