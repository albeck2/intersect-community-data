{
 "cells": [
  {
   "attachments": {},
   "cell_type": "markdown",
   "metadata": {
    "id": "-Sd0f_DG1s43"
   },
   "source": [
    "# Student Record File Workflow\n",
    "\n",
    "## Overview\n",
    "Functions to obtain and clean data required for the Student Record File in Python using Census API and NCES files. \n",
    "\n",
    "The workflow produces a Student Person Record (SREC) file that can be linked to the Person Record File. The file includes student level records with sex, grade level, race and ethnicity.\n",
    "\n",
    "Based on NCES data. \n",
    "\n",
    "The output of this workflow is a CSV file with the student record file.\n",
    "\n",
    "The output CSV is designed to be used in the Interdependent Networked Community Resilience Modeling Environment (IN-CORE) for the housing unit allocation model.\n",
    "\n",
    "IN-CORE is an open source python package that can be used to model the resilience of a community. To download IN-CORE, see:\n",
    "\n",
    "https://incore.ncsa.illinois.edu/\n",
    "\n",
    "\n",
    "## Instructions\n",
    "Users can run the workflow by executing each block of code in the notebook.\n",
    "\n",
    "Users can modify the code to select one county or multiple counties."
   ]
  },
  {
   "attachments": {},
   "cell_type": "markdown",
   "metadata": {},
   "source": [
    "## Description of Program\n",
    "- program:    ncoda_07ev1_run_SREC_workflow\n",
    "- task:       Obtain School Location and Attendance Boundaries\n",
    "- Version:    2023-02-10\n",
    "- project:    Interdependent Networked Community Resilience Modeling Environment (IN-CORE) Subtask 5.2 - Social Institutions\n",
    "- funding:\t  NIST Financial Assistance Award Numbers: 70NANB15H044 and 70NANB20H008 \n",
    "- author:     Nathanael Rosenheim\n",
    "\n",
    "- Suggested Citation:\n",
    "Rosenheim, Nathanael (2021) “Detailed Household and Housing Unit Characteristics: Data and Replication Code.” DesignSafe-CI. \n",
    "https://doi.org/10.17603/ds2-jwf6-s535."
   ]
  },
  {
   "cell_type": "markdown",
   "metadata": {
    "id": "CkwXvHYU1s47"
   },
   "source": [
    "## Setup Python Environment"
   ]
  },
  {
   "cell_type": "code",
   "execution_count": 1,
   "metadata": {
    "id": "t9TTIntO1s48"
   },
   "outputs": [],
   "source": [
    "# Import Python Packages Required for program\n",
    "import pandas as pd       # Pandas for reading in data \n",
    "import geopandas as gpd   # Geopandas for reading Shapefiles\n",
    "import numpy as np        # Numpy for working with arrays\n",
    "import os                 # Operating System (os) For folders and finding working directory\n",
    "import sys\n",
    "import zipfile            # Zipfile for working with compressed Zipped files\n",
    "import wget               # Wget for downloading files from the web\n",
    "import scooby # Reports Python environment"
   ]
  },
  {
   "cell_type": "code",
   "execution_count": 2,
   "metadata": {
    "id": "qlOlsz2L1s48",
    "outputId": "bd5e0f54-4a51-4903-cf97-ab0556121fc8"
   },
   "outputs": [
    {
     "name": "stdout",
     "output_type": "stream",
     "text": [
      "\n",
      "--------------------------------------------------------------------------------\n",
      "  Date: Mon Feb 13 17:04:07 2023 Central Standard Time\n",
      "\n",
      "                OS : Windows\n",
      "            CPU(s) : 12\n",
      "           Machine : AMD64\n",
      "      Architecture : 64bit\n",
      "               RAM : 31.6 GiB\n",
      "       Environment : Jupyter\n",
      "\n",
      "  Python 3.10.9 | packaged by conda-forge | (main, Feb  2 2023, 20:14:58) [MSC\n",
      "  v.1929 64 bit (AMD64)]\n",
      "\n",
      "            pandas : 1.3.5\n",
      "             numpy : 1.24.2\n",
      "             scipy : 1.10.0\n",
      "           IPython : 8.10.0\n",
      "        matplotlib : 3.6.3\n",
      "            scooby : 0.5.12\n",
      "--------------------------------------------------------------------------------\n"
     ]
    }
   ],
   "source": [
    "# Generate report of Python environment\n",
    "print(scooby.Report(additional=['pandas']))"
   ]
  },
  {
   "cell_type": "code",
   "execution_count": 3,
   "metadata": {},
   "outputs": [],
   "source": [
    "#To replicate this notebook Clone the Github Package to a folder that is a sibling of this notebook.\n",
    "# To access the sibling package you will need to append the parent directory ('..') to the system path list.\n",
    "# append the path of the directory that includes the github repository.\n",
    "# This step is not required when the package is in a folder below the notebook file.\n",
    "github_code_path  = \"\"\n",
    "sys.path.append(github_code_path)"
   ]
  },
  {
   "cell_type": "code",
   "execution_count": 4,
   "metadata": {},
   "outputs": [
    {
     "data": {
      "text/plain": [
       "'c:\\\\Users\\\\nathanael99\\\\MyProjects\\\\github\\\\intersect-community-data'"
      ]
     },
     "execution_count": 4,
     "metadata": {},
     "output_type": "execute_result"
    }
   ],
   "source": [
    "os.getcwd()"
   ]
  },
  {
   "cell_type": "code",
   "execution_count": 5,
   "metadata": {},
   "outputs": [],
   "source": [
    "# To reload submodules need to use this magic command to set autoreload on\n",
    "%load_ext autoreload\n",
    "%autoreload 2\n",
    "# open, read, and execute python program with reusable commands\n",
    "from pyncoda.CommunitySourceData.nces_ed_gov.nces_01a_downloadfiles \\\n",
    "    import *\n",
    "from pyncoda.CommunitySourceData.nces_ed_gov.nces_00c_cleanutils \\\n",
    "    import *\n",
    "from pyncoda.CommunitySourceData.nces_ed_gov.nces_02c_SRECcleanCCD \\\n",
    "    import *\n",
    "from pyncoda.CommunitySourceData.nces_ed_gov.nces_02d_SRECtidy \\\n",
    "    import *"
   ]
  },
  {
   "cell_type": "markdown",
   "metadata": {
    "id": "XJP5i6gq1s4_"
   },
   "source": [
    "## Obtain NCES Files\n",
    "This section of code provides details on the web addresses for obtaining the NCES data. These datafiles are quiet large. It is recommended that the files are downloaded once. To facilitate the downloading of the files a Comma Seperated Values (CSV) file was create using Microsoft Excel (note CSV files are easier to read into the notebook). The CSV file includes the descriptions and important file names to be obtained. This input file can be modified for different school years."
   ]
  },
  {
   "cell_type": "code",
   "execution_count": 6,
   "metadata": {},
   "outputs": [],
   "source": [
    "folder_path = 'pyncoda\\\\CommunitySourceData\\\\nces_ed_gov\\\\'\n",
    "filename = 'nces_00b_ObtainSchoolData_2023-02-10.csv'\n",
    "downloadlistcsv = folder_path + filename\n",
    "county_list = ['48245']\n",
    "communityname = \"JeffersonCounty_TX\"\n",
    "outputfolder = f\"OutputData\\\\{communityname}\\\\01_CommunitySourceData\"\n",
    "year = '2015-2016'"
   ]
  },
  {
   "cell_type": "code",
   "execution_count": 7,
   "metadata": {},
   "outputs": [
    {
     "name": "stdout",
     "output_type": "stream",
     "text": [
      "Directory Outputdata\\00_SourceData\\nces_ed_gov Already exists.\n",
      "Directory Outputdata\\00_SourceData\\nces_ed_gov\\unzipped Already exists.\n",
      "   Checking to see if file EDGE_GEOCODE_POSTSEC_FILEDOC.pdf has been downloaded...\n",
      "   file already exists in folder \n",
      "   Checking to see if file EDGE_GEOCODE_POSTSECONDARYSCH_1516.zip has been downloaded...\n",
      "   file already exists in folder \n",
      "   Checking to see if file EDGE_GEOCODE_PUBLIC_FILEDOC.pdf has been downloaded...\n",
      "   file already exists in folder \n",
      "   Checking to see if file EDGE_GEOCODE_PUBLICLEA_1516.zip has been downloaded...\n",
      "   file already exists in folder \n",
      "   Checking to see if file EDGE_GEOCODE_PUBLIC_FILEDOC.pdf has been downloaded...\n",
      "   file already exists in folder \n",
      "   Checking to see if file EDGE_GEOCODE_PUBLICSCH_1516.zip has been downloaded...\n",
      "   file already exists in folder \n",
      "   Checking to see if file EDGE_GEOCODE_PSS1718_FILEDOC.pdf has been downloaded...\n",
      "   file already exists in folder \n",
      "   Checking to see if file EDGE_GEOCODE_PRIVATESCH_15_16.zip has been downloaded...\n",
      "   file already exists in folder \n",
      "   Checking to see if file EDGE_SABS_2015_2016_TECHDOC.pdf has been downloaded...\n",
      "   file already exists in folder \n",
      "   Checking to see if file SABS_1516.zip has been downloaded...\n",
      "   file already exists in folder \n",
      "   Checking to see if file 2015-16_CCD_Companion_School_Staff.xlsx has been downloaded...\n",
      "   file already exists in folder \n",
      "   Checking to see if file ccd_sch_059_1516_w_2a_011717_csv.zip has been downloaded...\n",
      "   file already exists in folder \n",
      "   Checking to see if file 2015-16_CCD_Companion_School_CCD_School.xlsx has been downloaded...\n",
      "   file already exists in folder \n",
      "   Checking to see if file ccd_sch_129_1516_w_2a_011717_csv.zip has been downloaded...\n",
      "   file already exists in folder \n",
      "   Checking to see if file INsc90102a.pdf has been downloaded...\n",
      "   file already exists in folder \n",
      "   Checking to see if file sc092a_sas.zip has been downloaded...\n",
      "   file already exists in folder \n",
      "Directory Outputdata\\00_SourceData\\nces_ed_gov Already exists.\n",
      "Directory Outputdata\\00_SourceData\\nces_ed_gov\\unzipped Already exists.\n",
      "key1 Postsecondary School File\n",
      "key2 2015-2016\n",
      "6 observations selected using  CNTY15  in list  ['48245']\n",
      "School list data ready to append\n",
      "key1 Public District File\n",
      "key2 2015-2016\n",
      "10 observations selected using  CNTY15  in list  ['48245']\n",
      "School list data ready to append\n",
      "key1 Public School File\n",
      "key2 2015-2016\n",
      "85 observations selected using  CNTY15  in list  ['48245']\n",
      "School list data ready to append\n",
      "key1 Private School File\n",
      "key2 2015-2016\n",
      "8 observations selected using  CNTY15  in list  ['48245']\n",
      "School list data ready to append\n"
     ]
    }
   ],
   "source": [
    "schoollist_community = create_schoolist_community(downloadlistcsv, \n",
    "                        county_list,\n",
    "                        communityname,\n",
    "                        outputfolder,\n",
    "                        year)"
   ]
  },
  {
   "cell_type": "code",
   "execution_count": 8,
   "metadata": {},
   "outputs": [
    {
     "name": "stdout",
     "output_type": "stream",
     "text": [
      "Directory Outputdata\\00_SourceData\\nces_ed_gov Already exists.\n",
      "Directory Outputdata\\00_SourceData\\nces_ed_gov\\unzipped Already exists.\n",
      "   Checking to see if file EDGE_GEOCODE_POSTSEC_FILEDOC.pdf has been downloaded...\n",
      "   file already exists in folder \n",
      "   Checking to see if file EDGE_GEOCODE_POSTSECONDARYSCH_1516.zip has been downloaded...\n",
      "   file already exists in folder \n",
      "   Checking to see if file EDGE_GEOCODE_PUBLIC_FILEDOC.pdf has been downloaded...\n",
      "   file already exists in folder \n",
      "   Checking to see if file EDGE_GEOCODE_PUBLICLEA_1516.zip has been downloaded...\n",
      "   file already exists in folder \n",
      "   Checking to see if file EDGE_GEOCODE_PUBLIC_FILEDOC.pdf has been downloaded...\n",
      "   file already exists in folder \n",
      "   Checking to see if file EDGE_GEOCODE_PUBLICSCH_1516.zip has been downloaded...\n",
      "   file already exists in folder \n",
      "   Checking to see if file EDGE_GEOCODE_PSS1718_FILEDOC.pdf has been downloaded...\n",
      "   file already exists in folder \n",
      "   Checking to see if file EDGE_GEOCODE_PRIVATESCH_15_16.zip has been downloaded...\n",
      "   file already exists in folder \n",
      "   Checking to see if file EDGE_SABS_2015_2016_TECHDOC.pdf has been downloaded...\n",
      "   file already exists in folder \n",
      "   Checking to see if file SABS_1516.zip has been downloaded...\n",
      "   file already exists in folder \n",
      "   Checking to see if file 2015-16_CCD_Companion_School_Staff.xlsx has been downloaded...\n",
      "   file already exists in folder \n",
      "   Checking to see if file ccd_sch_059_1516_w_2a_011717_csv.zip has been downloaded...\n",
      "   file already exists in folder \n",
      "   Checking to see if file 2015-16_CCD_Companion_School_CCD_School.xlsx has been downloaded...\n",
      "   file already exists in folder \n",
      "   Checking to see if file ccd_sch_129_1516_w_2a_011717_csv.zip has been downloaded...\n",
      "   file already exists in folder \n",
      "   Checking to see if file INsc90102a.pdf has been downloaded...\n",
      "   file already exists in folder \n",
      "   Checking to see if file sc092a_sas.zip has been downloaded...\n",
      "   file already exists in folder \n",
      "Directory Outputdata\\00_SourceData\\nces_ed_gov Already exists.\n",
      "Directory Outputdata\\00_SourceData\\nces_ed_gov\\unzipped Already exists.\n",
      "key1 School Attendance Boundaries Single Shapefile\n",
      "key2 2015-2016\n"
     ]
    }
   ],
   "source": [
    "sab_community = create_sab_community(downloadlistcsv, \n",
    "                        schoollist_community,\n",
    "                        communityname,\n",
    "                        outputfolder,\n",
    "                        year)"
   ]
  },
  {
   "cell_type": "code",
   "execution_count": null,
   "metadata": {},
   "outputs": [],
   "source": [
    "#sab_boundaries = split_SAB_gradelevel(SAB_community,outputfolder,year)"
   ]
  }
 ],
 "metadata": {
  "colab": {
   "name": "NCES_1av1_ObtainSchoolData_2021-06-04.ipynb",
   "provenance": [],
   "toc_visible": true
  },
  "kernelspec": {
   "display_name": "Python 3",
   "language": "python",
   "name": "python3"
  },
  "language_info": {
   "codemirror_mode": {
    "name": "ipython",
    "version": 3
   },
   "file_extension": ".py",
   "mimetype": "text/x-python",
   "name": "python",
   "nbconvert_exporter": "python",
   "pygments_lexer": "ipython3",
   "version": "3.10.9"
  },
  "vscode": {
   "interpreter": {
    "hash": "bacc429a31e85745652ad271ee961fcfce15e940c602a7b1307e0f88c92164fb"
   }
  }
 },
 "nbformat": 4,
 "nbformat_minor": 1
}
