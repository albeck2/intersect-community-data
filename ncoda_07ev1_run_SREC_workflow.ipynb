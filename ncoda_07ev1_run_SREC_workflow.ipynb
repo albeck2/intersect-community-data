{
 "cells": [
  {
   "attachments": {},
   "cell_type": "markdown",
   "metadata": {
    "id": "-Sd0f_DG1s43"
   },
   "source": [
    "# Student Record File Workflow\n",
    "\n",
    "## Overview\n",
    "Functions to obtain and clean data required for the Student Record File in Python using Census API and NCES files. \n",
    "\n",
    "The workflow produces a Student Person Record (SREC) file that can be linked to the Person Record File. The file includes student level records with sex, grade level, race and ethnicity.\n",
    "\n",
    "Based on NCES data. \n",
    "\n",
    "The output of this workflow is a CSV file with the student record file.\n",
    "\n",
    "The output CSV is designed to be used in the Interdependent Networked Community Resilience Modeling Environment (IN-CORE) for the housing unit allocation model.\n",
    "\n",
    "IN-CORE is an open source python package that can be used to model the resilience of a community. To download IN-CORE, see:\n",
    "\n",
    "https://incore.ncsa.illinois.edu/\n",
    "\n",
    "\n",
    "## Instructions\n",
    "Users can run the workflow by executing each block of code in the notebook.\n",
    "\n",
    "Users can modify the code to select one county or multiple counties."
   ]
  },
  {
   "attachments": {},
   "cell_type": "markdown",
   "metadata": {},
   "source": [
    "## Description of Program\n",
    "- program:    ncoda_07ev1_run_SREC_workflow\n",
    "- task:       Obtain School Location and Attendance Boundaries\n",
    "- Version:    2023-02-10\n",
    "- project:    Interdependent Networked Community Resilience Modeling Environment (IN-CORE) Subtask 5.2 - Social Institutions\n",
    "- funding:\t  NIST Financial Assistance Award Numbers: 70NANB15H044 and 70NANB20H008 \n",
    "- author:     Nathanael Rosenheim\n",
    "\n",
    "- Suggested Citation:\n",
    "Rosenheim, Nathanael (2021) “Detailed Household and Housing Unit Characteristics: Data and Replication Code.” DesignSafe-CI. \n",
    "https://doi.org/10.17603/ds2-jwf6-s535."
   ]
  },
  {
   "cell_type": "markdown",
   "metadata": {
    "id": "CkwXvHYU1s47"
   },
   "source": [
    "## Setup Python Environment"
   ]
  },
  {
   "cell_type": "code",
   "execution_count": 4,
   "metadata": {
    "id": "t9TTIntO1s48"
   },
   "outputs": [],
   "source": [
    "# Import Python Packages Required for program\n",
    "import pandas as pd       # Pandas for reading in data \n",
    "import geopandas as gpd   # Geopandas for reading Shapefiles\n",
    "import os                 # Operating System (os) For folders and finding working directory\n",
    "import sys\n",
    "import zipfile            # Zipfile for working with compressed Zipped files\n",
    "import wget               # Wget for downloading files from the web\n",
    "import scooby # Reports Python environment"
   ]
  },
  {
   "cell_type": "code",
   "execution_count": 2,
   "metadata": {
    "id": "qlOlsz2L1s48",
    "outputId": "bd5e0f54-4a51-4903-cf97-ab0556121fc8"
   },
   "outputs": [
    {
     "name": "stdout",
     "output_type": "stream",
     "text": [
      "\n",
      "--------------------------------------------------------------------------------\n",
      "  Date: Fri Feb 10 13:17:32 2023 Central Standard Time\n",
      "\n",
      "                OS : Windows\n",
      "            CPU(s) : 12\n",
      "           Machine : AMD64\n",
      "      Architecture : 64bit\n",
      "               RAM : 31.6 GiB\n",
      "       Environment : Jupyter\n",
      "\n",
      "  Python 3.10.9 | packaged by conda-forge | (main, Feb  2 2023, 20:14:58) [MSC\n",
      "  v.1929 64 bit (AMD64)]\n",
      "\n",
      "            pandas : 1.3.5\n",
      "             numpy : 1.24.2\n",
      "             scipy : 1.10.0\n",
      "           IPython : 8.10.0\n",
      "        matplotlib : 3.6.3\n",
      "            scooby : 0.5.12\n",
      "--------------------------------------------------------------------------------\n"
     ]
    }
   ],
   "source": [
    "# Generate report of Python environment\n",
    "print(scooby.Report(additional=['pandas']))"
   ]
  },
  {
   "cell_type": "code",
   "execution_count": 5,
   "metadata": {},
   "outputs": [],
   "source": [
    "#To replicate this notebook Clone the Github Package to a folder that is a sibling of this notebook.\n",
    "# To access the sibling package you will need to append the parent directory ('..') to the system path list.\n",
    "# append the path of the directory that includes the github repository.\n",
    "# This step is not required when the package is in a folder below the notebook file.\n",
    "github_code_path  = \"\"\n",
    "sys.path.append(github_code_path)"
   ]
  },
  {
   "cell_type": "code",
   "execution_count": 6,
   "metadata": {},
   "outputs": [
    {
     "data": {
      "text/plain": [
       "'c:\\\\Users\\\\nathanael99\\\\MyProjects\\\\IN-CORE\\\\Tasks\\\\PublishHUIv2\\\\HousingUnitInventories_2022-03-03\\\\ReplicationCode\\\\intersect-community-data'"
      ]
     },
     "execution_count": 6,
     "metadata": {},
     "output_type": "execute_result"
    }
   ],
   "source": [
    "os.getcwd()"
   ]
  },
  {
   "cell_type": "code",
   "execution_count": 7,
   "metadata": {},
   "outputs": [],
   "source": [
    "# To reload submodules need to use this magic command to set autoreload on\n",
    "%load_ext autoreload\n",
    "%autoreload 2\n",
    "# open, read, and execute python program with reusable commands\n",
    "#from pyncoda.ncoda_07e_generate_prec import generate_prec_functions"
   ]
  },
  {
   "cell_type": "markdown",
   "metadata": {
    "id": "XJP5i6gq1s4_"
   },
   "source": [
    "## Obtain NCES Files\n",
    "This section of code provides details on the web addresses for obtaining the NCES data. These datafiles are quiet large. It is recommended that the files are downloaded once. To facilitate the downloading of the files a Comma Seperated Values (CSV) file was create using Microsoft Excel (note CSV files are easier to read into the notebook). The CSV file includes the descriptions and important file names to be obtained. This input file can be modified for different school years."
   ]
  },
  {
   "cell_type": "code",
   "execution_count": 22,
   "metadata": {
    "id": "j4ncU1dO1s5A",
    "outputId": "76df0e80-5590-4585-d956-e504ca1ba3ea"
   },
   "outputs": [
    {
     "data": {
      "text/html": [
       "<div>\n",
       "<style scoped>\n",
       "    .dataframe tbody tr th:only-of-type {\n",
       "        vertical-align: middle;\n",
       "    }\n",
       "\n",
       "    .dataframe tbody tr th {\n",
       "        vertical-align: top;\n",
       "    }\n",
       "\n",
       "    .dataframe thead th {\n",
       "        text-align: right;\n",
       "    }\n",
       "</style>\n",
       "<table border=\"1\" class=\"dataframe\">\n",
       "  <thead>\n",
       "    <tr style=\"text-align: right;\">\n",
       "      <th></th>\n",
       "      <th>Program</th>\n",
       "      <th>File Description</th>\n",
       "      <th>School Year</th>\n",
       "      <th>Documentation File Name</th>\n",
       "      <th>Data File Name</th>\n",
       "      <th>Unzipped Shapefile File Location</th>\n",
       "      <th>Documentation File URL</th>\n",
       "      <th>Data File URL</th>\n",
       "    </tr>\n",
       "  </thead>\n",
       "  <tbody>\n",
       "    <tr>\n",
       "      <th>0</th>\n",
       "      <td>EDGE</td>\n",
       "      <td>Postsecondary School File</td>\n",
       "      <td>2015-2016</td>\n",
       "      <td>EDGE_GEOCODE_POSTSEC_FILEDOC.pdf</td>\n",
       "      <td>EDGE_GEOCODE_POSTSECONDARYSCH_1516.zip</td>\n",
       "      <td>EDGE_GEOCODE_POSTSECONDARYSCH_1516/EDGE_GEOCOD...</td>\n",
       "      <td>https://nces.ed.gov/programs/edge/docs/</td>\n",
       "      <td>https://nces.ed.gov/programs/edge/data/</td>\n",
       "    </tr>\n",
       "    <tr>\n",
       "      <th>1</th>\n",
       "      <td>EDGE</td>\n",
       "      <td>Public District File</td>\n",
       "      <td>2015-2016</td>\n",
       "      <td>EDGE_GEOCODE_PUBLIC_FILEDOC.pdf</td>\n",
       "      <td>EDGE_GEOCODE_PUBLICLEA_1516.zip</td>\n",
       "      <td>EDGE_GEOCODE_PUBLICLEA_1516/EDGE_GEOCODE_PUBLI...</td>\n",
       "      <td>https://nces.ed.gov/programs/edge/docs/</td>\n",
       "      <td>https://nces.ed.gov/programs/edge/data/</td>\n",
       "    </tr>\n",
       "    <tr>\n",
       "      <th>2</th>\n",
       "      <td>EDGE</td>\n",
       "      <td>Public School File</td>\n",
       "      <td>2015-2016</td>\n",
       "      <td>EDGE_GEOCODE_PUBLIC_FILEDOC.pdf</td>\n",
       "      <td>EDGE_GEOCODE_PUBLICSCH_1516.zip</td>\n",
       "      <td>EDGE_GEOCODE_PUBLICSCH_1516/EDGE_GEOCODE_PUBLI...</td>\n",
       "      <td>https://nces.ed.gov/programs/edge/docs/</td>\n",
       "      <td>https://nces.ed.gov/programs/edge/data/</td>\n",
       "    </tr>\n",
       "    <tr>\n",
       "      <th>3</th>\n",
       "      <td>EDGE</td>\n",
       "      <td>Private School File</td>\n",
       "      <td>2015-2016</td>\n",
       "      <td>EDGE_GEOCODE_PSS1718_FILEDOC.pdf</td>\n",
       "      <td>EDGE_GEOCODE_PRIVATESCH_15_16.zip</td>\n",
       "      <td>EDGE_GEOCODE_PRIVATESCH_15_16.shp</td>\n",
       "      <td>https://nces.ed.gov/programs/edge/docs/</td>\n",
       "      <td>https://nces.ed.gov/programs/edge/data/</td>\n",
       "    </tr>\n",
       "    <tr>\n",
       "      <th>4</th>\n",
       "      <td>EDGE</td>\n",
       "      <td>School Attendance Boundaries Single Shapefile</td>\n",
       "      <td>2015-2016</td>\n",
       "      <td>EDGE_SABS_2015_2016_TECHDOC.pdf</td>\n",
       "      <td>SABS_1516.zip</td>\n",
       "      <td>SABS_1516/SABS_1516.shp</td>\n",
       "      <td>https://nces.ed.gov/programs/edge/docs/</td>\n",
       "      <td>https://nces.ed.gov/programs/edge/data/</td>\n",
       "    </tr>\n",
       "    <tr>\n",
       "      <th>5</th>\n",
       "      <td>CCD</td>\n",
       "      <td>Common Core Data Staff</td>\n",
       "      <td>2015-2016</td>\n",
       "      <td>2015-16_CCD_Companion_School_Staff.xlsx</td>\n",
       "      <td>ccd_sch_059_1516_w_2a_011717_csv.zip</td>\n",
       "      <td>NaN</td>\n",
       "      <td>https://nces.ed.gov/ccd/xls/</td>\n",
       "      <td>https://nces.ed.gov/ccd/data/zip/</td>\n",
       "    </tr>\n",
       "    <tr>\n",
       "      <th>6</th>\n",
       "      <td>CCD</td>\n",
       "      <td>Common Core Data School Characteristics</td>\n",
       "      <td>2015-2016</td>\n",
       "      <td>2015-16_CCD_Companion_School_CCD_School.xlsx</td>\n",
       "      <td>ccd_sch_129_1516_w_2a_011717_csv.zip</td>\n",
       "      <td>NaN</td>\n",
       "      <td>https://nces.ed.gov/ccd/xls/</td>\n",
       "      <td>https://nces.ed.gov/ccd/data/zip/</td>\n",
       "    </tr>\n",
       "  </tbody>\n",
       "</table>\n",
       "</div>"
      ],
      "text/plain": [
       "  Program                               File Description School Year  \\\n",
       "0    EDGE                      Postsecondary School File   2015-2016   \n",
       "1    EDGE                           Public District File   2015-2016   \n",
       "2    EDGE                             Public School File   2015-2016   \n",
       "3    EDGE                            Private School File   2015-2016   \n",
       "4    EDGE  School Attendance Boundaries Single Shapefile   2015-2016   \n",
       "5     CCD                         Common Core Data Staff   2015-2016   \n",
       "6     CCD        Common Core Data School Characteristics   2015-2016   \n",
       "\n",
       "                        Documentation File Name  \\\n",
       "0              EDGE_GEOCODE_POSTSEC_FILEDOC.pdf   \n",
       "1               EDGE_GEOCODE_PUBLIC_FILEDOC.pdf   \n",
       "2               EDGE_GEOCODE_PUBLIC_FILEDOC.pdf   \n",
       "3              EDGE_GEOCODE_PSS1718_FILEDOC.pdf   \n",
       "4               EDGE_SABS_2015_2016_TECHDOC.pdf   \n",
       "5       2015-16_CCD_Companion_School_Staff.xlsx   \n",
       "6  2015-16_CCD_Companion_School_CCD_School.xlsx   \n",
       "\n",
       "                           Data File Name  \\\n",
       "0  EDGE_GEOCODE_POSTSECONDARYSCH_1516.zip   \n",
       "1         EDGE_GEOCODE_PUBLICLEA_1516.zip   \n",
       "2         EDGE_GEOCODE_PUBLICSCH_1516.zip   \n",
       "3       EDGE_GEOCODE_PRIVATESCH_15_16.zip   \n",
       "4                           SABS_1516.zip   \n",
       "5    ccd_sch_059_1516_w_2a_011717_csv.zip   \n",
       "6    ccd_sch_129_1516_w_2a_011717_csv.zip   \n",
       "\n",
       "                    Unzipped Shapefile File Location  \\\n",
       "0  EDGE_GEOCODE_POSTSECONDARYSCH_1516/EDGE_GEOCOD...   \n",
       "1  EDGE_GEOCODE_PUBLICLEA_1516/EDGE_GEOCODE_PUBLI...   \n",
       "2  EDGE_GEOCODE_PUBLICSCH_1516/EDGE_GEOCODE_PUBLI...   \n",
       "3                  EDGE_GEOCODE_PRIVATESCH_15_16.shp   \n",
       "4                            SABS_1516/SABS_1516.shp   \n",
       "5                                                NaN   \n",
       "6                                                NaN   \n",
       "\n",
       "                    Documentation File URL  \\\n",
       "0  https://nces.ed.gov/programs/edge/docs/   \n",
       "1  https://nces.ed.gov/programs/edge/docs/   \n",
       "2  https://nces.ed.gov/programs/edge/docs/   \n",
       "3  https://nces.ed.gov/programs/edge/docs/   \n",
       "4  https://nces.ed.gov/programs/edge/docs/   \n",
       "5             https://nces.ed.gov/ccd/xls/   \n",
       "6             https://nces.ed.gov/ccd/xls/   \n",
       "\n",
       "                             Data File URL  \n",
       "0  https://nces.ed.gov/programs/edge/data/  \n",
       "1  https://nces.ed.gov/programs/edge/data/  \n",
       "2  https://nces.ed.gov/programs/edge/data/  \n",
       "3  https://nces.ed.gov/programs/edge/data/  \n",
       "4  https://nces.ed.gov/programs/edge/data/  \n",
       "5        https://nces.ed.gov/ccd/data/zip/  \n",
       "6        https://nces.ed.gov/ccd/data/zip/  "
      ]
     },
     "execution_count": 22,
     "metadata": {},
     "output_type": "execute_result"
    }
   ],
   "source": [
    "folder_path = 'pyncoda\\\\CommunitySourceData\\\\nces_ed_gov\\\\'\n",
    "filename = 'NCES_1av1_ObtainSchoolData_2021-06-06.csv'\n",
    "filelist_df = pd.read_csv(folder_path+filename)\n",
    "filelist_df"
   ]
  },
  {
   "cell_type": "markdown",
   "metadata": {
    "id": "zo7_0T-j1s5A"
   },
   "source": [
    "### Notice - Data files have Documentation Files\n",
    "It is important to download the data files and the documentation files."
   ]
  },
  {
   "cell_type": "markdown",
   "metadata": {
    "id": "KGdxaYrb1s5A"
   },
   "source": [
    "To match the School Attendance Zones the 2015-2016 data for school locations will be used.\n",
    "Data for other years also exists - the file names for different years could be updated for different school years."
   ]
  },
  {
   "cell_type": "code",
   "execution_count": 23,
   "metadata": {
    "id": "2ro3P7L51s5B",
    "outputId": "b61eb9e8-c127-40d9-b04c-cf1d51201064"
   },
   "outputs": [
    {
     "name": "stdout",
     "output_type": "stream",
     "text": [
      "Directory Outputdata\\00_SourceData\\nces_ed_gov Already exists.\n"
     ]
    }
   ],
   "source": [
    "output_sourcedata = 'Outputdata\\\\00_SourceData'\n",
    "output_directory = 'Outputdata\\\\00_SourceData\\\\nces_ed_gov'\n",
    "# Make directory to save output\n",
    "if not os.path.exists(output_sourcedata):\n",
    "    print(\"Making new directory to save output: \",output_sourcedata)\n",
    "    os.mkdir(output_sourcedata)\n",
    "if not os.path.exists(output_directory):\n",
    "    print(\"Making new directory to save output: \",output_directory)\n",
    "    os.mkdir(output_directory)\n",
    "else:\n",
    "    print(\"Directory\",output_directory,\"Already exists.\")"
   ]
  },
  {
   "cell_type": "markdown",
   "metadata": {},
   "source": [
    "### Loop through file list  and download the data file and documentation for each file.\n",
    "This look steps through each row (`iterrows`) in the dataframe. The loop creates a dictionary with the name and location of the data documentation file and the datafile. The second internal loop steps through the two files to download. The internal loop first checks to see if the file has already been downloaded. If the file has `not` been downloaded the program uses the `wget` function to download the data from the `url`. If the has been downloaded (`else`) the program outputs a comment that the file has already been downloaded. This loop helps manage the downloading of many complext files and the associated documentation. The structure of the loop reinforces the provenance of the data - which will help future project members understand the source of the school location and attendance data."
   ]
  },
  {
   "cell_type": "code",
   "execution_count": 24,
   "metadata": {
    "id": "4IXolKcH1s5C",
    "outputId": "eb598a48-1a62-49ae-b7c7-0204fb612ae6"
   },
   "outputs": [
    {
     "name": "stdout",
     "output_type": "stream",
     "text": [
      "\n",
      "Downloading Postsecondary School File Files for School Year 2015-2016\n",
      "   Checking to see if file EDGE_GEOCODE_POSTSEC_FILEDOC.pdf has been downloaded...\n",
      "   file EDGE_GEOCODE_POSTSEC_FILEDOC.pdf already exists in folder  Outputdata\\00_SourceData\\nces_ed_gov\n",
      "   original file was downloaded from https://nces.ed.gov/programs/edge/docs/EDGE_GEOCODE_POSTSEC_FILEDOC.pdf\n",
      "   Checking to see if file EDGE_GEOCODE_POSTSECONDARYSCH_1516.zip has been downloaded...\n",
      "   file EDGE_GEOCODE_POSTSECONDARYSCH_1516.zip already exists in folder  Outputdata\\00_SourceData\\nces_ed_gov\n",
      "   original file was downloaded from https://nces.ed.gov/programs/edge/data/EDGE_GEOCODE_POSTSECONDARYSCH_1516.zip\n",
      "\n",
      "Downloading Public District File Files for School Year 2015-2016\n",
      "   Checking to see if file EDGE_GEOCODE_PUBLIC_FILEDOC.pdf has been downloaded...\n",
      "   file EDGE_GEOCODE_PUBLIC_FILEDOC.pdf already exists in folder  Outputdata\\00_SourceData\\nces_ed_gov\n",
      "   original file was downloaded from https://nces.ed.gov/programs/edge/docs/EDGE_GEOCODE_PUBLIC_FILEDOC.pdf\n",
      "   Checking to see if file EDGE_GEOCODE_PUBLICLEA_1516.zip has been downloaded...\n",
      "   file EDGE_GEOCODE_PUBLICLEA_1516.zip already exists in folder  Outputdata\\00_SourceData\\nces_ed_gov\n",
      "   original file was downloaded from https://nces.ed.gov/programs/edge/data/EDGE_GEOCODE_PUBLICLEA_1516.zip\n",
      "\n",
      "Downloading Public School File Files for School Year 2015-2016\n",
      "   Checking to see if file EDGE_GEOCODE_PUBLIC_FILEDOC.pdf has been downloaded...\n",
      "   file EDGE_GEOCODE_PUBLIC_FILEDOC.pdf already exists in folder  Outputdata\\00_SourceData\\nces_ed_gov\n",
      "   original file was downloaded from https://nces.ed.gov/programs/edge/docs/EDGE_GEOCODE_PUBLIC_FILEDOC.pdf\n",
      "   Checking to see if file EDGE_GEOCODE_PUBLICSCH_1516.zip has been downloaded...\n",
      "   file EDGE_GEOCODE_PUBLICSCH_1516.zip already exists in folder  Outputdata\\00_SourceData\\nces_ed_gov\n",
      "   original file was downloaded from https://nces.ed.gov/programs/edge/data/EDGE_GEOCODE_PUBLICSCH_1516.zip\n",
      "\n",
      "Downloading Private School File Files for School Year 2015-2016\n",
      "   Checking to see if file EDGE_GEOCODE_PSS1718_FILEDOC.pdf has been downloaded...\n",
      "   file EDGE_GEOCODE_PSS1718_FILEDOC.pdf already exists in folder  Outputdata\\00_SourceData\\nces_ed_gov\n",
      "   original file was downloaded from https://nces.ed.gov/programs/edge/docs/EDGE_GEOCODE_PSS1718_FILEDOC.pdf\n",
      "   Checking to see if file EDGE_GEOCODE_PRIVATESCH_15_16.zip has been downloaded...\n",
      "   file EDGE_GEOCODE_PRIVATESCH_15_16.zip already exists in folder  Outputdata\\00_SourceData\\nces_ed_gov\n",
      "   original file was downloaded from https://nces.ed.gov/programs/edge/data/EDGE_GEOCODE_PRIVATESCH_15_16.zip\n",
      "\n",
      "Downloading School Attendance Boundaries Single Shapefile Files for School Year 2015-2016\n",
      "   Checking to see if file EDGE_SABS_2015_2016_TECHDOC.pdf has been downloaded...\n",
      "   file EDGE_SABS_2015_2016_TECHDOC.pdf already exists in folder  Outputdata\\00_SourceData\\nces_ed_gov\n",
      "   original file was downloaded from https://nces.ed.gov/programs/edge/docs/EDGE_SABS_2015_2016_TECHDOC.pdf\n",
      "   Checking to see if file SABS_1516.zip has been downloaded...\n",
      "   file SABS_1516.zip already exists in folder  Outputdata\\00_SourceData\\nces_ed_gov\n",
      "   original file was downloaded from https://nces.ed.gov/programs/edge/data/SABS_1516.zip\n",
      "\n",
      "Downloading Common Core Data Staff Files for School Year 2015-2016\n",
      "   Checking to see if file 2015-16_CCD_Companion_School_Staff.xlsx has been downloaded...\n",
      "   Downloading:  2015-16_CCD_Companion_School_Staff.xlsx from \n",
      " https://nces.ed.gov/ccd/xls/2015-16_CCD_Companion_School_Staff.xlsx\n",
      "   Checking to see if file ccd_sch_059_1516_w_2a_011717_csv.zip has been downloaded...\n",
      "   Downloading:  ccd_sch_059_1516_w_2a_011717_csv.zip from \n",
      " https://nces.ed.gov/ccd/data/zip/ccd_sch_059_1516_w_2a_011717_csv.zip\n",
      "\n",
      "Downloading Common Core Data School Characteristics Files for School Year 2015-2016\n",
      "   Checking to see if file 2015-16_CCD_Companion_School_CCD_School.xlsx has been downloaded...\n",
      "   Downloading:  2015-16_CCD_Companion_School_CCD_School.xlsx from \n",
      " https://nces.ed.gov/ccd/xls/2015-16_CCD_Companion_School_CCD_School.xlsx\n",
      "   Checking to see if file ccd_sch_129_1516_w_2a_011717_csv.zip has been downloaded...\n",
      "   Downloading:  ccd_sch_129_1516_w_2a_011717_csv.zip from \n",
      " https://nces.ed.gov/ccd/data/zip/ccd_sch_129_1516_w_2a_011717_csv.zip\n"
     ]
    }
   ],
   "source": [
    "for index, files in filelist_df.iterrows():\n",
    "    print(\"\\nDownloading\",files['File Description'],\"Files for School Year\",files['School Year'])\n",
    "    \n",
    "    # Create dictionary with documentation and data file names and associated URL\n",
    "    downloadfiles = {files['Documentation File Name']:files['Documentation File URL'],\n",
    "                     files['Data File Name']:files['Data File URL']}\n",
    "    for file in downloadfiles:\n",
    "        # Set file path where file will be downloaded\n",
    "        filepath = output_directory+\"/\"+file\n",
    "        print(\"   Checking to see if file\",file,\"has been downloaded...\")\n",
    "        \n",
    "        # set URL for where the file is located\n",
    "        url = downloadfiles[file]+file\n",
    "        \n",
    "        # Check if file exists - if not then download\n",
    "        if not os.path.exists(filepath):\n",
    "            print(\"   Downloading: \",file, \"from \\n\",url)\n",
    "            wget.download(url, out=output_directory)\n",
    "        else:\n",
    "            print(\"   file\",file,\"already exists in folder \",output_directory)\n",
    "            print(\"   original file was downloaded from\", url)"
   ]
  },
  {
   "cell_type": "markdown",
   "metadata": {
    "id": "gOVx1JzJ1s5D"
   },
   "source": [
    "## Unzip Folders\n",
    "Each of the zip folder with data files a different structure for saving the spatial data."
   ]
  },
  {
   "cell_type": "code",
   "execution_count": 29,
   "metadata": {},
   "outputs": [
    {
     "name": "stdout",
     "output_type": "stream",
     "text": [
      "Making unzipped_output_directory directory to save output:  Outputdata\\00_SourceData\\nces_ed_gov\\unzipped\n"
     ]
    }
   ],
   "source": [
    "unzipped_output_directory = output_directory+'\\\\unzipped'\n",
    "# Make directory to save output\n",
    "if not os.path.exists(unzipped_output_directory):\n",
    "    print(\"Making unzipped_output_directory directory to save output: \",unzipped_output_directory)\n",
    "    os.mkdir(unzipped_output_directory)\n",
    "else:\n",
    "    print(\"Directory\",unzipped_output_directory,\"Already exists.\")"
   ]
  },
  {
   "cell_type": "code",
   "execution_count": 11,
   "metadata": {
    "id": "t7BNUZxF1s5D",
    "outputId": "f8fe3758-1b7a-41d0-8daa-8ae72ffc2c6b"
   },
   "outputs": [
    {
     "data": {
      "text/html": [
       "<div>\n",
       "<style scoped>\n",
       "    .dataframe tbody tr th:only-of-type {\n",
       "        vertical-align: middle;\n",
       "    }\n",
       "\n",
       "    .dataframe tbody tr th {\n",
       "        vertical-align: top;\n",
       "    }\n",
       "\n",
       "    .dataframe thead th {\n",
       "        text-align: right;\n",
       "    }\n",
       "</style>\n",
       "<table border=\"1\" class=\"dataframe\">\n",
       "  <thead>\n",
       "    <tr style=\"text-align: right;\">\n",
       "      <th></th>\n",
       "      <th>File Description</th>\n",
       "      <th>School Year</th>\n",
       "      <th>Documentation File Name</th>\n",
       "      <th>Data File Name</th>\n",
       "      <th>Documentation File URL</th>\n",
       "      <th>Data File URL</th>\n",
       "    </tr>\n",
       "  </thead>\n",
       "  <tbody>\n",
       "    <tr>\n",
       "      <th>0</th>\n",
       "      <td>Postsecondary School File</td>\n",
       "      <td>2015-2016</td>\n",
       "      <td>EDGE_GEOCODE_POSTSEC_FILEDOC.pdf</td>\n",
       "      <td>EDGE_GEOCODE_POSTSECONDARYSCH_1516.zip</td>\n",
       "      <td>https://nces.ed.gov/programs/edge/docs/</td>\n",
       "      <td>https://nces.ed.gov/programs/edge/data/</td>\n",
       "    </tr>\n",
       "    <tr>\n",
       "      <th>1</th>\n",
       "      <td>Public District File</td>\n",
       "      <td>2015-2016</td>\n",
       "      <td>EDGE_GEOCODE_PUBLIC_FILEDOC.pdf</td>\n",
       "      <td>EDGE_GEOCODE_PUBLICLEA_1516.zip</td>\n",
       "      <td>https://nces.ed.gov/programs/edge/docs/</td>\n",
       "      <td>https://nces.ed.gov/programs/edge/data/</td>\n",
       "    </tr>\n",
       "    <tr>\n",
       "      <th>2</th>\n",
       "      <td>Public School File</td>\n",
       "      <td>2015-2016</td>\n",
       "      <td>EDGE_GEOCODE_PUBLIC_FILEDOC.pdf</td>\n",
       "      <td>EDGE_GEOCODE_PUBLICSCH_1516.zip</td>\n",
       "      <td>https://nces.ed.gov/programs/edge/docs/</td>\n",
       "      <td>https://nces.ed.gov/programs/edge/data/</td>\n",
       "    </tr>\n",
       "    <tr>\n",
       "      <th>3</th>\n",
       "      <td>Private School File</td>\n",
       "      <td>2015-2016</td>\n",
       "      <td>EDGE_GEOCODE_PSS1718_FILEDOC.pdf</td>\n",
       "      <td>EDGE_GEOCODE_PRIVATESCH_15_16.zip</td>\n",
       "      <td>https://nces.ed.gov/programs/edge/docs/</td>\n",
       "      <td>https://nces.ed.gov/programs/edge/data/</td>\n",
       "    </tr>\n",
       "    <tr>\n",
       "      <th>4</th>\n",
       "      <td>School Attendance Boundaries Single Shapefile</td>\n",
       "      <td>2015-2016</td>\n",
       "      <td>EDGE_SABS_2015_2016_TECHDOC.pdf</td>\n",
       "      <td>SABS_1516.zip</td>\n",
       "      <td>https://nces.ed.gov/programs/edge/docs/</td>\n",
       "      <td>https://nces.ed.gov/programs/edge/data/</td>\n",
       "    </tr>\n",
       "  </tbody>\n",
       "</table>\n",
       "</div>"
      ],
      "text/plain": [
       "                                File Description School Year  \\\n",
       "0                      Postsecondary School File   2015-2016   \n",
       "1                           Public District File   2015-2016   \n",
       "2                             Public School File   2015-2016   \n",
       "3                            Private School File   2015-2016   \n",
       "4  School Attendance Boundaries Single Shapefile   2015-2016   \n",
       "\n",
       "            Documentation File Name                          Data File Name  \\\n",
       "0  EDGE_GEOCODE_POSTSEC_FILEDOC.pdf  EDGE_GEOCODE_POSTSECONDARYSCH_1516.zip   \n",
       "1   EDGE_GEOCODE_PUBLIC_FILEDOC.pdf         EDGE_GEOCODE_PUBLICLEA_1516.zip   \n",
       "2   EDGE_GEOCODE_PUBLIC_FILEDOC.pdf         EDGE_GEOCODE_PUBLICSCH_1516.zip   \n",
       "3  EDGE_GEOCODE_PSS1718_FILEDOC.pdf       EDGE_GEOCODE_PRIVATESCH_15_16.zip   \n",
       "4   EDGE_SABS_2015_2016_TECHDOC.pdf                           SABS_1516.zip   \n",
       "\n",
       "                    Documentation File URL  \\\n",
       "0  https://nces.ed.gov/programs/edge/docs/   \n",
       "1  https://nces.ed.gov/programs/edge/docs/   \n",
       "2  https://nces.ed.gov/programs/edge/docs/   \n",
       "3  https://nces.ed.gov/programs/edge/docs/   \n",
       "4  https://nces.ed.gov/programs/edge/docs/   \n",
       "\n",
       "                             Data File URL  \n",
       "0  https://nces.ed.gov/programs/edge/data/  \n",
       "1  https://nces.ed.gov/programs/edge/data/  \n",
       "2  https://nces.ed.gov/programs/edge/data/  \n",
       "3  https://nces.ed.gov/programs/edge/data/  \n",
       "4  https://nces.ed.gov/programs/edge/data/  "
      ]
     },
     "execution_count": 11,
     "metadata": {},
     "output_type": "execute_result"
    }
   ],
   "source": [
    "filelist_df"
   ]
  },
  {
   "cell_type": "code",
   "execution_count": 30,
   "metadata": {
    "id": "fJubEc5U1s5D",
    "outputId": "6d4ebc71-317d-4fb7-a084-9fa5b37bf3b1"
   },
   "outputs": [
    {
     "name": "stdout",
     "output_type": "stream",
     "text": [
      "\n",
      " Unzipping Postsecondary School File Files for School Year 2015-2016\n",
      "   Checking to see if zip file exists EDGE_GEOCODE_POSTSECONDARYSCH_1516.zip has been downloaded...\n",
      "   file EDGE_GEOCODE_POSTSECONDARYSCH_1516.zip already exists in folder  Outputdata\\00_SourceData\\nces_ed_gov\n",
      "   files will be unzipped. to Outputdata\\00_SourceData\\nces_ed_gov\\unzipped\n"
     ]
    },
    {
     "ename": "FileNotFoundError",
     "evalue": "[WinError 206] The filename or extension is too long: 'Outputdata\\\\00_SourceData\\\\nces_ed_gov\\\\unzipped\\\\EDGE_GEOCODE_POSTSECONDARYSCH_1516\\\\EDGE_GEOCODE_POSTSECONDARYSCH_1516.gdb'",
     "output_type": "error",
     "traceback": [
      "\u001b[1;31m---------------------------------------------------------------------------\u001b[0m",
      "\u001b[1;31mFileNotFoundError\u001b[0m                         Traceback (most recent call last)",
      "Cell \u001b[1;32mIn[30], line 16\u001b[0m\n\u001b[0;32m     14\u001b[0m \u001b[39mprint\u001b[39m(\u001b[39m\"\u001b[39m\u001b[39m   files will be unzipped. to\u001b[39m\u001b[39m\"\u001b[39m, unzipped_output_directory)\n\u001b[0;32m     15\u001b[0m \u001b[39mwith\u001b[39;00m zipfile\u001b[39m.\u001b[39mZipFile(filepath, \u001b[39m'\u001b[39m\u001b[39mr\u001b[39m\u001b[39m'\u001b[39m) \u001b[39mas\u001b[39;00m zip_ref:\n\u001b[1;32m---> 16\u001b[0m     zip_ref\u001b[39m.\u001b[39;49mextractall(unzipped_output_directory)\n",
      "File \u001b[1;32mc:\\Users\\nathanael99\\AppData\\Local\\miniconda3\\envs\\pyncoda20230210\\lib\\zipfile.py:1645\u001b[0m, in \u001b[0;36mZipFile.extractall\u001b[1;34m(self, path, members, pwd)\u001b[0m\n\u001b[0;32m   1642\u001b[0m     path \u001b[39m=\u001b[39m os\u001b[39m.\u001b[39mfspath(path)\n\u001b[0;32m   1644\u001b[0m \u001b[39mfor\u001b[39;00m zipinfo \u001b[39min\u001b[39;00m members:\n\u001b[1;32m-> 1645\u001b[0m     \u001b[39mself\u001b[39;49m\u001b[39m.\u001b[39;49m_extract_member(zipinfo, path, pwd)\n",
      "File \u001b[1;32mc:\\Users\\nathanael99\\AppData\\Local\\miniconda3\\envs\\pyncoda20230210\\lib\\zipfile.py:1695\u001b[0m, in \u001b[0;36mZipFile._extract_member\u001b[1;34m(self, member, targetpath, pwd)\u001b[0m\n\u001b[0;32m   1693\u001b[0m \u001b[39mif\u001b[39;00m member\u001b[39m.\u001b[39mis_dir():\n\u001b[0;32m   1694\u001b[0m     \u001b[39mif\u001b[39;00m \u001b[39mnot\u001b[39;00m os\u001b[39m.\u001b[39mpath\u001b[39m.\u001b[39misdir(targetpath):\n\u001b[1;32m-> 1695\u001b[0m         os\u001b[39m.\u001b[39;49mmkdir(targetpath)\n\u001b[0;32m   1696\u001b[0m     \u001b[39mreturn\u001b[39;00m targetpath\n\u001b[0;32m   1698\u001b[0m \u001b[39mwith\u001b[39;00m \u001b[39mself\u001b[39m\u001b[39m.\u001b[39mopen(member, pwd\u001b[39m=\u001b[39mpwd) \u001b[39mas\u001b[39;00m source, \\\n\u001b[0;32m   1699\u001b[0m      \u001b[39mopen\u001b[39m(targetpath, \u001b[39m\"\u001b[39m\u001b[39mwb\u001b[39m\u001b[39m\"\u001b[39m) \u001b[39mas\u001b[39;00m target:\n",
      "\u001b[1;31mFileNotFoundError\u001b[0m: [WinError 206] The filename or extension is too long: 'Outputdata\\\\00_SourceData\\\\nces_ed_gov\\\\unzipped\\\\EDGE_GEOCODE_POSTSECONDARYSCH_1516\\\\EDGE_GEOCODE_POSTSECONDARYSCH_1516.gdb'"
     ]
    }
   ],
   "source": [
    "for index, files in filelist_df.iterrows():\n",
    "    print(\"\\n Unzipping\",files['File Description'],\"Files for School Year\",files['School Year'])\n",
    "    \n",
    "    file = files['Data File Name']\n",
    "    # Set file path where file will be downloaded\n",
    "    filepath = output_directory+\"/\"+file\n",
    "    print(\"   Checking to see if zip file exists\",file,\"has been downloaded...\")\n",
    "\n",
    "    # Check if file exists - if not then download\n",
    "    if not os.path.exists(filepath):\n",
    "        print(\"   Warning file: \",file, \"has not been downloaded - run first part of program first\")\n",
    "    else:\n",
    "        print(\"   file\",file,\"already exists in folder \",output_directory)\n",
    "        print(\"   files will be unzipped. to\", unzipped_output_directory)\n",
    "        with zipfile.ZipFile(filepath, 'r') as zip_ref:\n",
    "            zip_ref.extractall(unzipped_output_directory)"
   ]
  },
  {
   "cell_type": "code",
   "execution_count": null,
   "metadata": {
    "id": "wBaghEn81s5E"
   },
   "outputs": [],
   "source": []
  }
 ],
 "metadata": {
  "colab": {
   "name": "NCES_1av1_ObtainSchoolData_2021-06-04.ipynb",
   "provenance": [],
   "toc_visible": true
  },
  "kernelspec": {
   "display_name": "pyncoda20230210",
   "language": "python",
   "name": "python3"
  },
  "language_info": {
   "codemirror_mode": {
    "name": "ipython",
    "version": 3
   },
   "file_extension": ".py",
   "mimetype": "text/x-python",
   "name": "python",
   "nbconvert_exporter": "python",
   "pygments_lexer": "ipython3",
   "version": "3.10.9"
  },
  "vscode": {
   "interpreter": {
    "hash": "bacc429a31e85745652ad271ee961fcfce15e940c602a7b1307e0f88c92164fb"
   }
  }
 },
 "nbformat": 4,
 "nbformat_minor": 1
}
