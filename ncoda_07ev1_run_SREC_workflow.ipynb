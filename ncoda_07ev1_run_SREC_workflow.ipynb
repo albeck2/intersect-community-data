{
 "cells": [
  {
   "attachments": {},
   "cell_type": "markdown",
   "metadata": {
    "id": "-Sd0f_DG1s43"
   },
   "source": [
    "# Student Record File Workflow\n",
    "\n",
    "## Overview\n",
    "Functions to obtain and clean data required for the Student Record File in Python using Census API and NCES files. \n",
    "\n",
    "The workflow produces a Student Person Record (SREC) file that can be linked to the Person Record File. The file includes student level records with sex, grade level, race and ethnicity.\n",
    "\n",
    "Based on NCES data. \n",
    "\n",
    "The output of this workflow is a CSV file with the student record file.\n",
    "\n",
    "The output CSV is designed to be used in the Interdependent Networked Community Resilience Modeling Environment (IN-CORE) for the housing unit allocation model.\n",
    "\n",
    "IN-CORE is an open source python package that can be used to model the resilience of a community. To download IN-CORE, see:\n",
    "\n",
    "https://incore.ncsa.illinois.edu/\n",
    "\n",
    "\n",
    "## Instructions\n",
    "Users can run the workflow by executing each block of code in the notebook.\n",
    "\n",
    "Users can modify the code to select one county or multiple counties."
   ]
  },
  {
   "attachments": {},
   "cell_type": "markdown",
   "metadata": {},
   "source": [
    "## Description of Program\n",
    "- program:    ncoda_07ev1_run_SREC_workflow\n",
    "- task:       Obtain School Location and Attendance Boundaries\n",
    "- Version:    2023-02-10\n",
    "- project:    Interdependent Networked Community Resilience Modeling Environment (IN-CORE) Subtask 5.2 - Social Institutions\n",
    "- funding:\t  NIST Financial Assistance Award Numbers: 70NANB15H044 and 70NANB20H008 \n",
    "- author:     Nathanael Rosenheim\n",
    "\n",
    "- Suggested Citation:\n",
    "Rosenheim, Nathanael (2021) “Detailed Household and Housing Unit Characteristics: Data and Replication Code.” DesignSafe-CI. \n",
    "https://doi.org/10.17603/ds2-jwf6-s535."
   ]
  },
  {
   "cell_type": "markdown",
   "metadata": {
    "id": "CkwXvHYU1s47"
   },
   "source": [
    "## Setup Python Environment"
   ]
  },
  {
   "cell_type": "code",
   "execution_count": 110,
   "metadata": {
    "id": "t9TTIntO1s48"
   },
   "outputs": [],
   "source": [
    "# Import Python Packages Required for program\n",
    "import pandas as pd       # Pandas for reading in data \n",
    "import geopandas as gpd   # Geopandas for reading Shapefiles\n",
    "import numpy as np        # Numpy for working with arrays\n",
    "import os                 # Operating System (os) For folders and finding working directory\n",
    "import sys\n",
    "import zipfile            # Zipfile for working with compressed Zipped files\n",
    "import wget               # Wget for downloading files from the web\n",
    "import scooby # Reports Python environment"
   ]
  },
  {
   "cell_type": "code",
   "execution_count": 111,
   "metadata": {
    "id": "qlOlsz2L1s48",
    "outputId": "bd5e0f54-4a51-4903-cf97-ab0556121fc8"
   },
   "outputs": [
    {
     "name": "stdout",
     "output_type": "stream",
     "text": [
      "\n",
      "--------------------------------------------------------------------------------\n",
      "  Date: Mon Feb 13 15:07:35 2023 Central Standard Time\n",
      "\n",
      "                OS : Windows\n",
      "            CPU(s) : 12\n",
      "           Machine : AMD64\n",
      "      Architecture : 64bit\n",
      "               RAM : 31.6 GiB\n",
      "       Environment : Jupyter\n",
      "\n",
      "  Python 3.10.9 | packaged by conda-forge | (main, Feb  2 2023, 20:14:58) [MSC\n",
      "  v.1929 64 bit (AMD64)]\n",
      "\n",
      "            pandas : 1.3.5\n",
      "             numpy : 1.24.2\n",
      "             scipy : 1.10.0\n",
      "           IPython : 8.10.0\n",
      "        matplotlib : 3.6.3\n",
      "            scooby : 0.5.12\n",
      "--------------------------------------------------------------------------------\n"
     ]
    }
   ],
   "source": [
    "# Generate report of Python environment\n",
    "print(scooby.Report(additional=['pandas']))"
   ]
  },
  {
   "cell_type": "code",
   "execution_count": 112,
   "metadata": {},
   "outputs": [],
   "source": [
    "#To replicate this notebook Clone the Github Package to a folder that is a sibling of this notebook.\n",
    "# To access the sibling package you will need to append the parent directory ('..') to the system path list.\n",
    "# append the path of the directory that includes the github repository.\n",
    "# This step is not required when the package is in a folder below the notebook file.\n",
    "github_code_path  = \"\"\n",
    "sys.path.append(github_code_path)"
   ]
  },
  {
   "cell_type": "code",
   "execution_count": 113,
   "metadata": {},
   "outputs": [
    {
     "data": {
      "text/plain": [
       "'c:\\\\Users\\\\nathanael99\\\\MyProjects\\\\github\\\\intersect-community-data'"
      ]
     },
     "execution_count": 113,
     "metadata": {},
     "output_type": "execute_result"
    }
   ],
   "source": [
    "os.getcwd()"
   ]
  },
  {
   "cell_type": "code",
   "execution_count": 114,
   "metadata": {},
   "outputs": [
    {
     "name": "stdout",
     "output_type": "stream",
     "text": [
      "The autoreload extension is already loaded. To reload it, use:\n",
      "  %reload_ext autoreload\n"
     ]
    }
   ],
   "source": [
    "# To reload submodules need to use this magic command to set autoreload on\n",
    "%load_ext autoreload\n",
    "%autoreload 2\n",
    "# open, read, and execute python program with reusable commands\n",
    "from pyncoda.CommunitySourceData.nces_ed_gov.nces_01a_downloadfiles \\\n",
    "    import *\n",
    "from pyncoda.CommunitySourceData.nces_ed_gov.nces_00c_cleanutils \\\n",
    "    import *\n",
    "from pyncoda.CommunitySourceData.nces_ed_gov.nces_02c_SRECcleanCCD \\\n",
    "    import *\n",
    "from pyncoda.CommunitySourceData.nces_ed_gov.nces_02d_SRECtidy \\\n",
    "    import *"
   ]
  },
  {
   "cell_type": "markdown",
   "metadata": {
    "id": "XJP5i6gq1s4_"
   },
   "source": [
    "## Obtain NCES Files\n",
    "This section of code provides details on the web addresses for obtaining the NCES data. These datafiles are quiet large. It is recommended that the files are downloaded once. To facilitate the downloading of the files a Comma Seperated Values (CSV) file was create using Microsoft Excel (note CSV files are easier to read into the notebook). The CSV file includes the descriptions and important file names to be obtained. This input file can be modified for different school years."
   ]
  },
  {
   "cell_type": "code",
   "execution_count": 115,
   "metadata": {},
   "outputs": [
    {
     "ename": "SyntaxError",
     "evalue": "incomplete input (4166948777.py, line 13)",
     "output_type": "error",
     "traceback": [
      "\u001b[1;36m  Cell \u001b[1;32mIn[115], line 13\u001b[1;36m\u001b[0m\n\u001b[1;33m    outputfolder\u001b[0m\n\u001b[1;37m                ^\u001b[0m\n\u001b[1;31mSyntaxError\u001b[0m\u001b[1;31m:\u001b[0m incomplete input\n"
     ]
    }
   ],
   "source": [
    "folder_path = 'pyncoda\\\\CommunitySourceData\\\\nces_ed_gov\\\\'\n",
    "filename = 'nces_00b_ObtainSchoolData_2023-02-10.csv'\n",
    "downloadlistcsv = folder_path + filename\n",
    "county_list = ['37155']\n",
    "communityname = \"RobesonCounty_NC\"\n",
    "outputfolder = f\"OutputData\\\\{communityname}\\\\01_CommunitySourceData\"\n",
    "year = '2015-2016'\n",
    "\n",
    "schooldata_community, SAB_community = \\\n",
    "            download_nces_files(downloadlistcsv, \n",
    "                        county_list,\n",
    "                        communityname,\n",
    "                        outputfolder)"
   ]
  },
  {
   "cell_type": "code",
   "execution_count": null,
   "metadata": {},
   "outputs": [],
   "source": [
    "pd.crosstab(schooldata_community['schtype'],schooldata_community['level'])"
   ]
  },
  {
   "cell_type": "code",
   "execution_count": null,
   "metadata": {},
   "outputs": [],
   "source": [
    "sab_boundaries = split_SAB_gradelevel(SAB_community,outputfolder,year)"
   ]
  }
 ],
 "metadata": {
  "colab": {
   "name": "NCES_1av1_ObtainSchoolData_2021-06-04.ipynb",
   "provenance": [],
   "toc_visible": true
  },
  "kernelspec": {
   "display_name": "Python 3",
   "language": "python",
   "name": "python3"
  },
  "language_info": {
   "codemirror_mode": {
    "name": "ipython",
    "version": 3
   },
   "file_extension": ".py",
   "mimetype": "text/x-python",
   "name": "python",
   "nbconvert_exporter": "python",
   "pygments_lexer": "ipython3",
   "version": "3.10.9"
  },
  "vscode": {
   "interpreter": {
    "hash": "bacc429a31e85745652ad271ee961fcfce15e940c602a7b1307e0f88c92164fb"
   }
  }
 },
 "nbformat": 4,
 "nbformat_minor": 1
}
