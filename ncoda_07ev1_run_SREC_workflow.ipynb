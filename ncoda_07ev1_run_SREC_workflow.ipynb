{
 "cells": [
  {
   "attachments": {},
   "cell_type": "markdown",
   "metadata": {
    "id": "-Sd0f_DG1s43"
   },
   "source": [
    "# Student Record File Workflow\n",
    "\n",
    "## Overview\n",
    "Functions to obtain and clean data required for the Student Record File in Python using Census API and NCES files. \n",
    "\n",
    "The workflow produces a Student Person Record (SREC) file that can be linked to the Person Record File. The file includes student level records with sex, grade level, race and ethnicity.\n",
    "\n",
    "Based on NCES data. \n",
    "\n",
    "The output of this workflow is a CSV file with the student record file.\n",
    "\n",
    "The output CSV is designed to be used in the Interdependent Networked Community Resilience Modeling Environment (IN-CORE) for the housing unit allocation model.\n",
    "\n",
    "IN-CORE is an open source python package that can be used to model the resilience of a community. To download IN-CORE, see:\n",
    "\n",
    "https://incore.ncsa.illinois.edu/\n",
    "\n",
    "\n",
    "## Instructions\n",
    "Users can run the workflow by executing each block of code in the notebook.\n",
    "\n",
    "Users can modify the code to select one county or multiple counties."
   ]
  },
  {
   "attachments": {},
   "cell_type": "markdown",
   "metadata": {},
   "source": [
    "## Description of Program\n",
    "- program:    ncoda_07ev1_run_SREC_workflow\n",
    "- task:       Obtain School Location and Attendance Boundaries\n",
    "- Version:    2023-02-10\n",
    "- project:    Interdependent Networked Community Resilience Modeling Environment (IN-CORE) Subtask 5.2 - Social Institutions\n",
    "- funding:\t  NIST Financial Assistance Award Numbers: 70NANB15H044 and 70NANB20H008 \n",
    "- author:     Nathanael Rosenheim\n",
    "\n",
    "- Suggested Citation:\n",
    "Rosenheim, Nathanael (2021) “Detailed Household and Housing Unit Characteristics: Data and Replication Code.” DesignSafe-CI. \n",
    "https://doi.org/10.17603/ds2-jwf6-s535."
   ]
  },
  {
   "cell_type": "markdown",
   "metadata": {
    "id": "CkwXvHYU1s47"
   },
   "source": [
    "## Setup Python Environment"
   ]
  },
  {
   "cell_type": "code",
   "execution_count": 70,
   "metadata": {
    "id": "t9TTIntO1s48"
   },
   "outputs": [],
   "source": [
    "# Import Python Packages Required for program\n",
    "import pandas as pd       # Pandas for reading in data \n",
    "import geopandas as gpd   # Geopandas for reading Shapefiles\n",
    "import numpy as np        # Numpy for working with arrays\n",
    "import os                 # Operating System (os) For folders and finding working directory\n",
    "import sys\n",
    "import zipfile            # Zipfile for working with compressed Zipped files\n",
    "import wget               # Wget for downloading files from the web\n",
    "import scooby # Reports Python environment"
   ]
  },
  {
   "cell_type": "code",
   "execution_count": 71,
   "metadata": {
    "id": "qlOlsz2L1s48",
    "outputId": "bd5e0f54-4a51-4903-cf97-ab0556121fc8"
   },
   "outputs": [
    {
     "name": "stdout",
     "output_type": "stream",
     "text": [
      "\n",
      "--------------------------------------------------------------------------------\n",
      "  Date: Mon Feb 13 12:54:03 2023 Central Standard Time\n",
      "\n",
      "                OS : Windows\n",
      "            CPU(s) : 12\n",
      "           Machine : AMD64\n",
      "      Architecture : 64bit\n",
      "               RAM : 31.6 GiB\n",
      "       Environment : Jupyter\n",
      "\n",
      "  Python 3.10.9 | packaged by conda-forge | (main, Feb  2 2023, 20:14:58) [MSC\n",
      "  v.1929 64 bit (AMD64)]\n",
      "\n",
      "            pandas : 1.3.5\n",
      "             numpy : 1.24.2\n",
      "             scipy : 1.10.0\n",
      "           IPython : 8.10.0\n",
      "        matplotlib : 3.6.3\n",
      "            scooby : 0.5.12\n",
      "--------------------------------------------------------------------------------\n"
     ]
    }
   ],
   "source": [
    "# Generate report of Python environment\n",
    "print(scooby.Report(additional=['pandas']))"
   ]
  },
  {
   "cell_type": "code",
   "execution_count": 72,
   "metadata": {},
   "outputs": [],
   "source": [
    "#To replicate this notebook Clone the Github Package to a folder that is a sibling of this notebook.\n",
    "# To access the sibling package you will need to append the parent directory ('..') to the system path list.\n",
    "# append the path of the directory that includes the github repository.\n",
    "# This step is not required when the package is in a folder below the notebook file.\n",
    "github_code_path  = \"\"\n",
    "sys.path.append(github_code_path)"
   ]
  },
  {
   "cell_type": "code",
   "execution_count": 73,
   "metadata": {},
   "outputs": [
    {
     "data": {
      "text/plain": [
       "'c:\\\\Users\\\\nathanael99\\\\MyProjects\\\\github\\\\intersect-community-data'"
      ]
     },
     "execution_count": 73,
     "metadata": {},
     "output_type": "execute_result"
    }
   ],
   "source": [
    "os.getcwd()"
   ]
  },
  {
   "cell_type": "code",
   "execution_count": 74,
   "metadata": {},
   "outputs": [
    {
     "name": "stdout",
     "output_type": "stream",
     "text": [
      "The autoreload extension is already loaded. To reload it, use:\n",
      "  %reload_ext autoreload\n"
     ]
    }
   ],
   "source": [
    "# To reload submodules need to use this magic command to set autoreload on\n",
    "%load_ext autoreload\n",
    "%autoreload 2\n",
    "# open, read, and execute python program with reusable commands\n",
    "#from pyncoda.ncoda_07e_generate_prec import generate_prec_functions"
   ]
  },
  {
   "cell_type": "markdown",
   "metadata": {
    "id": "XJP5i6gq1s4_"
   },
   "source": [
    "## Obtain NCES Files\n",
    "This section of code provides details on the web addresses for obtaining the NCES data. These datafiles are quiet large. It is recommended that the files are downloaded once. To facilitate the downloading of the files a Comma Seperated Values (CSV) file was create using Microsoft Excel (note CSV files are easier to read into the notebook). The CSV file includes the descriptions and important file names to be obtained. This input file can be modified for different school years."
   ]
  },
  {
   "cell_type": "code",
   "execution_count": 75,
   "metadata": {
    "id": "j4ncU1dO1s5A",
    "outputId": "76df0e80-5590-4585-d956-e504ca1ba3ea"
   },
   "outputs": [
    {
     "data": {
      "text/html": [
       "<div>\n",
       "<style scoped>\n",
       "    .dataframe tbody tr th:only-of-type {\n",
       "        vertical-align: middle;\n",
       "    }\n",
       "\n",
       "    .dataframe tbody tr th {\n",
       "        vertical-align: top;\n",
       "    }\n",
       "\n",
       "    .dataframe thead th {\n",
       "        text-align: right;\n",
       "    }\n",
       "</style>\n",
       "<table border=\"1\" class=\"dataframe\">\n",
       "  <thead>\n",
       "    <tr style=\"text-align: right;\">\n",
       "      <th></th>\n",
       "      <th>Program</th>\n",
       "      <th>File Description</th>\n",
       "      <th>School Year</th>\n",
       "      <th>Documentation File Name</th>\n",
       "      <th>Data File Name</th>\n",
       "      <th>Unzipped Shapefile File Location</th>\n",
       "      <th>Documentation File URL</th>\n",
       "      <th>Data File URL</th>\n",
       "      <th>copyvars</th>\n",
       "      <th>level</th>\n",
       "      <th>schtype</th>\n",
       "    </tr>\n",
       "  </thead>\n",
       "  <tbody>\n",
       "    <tr>\n",
       "      <th>0</th>\n",
       "      <td>EDGE</td>\n",
       "      <td>Postsecondary School File</td>\n",
       "      <td>2015-2016</td>\n",
       "      <td>EDGE_GEOCODE_POSTSEC_FILEDOC.pdf</td>\n",
       "      <td>EDGE_GEOCODE_POSTSECONDARYSCH_1516.zip</td>\n",
       "      <td>EDGE_GEOCODE_POSTSECONDARYSCH_1516/EDGE_GEOCOD...</td>\n",
       "      <td>https://nces.ed.gov/programs/edge/docs/</td>\n",
       "      <td>https://nces.ed.gov/programs/edge/data/</td>\n",
       "      <td>UNITID,INSTNM,ADDR,CITY,STABBR,ZIP,CNTY15,geom...</td>\n",
       "      <td>5.0</td>\n",
       "      <td>5.0</td>\n",
       "    </tr>\n",
       "    <tr>\n",
       "      <th>1</th>\n",
       "      <td>EDGE</td>\n",
       "      <td>Public District File</td>\n",
       "      <td>2015-2016</td>\n",
       "      <td>EDGE_GEOCODE_PUBLIC_FILEDOC.pdf</td>\n",
       "      <td>EDGE_GEOCODE_PUBLICLEA_1516.zip</td>\n",
       "      <td>EDGE_GEOCODE_PUBLICLEA_1516/EDGE_GEOCODE_PUBLI...</td>\n",
       "      <td>https://nces.ed.gov/programs/edge/docs/</td>\n",
       "      <td>https://nces.ed.gov/programs/edge/data/</td>\n",
       "      <td>LEAID,NAME,LSTREE,LCITY,LSTATE,LZIP,CNTY15,geo...</td>\n",
       "      <td>99.0</td>\n",
       "      <td>1.0</td>\n",
       "    </tr>\n",
       "    <tr>\n",
       "      <th>2</th>\n",
       "      <td>EDGE</td>\n",
       "      <td>Public School File</td>\n",
       "      <td>2015-2016</td>\n",
       "      <td>EDGE_GEOCODE_PUBLIC_FILEDOC.pdf</td>\n",
       "      <td>EDGE_GEOCODE_PUBLICSCH_1516.zip</td>\n",
       "      <td>EDGE_GEOCODE_PUBLICSCH_1516/EDGE_GEOCODE_PUBLI...</td>\n",
       "      <td>https://nces.ed.gov/programs/edge/docs/</td>\n",
       "      <td>https://nces.ed.gov/programs/edge/data/</td>\n",
       "      <td>NCESSCH,NAME,LSTREE,LCITY,LSTATE,LZIP,CNTY15,g...</td>\n",
       "      <td>99.0</td>\n",
       "      <td>2.0</td>\n",
       "    </tr>\n",
       "    <tr>\n",
       "      <th>3</th>\n",
       "      <td>EDGE</td>\n",
       "      <td>Private School File</td>\n",
       "      <td>2015-2016</td>\n",
       "      <td>EDGE_GEOCODE_PSS1718_FILEDOC.pdf</td>\n",
       "      <td>EDGE_GEOCODE_PRIVATESCH_15_16.zip</td>\n",
       "      <td>EDGE_GEOCODE_PRIVATESCH_15_16.shp</td>\n",
       "      <td>https://nces.ed.gov/programs/edge/docs/</td>\n",
       "      <td>https://nces.ed.gov/programs/edge/data/</td>\n",
       "      <td>PPIN,PINST,PL_ADD,PL_CIT,PL_STABB,PL_ZIP,CNTY1...</td>\n",
       "      <td>99.0</td>\n",
       "      <td>4.0</td>\n",
       "    </tr>\n",
       "    <tr>\n",
       "      <th>4</th>\n",
       "      <td>EDGE</td>\n",
       "      <td>School Attendance Boundaries Single Shapefile</td>\n",
       "      <td>2015-2016</td>\n",
       "      <td>EDGE_SABS_2015_2016_TECHDOC.pdf</td>\n",
       "      <td>SABS_1516.zip</td>\n",
       "      <td>SABS_1516/SABS_1516.shp</td>\n",
       "      <td>https://nces.ed.gov/programs/edge/docs/</td>\n",
       "      <td>https://nces.ed.gov/programs/edge/data/</td>\n",
       "      <td>NaN</td>\n",
       "      <td>NaN</td>\n",
       "      <td>NaN</td>\n",
       "    </tr>\n",
       "    <tr>\n",
       "      <th>5</th>\n",
       "      <td>CCD</td>\n",
       "      <td>Common Core Data Staff</td>\n",
       "      <td>2015-2016</td>\n",
       "      <td>2015-16_CCD_Companion_School_Staff.xlsx</td>\n",
       "      <td>ccd_sch_059_1516_w_2a_011717_csv.zip</td>\n",
       "      <td>None</td>\n",
       "      <td>https://nces.ed.gov/ccd/xls/</td>\n",
       "      <td>https://nces.ed.gov/ccd/data/zip/</td>\n",
       "      <td>NaN</td>\n",
       "      <td>NaN</td>\n",
       "      <td>NaN</td>\n",
       "    </tr>\n",
       "    <tr>\n",
       "      <th>6</th>\n",
       "      <td>CCD</td>\n",
       "      <td>Common Core Data School Characteristics</td>\n",
       "      <td>2015-2016</td>\n",
       "      <td>2015-16_CCD_Companion_School_CCD_School.xlsx</td>\n",
       "      <td>ccd_sch_129_1516_w_2a_011717_csv.zip</td>\n",
       "      <td>None</td>\n",
       "      <td>https://nces.ed.gov/ccd/xls/</td>\n",
       "      <td>https://nces.ed.gov/ccd/data/zip/</td>\n",
       "      <td>NaN</td>\n",
       "      <td>NaN</td>\n",
       "      <td>NaN</td>\n",
       "    </tr>\n",
       "  </tbody>\n",
       "</table>\n",
       "</div>"
      ],
      "text/plain": [
       "  Program                               File Description School Year  \\\n",
       "0    EDGE                      Postsecondary School File   2015-2016   \n",
       "1    EDGE                           Public District File   2015-2016   \n",
       "2    EDGE                             Public School File   2015-2016   \n",
       "3    EDGE                            Private School File   2015-2016   \n",
       "4    EDGE  School Attendance Boundaries Single Shapefile   2015-2016   \n",
       "5     CCD                         Common Core Data Staff   2015-2016   \n",
       "6     CCD        Common Core Data School Characteristics   2015-2016   \n",
       "\n",
       "                        Documentation File Name  \\\n",
       "0              EDGE_GEOCODE_POSTSEC_FILEDOC.pdf   \n",
       "1               EDGE_GEOCODE_PUBLIC_FILEDOC.pdf   \n",
       "2               EDGE_GEOCODE_PUBLIC_FILEDOC.pdf   \n",
       "3              EDGE_GEOCODE_PSS1718_FILEDOC.pdf   \n",
       "4               EDGE_SABS_2015_2016_TECHDOC.pdf   \n",
       "5       2015-16_CCD_Companion_School_Staff.xlsx   \n",
       "6  2015-16_CCD_Companion_School_CCD_School.xlsx   \n",
       "\n",
       "                           Data File Name  \\\n",
       "0  EDGE_GEOCODE_POSTSECONDARYSCH_1516.zip   \n",
       "1         EDGE_GEOCODE_PUBLICLEA_1516.zip   \n",
       "2         EDGE_GEOCODE_PUBLICSCH_1516.zip   \n",
       "3       EDGE_GEOCODE_PRIVATESCH_15_16.zip   \n",
       "4                           SABS_1516.zip   \n",
       "5    ccd_sch_059_1516_w_2a_011717_csv.zip   \n",
       "6    ccd_sch_129_1516_w_2a_011717_csv.zip   \n",
       "\n",
       "                    Unzipped Shapefile File Location  \\\n",
       "0  EDGE_GEOCODE_POSTSECONDARYSCH_1516/EDGE_GEOCOD...   \n",
       "1  EDGE_GEOCODE_PUBLICLEA_1516/EDGE_GEOCODE_PUBLI...   \n",
       "2  EDGE_GEOCODE_PUBLICSCH_1516/EDGE_GEOCODE_PUBLI...   \n",
       "3                  EDGE_GEOCODE_PRIVATESCH_15_16.shp   \n",
       "4                            SABS_1516/SABS_1516.shp   \n",
       "5                                               None   \n",
       "6                                               None   \n",
       "\n",
       "                    Documentation File URL  \\\n",
       "0  https://nces.ed.gov/programs/edge/docs/   \n",
       "1  https://nces.ed.gov/programs/edge/docs/   \n",
       "2  https://nces.ed.gov/programs/edge/docs/   \n",
       "3  https://nces.ed.gov/programs/edge/docs/   \n",
       "4  https://nces.ed.gov/programs/edge/docs/   \n",
       "5             https://nces.ed.gov/ccd/xls/   \n",
       "6             https://nces.ed.gov/ccd/xls/   \n",
       "\n",
       "                             Data File URL  \\\n",
       "0  https://nces.ed.gov/programs/edge/data/   \n",
       "1  https://nces.ed.gov/programs/edge/data/   \n",
       "2  https://nces.ed.gov/programs/edge/data/   \n",
       "3  https://nces.ed.gov/programs/edge/data/   \n",
       "4  https://nces.ed.gov/programs/edge/data/   \n",
       "5        https://nces.ed.gov/ccd/data/zip/   \n",
       "6        https://nces.ed.gov/ccd/data/zip/   \n",
       "\n",
       "                                            copyvars  level  schtype  \n",
       "0  UNITID,INSTNM,ADDR,CITY,STABBR,ZIP,CNTY15,geom...    5.0      5.0  \n",
       "1  LEAID,NAME,LSTREE,LCITY,LSTATE,LZIP,CNTY15,geo...   99.0      1.0  \n",
       "2  NCESSCH,NAME,LSTREE,LCITY,LSTATE,LZIP,CNTY15,g...   99.0      2.0  \n",
       "3  PPIN,PINST,PL_ADD,PL_CIT,PL_STABB,PL_ZIP,CNTY1...   99.0      4.0  \n",
       "4                                                NaN    NaN      NaN  \n",
       "5                                                NaN    NaN      NaN  \n",
       "6                                                NaN    NaN      NaN  "
      ]
     },
     "execution_count": 75,
     "metadata": {},
     "output_type": "execute_result"
    }
   ],
   "source": [
    "folder_path = 'pyncoda\\\\CommunitySourceData\\\\nces_ed_gov\\\\'\n",
    "filename = 'NCES_1av1_ObtainSchoolData_2023-02-10.csv'\n",
    "filelist_df = pd.read_csv(folder_path+filename)\n",
    "filelist_df"
   ]
  },
  {
   "attachments": {},
   "cell_type": "markdown",
   "metadata": {
    "id": "zo7_0T-j1s5A"
   },
   "source": [
    "# Setup directory"
   ]
  },
  {
   "cell_type": "code",
   "execution_count": 76,
   "metadata": {
    "id": "2ro3P7L51s5B",
    "outputId": "b61eb9e8-c127-40d9-b04c-cf1d51201064"
   },
   "outputs": [
    {
     "name": "stdout",
     "output_type": "stream",
     "text": [
      "Directory Outputdata\\00_SourceData\\nces_ed_gov Already exists.\n",
      "Directory Outputdata\\00_SourceData\\nces_ed_gov\\unzipped Already exists.\n"
     ]
    }
   ],
   "source": [
    "output_sourcedata = 'Outputdata\\\\00_SourceData'\n",
    "output_directory = 'Outputdata\\\\00_SourceData\\\\nces_ed_gov'\n",
    "# Make directory to save output\n",
    "if not os.path.exists(output_sourcedata):\n",
    "    print(\"Making new directory to save output: \",\n",
    "        output_sourcedata)\n",
    "    os.mkdir(output_sourcedata)\n",
    "if not os.path.exists(output_directory):\n",
    "    print(\"Making new directory to save output: \",\n",
    "        output_directory)\n",
    "    os.mkdir(output_directory)\n",
    "else:\n",
    "    print(\"Directory\",output_directory,\"Already exists.\")\n",
    "\n",
    "unzipped_output_directory = output_directory+'\\\\unzipped'\n",
    "# Make directory to save output\n",
    "if not os.path.exists(unzipped_output_directory):\n",
    "    print(\"Making unzipped_output_directory directory\"+\n",
    "        \" to save output: \",unzipped_output_directory)\n",
    "    os.mkdir(unzipped_output_directory)\n",
    "else:\n",
    "    print(\"Directory\",unzipped_output_directory,\n",
    "        \"Already exists.\")"
   ]
  },
  {
   "cell_type": "code",
   "execution_count": 81,
   "metadata": {},
   "outputs": [],
   "source": [
    "from pyproj import CRS\n",
    "\n",
    "def select_var(data, selectvar: str, selectlist):\n",
    "    \"\"\"\n",
    "    \n",
    "    Args:\n",
    "        :param data: data to select from\n",
    "        :type data: pandas dataframe or geopandas dataframe\n",
    "        :param selectvar: Variable to select from\n",
    "        :param selectlist: List of values to select       \n",
    "    \n",
    "    Returns:\n",
    "        dataframe: selected values from data\n",
    "    \"\"\"\n",
    "    \n",
    "    # Make a copy of object - deep = True - creates a new object\n",
    "    data_selected = data[data[selectvar].isin(selectlist)].copy(deep=True)\n",
    "    \n",
    "    # How many observations selected \n",
    "    obs = len(data_selected.index)\n",
    "    print(obs,\"observations selected using \",selectvar,\n",
    "            \" in list \",selectlist)\n",
    "    \n",
    "    # Return data with job count\n",
    "    return data_selected\n",
    "\n",
    "# Select School Attendance Boundary data\n",
    "def select_NCES_sabs(data,NCESSCH_list,LEAID_list):\n",
    "    '''\n",
    "    Select School Attendance Boundary data\n",
    "    based on the list of school ids (NCESSCH) and \n",
    "    school district ids (LEAID)\n",
    "    '''\n",
    "    \n",
    "    data['slcncessch'] = np.where(data['ncessch'].isin(NCESSCH_list),1,0)\n",
    "    data['slcleaid']   = np.where(data['leaid'].isin(LEAID_list),1,0)\n",
    "    \n",
    "    data_selected = data[(data['slcncessch'] == 1) |\n",
    "                         (data['slcleaid'] == 1)].copy(deep=True)\n",
    "    \n",
    "    # How many observations selected \n",
    "    obs = len(data_selected.index)\n",
    "    print(obs,\"observations selected\")\n",
    "    \n",
    "    return data_selected\n",
    "\n",
    "def prepare_nces_data_for_append(gdf,\n",
    "                            copyvars,\n",
    "                            level,\n",
    "                            schtype,\n",
    "                            years):\n",
    "    '''\n",
    "    individual nces files have different column names\n",
    "    this function renames the columns to match the\n",
    "    column names in the appended file\n",
    "    '''\n",
    "    append_gdf = gdf[copyvars].copy()\n",
    "\n",
    "    # All data frames need to have the same column names\n",
    "    colnames = ['ncesid','name','addr','city','stabbr','zip','cnty15','geometry']\n",
    "    append_gdf.columns = colnames\n",
    "    \n",
    "    # level relates to the level of the school\n",
    "    # 1 = elementary to 5 = postsecondary\n",
    "    append_gdf['level'] = level\n",
    "\n",
    "    # Set geometry\n",
    "    append_gdf.crs = CRS(\"epsg:4326\")\n",
    "    append_gdf = append_gdf.to_crs(\"epsg:4326\")\n",
    "    # School type \n",
    "    # 1 = district, 2 = public, 3 = charter, 4 = private\n",
    "    append_gdf['schtype'] = schtype\n",
    "    # save centroid coordinates\n",
    "    # Use UTM zone for centroid to avoid projection error\n",
    "    #append_gdf['centroidUTM'] = gdf.to_crs('epsg:26917').\\\n",
    "    #    centroid.to_crs(append_gdf.crs)\n",
    "    append_gdf['lat'] = append_gdf.y\n",
    "    append_gdf['lon'] = append_gdf.x\n",
    "    append_gdf['schyr'] = years\n",
    "    \n",
    "    return append_gdf\n",
    "\n",
    "def split_SAB_gradelevel(df, outputfolder, year):\n",
    "    '''\n",
    "    ### Split SABs by level and open enrollment\n",
    "\n",
    "    The SAB files has 5 different levels (`level`)\n",
    "\n",
    "    - 1 = Primary\n",
    "    - 2 = Middle\n",
    "    - 3 = High\n",
    "    - 4 = Other\n",
    "    - N = Not Applicable\n",
    "\n",
    "    The SAB files have a flag for schools \n",
    "    that allow open enrollment `openEnroll`.\n",
    "\n",
    "    The SAB file can be split into non-overlapping \n",
    "    files that represent the different levels and \n",
    "    if the school allows open enrollment.\n",
    "    '''\n",
    "\n",
    "    sab_boundaries = {}\n",
    "    condition2 = (df['openEnroll']=='0')\n",
    "\n",
    "    sab_boundaries[('Primary SAB', year)] = \\\n",
    "        df[(df['level']=='1') & condition2].copy(deep=True)\n",
    "    sab_boundaries[('Middle SAB', year)] = \\\n",
    "        df[(df['level']=='2') & condition2].copy(deep=True)\n",
    "    sab_boundaries[('High SAB', year)] = \\\n",
    "        df[(df['level']=='3') & condition2].copy(deep=True)\n",
    "    sab_boundaries[('Other SAB', year)] = \\\n",
    "        df[(df['level']=='4') & condition2].copy(deep=True)\n",
    "    sab_boundaries[('Open Enroll SAB', year)] = \\\n",
    "        df[(df['openEnroll']=='1')].copy(deep=True)\n",
    "    \n",
    "    for key in sab_boundaries:\n",
    "        print(key)\n",
    "        # Set Coordinate Reference System to to WGS84    \n",
    "        sab_boundaries[key] = \\\n",
    "            sab_boundaries[key].to_crs(\"epsg:4326\") \n",
    "        # save as shapefile\n",
    "        # sab_boundaries[key].to_file(outputfolder+\"/\"+newfilename)\n",
    "\n",
    "    \n",
    "    return sab_boundaries"
   ]
  },
  {
   "attachments": {},
   "cell_type": "markdown",
   "metadata": {},
   "source": []
  },
  {
   "cell_type": "code",
   "execution_count": 78,
   "metadata": {},
   "outputs": [
    {
     "data": {
      "text/plain": [
       "'\\nLoop through file list and download the data file\\nand documentation for each file.\\n'"
      ]
     },
     "execution_count": 78,
     "metadata": {},
     "output_type": "execute_result"
    }
   ],
   "source": [
    "'''\n",
    "Loop through file list and download the data file\n",
    "and documentation for each file.\n",
    "'''"
   ]
  },
  {
   "cell_type": "code",
   "execution_count": 82,
   "metadata": {},
   "outputs": [],
   "source": [
    "# create empty dictionary to store geodataframes for each file\n",
    "schooldata = {} \n",
    "select_schooldata = {} \n",
    "county_list = ['37155']\n",
    "outputfolder = \"OutputData\\\\RobesonCounty_NC\\\\01_CommunitySourceData\"\n",
    "communityname = \"RobesonCounty_NC\"\n",
    "year = '2015-2016'"
   ]
  },
  {
   "cell_type": "code",
   "execution_count": 86,
   "metadata": {
    "id": "4IXolKcH1s5C",
    "outputId": "eb598a48-1a62-49ae-b7c7-0204fb612ae6"
   },
   "outputs": [
    {
     "name": "stdout",
     "output_type": "stream",
     "text": [
      "\n",
      "Downloading Postsecondary School File Files for School Year 2015-2016\n",
      "   Checking to see if file EDGE_GEOCODE_POSTSEC_FILEDOC.pdf has been downloaded...\n",
      "   file EDGE_GEOCODE_POSTSEC_FILEDOC.pdf already exists in folder  Outputdata\\00_SourceData\\nces_ed_gov\n",
      "   original file was downloaded from https://nces.ed.gov/programs/edge/docs/EDGE_GEOCODE_POSTSEC_FILEDOC.pdf\n",
      "   Checking to see if file EDGE_GEOCODE_POSTSECONDARYSCH_1516.zip has been downloaded...\n",
      "   file EDGE_GEOCODE_POSTSECONDARYSCH_1516.zip already exists in folder  Outputdata\\00_SourceData\\nces_ed_gov\n",
      "   original file was downloaded from https://nces.ed.gov/programs/edge/data/EDGE_GEOCODE_POSTSECONDARYSCH_1516.zip\n",
      "\n",
      " Unzipping Postsecondary School File Files for School Year 2015-2016\n",
      "   file EDGE_GEOCODE_POSTSECONDARYSCH_1516.zip already exists in folder  Outputdata\\00_SourceData\\nces_ed_gov\n",
      "   files will be unzipped. to Outputdata\\00_SourceData\\nces_ed_gov\\unzipped\n",
      "   file saved as geopandas dataframe  in a dictionary with 2 keys.\n",
      "2 observations selected using  CNTY15  in list  ['37155']\n"
     ]
    },
    {
     "name": "stderr",
     "output_type": "stream",
     "text": [
      "C:\\Users\\nathanael99\\AppData\\Local\\Temp\\ipykernel_15444\\2467345056.py:83: UserWarning: Column names longer than 10 characters will be truncated when saved to ESRI Shapefile.\n",
      "  select_schooldata[(key1,key2)].to_file(outputfolder+\"/\"+new_filename)\n"
     ]
    },
    {
     "ename": "TypeError",
     "evalue": "Cannot interpret '<geopandas.array.GeometryDtype object at 0x00000248EE666E00>' as a data type",
     "output_type": "error",
     "traceback": [
      "\u001b[1;31m---------------------------------------------------------------------------\u001b[0m",
      "\u001b[1;31mTypeError\u001b[0m                                 Traceback (most recent call last)",
      "Cell \u001b[1;32mIn[86], line 83\u001b[0m\n\u001b[0;32m     81\u001b[0m stem_filename \u001b[39m=\u001b[39m \u001b[39m'\u001b[39m\u001b[39m_\u001b[39m\u001b[39m'\u001b[39m\u001b[39m+\u001b[39mcommunityname\u001b[39m+\u001b[39m\u001b[39m'\u001b[39m\u001b[39m.shp\u001b[39m\u001b[39m'\u001b[39m\n\u001b[0;32m     82\u001b[0m new_filename \u001b[39m=\u001b[39m root_filename\u001b[39m+\u001b[39mstem_filename\n\u001b[1;32m---> 83\u001b[0m select_schooldata[(key1,key2)]\u001b[39m.\u001b[39;49mto_file(outputfolder\u001b[39m+\u001b[39;49m\u001b[39m\"\u001b[39;49m\u001b[39m/\u001b[39;49m\u001b[39m\"\u001b[39;49m\u001b[39m+\u001b[39;49mnew_filename)\n",
      "File \u001b[1;32mc:\\Users\\nathanael99\\AppData\\Local\\miniconda3\\envs\\pyncoda20230210\\lib\\site-packages\\geopandas\\geodataframe.py:1203\u001b[0m, in \u001b[0;36mGeoDataFrame.to_file\u001b[1;34m(self, filename, driver, schema, index, **kwargs)\u001b[0m\n\u001b[0;32m   1120\u001b[0m \u001b[39m\u001b[39m\u001b[39m\"\"\"Write the ``GeoDataFrame`` to a file.\u001b[39;00m\n\u001b[0;32m   1121\u001b[0m \n\u001b[0;32m   1122\u001b[0m \u001b[39mBy default, an ESRI shapefile is written, but any OGR data source\u001b[39;00m\n\u001b[1;32m   (...)\u001b[0m\n\u001b[0;32m   1199\u001b[0m \u001b[39m>>> gdf.to_file('dataframe.shp', mode=\"a\")  # doctest: +SKIP\u001b[39;00m\n\u001b[0;32m   1200\u001b[0m \u001b[39m\"\"\"\u001b[39;00m\n\u001b[0;32m   1201\u001b[0m \u001b[39mfrom\u001b[39;00m \u001b[39mgeopandas\u001b[39;00m\u001b[39m.\u001b[39;00m\u001b[39mio\u001b[39;00m\u001b[39m.\u001b[39;00m\u001b[39mfile\u001b[39;00m \u001b[39mimport\u001b[39;00m _to_file\n\u001b[1;32m-> 1203\u001b[0m _to_file(\u001b[39mself\u001b[39m, filename, driver, schema, index, \u001b[39m*\u001b[39m\u001b[39m*\u001b[39mkwargs)\n",
      "File \u001b[1;32mc:\\Users\\nathanael99\\AppData\\Local\\miniconda3\\envs\\pyncoda20230210\\lib\\site-packages\\geopandas\\io\\file.py:545\u001b[0m, in \u001b[0;36m_to_file\u001b[1;34m(df, filename, driver, schema, index, mode, crs, engine, **kwargs)\u001b[0m\n\u001b[0;32m    538\u001b[0m     warnings\u001b[39m.\u001b[39mwarn(\n\u001b[0;32m    539\u001b[0m         \u001b[39m\"\u001b[39m\u001b[39mColumn names longer than 10 characters will be truncated when saved to \u001b[39m\u001b[39m\"\u001b[39m\n\u001b[0;32m    540\u001b[0m         \u001b[39m\"\u001b[39m\u001b[39mESRI Shapefile.\u001b[39m\u001b[39m\"\u001b[39m,\n\u001b[0;32m    541\u001b[0m         stacklevel\u001b[39m=\u001b[39m\u001b[39m3\u001b[39m,\n\u001b[0;32m    542\u001b[0m     )\n\u001b[0;32m    544\u001b[0m \u001b[39mif\u001b[39;00m engine \u001b[39m==\u001b[39m \u001b[39m\"\u001b[39m\u001b[39mfiona\u001b[39m\u001b[39m\"\u001b[39m:\n\u001b[1;32m--> 545\u001b[0m     _to_file_fiona(df, filename, driver, schema, crs, mode, \u001b[39m*\u001b[39m\u001b[39m*\u001b[39mkwargs)\n\u001b[0;32m    546\u001b[0m \u001b[39melif\u001b[39;00m engine \u001b[39m==\u001b[39m \u001b[39m\"\u001b[39m\u001b[39mpyogrio\u001b[39m\u001b[39m\"\u001b[39m:\n\u001b[0;32m    547\u001b[0m     _to_file_pyogrio(df, filename, driver, schema, crs, mode, \u001b[39m*\u001b[39m\u001b[39m*\u001b[39mkwargs)\n",
      "File \u001b[1;32mc:\\Users\\nathanael99\\AppData\\Local\\miniconda3\\envs\\pyncoda20230210\\lib\\site-packages\\geopandas\\io\\file.py:555\u001b[0m, in \u001b[0;36m_to_file_fiona\u001b[1;34m(df, filename, driver, schema, crs, mode, **kwargs)\u001b[0m\n\u001b[0;32m    552\u001b[0m \u001b[39mdef\u001b[39;00m \u001b[39m_to_file_fiona\u001b[39m(df, filename, driver, schema, crs, mode, \u001b[39m*\u001b[39m\u001b[39m*\u001b[39mkwargs):\n\u001b[0;32m    554\u001b[0m     \u001b[39mif\u001b[39;00m schema \u001b[39mis\u001b[39;00m \u001b[39mNone\u001b[39;00m:\n\u001b[1;32m--> 555\u001b[0m         schema \u001b[39m=\u001b[39m infer_schema(df)\n\u001b[0;32m    557\u001b[0m     \u001b[39mif\u001b[39;00m crs:\n\u001b[0;32m    558\u001b[0m         crs \u001b[39m=\u001b[39m pyproj\u001b[39m.\u001b[39mCRS\u001b[39m.\u001b[39mfrom_user_input(crs)\n",
      "File \u001b[1;32mc:\\Users\\nathanael99\\AppData\\Local\\miniconda3\\envs\\pyncoda20230210\\lib\\site-packages\\geopandas\\io\\file.py:622\u001b[0m, in \u001b[0;36minfer_schema\u001b[1;34m(df)\u001b[0m\n\u001b[0;32m    618\u001b[0m         out_type \u001b[39m=\u001b[39m \u001b[39m\"\u001b[39m\u001b[39mint\u001b[39m\u001b[39m\"\u001b[39m\n\u001b[0;32m    619\u001b[0m     \u001b[39mreturn\u001b[39;00m out_type\n\u001b[0;32m    621\u001b[0m properties \u001b[39m=\u001b[39m OrderedDict(\n\u001b[1;32m--> 622\u001b[0m     [\n\u001b[0;32m    623\u001b[0m         (col, convert_type(col, _type))\n\u001b[0;32m    624\u001b[0m         \u001b[39mfor\u001b[39;00m col, _type \u001b[39min\u001b[39;00m \u001b[39mzip\u001b[39m(df\u001b[39m.\u001b[39mcolumns, df\u001b[39m.\u001b[39mdtypes)\n\u001b[0;32m    625\u001b[0m         \u001b[39mif\u001b[39;00m col \u001b[39m!=\u001b[39m df\u001b[39m.\u001b[39m_geometry_column_name\n\u001b[0;32m    626\u001b[0m     ]\n\u001b[0;32m    627\u001b[0m )\n\u001b[0;32m    629\u001b[0m \u001b[39mif\u001b[39;00m df\u001b[39m.\u001b[39mempty:\n\u001b[0;32m    630\u001b[0m     warnings\u001b[39m.\u001b[39mwarn(\n\u001b[0;32m    631\u001b[0m         \u001b[39m\"\u001b[39m\u001b[39mYou are attempting to write an empty DataFrame to file. \u001b[39m\u001b[39m\"\u001b[39m\n\u001b[0;32m    632\u001b[0m         \u001b[39m\"\u001b[39m\u001b[39mFor some drivers, this operation may fail.\u001b[39m\u001b[39m\"\u001b[39m,\n\u001b[0;32m    633\u001b[0m         \u001b[39mUserWarning\u001b[39;00m,\n\u001b[0;32m    634\u001b[0m         stacklevel\u001b[39m=\u001b[39m\u001b[39m3\u001b[39m,\n\u001b[0;32m    635\u001b[0m     )\n",
      "File \u001b[1;32mc:\\Users\\nathanael99\\AppData\\Local\\miniconda3\\envs\\pyncoda20230210\\lib\\site-packages\\geopandas\\io\\file.py:623\u001b[0m, in \u001b[0;36m<listcomp>\u001b[1;34m(.0)\u001b[0m\n\u001b[0;32m    618\u001b[0m         out_type \u001b[39m=\u001b[39m \u001b[39m\"\u001b[39m\u001b[39mint\u001b[39m\u001b[39m\"\u001b[39m\n\u001b[0;32m    619\u001b[0m     \u001b[39mreturn\u001b[39;00m out_type\n\u001b[0;32m    621\u001b[0m properties \u001b[39m=\u001b[39m OrderedDict(\n\u001b[0;32m    622\u001b[0m     [\n\u001b[1;32m--> 623\u001b[0m         (col, convert_type(col, _type))\n\u001b[0;32m    624\u001b[0m         \u001b[39mfor\u001b[39;00m col, _type \u001b[39min\u001b[39;00m \u001b[39mzip\u001b[39m(df\u001b[39m.\u001b[39mcolumns, df\u001b[39m.\u001b[39mdtypes)\n\u001b[0;32m    625\u001b[0m         \u001b[39mif\u001b[39;00m col \u001b[39m!=\u001b[39m df\u001b[39m.\u001b[39m_geometry_column_name\n\u001b[0;32m    626\u001b[0m     ]\n\u001b[0;32m    627\u001b[0m )\n\u001b[0;32m    629\u001b[0m \u001b[39mif\u001b[39;00m df\u001b[39m.\u001b[39mempty:\n\u001b[0;32m    630\u001b[0m     warnings\u001b[39m.\u001b[39mwarn(\n\u001b[0;32m    631\u001b[0m         \u001b[39m\"\u001b[39m\u001b[39mYou are attempting to write an empty DataFrame to file. \u001b[39m\u001b[39m\"\u001b[39m\n\u001b[0;32m    632\u001b[0m         \u001b[39m\"\u001b[39m\u001b[39mFor some drivers, this operation may fail.\u001b[39m\u001b[39m\"\u001b[39m,\n\u001b[0;32m    633\u001b[0m         \u001b[39mUserWarning\u001b[39;00m,\n\u001b[0;32m    634\u001b[0m         stacklevel\u001b[39m=\u001b[39m\u001b[39m3\u001b[39m,\n\u001b[0;32m    635\u001b[0m     )\n",
      "File \u001b[1;32mc:\\Users\\nathanael99\\AppData\\Local\\miniconda3\\envs\\pyncoda20230210\\lib\\site-packages\\geopandas\\io\\file.py:616\u001b[0m, in \u001b[0;36minfer_schema.<locals>.convert_type\u001b[1;34m(column, in_type)\u001b[0m\n\u001b[0;32m    614\u001b[0m     out_type \u001b[39m=\u001b[39m types[\u001b[39mstr\u001b[39m(in_type)]\n\u001b[0;32m    615\u001b[0m \u001b[39melse\u001b[39;00m:\n\u001b[1;32m--> 616\u001b[0m     out_type \u001b[39m=\u001b[39m \u001b[39mtype\u001b[39m(np\u001b[39m.\u001b[39;49mzeros(\u001b[39m1\u001b[39;49m, in_type)\u001b[39m.\u001b[39mitem())\u001b[39m.\u001b[39m\u001b[39m__name__\u001b[39m\n\u001b[0;32m    617\u001b[0m \u001b[39mif\u001b[39;00m out_type \u001b[39m==\u001b[39m \u001b[39m\"\u001b[39m\u001b[39mlong\u001b[39m\u001b[39m\"\u001b[39m:\n\u001b[0;32m    618\u001b[0m     out_type \u001b[39m=\u001b[39m \u001b[39m\"\u001b[39m\u001b[39mint\u001b[39m\u001b[39m\"\u001b[39m\n",
      "\u001b[1;31mTypeError\u001b[0m: Cannot interpret '<geopandas.array.GeometryDtype object at 0x00000248EE666E00>' as a data type"
     ]
    }
   ],
   "source": [
    "for index, files in filelist_df.iterrows():\n",
    "    print(\"\\nDownloading\",files['File Description'],\"Files for School Year\",files['School Year'])\n",
    "    \n",
    "    # Create dictionary with documentation and \n",
    "    # data file names and associated URL\n",
    "    downloadfiles = \\\n",
    "        {files['Documentation File Name']:\n",
    "            files['Documentation File URL'],\n",
    "         files['Data File Name']:\n",
    "            files['Data File URL']}\n",
    "    for file in downloadfiles:\n",
    "        # Set file path where file will be downloaded\n",
    "        filepath = output_directory+\"/\"+file\n",
    "        print(\"   Checking to see if file\",file,\n",
    "            \"has been downloaded...\")\n",
    "        \n",
    "        # set URL for where the file is located\n",
    "        url = downloadfiles[file]+file\n",
    "        \n",
    "        # Check if file exists - if not then download\n",
    "        if not os.path.exists(filepath):\n",
    "            print(\"   Downloading: \",file, \"from \\n\",url)\n",
    "            wget.download(url, out=output_directory)\n",
    "        else:\n",
    "            print(\"   file\",file,\"already exists in folder \",\n",
    "                output_directory)\n",
    "            print(\"   original file was downloaded from\", \n",
    "                url)\n",
    "\n",
    "    # unzip the downloaded file\n",
    "    print(\"\\n Unzipping\",files['File Description'],\n",
    "        \"Files for School Year\",files['School Year'])\n",
    "    \n",
    "    datafile = files['Data File Name']\n",
    "    # Set file path where file will be downloaded\n",
    "    filepath = output_directory+\"/\"+file\n",
    "    print(\"   file\",file,\"already exists in folder \",output_directory)\n",
    "    print(\"   files will be unzipped. to\", unzipped_output_directory)\n",
    "    with zipfile.ZipFile(filepath, 'r') as zip_ref:\n",
    "        zip_ref.extractall(unzipped_output_directory)\n",
    "\n",
    "    # Convert shapefiles to geopandas dataframe\n",
    "    #where is unzipped shapefile\n",
    "    shapefile = files['Unzipped Shapefile File Location']\n",
    "    # Check if shapefile exists\n",
    "    if shapefile == 'None':\n",
    "        print(\"   No shapefile to read in for this file\")\n",
    "    else:\n",
    "        filepath = unzipped_output_directory+\"/\"+shapefile\n",
    "        print(\"   file saved as geopandas dataframe \",\n",
    "            \"in a dictionary with 2 keys.\")\n",
    "        # Set keys\n",
    "        key1 = files['File Description']\n",
    "        key2 = files['School Year']\n",
    "        \n",
    "        schooldata[(key1,key2)] = gpd.read_file(filepath)\n",
    "        # Set Coordinate Reference System to to WGS84\n",
    "        schooldata[(key1,key2)] = \\\n",
    "            schooldata[(key1,key2)].to_crs(\"epsg:4326\")\n",
    "\n",
    "    # The SAB file does not hae a county variable\n",
    "    if \"School Attendance Boundaries\" in str(key1):\n",
    "        print(\"School Attendance Boundaries can not be \"\n",
    "                \"selected by geography.\")\n",
    "    else:            \n",
    "        select_schooldata[(key1,key2)] = \\\n",
    "            select_var(schooldata[(key1,key2)],\n",
    "                'CNTY15',county_list)\n",
    "        # prepare data for appending\n",
    "        # convert variables to copy into a list\n",
    "        copyvars = list(files['copyvars'].split(\",\"))\n",
    "        select_schooldata[(key1,key2)] = \\\n",
    "            prepare_nces_data_for_append( \n",
    "                select_schooldata[(key1,key2)],\n",
    "                copyvars,\n",
    "                files['level'],\n",
    "                files['schtype'],\n",
    "                files['School Year'])\n",
    "        # save as shapefile\n",
    "        root_filename = files['Data File Name'][:-4]\n",
    "        stem_filename = '_'+communityname+'.shp'\n",
    "        new_filename = root_filename+stem_filename\n",
    "        select_schooldata[(key1,key2)].to_file(outputfolder+\"/\"+new_filename)\n"
   ]
  },
  {
   "cell_type": "code",
   "execution_count": null,
   "metadata": {},
   "outputs": [],
   "source": []
  },
  {
   "cell_type": "code",
   "execution_count": 84,
   "metadata": {},
   "outputs": [
    {
     "data": {
      "text/html": [
       "<div>\n",
       "<style scoped>\n",
       "    .dataframe tbody tr th:only-of-type {\n",
       "        vertical-align: middle;\n",
       "    }\n",
       "\n",
       "    .dataframe tbody tr th {\n",
       "        vertical-align: top;\n",
       "    }\n",
       "\n",
       "    .dataframe thead th {\n",
       "        text-align: right;\n",
       "    }\n",
       "</style>\n",
       "<table border=\"1\" class=\"dataframe\">\n",
       "  <thead>\n",
       "    <tr style=\"text-align: right;\">\n",
       "      <th></th>\n",
       "      <th>ncesid</th>\n",
       "      <th>name</th>\n",
       "      <th>addr</th>\n",
       "      <th>city</th>\n",
       "      <th>stabbr</th>\n",
       "      <th>zip</th>\n",
       "      <th>cnty15</th>\n",
       "      <th>geometry</th>\n",
       "      <th>level</th>\n",
       "      <th>schtype</th>\n",
       "      <th>centroidUTM</th>\n",
       "      <th>lat</th>\n",
       "      <th>lon</th>\n",
       "      <th>schyr</th>\n",
       "    </tr>\n",
       "  </thead>\n",
       "  <tbody>\n",
       "    <tr>\n",
       "      <th>0</th>\n",
       "      <td>199281</td>\n",
       "      <td>University of North Carolina at Pembroke</td>\n",
       "      <td>One University Drive</td>\n",
       "      <td>Pembroke</td>\n",
       "      <td>NC</td>\n",
       "      <td>28372-1510</td>\n",
       "      <td>37155</td>\n",
       "      <td>POINT (-79.20189 34.68723)</td>\n",
       "      <td>5.0</td>\n",
       "      <td>5.0</td>\n",
       "      <td>POINT (-79.20189 34.68723)</td>\n",
       "      <td>34.687228</td>\n",
       "      <td>-79.201895</td>\n",
       "      <td>2015-2016</td>\n",
       "    </tr>\n",
       "    <tr>\n",
       "      <th>1</th>\n",
       "      <td>199476</td>\n",
       "      <td>Robeson Community College</td>\n",
       "      <td>5160 Fayetteville Road</td>\n",
       "      <td>Lumberton</td>\n",
       "      <td>NC</td>\n",
       "      <td>28360</td>\n",
       "      <td>37155</td>\n",
       "      <td>POINT (-79.00440 34.62130)</td>\n",
       "      <td>5.0</td>\n",
       "      <td>5.0</td>\n",
       "      <td>POINT (-79.00440 34.62130)</td>\n",
       "      <td>34.621297</td>\n",
       "      <td>-79.004398</td>\n",
       "      <td>2015-2016</td>\n",
       "    </tr>\n",
       "  </tbody>\n",
       "</table>\n",
       "</div>"
      ],
      "text/plain": [
       "   ncesid                                      name                    addr  \\\n",
       "0  199281  University of North Carolina at Pembroke    One University Drive   \n",
       "1  199476                 Robeson Community College  5160 Fayetteville Road   \n",
       "\n",
       "        city stabbr         zip cnty15                    geometry  level  \\\n",
       "0   Pembroke     NC  28372-1510  37155  POINT (-79.20189 34.68723)    5.0   \n",
       "1  Lumberton     NC       28360  37155  POINT (-79.00440 34.62130)    5.0   \n",
       "\n",
       "   schtype                 centroidUTM        lat        lon      schyr  \n",
       "0      5.0  POINT (-79.20189 34.68723)  34.687228 -79.201895  2015-2016  \n",
       "1      5.0  POINT (-79.00440 34.62130)  34.621297 -79.004398  2015-2016  "
      ]
     },
     "execution_count": 84,
     "metadata": {},
     "output_type": "execute_result"
    }
   ],
   "source": [
    "# Append School Data\n",
    "append_schooldata = pd.concat(select_schooldata, \n",
    "                              ignore_index=True, sort=False)\n",
    "\n",
    "\n",
    "append_schooldata.head()"
   ]
  },
  {
   "cell_type": "code",
   "execution_count": 85,
   "metadata": {},
   "outputs": [
    {
     "data": {
      "text/html": [
       "<div>\n",
       "<style scoped>\n",
       "    .dataframe tbody tr th:only-of-type {\n",
       "        vertical-align: middle;\n",
       "    }\n",
       "\n",
       "    .dataframe tbody tr th {\n",
       "        vertical-align: top;\n",
       "    }\n",
       "\n",
       "    .dataframe thead th {\n",
       "        text-align: right;\n",
       "    }\n",
       "</style>\n",
       "<table border=\"1\" class=\"dataframe\">\n",
       "  <thead>\n",
       "    <tr style=\"text-align: right;\">\n",
       "      <th>level</th>\n",
       "      <th>5.0</th>\n",
       "    </tr>\n",
       "    <tr>\n",
       "      <th>schtype</th>\n",
       "      <th></th>\n",
       "    </tr>\n",
       "  </thead>\n",
       "  <tbody>\n",
       "    <tr>\n",
       "      <th>5.0</th>\n",
       "      <td>2</td>\n",
       "    </tr>\n",
       "  </tbody>\n",
       "</table>\n",
       "</div>"
      ],
      "text/plain": [
       "level    5.0\n",
       "schtype     \n",
       "5.0        2"
      ]
     },
     "execution_count": 85,
     "metadata": {},
     "output_type": "execute_result"
    }
   ],
   "source": [
    "pd.crosstab(append_schooldata['schtype'],append_schooldata['level'])"
   ]
  },
  {
   "attachments": {},
   "cell_type": "markdown",
   "metadata": {},
   "source": [
    "## Select NCES SAB data for a single county"
   ]
  },
  {
   "cell_type": "code",
   "execution_count": null,
   "metadata": {},
   "outputs": [],
   "source": [
    "# Create list of School identification numbers (NCESSCH)\n",
    "# `NCESSCH` values\n",
    "NCESSCH_list = select_schooldata[\n",
    "        ('Public School File', '2015-2016')].ncesid.tolist()\n",
    "# Create list of `LEAID` values\n",
    "# Local education agency identification numbers (LEAID) \n",
    "LEAID_list = select_schooldata[\n",
    "    ('Public District File', '2015-2016')].ncesid.tolist()\n",
    "datafile = ('School Attendance Boundaries Single Shapefile', '2015-2016')\n",
    "data = schooldata[datafile]"
   ]
  },
  {
   "cell_type": "code",
   "execution_count": null,
   "metadata": {},
   "outputs": [],
   "source": [
    "\n",
    "select_schooldata[datafile] = \\\n",
    "    select_NCES_sabs(data,NCESSCH_list,LEAID_list)"
   ]
  },
  {
   "cell_type": "code",
   "execution_count": null,
   "metadata": {},
   "outputs": [],
   "source": [
    "select_schooldata[datafile].head()"
   ]
  },
  {
   "cell_type": "code",
   "execution_count": null,
   "metadata": {},
   "outputs": [],
   "source": [
    "df = select_schooldata[datafile]\n",
    "sab_boundaries = split_SAB_gradelevel(df,outputfolder,year)"
   ]
  }
 ],
 "metadata": {
  "colab": {
   "name": "NCES_1av1_ObtainSchoolData_2021-06-04.ipynb",
   "provenance": [],
   "toc_visible": true
  },
  "kernelspec": {
   "display_name": "Python 3",
   "language": "python",
   "name": "python3"
  },
  "language_info": {
   "codemirror_mode": {
    "name": "ipython",
    "version": 3
   },
   "file_extension": ".py",
   "mimetype": "text/x-python",
   "name": "python",
   "nbconvert_exporter": "python",
   "pygments_lexer": "ipython3",
   "version": "3.10.9"
  },
  "vscode": {
   "interpreter": {
    "hash": "bacc429a31e85745652ad271ee961fcfce15e940c602a7b1307e0f88c92164fb"
   }
  }
 },
 "nbformat": 4,
 "nbformat_minor": 1
}
