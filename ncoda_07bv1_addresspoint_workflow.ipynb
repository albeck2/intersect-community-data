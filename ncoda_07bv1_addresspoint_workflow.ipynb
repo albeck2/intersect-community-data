{
 "cells": [
  {
   "cell_type": "markdown",
   "metadata": {
    "id": "nDetVnGnoHR-"
   },
   "source": [
    "# Address Point Inventory Workflow\n",
    "\n",
    "## Overview\n",
    "Functions to obtain and clean data required for the Address Point Inventory - which is a key component of the Housing Unit Allocation process. The address point inventory predicts the number of housing units in each structure in a building inventory. \n",
    "\n",
    "\n",
    "### Resources and references:\n",
    "For an overview of the address point invenotry and housing unit allocation method see:\n",
    "\n",
    "Rosenheim, N., Guidotti, R., Gardoni, P., & Peacock, W. G. (2021). Integration of detailed household and housing unit characteristic data with critical infrastructure for post-hazard resilience modeling. Sustainable and Resilient Infrastructure, 6(6), 385-401.\n",
    "\n",
    "## Required Inputs\n",
    "Program requires the following inputs:\n",
    "1. program obtains and cleans US Census Block Data\n",
    "2. program requires a geocoded building inventory\n",
    "    - Future version of ICD will provide tools for generating a building inventory file\n",
    "    - Current version will require users to have an IN-CORE account\n",
    "3. Housing Unit Inventory - for expected address point counts by block\n",
    "4. program will use the block data, expected counts, and building inventory to generate an address point inventory.\n",
    "    \n",
    "## Output Description\n",
    "The output of this workflow is a CSV file with the address point inventory and a codebook that describes the data.\n",
    "\n",
    "The output CSV is designed to be used in the Interdependent Networked Community Resilience Modeling Environment (IN-CORE) for the housing unit allocation model.\n",
    "\n",
    "IN-CORE is an open source python package that can be used to model the resilience of a community. To download IN-CORE, see:\n",
    "\n",
    "https://incore.ncsa.illinois.edu/\n",
    "\n",
    "\n",
    "## Instructions\n",
    "Users can run the workflow by executing each block of code in the notebook."
   ]
  },
  {
   "cell_type": "markdown",
   "metadata": {},
   "source": [
    "## Description of Program\n",
    "- program:    ncoda_07bv1_addresspoint_workflow\n",
    "- task:       Run the Address Point Workflow\n",
    "- See github commits for description of program updates\n",
    "- Current Version:    \n",
    "- project:    Interdependent Networked Community Resilience Modeling Environment (IN-CORE), Subtask 5.2 - Social Institutions\n",
    "- funding:\t  NIST Financial Assistance Award Numbers: 70NANB15H044 and 70NANB20H008 \n",
    "- author:     Nathanael Rosenheim\n",
    "\n",
    "- Suggested Citation:\n",
    "Rosenheim, Nathanael (2021) “Detailed Household and Housing Unit Characteristics: Data and Replication Code.” DesignSafe-CI. \n",
    "https://doi.org/10.17603/ds2-jwf6-s535."
   ]
  },
  {
   "cell_type": "markdown",
   "metadata": {},
   "source": [
    "## Setup Python Environment"
   ]
  },
  {
   "cell_type": "code",
   "execution_count": 1,
   "metadata": {},
   "outputs": [],
   "source": [
    "import pandas as pd\n",
    "import geopandas as gpd # For reading in shapefiles\n",
    "import numpy as np\n",
    "import sys # For displaying package versions\n",
    "import os # For managing directories and file paths if drive is mounted\n",
    "\n",
    "from pyincore import IncoreClient, Dataset, FragilityService, MappingSet, DataService\n",
    "from pyincore.analyses.buildingdamage.buildingdamage import BuildingDamage\n",
    "\n",
    "from pyincore_viz.geoutil import GeoUtil as viz"
   ]
  },
  {
   "cell_type": "code",
   "execution_count": 2,
   "metadata": {},
   "outputs": [],
   "source": [
    "import scooby # Reports Python environment"
   ]
  },
  {
   "cell_type": "code",
   "execution_count": 3,
   "metadata": {},
   "outputs": [
    {
     "name": "stdout",
     "output_type": "stream",
     "text": [
      "\n",
      "--------------------------------------------------------------------------------\n",
      "  Date: Thu Jun 30 17:17:12 2022 Eastern Daylight Time\n",
      "\n",
      "                OS : Windows\n",
      "            CPU(s) : 12\n",
      "           Machine : AMD64\n",
      "      Architecture : 64bit\n",
      "               RAM : 31.6 GiB\n",
      "       Environment : Jupyter\n",
      "\n",
      "  Python 3.8.13 | packaged by conda-forge | (default, Mar 25 2022, 05:59:45)\n",
      "  [MSC v.1929 64 bit (AMD64)]\n",
      "\n",
      "            pandas : 1.4.2\n",
      "          pyincore : 1.4.1\n",
      "      pyincore_viz : Version unknown\n",
      "             numpy : 1.22.3\n",
      "             scipy : 1.8.0\n",
      "           IPython : 8.3.0\n",
      "        matplotlib : 3.5.2\n",
      "            scooby : 0.5.12\n",
      "--------------------------------------------------------------------------------\n"
     ]
    }
   ],
   "source": [
    "# Generate report of Python environment\n",
    "print(scooby.Report(additional=['pandas','pyincore','pyincore_viz']))"
   ]
  },
  {
   "cell_type": "code",
   "execution_count": 4,
   "metadata": {},
   "outputs": [
    {
     "data": {
      "text/plain": [
       "'c:\\\\Users\\\\nathanael99\\\\MyProjects\\\\IN-CORE\\\\Tasks\\\\PublishHUIv2\\\\HousingUnitInventories_2022-03-03\\\\ReplicationCode\\\\intersect-community-data\\\\WorkNPR'"
      ]
     },
     "execution_count": 4,
     "metadata": {},
     "output_type": "execute_result"
    }
   ],
   "source": [
    "# Check working directory - good practice for relative path access\n",
    "os.getcwd()"
   ]
  },
  {
   "cell_type": "markdown",
   "metadata": {},
   "source": [
    "## Step 1: Set up pyincore and read in data\n",
    "IN-CORE is an open source python package that can be used to model the resilience of a community. To download IN-CORE, see:\n",
    "\n",
    "https://incore.ncsa.illinois.edu/\n",
    "\n",
    "Registration is free."
   ]
  },
  {
   "cell_type": "code",
   "execution_count": 5,
   "metadata": {},
   "outputs": [
    {
     "name": "stdout",
     "output_type": "stream",
     "text": [
      "Connection successful to IN-CORE services. pyIncore version detected: 1.4.1\n"
     ]
    }
   ],
   "source": [
    "client = IncoreClient()\n",
    "# IN-CORE caches files on the local machine, it might be necessary to clear the memory\n",
    "#client.clear_cache() "
   ]
  },
  {
   "cell_type": "code",
   "execution_count": 6,
   "metadata": {},
   "outputs": [],
   "source": [
    "# create data_service object for loading files\n",
    "data_service = DataService(client)"
   ]
  },
  {
   "cell_type": "markdown",
   "metadata": {},
   "source": [
    "### Read in Building Inventory"
   ]
  },
  {
   "cell_type": "code",
   "execution_count": 7,
   "metadata": {},
   "outputs": [
    {
     "name": "stdout",
     "output_type": "stream",
     "text": [
      "Dataset already exists locally. Reading from local cached zip.\n",
      "Unzipped folder found in the local cache. Reading from it...\n",
      "The IN-CORE Dataservice has saved the Building Inventory on your local machine: C:\\Users\\nathanael99\\.incore\\cache_data\\6036c2a9e379f22e1658d451\\lumberton_building_inventory_w_strcid\\lumberton_building_inventory_w_strcid.shp\n"
     ]
    }
   ],
   "source": [
    "# Building inventory\n",
    "# bldg_inv_id = \"62ab7dcbf328861e25ffea9e\" # New building inventory\n",
    "bldg_inv_id = \"6036c2a9e379f22e1658d451\" # Old building inventory\n",
    "# load building inventory\n",
    "bldg_inv = Dataset.from_data_service(bldg_inv_id, data_service)\n",
    "filename = bldg_inv.get_file_path('shp')\n",
    "print(\"The IN-CORE Dataservice has saved the Building Inventory on your local machine: \"+filename)"
   ]
  },
  {
   "cell_type": "code",
   "execution_count": 8,
   "metadata": {},
   "outputs": [],
   "source": [
    "bldg_inv_gdf = gpd.read_file(filename)\n",
    "\n",
    "from pyproj import CRS\n",
    "bldg_inv_gdf.crs = CRS(\"epsg:4326\")"
   ]
  },
  {
   "cell_type": "code",
   "execution_count": 9,
   "metadata": {},
   "outputs": [
    {
     "data": {
      "text/html": [
       "<div>\n",
       "<style scoped>\n",
       "    .dataframe tbody tr th:only-of-type {\n",
       "        vertical-align: middle;\n",
       "    }\n",
       "\n",
       "    .dataframe tbody tr th {\n",
       "        vertical-align: top;\n",
       "    }\n",
       "\n",
       "    .dataframe thead th {\n",
       "        text-align: right;\n",
       "    }\n",
       "</style>\n",
       "<table border=\"1\" class=\"dataframe\">\n",
       "  <thead>\n",
       "    <tr style=\"text-align: right;\">\n",
       "      <th></th>\n",
       "      <th>count</th>\n",
       "      <th>unique</th>\n",
       "      <th>top</th>\n",
       "      <th>freq</th>\n",
       "    </tr>\n",
       "  </thead>\n",
       "  <tbody>\n",
       "    <tr>\n",
       "      <th>guid</th>\n",
       "      <td>20091</td>\n",
       "      <td>20091</td>\n",
       "      <td>efd13166-d7a0-476b-ada5-c55cea1f0184</td>\n",
       "      <td>1</td>\n",
       "    </tr>\n",
       "    <tr>\n",
       "      <th>strctid</th>\n",
       "      <td>20091</td>\n",
       "      <td>20091</td>\n",
       "      <td>STefd13166-d7a0-476b-ada5-c55cea1f0184</td>\n",
       "      <td>1</td>\n",
       "    </tr>\n",
       "  </tbody>\n",
       "</table>\n",
       "</div>"
      ],
      "text/plain": [
       "         count unique                                     top freq\n",
       "guid     20091  20091    efd13166-d7a0-476b-ada5-c55cea1f0184    1\n",
       "strctid  20091  20091  STefd13166-d7a0-476b-ada5-c55cea1f0184    1"
      ]
     },
     "execution_count": 9,
     "metadata": {},
     "output_type": "execute_result"
    }
   ],
   "source": [
    "# Check Unique ID\n",
    "bldg_inv_gdf[['guid','strctid']].astype(str).describe().T"
   ]
  },
  {
   "cell_type": "markdown",
   "metadata": {},
   "source": [
    "### Read in Housing Unit Inventory"
   ]
  },
  {
   "cell_type": "code",
   "execution_count": 10,
   "metadata": {},
   "outputs": [
    {
     "name": "stdout",
     "output_type": "stream",
     "text": [
      "Dataset already exists locally. Reading from local cached zip.\n",
      "Unzipped folder found in the local cache. Reading from it...\n",
      "The IN-CORE Dataservice has saved the Housing Unit Inventory on your local machine: C:\\Users\\nathanael99\\.incore\\cache_data\\6262ef3204ce841cbeb30993\\hui_v2-0-0_Lumberton_NC_2010_rs1000\\hui_v2-0-0_Lumberton_NC_2010_rs1000.csv\n"
     ]
    }
   ],
   "source": [
    "# Housing Unit inventory\n",
    "housing_unit_inv_id = \"6262ef3204ce841cbeb30993\"\n",
    "# load housing unit inventory as pandas dataframe\n",
    "housing_unit_inv = Dataset.from_data_service(housing_unit_inv_id, data_service)\n",
    "filename = housing_unit_inv.get_file_path('csv')\n",
    "print(\"The IN-CORE Dataservice has saved the Housing Unit Inventory on your local machine: \"+filename)"
   ]
  },
  {
   "cell_type": "code",
   "execution_count": 11,
   "metadata": {},
   "outputs": [],
   "source": [
    "housing_unit_inv_df = pd.read_csv(filename, header=\"infer\")"
   ]
  },
  {
   "cell_type": "code",
   "execution_count": 12,
   "metadata": {},
   "outputs": [
    {
     "data": {
      "text/plain": [
       "count                    52801\n",
       "unique                   52801\n",
       "top       B371559601011003H001\n",
       "freq                         1\n",
       "Name: huid, dtype: object"
      ]
     },
     "execution_count": 12,
     "metadata": {},
     "output_type": "execute_result"
    }
   ],
   "source": [
    "housing_unit_inv_df['huid'].describe()"
   ]
  },
  {
   "cell_type": "markdown",
   "metadata": {},
   "source": [
    "## Step 2: Obtain and Clean Block Data\n",
    "Functions to read in block data and clean it. Cleaning adds PUMA ID, Place ID, and Housing unit counts (including group quarters)"
   ]
  },
  {
   "cell_type": "markdown",
   "metadata": {},
   "source": [
    "### Setup notebook environment to access Cloned Github Package\n",
    "This notebook uses functions that are in development. The current version of the package is available at:\n",
    "\n",
    "https://github.com/npr99/intersect-community-data\n",
    "\n",
    "Nathanael Rosenheim. (2022). npr99/intersect-community-data. Zenodo. https://doi.org/10.5281/zenodo.6476122\n",
    "\n",
    "A permanent copy of the package and example datasets are available in the DesignSafe-CI repository:\n",
    "\n",
    "Rosenheim, Nathanael (2021) “Detailed Household and Housing Unit Characteristics: Data and Replication Code.” DesignSafe-CI. \n",
    "https://doi.org/10.17603/ds2-jwf6-s535."
   ]
  },
  {
   "cell_type": "code",
   "execution_count": 13,
   "metadata": {},
   "outputs": [],
   "source": [
    "#To replicate this notebook Clone the Github Package to a folder that is a sibling of this notebook.\n",
    "# To access the sibling package you will need to append the parent directory ('..') to the system path list.\n",
    "# append the path of the directory that includes the github repository.\n",
    "# This step is not required when the package is in a folder below the notebook file.\n",
    "github_code_path  = \"../\"\n",
    "sys.path.append(github_code_path)"
   ]
  },
  {
   "cell_type": "code",
   "execution_count": 16,
   "metadata": {},
   "outputs": [
    {
     "data": {
      "text/plain": [
       "'c:\\\\Users\\\\nathanael99\\\\MyProjects\\\\IN-CORE\\\\Tasks\\\\PublishHUIv2\\\\HousingUnitInventories_2022-03-03\\\\ReplicationCode\\\\intersect-community-data\\\\WorkNPR'"
      ]
     },
     "execution_count": 16,
     "metadata": {},
     "output_type": "execute_result"
    }
   ],
   "source": [
    "os.getcwd()"
   ]
  },
  {
   "cell_type": "code",
   "execution_count": 17,
   "metadata": {},
   "outputs": [
    {
     "name": "stdout",
     "output_type": "stream",
     "text": [
      "The autoreload extension is already loaded. To reload it, use:\n",
      "  %reload_ext autoreload\n"
     ]
    }
   ],
   "source": [
    "# To reload submodules need to use this magic command to set autoreload on\n",
    "%load_ext autoreload\n",
    "%autoreload 2\n",
    "# open, read, and execute python program with reusable commands\n",
    "from pyncoda.ncoda_00b_directory_design import directory_design\n",
    "from pyncoda.ncoda_00e_geoutilities import *\n",
    "from pyncoda.ncoda_02b_cleanblockdata import *\n",
    "from pyncoda.ncoda_02d_addresspoint import *\n"
   ]
  },
  {
   "cell_type": "markdown",
   "metadata": {},
   "source": [
    "### Setup Community and Output Directory"
   ]
  },
  {
   "cell_type": "code",
   "execution_count": 18,
   "metadata": {},
   "outputs": [],
   "source": [
    "# Example of data dictionary for one community with one county\n",
    "# Check how to capatialize the state name at\n",
    "## https://www2.census.gov/geo/tiger/TIGER2020PL/STATE/\n",
    "communities = {'Lumberton_NC' : {\n",
    "                    'community_name' : 'Lumberton, NC',\n",
    "                    'STATE' : 'NORTH_CAROLINA',\n",
    "                    'years' : ['2010'],\n",
    "                    'counties' : { \n",
    "                        1 : {'FIPS Code' : '37155', 'Name' : 'Robeson County, NC'}}}}"
   ]
  },
  {
   "cell_type": "code",
   "execution_count": 19,
   "metadata": {},
   "outputs": [],
   "source": [
    "version = '2.0.0'\n",
    "version_text = 'v2-0-0'\n",
    "\n",
    "# Save Outputfolder - due to long folder name paths output saved to folder with shorter name\n",
    "# files from this program will be saved with the program name - \n",
    "# this helps to follow the overall workflow\n",
    "outputfolder = \"OutputData\"\n",
    "# Make directory to save output\n",
    "if not os.path.exists(outputfolder):\n",
    "    os.mkdir(outputfolder)\n",
    "\n",
    "# Set random seed for reproducibility\n",
    "seed = 1000\n",
    "basevintage = 2010\n"
   ]
  },
  {
   "cell_type": "markdown",
   "metadata": {},
   "source": [
    "### Run Clean Block Data"
   ]
  },
  {
   "cell_type": "code",
   "execution_count": 23,
   "metadata": {},
   "outputs": [
    {
     "name": "stdout",
     "output_type": "stream",
     "text": [
      "Setting up Housing Unit Inventory for Lumberton, NC\n",
      "Robeson County, NC : county FIPS Code 37155\n",
      "Block data already exists for  37155\n",
      "Converting blk104269 to Geodataframe\n",
      "Polygon file has 5799 block polygons.\n",
      "Identified 2155 block polygons to spatially join.\n",
      "....................6070 Buildings have Residential Archetype 1\n",
      "10273 Buildings have Residential Archetype 2\n",
      "249 Buildings have Residential Archetype 3\n",
      "1391 Buildings have Residential Archetype 4\n",
      "20 Buildings have building_area_var less than 300\n",
      "0 Buildings have  sq_foot _by_AP less than 300\n",
      "17968 Buildings assigned residential.\n",
      "Total number of expected housing unit address points in county: 52801\n",
      "779 buildings are in blocks with no housing units.\n",
      "For Round 1 Estimated Residential Address Points correlation: 0.524\n",
      "1. HU=0 had 218 observations\n",
      "2. HU=AP had 398 observations\n",
      "3. HU<AP had 436 observations\n",
      "8. HU > 0, Building Count = Missing had 0 observations\n",
      "9. HU > 0, Building Count = 0 had 2753 observations\n",
      "10. HU = 0, Building Count = Missing had 0 observations\n",
      "5. HU > 0, AP = 0 had 20 observations\n",
      "4. HU>AP had 497 observations\n",
      "6. HU > 0, AP = Missing, But buildings present had 0 observations\n",
      "7. HU > 0, AP = Missing had 0 observations\n",
      "89 buildings with error 5. HU > 0, AP = 0.\n",
      "3187 buildings with error 2. HU=AP\n",
      "8594 buildings with error 3. HU<AP.\n",
      "2753 buildings with error 9. no buildings for hu.\n",
      "779 buildings with error 1. HU=0.\n",
      "For Round 2 Estimated Residential Address Points correlation: 0.565\n",
      "1. HU=0 had 218 observations\n",
      "2. HU=AP had 530 observations\n",
      "3. HU<AP had 501 observations\n",
      "8. HU > 0, Building Count = Missing had 0 observations\n",
      "9. HU > 0, Building Count = 0 had 2753 observations\n",
      "10. HU = 0, Building Count = Missing had 0 observations\n",
      "5. HU > 0, AP = 0 had 1 observations\n",
      "4. HU>AP had 319 observations\n",
      "6. HU > 0, AP = Missing, But buildings present had 0 observations\n",
      "7. HU > 0, AP = Missing had 0 observations\n",
      "5670 buildings updated huestimate by 1.\n",
      "1 buildings updated huestimate by 1.\n",
      "For Round 3 Estimated Residential Address Points correlation: 0.552\n",
      "1. HU=0 had 218 observations\n",
      "2. HU=AP had 531 observations\n",
      "3. HU<AP had 820 observations\n",
      "8. HU > 0, Building Count = Missing had 0 observations\n",
      "9. HU > 0, Building Count = 0 had 2753 observations\n",
      "10. HU = 0, Building Count = Missing had 0 observations\n",
      "5. HU > 0, AP = 0 had 0 observations\n",
      "4. HU>AP had 0 observations\n",
      "6. HU > 0, AP = Missing, But buildings present had 0 observations\n",
      "7. HU > 0, AP = Missing had 0 observations\n"
     ]
    }
   ],
   "source": [
    "for community in communities.keys():\n",
    "    # Loop over years\n",
    "    # Current version on 2010 works\n",
    "    # Future versions could include 2000, 2020\n",
    "    for year in communities[community]['years']:\n",
    "        yr = year[2:4]\n",
    "        # Create empty container to store outputs for in-core\n",
    "        # Will use these to combine multiple counties\n",
    "        hua_incore_county_df = {}\n",
    "        print(\"Setting up Housing Unit Inventory for\",communities[community]['community_name'])\n",
    "        for county in communities[community]['counties'].keys():\n",
    "            state_county = communities[community]['counties'][county]['FIPS Code']\n",
    "            state_county_name  = communities[community]['counties'][county]['Name']\n",
    "            state_caps = communities[community]['STATE']\n",
    "            print(state_county_name,': county FIPS Code',state_county)\n",
    "        \n",
    "            outputfolders = directory_design(state_county_name = state_county_name,\n",
    "                                                outputfolder = outputfolder)\n",
    "\n",
    "            # Set up Census Block Data with PUMA and Place IDs\n",
    "            output_folder = outputfolders['CommunitySourceData']\n",
    "\n",
    "\n",
    "            census_block_place_puma_gdf = \\\n",
    "                obtain_join_block_place_puma_data(\n",
    "                                county_fips = state_county,\n",
    "                                state = state_caps,\n",
    "                                year = year,\n",
    "                                output_folder = output_folder,\n",
    "                                replace = False)\n",
    "\n",
    "            # Save map of Census Block Data\n",
    "            map = single_layer_folium_map(gdf = census_block_place_puma_gdf,\n",
    "                                layer_name = 'Census Blocks 2010',\n",
    "                                output_folder = output_folder)\n",
    "\n",
    "            # Merge Building Inventory and Census Block Data\n",
    "            join_column_list = [f'BLOCKID{yr}',f'BLOCKID{yr}_str',\n",
    "                                f'placeGEOID{yr}',f'placeNAME{yr}']\n",
    "            geolevel = 'block'\n",
    "            \n",
    "            # add representative point to buildings\n",
    "            bldg_inv_gdf_point = add_representative_point(bldg_inv_gdf,year=year)\n",
    "            builidng_to_block_gdf = spatial_join_points_to_poly(\n",
    "                        points_gdf = bldg_inv_gdf_point,\n",
    "                        polygon_gdf = census_block_place_puma_gdf,\n",
    "                        point_var = f'rppnt{yr}4326',\n",
    "                        poly_var = f'blk{yr}4326',\n",
    "                        geolevel = geolevel,\n",
    "                        join_column_list = join_column_list)\n",
    "\n",
    "            # Run Address Point Algorithm\n",
    "            residential_archetypes = { \n",
    "                1 : 'One-story sf residential building on a crawlspace foundation',\n",
    "                2 : 'One-story mf residential building on a slab-on-grade foundation',\n",
    "                3 : 'Two-story sf residential building on a crawlspace foundation',\n",
    "                4 : 'Two-story mf residential building on a slab-on-grade foundation'}\n",
    "\n",
    "            # Housing unit inventory needs the block string variable\n",
    "            housing_unit_inv_df[f'BLOCKID{yr}_str'] = \\\n",
    "                       housing_unit_inv_df[f'blockid'].\\\n",
    "                           apply(lambda x : \"B\"+str(int(x)).zfill(15))\n",
    "\n",
    "            # Run Address Point Algorithm\n",
    "            huesimate_df = predict_residential_addresspoints(\n",
    "                            builidng_to_block_gdf = builidng_to_block_gdf,\n",
    "                            hui_df = housing_unit_inv_df,\n",
    "                            hui_blockid = f'BLOCKID{yr}_str',\n",
    "                            bldg_blockid = 'blockBLOCKID10_str',\n",
    "                            bldg_uniqueid = 'guid',\n",
    "                            placename_var = 'blockplaceNAME10',\n",
    "                            archetype_var = 'archetype',\n",
    "                            residential_archetypes = residential_archetypes,\n",
    "                            building_area_var = 'sq_foot',\n",
    "                            building_area_cutoff = 300,\n",
    "                            )\n",
    "\n",
    "            # Check errors\n",
    "            #huesimate_df['apcount'].groupby(huesimate_df['ErrorCheck1_int']).describe()\n",
    "            #huesimate_df['apcount'].groupby(huesimate_df['ErrorCheck2_int']).describe()\n",
    "            #huesimate_df['apcount'].groupby(huesimate_df['ErrorCheck3_int']).describe()\n",
    "\n",
    "            # Add Single Family Dummy Variable\n",
    "            condition1 = (huesimate_df[\"huestimate\"] > 1)\n",
    "            condition2 = ~(huesimate_df[\"guid\"].isna())\n",
    "            condition = condition1 & condition2\n",
    "            huesimate_df.loc[condition,'d_sf'] = 0\n",
    "            condition1 = (huesimate_df[\"huestimate\"] == 1)\n",
    "            condition = condition1 & condition2\n",
    "            huesimate_df.loc[condition, 'd_sf'] = 1 \n",
    "            #pd.crosstab(huesimate_df['huestimate'], \n",
    "            #    huesimate_df['d_sf'],\n",
    "            #    margins=True, \n",
    "            #    margins_name=\"Total\")\n",
    "\n",
    "            # Identify Unicorporated Areas with Place Name\n",
    "            # There are many address points that fall just outside of city limits \n",
    "            # in unincorprated places.\n",
    "            # For these areas use the county inforamation to label \n",
    "            # the place names as the County Name.\n",
    "            huesimate_df.loc[(huesimate_df['blockplaceNAME10'].isna()),\n",
    "                        'blockplaceNAME10'] = f\"Unincorporated {state_county_name}\"\n",
    "\n",
    "            ### Next Steps\n",
    "            # Creat an address point inventory that has address point for each\n",
    "            # housing unit that does not have a building.\n",
    "            # https://github.com/npr99/IN-CORE_notebooks/blob/main/IN_CORE_2dv2_Lumberton_AddressPointInventory.ipynb\n",
    "            # https://github.com/npr99/IN-CORE_notebooks/blob/main/IN-CORE_1dv2_Joplin_EstimateAddressPoints_2019-07-11.ipynb\n",
    "            # Would like to give each address point a unique lat lon\n",
    "            ## important for areas without buildings\n",
    "\n",
    "            #Save results for community name\n",
    "            output_filename = f'addpt_{version_text}_{community}_{basevintage}_{year}'\n",
    "            csv_filepath = outputfolders['top']+\"/\"+output_filename+'.csv'\n",
    "            savefile = sys.path[0]+\"/\"+csv_filepath\n",
    "            huesimate_df.to_csv(savefile, index=False)\n",
    "\n",
    "            # Save second set of files in common directory\n",
    "            common_directory = outputfolders['top']+\"/../\"+output_filename\n",
    "            huesimate_df.to_csv(common_directory+'.csv', index=False)\n"
   ]
  },
  {
   "cell_type": "code",
   "execution_count": 22,
   "metadata": {},
   "outputs": [
    {
     "data": {
      "text/html": [
       "<div>\n",
       "<style scoped>\n",
       "    .dataframe tbody tr th:only-of-type {\n",
       "        vertical-align: middle;\n",
       "    }\n",
       "\n",
       "    .dataframe tbody tr th {\n",
       "        vertical-align: top;\n",
       "    }\n",
       "\n",
       "    .dataframe thead th {\n",
       "        text-align: right;\n",
       "    }\n",
       "</style>\n",
       "<table border=\"1\" class=\"dataframe\">\n",
       "  <thead>\n",
       "    <tr style=\"text-align: right;\">\n",
       "      <th></th>\n",
       "      <th>0</th>\n",
       "    </tr>\n",
       "  </thead>\n",
       "  <tbody>\n",
       "    <tr>\n",
       "      <th>blockBLOCKID10_str</th>\n",
       "      <td>B371559601011002</td>\n",
       "    </tr>\n",
       "    <tr>\n",
       "      <th>guid</th>\n",
       "      <td>NaN</td>\n",
       "    </tr>\n",
       "    <tr>\n",
       "      <th>blockplaceNAME10</th>\n",
       "      <td>NaN</td>\n",
       "    </tr>\n",
       "    <tr>\n",
       "      <th>archetype</th>\n",
       "      <td>NaN</td>\n",
       "    </tr>\n",
       "    <tr>\n",
       "      <th>residential</th>\n",
       "      <td>NaN</td>\n",
       "    </tr>\n",
       "    <tr>\n",
       "      <th>apcount</th>\n",
       "      <td>1.0</td>\n",
       "    </tr>\n",
       "    <tr>\n",
       "      <th>bldgcount</th>\n",
       "      <td>NaN</td>\n",
       "    </tr>\n",
       "    <tr>\n",
       "      <th>huestimate</th>\n",
       "      <td>NaN</td>\n",
       "    </tr>\n",
       "    <tr>\n",
       "      <th>DiffCount3</th>\n",
       "      <td>1.0</td>\n",
       "    </tr>\n",
       "    <tr>\n",
       "      <th>bldgcountv3_sum</th>\n",
       "      <td>0.0</td>\n",
       "    </tr>\n",
       "    <tr>\n",
       "      <th>ErrorCheck1_int</th>\n",
       "      <td>9</td>\n",
       "    </tr>\n",
       "    <tr>\n",
       "      <th>ErrorCheck2_int</th>\n",
       "      <td>9</td>\n",
       "    </tr>\n",
       "    <tr>\n",
       "      <th>ErrorCheck3_int</th>\n",
       "      <td>9</td>\n",
       "    </tr>\n",
       "    <tr>\n",
       "      <th>d_sf</th>\n",
       "      <td>NaN</td>\n",
       "    </tr>\n",
       "    <tr>\n",
       "      <th>PLCNAME10</th>\n",
       "      <td>Unincorporated Robeson County, NC</td>\n",
       "    </tr>\n",
       "  </tbody>\n",
       "</table>\n",
       "</div>"
      ],
      "text/plain": [
       "                                                    0\n",
       "blockBLOCKID10_str                   B371559601011002\n",
       "guid                                              NaN\n",
       "blockplaceNAME10                                  NaN\n",
       "archetype                                         NaN\n",
       "residential                                       NaN\n",
       "apcount                                           1.0\n",
       "bldgcount                                         NaN\n",
       "huestimate                                        NaN\n",
       "DiffCount3                                        1.0\n",
       "bldgcountv3_sum                                   0.0\n",
       "ErrorCheck1_int                                     9\n",
       "ErrorCheck2_int                                     9\n",
       "ErrorCheck3_int                                     9\n",
       "d_sf                                              NaN\n",
       "PLCNAME10           Unincorporated Robeson County, NC"
      ]
     },
     "execution_count": 22,
     "metadata": {},
     "output_type": "execute_result"
    }
   ],
   "source": [
    "huesimate_df.head(1).T"
   ]
  },
  {
   "cell_type": "code",
   "execution_count": 25,
   "metadata": {},
   "outputs": [
    {
     "data": {
      "text/html": [
       "<div>\n",
       "<style scoped>\n",
       "    .dataframe tbody tr th:only-of-type {\n",
       "        vertical-align: middle;\n",
       "    }\n",
       "\n",
       "    .dataframe tbody tr th {\n",
       "        vertical-align: top;\n",
       "    }\n",
       "\n",
       "    .dataframe thead th {\n",
       "        text-align: right;\n",
       "    }\n",
       "</style>\n",
       "<table border=\"1\" class=\"dataframe\">\n",
       "  <thead>\n",
       "    <tr style=\"text-align: right;\">\n",
       "      <th></th>\n",
       "      <th>19158</th>\n",
       "    </tr>\n",
       "  </thead>\n",
       "  <tbody>\n",
       "    <tr>\n",
       "      <th>blockBLOCKID10_str</th>\n",
       "      <td>B371559616011029</td>\n",
       "    </tr>\n",
       "    <tr>\n",
       "      <th>guid</th>\n",
       "      <td>8f82154f-5a49-423c-a063-454c1183a8ca</td>\n",
       "    </tr>\n",
       "    <tr>\n",
       "      <th>blockplaceNAME10</th>\n",
       "      <td>NaN</td>\n",
       "    </tr>\n",
       "    <tr>\n",
       "      <th>archetype</th>\n",
       "      <td>2.0</td>\n",
       "    </tr>\n",
       "    <tr>\n",
       "      <th>residential</th>\n",
       "      <td>1.0</td>\n",
       "    </tr>\n",
       "    <tr>\n",
       "      <th>apcount</th>\n",
       "      <td>53.0</td>\n",
       "    </tr>\n",
       "    <tr>\n",
       "      <th>bldgcount</th>\n",
       "      <td>1.0</td>\n",
       "    </tr>\n",
       "    <tr>\n",
       "      <th>huestimate</th>\n",
       "      <td>2.0</td>\n",
       "    </tr>\n",
       "    <tr>\n",
       "      <th>DiffCount3</th>\n",
       "      <td>2.0</td>\n",
       "    </tr>\n",
       "    <tr>\n",
       "      <th>bldgcountv3_sum</th>\n",
       "      <td>51.0</td>\n",
       "    </tr>\n",
       "    <tr>\n",
       "      <th>ErrorCheck1_int</th>\n",
       "      <td>4</td>\n",
       "    </tr>\n",
       "    <tr>\n",
       "      <th>ErrorCheck2_int</th>\n",
       "      <td>4</td>\n",
       "    </tr>\n",
       "    <tr>\n",
       "      <th>ErrorCheck3_int</th>\n",
       "      <td>3</td>\n",
       "    </tr>\n",
       "    <tr>\n",
       "      <th>d_sf</th>\n",
       "      <td>0.0</td>\n",
       "    </tr>\n",
       "    <tr>\n",
       "      <th>PLCNAME10</th>\n",
       "      <td>Unincorporated Robeson County, NC</td>\n",
       "    </tr>\n",
       "  </tbody>\n",
       "</table>\n",
       "</div>"
      ],
      "text/plain": [
       "                                                   19158\n",
       "blockBLOCKID10_str                      B371559616011029\n",
       "guid                8f82154f-5a49-423c-a063-454c1183a8ca\n",
       "blockplaceNAME10                                     NaN\n",
       "archetype                                            2.0\n",
       "residential                                          1.0\n",
       "apcount                                             53.0\n",
       "bldgcount                                            1.0\n",
       "huestimate                                           2.0\n",
       "DiffCount3                                           2.0\n",
       "bldgcountv3_sum                                     51.0\n",
       "ErrorCheck1_int                                        4\n",
       "ErrorCheck2_int                                        4\n",
       "ErrorCheck3_int                                        3\n",
       "d_sf                                                 0.0\n",
       "PLCNAME10              Unincorporated Robeson County, NC"
      ]
     },
     "execution_count": 25,
     "metadata": {},
     "output_type": "execute_result"
    }
   ],
   "source": [
    "# look for observations with blockid = B371559616011029\n",
    "huesimate_df[huesimate_df['blockBLOCKID10_str'] == 'B371559616011029'].head(1).T"
   ]
  }
 ],
 "metadata": {
  "colab": {
   "name": "IN-CORE_1dv1_Lumberton_CleanLODESdata_2021-05-06.ipynb",
   "provenance": []
  },
  "kernelspec": {
   "display_name": "Python 3.8.13 ('pyincoreEnv20220411')",
   "language": "python",
   "name": "python3"
  },
  "language_info": {
   "codemirror_mode": {
    "name": "ipython",
    "version": 3
   },
   "file_extension": ".py",
   "mimetype": "text/x-python",
   "name": "python",
   "nbconvert_exporter": "python",
   "pygments_lexer": "ipython3",
   "version": "3.8.13"
  },
  "vscode": {
   "interpreter": {
    "hash": "3cf6804b2d1d6b39ed9a23bc16482fea2e83abf2b56c0f3b16ad590816ac7680"
   }
  }
 },
 "nbformat": 4,
 "nbformat_minor": 1
}
